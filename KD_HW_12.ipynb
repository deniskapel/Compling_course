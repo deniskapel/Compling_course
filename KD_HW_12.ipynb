{
  "nbformat": 4,
  "nbformat_minor": 0,
  "metadata": {
    "colab": {
      "name": "KD_HW_12",
      "provenance": [],
      "collapsed_sections": [
        "VrRjYcY1RTgJ",
        "Q8oyn8mqRPpc",
        "ZOeheDHWTvaz",
        "XZ7oYlTqkzWD"
      ]
    },
    "kernelspec": {
      "name": "python3",
      "display_name": "Python 3"
    },
    "language_info": {
      "name": "python"
    },
    "accelerator": "GPU"
  },
  "cells": [
    {
      "cell_type": "markdown",
      "metadata": {
        "id": "jXTxrdJeP4tr"
      },
      "source": [
        "Создайте 1 нейронную сеть, в которой буду сразу все перечисленные слои: 2 CNN слоя с разными параметрами друг за другом, Пулинг слой после каждого CNN слоя, Дропаут в любом месте, GRU и LSTM (причем gru должен быть прямо- а lstm обратнонаправленным, а их последние стейты должны быть сконкатенированы). Обучитесь на тех же данных, что и на семинаре. Посчитайте качество и нарисуйте график. F-мера не должна быть ниже - 0.70"
      ]
    },
    {
      "cell_type": "code",
      "metadata": {
        "colab": {
          "base_uri": "https://localhost:8080/"
        },
        "id": "iyj4s4hMQ3-V",
        "outputId": "570ce516-b86d-48b1-d943-ef7278ff394d"
      },
      "source": [
        "!unzip data.zip"
      ],
      "execution_count": 2,
      "outputs": [
        {
          "output_type": "stream",
          "text": [
            "Archive:  data.zip\n",
            "  inflating: lenta_sample.csv        \n",
            "  inflating: __MACOSX/._lenta_sample.csv  \n"
          ],
          "name": "stdout"
        }
      ]
    },
    {
      "cell_type": "markdown",
      "metadata": {
        "id": "VrRjYcY1RTgJ"
      },
      "source": [
        "## UTILS"
      ]
    },
    {
      "cell_type": "code",
      "metadata": {
        "id": "DObLbRloP1l_"
      },
      "source": [
        "import tensorflow as tf\n",
        "import pandas as pd\n",
        "import numpy as np\n",
        "from string import punctuation\n",
        "from sklearn.model_selection import train_test_split\n",
        "from collections import Counter\n",
        "import matplotlib.pyplot as plt"
      ],
      "execution_count": 3,
      "outputs": []
    },
    {
      "cell_type": "code",
      "metadata": {
        "id": "G6fR2K0fRCAf"
      },
      "source": [
        "def preprocess(text):\n",
        "    tokens = text.lower().split()\n",
        "    tokens = [token.strip(punctuation) for token in tokens]\n",
        "    return tokens\n",
        "\n",
        "from tensorflow.keras import backend as K\n",
        "def f1(y_true, y_pred):\n",
        "    def recall(y_true, y_pred):\n",
        "        \"\"\"Recall metric.\n",
        "\n",
        "        Only computes a batch-wise average of recall.\n",
        "\n",
        "        Computes the recall, a metric for multi-label classification of\n",
        "        how many relevant items are selected.\n",
        "        \"\"\"\n",
        "        true_positives = K.sum(K.round(K.clip(y_true * y_pred, 0, 1)))\n",
        "        possible_positives = K.sum(K.round(K.clip(y_true, 0, 1)))\n",
        "        recall = true_positives / (possible_positives + K.epsilon())\n",
        "        return recall\n",
        "\n",
        "    def precision(y_true, y_pred):\n",
        "        \"\"\"Precision metric.\n",
        "\n",
        "        Only computes a batch-wise average of precision.\n",
        "\n",
        "        Computes the precision, a metric for multi-label classification of\n",
        "        how many selected items are relevant.\n",
        "        \"\"\"\n",
        "        true_positives = K.sum(K.round(K.clip(y_true * y_pred, 0, 1)))\n",
        "        predicted_positives = K.sum(K.round(K.clip(y_pred, 0, 1)))\n",
        "        precision = true_positives / (predicted_positives + K.epsilon())\n",
        "        return precision\n",
        "    precision = precision(y_true, y_pred)\n",
        "    recall = recall(y_true, y_pred)\n",
        "    return 2*((precision*recall)/(precision+recall+K.epsilon()))"
      ],
      "execution_count": 4,
      "outputs": []
    },
    {
      "cell_type": "markdown",
      "metadata": {
        "id": "Q8oyn8mqRPpc"
      },
      "source": [
        "## DATA"
      ]
    },
    {
      "cell_type": "code",
      "metadata": {
        "id": "zyCbe_CMTfJ0"
      },
      "source": [
        "data = pd.read_csv('lenta_sample.csv')"
      ],
      "execution_count": 5,
      "outputs": []
    },
    {
      "cell_type": "code",
      "metadata": {
        "colab": {
          "base_uri": "https://localhost:8080/",
          "height": 369
        },
        "id": "mP2cLYc0TiRo",
        "outputId": "a6676bbb-a6e2-489c-f8b8-4fd1d43f33b0"
      },
      "source": [
        "data.head()"
      ],
      "execution_count": 6,
      "outputs": [
        {
          "output_type": "execute_result",
          "data": {
            "text/html": [
              "<div>\n",
              "<style scoped>\n",
              "    .dataframe tbody tr th:only-of-type {\n",
              "        vertical-align: middle;\n",
              "    }\n",
              "\n",
              "    .dataframe tbody tr th {\n",
              "        vertical-align: top;\n",
              "    }\n",
              "\n",
              "    .dataframe thead th {\n",
              "        text-align: right;\n",
              "    }\n",
              "</style>\n",
              "<table border=\"1\" class=\"dataframe\">\n",
              "  <thead>\n",
              "    <tr style=\"text-align: right;\">\n",
              "      <th></th>\n",
              "      <th>url</th>\n",
              "      <th>title</th>\n",
              "      <th>text</th>\n",
              "      <th>topic</th>\n",
              "      <th>tags</th>\n",
              "      <th>date</th>\n",
              "    </tr>\n",
              "  </thead>\n",
              "  <tbody>\n",
              "    <tr>\n",
              "      <th>0</th>\n",
              "      <td>https://lenta.ru/news/2004/05/14/dress/</td>\n",
              "      <td>Жириновский придумал новую форму для женщин-де...</td>\n",
              "      <td>Вице-спикер Госдумы Владимир Жириновский высту...</td>\n",
              "      <td>Из жизни</td>\n",
              "      <td>Все</td>\n",
              "      <td>2004/05/14</td>\n",
              "    </tr>\n",
              "    <tr>\n",
              "      <th>1</th>\n",
              "      <td>https://lenta.ru/news/2002/01/08/orders/</td>\n",
              "      <td>Новый год для экономики Европы начинается с хо...</td>\n",
              "      <td>Европейский индекс предпринимательского и потр...</td>\n",
              "      <td>Экономика</td>\n",
              "      <td>Все</td>\n",
              "      <td>2002/01/08</td>\n",
              "    </tr>\n",
              "    <tr>\n",
              "      <th>2</th>\n",
              "      <td>https://lenta.ru/news/2010/10/14/dolgostroi/</td>\n",
              "      <td>На достройку \"проблемных\" домов в СЗАО выделят...</td>\n",
              "      <td>Московские власти выделят ГУП \"Управление по р...</td>\n",
              "      <td>Дом</td>\n",
              "      <td>Все</td>\n",
              "      <td>2010/10/14</td>\n",
              "    </tr>\n",
              "    <tr>\n",
              "      <th>3</th>\n",
              "      <td>https://lenta.ru/news/2015/06/22/aircraftcarrier/</td>\n",
              "      <td>Строительство российского авианосца начнется п...</td>\n",
              "      <td>Строительство российского авианосца нового тип...</td>\n",
              "      <td>Силовые структуры</td>\n",
              "      <td>NaN</td>\n",
              "      <td>2015/06/22</td>\n",
              "    </tr>\n",
              "    <tr>\n",
              "      <th>4</th>\n",
              "      <td>https://lenta.ru/news/2013/09/18/sen/</td>\n",
              "      <td>Сенаторы США призвали наказать российские банк...</td>\n",
              "      <td>Сенатор Ричард Блументаль (Richard Blumenthal)...</td>\n",
              "      <td>Мир</td>\n",
              "      <td>Политика</td>\n",
              "      <td>2013/09/18</td>\n",
              "    </tr>\n",
              "  </tbody>\n",
              "</table>\n",
              "</div>"
            ],
            "text/plain": [
              "                                                 url  ...        date\n",
              "0            https://lenta.ru/news/2004/05/14/dress/  ...  2004/05/14\n",
              "1           https://lenta.ru/news/2002/01/08/orders/  ...  2002/01/08\n",
              "2       https://lenta.ru/news/2010/10/14/dolgostroi/  ...  2010/10/14\n",
              "3  https://lenta.ru/news/2015/06/22/aircraftcarrier/  ...  2015/06/22\n",
              "4              https://lenta.ru/news/2013/09/18/sen/  ...  2013/09/18\n",
              "\n",
              "[5 rows x 6 columns]"
            ]
          },
          "metadata": {
            "tags": []
          },
          "execution_count": 6
        }
      ]
    },
    {
      "cell_type": "code",
      "metadata": {
        "id": "9iHTWfZyRJtS"
      },
      "source": [
        "vocab = Counter()\n",
        "\n",
        "for text in data.text:\n",
        "    vocab.update(preprocess(text))\n",
        "\n",
        "\n",
        "filtered_vocab = set()\n",
        "\n",
        "for word in vocab:\n",
        "    if vocab[word] > 30:\n",
        "        filtered_vocab.add(word)\n",
        "\n",
        "\n",
        "word2id = {'PAD':0}\n",
        "\n",
        "for word in filtered_vocab:\n",
        "    word2id[word] = len(word2id)\n",
        "\n",
        "id2word = {i:word for word, i in word2id.items()}\n",
        "\n",
        "X = []\n",
        "\n",
        "for text in data.text:\n",
        "    tokens = preprocess(text)\n",
        "    ids = [word2id.get(token, 1) for token in tokens]\n",
        "    X.append(ids)"
      ],
      "execution_count": 7,
      "outputs": []
    },
    {
      "cell_type": "code",
      "metadata": {
        "id": "h1MJoQU8SKRX"
      },
      "source": [
        "MEAN_LEN = np.median([len(x) for x in X])\n",
        "MAX_LEN = int(MEAN_LEN + 30)"
      ],
      "execution_count": 10,
      "outputs": []
    },
    {
      "cell_type": "code",
      "metadata": {
        "colab": {
          "base_uri": "https://localhost:8080/"
        },
        "id": "GAgydshqSK0y",
        "outputId": "3e15460b-079d-4e2c-90f7-95374f00f479"
      },
      "source": [
        "MAX_LEN"
      ],
      "execution_count": 11,
      "outputs": [
        {
          "output_type": "execute_result",
          "data": {
            "text/plain": [
              "200"
            ]
          },
          "metadata": {
            "tags": []
          },
          "execution_count": 11
        }
      ]
    },
    {
      "cell_type": "code",
      "metadata": {
        "id": "Axz5lPEOSQPz"
      },
      "source": [
        "X = tf.keras.preprocessing.sequence.pad_sequences(X, maxlen=MAX_LEN)\n",
        "\n",
        "id2label = {i:label for i, label in enumerate(set(data.topic.values))}\n",
        "label2id = {l:i for i, l in id2label.items()}\n",
        "y = tf.keras.utils.to_categorical([label2id[label] for label in data.topic.values])"
      ],
      "execution_count": 12,
      "outputs": []
    },
    {
      "cell_type": "code",
      "metadata": {
        "colab": {
          "base_uri": "https://localhost:8080/"
        },
        "id": "aE1GLu9PSUDy",
        "outputId": "9d3ff4cb-e345-41bf-fa05-a4008371a9f5"
      },
      "source": [
        "len(label2id)"
      ],
      "execution_count": 13,
      "outputs": [
        {
          "output_type": "execute_result",
          "data": {
            "text/plain": [
              "19"
            ]
          },
          "metadata": {
            "tags": []
          },
          "execution_count": 13
        }
      ]
    },
    {
      "cell_type": "code",
      "metadata": {
        "id": "lClbcHaSSyu8"
      },
      "source": [
        "X_train, X_valid, y_train, y_valid = train_test_split(X, y, test_size=0.05, stratify=y)"
      ],
      "execution_count": 14,
      "outputs": []
    },
    {
      "cell_type": "markdown",
      "metadata": {
        "id": "ZOeheDHWTvaz"
      },
      "source": [
        "## MODEL"
      ]
    },
    {
      "cell_type": "code",
      "metadata": {
        "id": "fWdkIpEYTxxS"
      },
      "source": [
        "inputs = tf.keras.layers.Input(shape=(MAX_LEN,))\n",
        "embeddings = tf.keras.layers.Embedding(input_dim=len(word2id), output_dim=30)(inputs, )\n",
        "\n",
        "# Conv layers\n",
        "conv1 = tf.keras.layers.Conv1D(\n",
        "    kernel_size=10, \n",
        "    filters=128, strides=10,\n",
        "    name='Conv1')(embeddings)\n",
        "conv2 = tf.keras.layers.Conv1D(\n",
        "    kernel_size=5, \n",
        "    filters=128,\n",
        "    strides=5,\n",
        "    name='Conv2')(embeddings)\n",
        "pool1 = tf.keras.layers.GlobalMaxPool1D(name=\"PoolConv1\")(conv1)\n",
        "pool2 = tf.keras.layers.GlobalMaxPool1D(name=\"PoolConv2\")(conv2)\n",
        "conv = tf.keras.layers.concatenate([pool1, pool2], name='Conv1_plus_Conv2')\n",
        "\n",
        "# RNN layers\n",
        "gru_forward = tf.keras.layers.GRU(128,\n",
        "                                  return_sequences=False,\n",
        "                                  name='GRU_forward')(embeddings)\n",
        "lstm_backward =  tf.keras.layers.LSTM(128,\n",
        "                                      return_sequences=False,\n",
        "                                      go_backwards=True,\n",
        "                                      name='LSTM_backward')(embeddings)\n",
        "\n",
        "rnn = tf.keras.layers.concatenate([gru_forward, lstm_backward],\n",
        "                                  name=\"GRU_plus_LSTM\")\n",
        "\n",
        "# merge rnn and conv\n",
        "merged = tf.keras.layers.concatenate([conv, rnn], name='Conv_plus_RNN')\n",
        "# dropout layer\n",
        "merged = tf.keras.layers.Dropout(.1, name='Droupout')(merged)\n",
        "\n",
        "dense = tf.keras.layers.Dense(64, activation='relu')(merged)\n",
        "outputs = tf.keras.layers.Dense(len(label2id), activation='softmax')(dense)\n",
        "\n",
        "model = tf.keras.Model(inputs=inputs, outputs=outputs)\n",
        "optimizer = tf.keras.optimizers.Adam(learning_rate=0.001)\n",
        "model.compile(optimizer=optimizer,\n",
        "              loss='categorical_crossentropy',\n",
        "              metrics=[f1, tf.keras.metrics.RecallAtPrecision(0.8, name='rec@prec')])"
      ],
      "execution_count": 29,
      "outputs": []
    },
    {
      "cell_type": "code",
      "metadata": {
        "colab": {
          "base_uri": "https://localhost:8080/",
          "height": 856
        },
        "id": "NlxpzpX5X3Sn",
        "outputId": "53098106-f591-4909-b89b-2dc9df03fb13"
      },
      "source": [
        "earlystopping = tf.keras.callbacks.EarlyStopping(\n",
        "        monitor=\"val_f1\", min_delta=0.0001, patience=5, verbose=1, mode=\"max\"\n",
        "    )\n",
        "\n",
        "tf.keras.utils.plot_model(model)"
      ],
      "execution_count": 77,
      "outputs": [
        {
          "output_type": "execute_result",
          "data": {
            "image/png": "[encoded data removed]",
            "text/plain": [
              "<IPython.core.display.Image object>"
            ]
          },
          "metadata": {
            "tags": []
          },
          "execution_count": 77
        }
      ]
    },
    {
      "cell_type": "markdown",
      "metadata": {
        "id": "XZ7oYlTqkzWD"
      },
      "source": [
        "## Train and evaluate"
      ]
    },
    {
      "cell_type": "code",
      "metadata": {
        "colab": {
          "base_uri": "https://localhost:8080/"
        },
        "id": "rl2g0wKQbJVD",
        "outputId": "39557f19-05fd-4f7d-ae69-21b767c74128"
      },
      "source": [
        "model.fit(X_train, y_train, \n",
        "          validation_data=(X_valid, y_valid),\n",
        "          batch_size=1000,\n",
        "          epochs=30,\n",
        "          callbacks=[earlystopping])"
      ],
      "execution_count": 38,
      "outputs": [
        {
          "output_type": "stream",
          "text": [
            "Epoch 1/30\n",
            "141/141 [==============================] - 47s 336ms/step - loss: 0.0970 - f1: 0.9757 - rec@prec: 0.9959 - val_loss: 1.1250 - val_f1: 0.7640 - val_rec@prec: 0.7347\n",
            "Epoch 2/30\n",
            "141/141 [==============================] - 47s 337ms/step - loss: 0.0496 - f1: 0.9898 - rec@prec: 0.9988 - val_loss: 1.2748 - val_f1: 0.7619 - val_rec@prec: 0.7279\n",
            "Epoch 3/30\n",
            "141/141 [==============================] - 47s 337ms/step - loss: 0.0247 - f1: 0.9958 - rec@prec: 0.9996 - val_loss: 1.4221 - val_f1: 0.7598 - val_rec@prec: 0.7241\n",
            "Epoch 4/30\n",
            "141/141 [==============================] - 47s 336ms/step - loss: 0.0144 - f1: 0.9978 - rec@prec: 0.9998 - val_loss: 1.5431 - val_f1: 0.7572 - val_rec@prec: 0.7210\n",
            "Epoch 5/30\n",
            "141/141 [==============================] - 47s 335ms/step - loss: 0.0095 - f1: 0.9986 - rec@prec: 0.9999 - val_loss: 1.6271 - val_f1: 0.7601 - val_rec@prec: 0.7233\n",
            "Epoch 6/30\n",
            "141/141 [==============================] - 47s 336ms/step - loss: 0.0074 - f1: 0.9989 - rec@prec: 0.9999 - val_loss: 1.7331 - val_f1: 0.7566 - val_rec@prec: 0.7218\n",
            "Epoch 00006: early stopping\n"
          ],
          "name": "stdout"
        },
        {
          "output_type": "execute_result",
          "data": {
            "text/plain": [
              "<tensorflow.python.keras.callbacks.History at 0x7fa39e52f3d0>"
            ]
          },
          "metadata": {
            "tags": []
          },
          "execution_count": 38
        }
      ]
    },
    {
      "cell_type": "code",
      "metadata": {
        "colab": {
          "base_uri": "https://localhost:8080/",
          "height": 312
        },
        "id": "rk_gtvCmbM6h",
        "outputId": "1ad7088c-c009-4998-dec1-3f15401954e1"
      },
      "source": [
        "print(model.history.history.keys())\n",
        "# summarize history for accuracy\n",
        "plt.plot(model.history.history['f1'])\n",
        "plt.plot(model.history.history['val_f1'])\n",
        "plt.title('model f1')\n",
        "plt.ylabel('f1')\n",
        "plt.xlabel('epoch')\n",
        "plt.legend(['train', 'val'], loc='upper left')\n",
        "plt.show()"
      ],
      "execution_count": 36,
      "outputs": [
        {
          "output_type": "stream",
          "text": [
            "dict_keys(['loss', 'f1', 'rec@prec', 'val_loss', 'val_f1', 'val_rec@prec'])\n"
          ],
          "name": "stdout"
        },
        {
          "output_type": "display_data",
          "data": {
            "image/png": "[encoded data removed]",
            "text/plain": [
              "<Figure size 432x288 with 1 Axes>"
            ]
          },
          "metadata": {
            "tags": [],
            "needs_background": "light"
          }
        }
      ]
    },
    {
      "cell_type": "code",
      "metadata": {
        "colab": {
          "base_uri": "https://localhost:8080/"
        },
        "id": "NhRW5B42ha5W",
        "outputId": "822efc12-15e0-42f0-8b7e-3bb0dd0ae66e"
      },
      "source": [
        "from sklearn.metrics import classification_report\n",
        "pred = model.predict(X_valid)\n",
        "print(\n",
        "    classification_report(\n",
        "        y_valid.argmax(1),\n",
        "        pred.argmax(1),\n",
        "        labels=range(len(label2id)),\n",
        "        target_names=label2id,\n",
        "        zero_division=0))"
      ],
      "execution_count": 76,
      "outputs": [
        {
          "output_type": "stream",
          "text": [
            "                   precision    recall  f1-score   support\n",
            "\n",
            "      Бывший СССР       0.76      0.78      0.77       536\n",
            "           Бизнес       0.49      0.40      0.44        73\n",
            "          Легпром       0.00      0.00      0.00         1\n",
            "         Культура       0.84      0.85      0.84       532\n",
            "         Из жизни       0.49      0.49      0.49       277\n",
            "            Спорт       0.95      0.94      0.94       644\n",
            "         Ценности       0.74      0.68      0.71        75\n",
            "      Путешествия       0.55      0.55      0.55        66\n",
            "   69-я параллель       0.27      0.23      0.25        13\n",
            "              Дом       0.76      0.77      0.76       225\n",
            "           Россия       0.77      0.76      0.77      1600\n",
            "    Культпросвет        0.00      0.00      0.00         4\n",
            "              Мир       0.75      0.77      0.76      1365\n",
            "       Библиотека       0.00      0.00      0.00         0\n",
            "             Крым       0.67      0.29      0.40         7\n",
            "        Экономика       0.79      0.80      0.79       797\n",
            "Силовые структуры       0.55      0.53      0.54       198\n",
            "   Интернет и СМИ       0.65      0.61      0.63       443\n",
            "  Наука и техника       0.76      0.78      0.77       537\n",
            "\n",
            "         accuracy                           0.76      7393\n",
            "        macro avg       0.57      0.54      0.55      7393\n",
            "     weighted avg       0.76      0.76      0.76      7393\n",
            "\n"
          ],
          "name": "stdout"
        }
      ]
    }
  ]
}