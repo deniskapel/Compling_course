{
  "nbformat": 4,
  "nbformat_minor": 0,
  "metadata": {
    "kernelspec": {
      "display_name": "Python 3",
      "language": "python",
      "name": "python3"
    },
    "language_info": {
      "codemirror_mode": {
        "name": "ipython",
        "version": 3
      },
      "file_extension": ".py",
      "mimetype": "text/x-python",
      "name": "python",
      "nbconvert_exporter": "python",
      "pygments_lexer": "ipython3",
      "version": "3.8.5"
    },
    "colab": {
      "name": "KD_hw_6.ipynb",
      "provenance": []
    }
  },
  "cells": [
    {
      "cell_type": "markdown",
      "metadata": {
        "id": "DrR2RKPoQ-WA"
      },
      "source": [
        "# **The bigARTM part is [here](https://github.com/deniskapel/Compling_course/blob/master/KD_hw_6_part2.ipynb)**"
      ]
    },
    {
      "cell_type": "markdown",
      "metadata": {
        "id": "pZs9F7fpQ5Hy"
      },
      "source": [
        "# Gensim"
      ]
    },
    {
      "cell_type": "markdown",
      "metadata": {
        "id": "Buz4Y6hIQ5H3"
      },
      "source": [
        "## Preprocess texts"
      ]
    },
    {
      "cell_type": "code",
      "metadata": {
        "id": "sWkJ8Aa4Q5H4"
      },
      "source": [
        "import gensim\n",
        "import json\n",
        "import re\n",
        "import pandas as pd\n",
        "from nltk.tokenize import word_tokenize\n",
        "from nltk.corpus import stopwords\n",
        "from pymorphy2 import MorphAnalyzer\n",
        "import pyLDAvis.gensim\n",
        "import string\n",
        "from collections import Counter\n",
        "import warnings\n",
        "warnings.filterwarnings(\"ignore\")\n",
        "morph = MorphAnalyzer()"
      ],
      "execution_count": null,
      "outputs": []
    },
    {
      "cell_type": "code",
      "metadata": {
        "id": "5Hd1OvS-Q5H5"
      },
      "source": [
        "stops = set(stopwords.words('russian'))"
      ],
      "execution_count": null,
      "outputs": []
    },
    {
      "cell_type": "markdown",
      "metadata": {
        "id": "CkWLGwkvQ5H5"
      },
      "source": [
        "Normalizing texts"
      ]
    },
    {
      "cell_type": "code",
      "metadata": {
        "id": "eUmcwJhlQ5H5"
      },
      "source": [
        "class TextNormalizer():\n",
        "    \n",
        "    # Class for fast text-normalization\n",
        "        \n",
        "    def opt_normalize(self, texts, top=None) -> list:\n",
        "        \n",
        "        texts = self.tokenize_texts(texts)\n",
        "        \n",
        "        uniq = Counter()\n",
        "        [uniq.update(text) for text in texts]\n",
        "\n",
        "        norm_uniq = { # build cache\n",
        "            word:morph.parse(\n",
        "                word\n",
        "            )[0].normal_form for word, _ in uniq.most_common(top)}\n",
        "\n",
        "        norm_texts = self.normalize_texts(texts, norm_uniq)\n",
        "        \n",
        "        return norm_texts\n",
        "    \n",
        "    def tokenize_texts(self, texts):\n",
        "        \"\"\" a text tokenizer for a list of texts \"\"\"\n",
        "        return ([self.tokenize(text.lower()) for text in texts])\n",
        "\n",
        "\n",
        "    def tokenize(self, text) -> list:\n",
        "        \"\"\" a single text tokenizer \"\"\"\n",
        "        punct = string.punctuation + '«»—…–“”#'\n",
        "        words = [word.strip(punct) for word in text.split()]\n",
        "        words = [word for word in words if word]\n",
        "\n",
        "        return words\n",
        "    \n",
        "    def normalize_texts(self, texts, norm_uniq) -> list:\n",
        "        \"\"\" returns lemmas and removes stopwords and punctuation \"\"\"\n",
        "        norm_texts = []\n",
        "        for text in texts:\n",
        "            # lemmas from cashe\n",
        "            norm_words = [norm_uniq.get(word) for word in text]\n",
        "            #remove punctuation\n",
        "            \n",
        "            norm_words = [word for word in norm_words if (\n",
        "                word) and (word not in stops)]\n",
        "            norm_texts.append(norm_words)\n",
        "\n",
        "        return norm_texts"
      ],
      "execution_count": null,
      "outputs": []
    },
    {
      "cell_type": "code",
      "metadata": {
        "id": "fbcXJnv8Q5H6"
      },
      "source": [
        "texts = open('data/wiki_data.txt').read().splitlines()[:10000]"
      ],
      "execution_count": null,
      "outputs": []
    },
    {
      "cell_type": "code",
      "metadata": {
        "id": "Z7Hy_V1jQ5H7",
        "outputId": "ba9b31c8-b095-4d32-8815-bacebfe6e411"
      },
      "source": [
        "%%time\n",
        "texts = TextNormalizer().opt_normalize(texts, 30000)"
      ],
      "execution_count": null,
      "outputs": [
        {
          "output_type": "stream",
          "text": [
            "CPU times: user 2.63 s, sys: 58.9 ms, total: 2.69 s\n",
            "Wall time: 2.69 s\n"
          ],
          "name": "stdout"
        }
      ]
    },
    {
      "cell_type": "code",
      "metadata": {
        "id": "OmGGGDwYQ5H8",
        "outputId": "babd99cf-73ee-41cd-d7b7-f0344ee27294"
      },
      "source": [
        "texts[0][:5]"
      ],
      "execution_count": null,
      "outputs": [
        {
          "output_type": "execute_result",
          "data": {
            "text/plain": [
              "['нижегородский', 'сельский', 'посёлок', 'район', 'нижегородский']"
            ]
          },
          "metadata": {
            "tags": []
          },
          "execution_count": 11
        }
      ]
    },
    {
      "cell_type": "markdown",
      "metadata": {
        "id": "FA6KzP3BQ5H8"
      },
      "source": [
        "build ngrams"
      ]
    },
    {
      "cell_type": "code",
      "metadata": {
        "id": "H4Rpi6o-Q5H8"
      },
      "source": [
        "# play around with threshold\n",
        "ph = gensim.models.Phrases(texts, scoring='npmi', threshold=0.45)\n",
        "p = gensim.models.phrases.Phraser(ph)\n",
        "ngrammed_texts = p[texts]"
      ],
      "execution_count": null,
      "outputs": []
    },
    {
      "cell_type": "markdown",
      "metadata": {
        "id": "4o_k8HYSQ5H9"
      },
      "source": [
        "# Build dictionary for models"
      ]
    },
    {
      "cell_type": "code",
      "metadata": {
        "id": "sguFLy0oQ5H9",
        "outputId": "792265f5-8eac-4a41-87f2-9db346a3cb1e"
      },
      "source": [
        "dictionary = gensim.corpora.Dictionary(texts)\n",
        "dictionary.filter_extremes(no_above=0.2, no_below=15)\n",
        "dictionary.compactify()\n",
        "print(dictionary)"
      ],
      "execution_count": null,
      "outputs": [
        {
          "output_type": "stream",
          "text": [
            "Dictionary(6846 unique tokens: ['1', '1,2', '1,5', '12', '14']...)\n"
          ],
          "name": "stdout"
        }
      ]
    },
    {
      "cell_type": "markdown",
      "metadata": {
        "id": "zPaxOdXhQ5H9"
      },
      "source": [
        "transform to corpora"
      ]
    },
    {
      "cell_type": "markdown",
      "metadata": {
        "id": "Bd1T7nbqQ5H9"
      },
      "source": [
        "### No TfIdf"
      ]
    },
    {
      "cell_type": "code",
      "metadata": {
        "id": "Iz8hidnBQ5H9"
      },
      "source": [
        "corpus = [dictionary.doc2bow(text) for text in texts]"
      ],
      "execution_count": null,
      "outputs": []
    },
    {
      "cell_type": "code",
      "metadata": {
        "scrolled": false,
        "id": "3BTdgo7NQ5H-"
      },
      "source": [
        "lda1 = gensim.models.LdaMulticore(corpus,\n",
        "                                 100,\n",
        "                                 id2word=dictionary,\n",
        "                                 passes=7)\n",
        "\n",
        "lda1.save('data/models/lda1/lda1.model')"
      ],
      "execution_count": null,
      "outputs": []
    },
    {
      "cell_type": "code",
      "metadata": {
        "id": "amgRKPcYQ5H-"
      },
      "source": [
        "lda2 = gensim.models.LdaMulticore(corpus,\n",
        "                                 50,\n",
        "                                 id2word=dictionary,\n",
        "                                 passes=10)\n",
        "\n",
        "lda2.save('data/models/lda2/lda.model')"
      ],
      "execution_count": null,
      "outputs": []
    },
    {
      "cell_type": "code",
      "metadata": {
        "id": "OB6K9xH3Q5H-"
      },
      "source": [
        "lda3 = gensim.models.LdaMulticore(corpus,\n",
        "                                 150,\n",
        "                                 id2word=dictionary,\n",
        "                                 passes=5)\n",
        "\n",
        "lda3.save('data/models/lda3/lda.model')"
      ],
      "execution_count": null,
      "outputs": []
    },
    {
      "cell_type": "markdown",
      "metadata": {
        "id": "5GNleRuAQ5H-"
      },
      "source": [
        "### With TfIdf"
      ]
    },
    {
      "cell_type": "code",
      "metadata": {
        "id": "h2qvD3eVQ5H-"
      },
      "source": [
        "tfidf = gensim.models.TfidfModel(corpus, id2word=dictionary)\n",
        "tfidf_corpus = tfidf[corpus]"
      ],
      "execution_count": null,
      "outputs": []
    },
    {
      "cell_type": "code",
      "metadata": {
        "id": "dukxmQNaQ5H_"
      },
      "source": [
        "tfidf_lda1 = gensim.models.LdaMulticore(tfidf_corpus,\n",
        "                                 100,\n",
        "                                 id2word=dictionary,\n",
        "                                 passes=7)\n",
        "\n",
        "tfidf_lda1.save('data/models/tfidf_lda1/tfidf_lda.model')"
      ],
      "execution_count": null,
      "outputs": []
    },
    {
      "cell_type": "code",
      "metadata": {
        "id": "oB0gRR6hQ5H_"
      },
      "source": [
        "tfidf_lda2 = gensim.models.LdaMulticore(tfidf_corpus,\n",
        "                                 50,\n",
        "                                 id2word=dictionary,\n",
        "                                 passes=10)\n",
        "\n",
        "tfidf_lda2.save('data/models/tfidf_lda2/tfidf_lda.model')"
      ],
      "execution_count": null,
      "outputs": []
    },
    {
      "cell_type": "code",
      "metadata": {
        "id": "eSxOLJUAQ5H_"
      },
      "source": [
        "tfidf_lda3 = gensim.models.LdaMulticore(tfidf_corpus,\n",
        "                                 150,\n",
        "                                 id2word=dictionary,\n",
        "                                 passes=5)\n",
        "\n",
        "tfidf_lda3.save('data/models/tfidf_lda3/tfidf_lda.model')"
      ],
      "execution_count": null,
      "outputs": []
    },
    {
      "cell_type": "markdown",
      "metadata": {
        "id": "hvIeVxaEQ5H_"
      },
      "source": [
        "### compare models"
      ]
    },
    {
      "cell_type": "code",
      "metadata": {
        "id": "3p2_bgdNQ5H_"
      },
      "source": [
        "# load models\n",
        "model1 = gensim.models.LdaModel.load(\n",
        "    'data/models/lda1/lda1.model')\n",
        "model2 = gensim.models.LdaModel.load(\n",
        "    'data/models/lda2/lda.model')\n",
        "model3 = gensim.models.LdaModel.load(\n",
        "    'data/models/lda3/lda.model')\n",
        "tfidf1 = gensim.models.LdaModel.load(\n",
        "    'data/models/tfidf_lda1/tfidf_lda.model')\n",
        "tfidf2 = gensim.models.LdaModel.load(\n",
        "    'data/models/tfidf_lda2/tfidf_lda.model')\n",
        "tfidf3 = gensim.models.LdaModel.load(\n",
        "    'data/models/tfidf_lda3/tfidf_lda.model')"
      ],
      "execution_count": null,
      "outputs": []
    },
    {
      "cell_type": "code",
      "metadata": {
        "id": "ucQ4nTwRQ5IA"
      },
      "source": [
        "def get_topics(model):\n",
        "    topics = []\n",
        "    for id, topic in model.show_topics(num_topics=30, formatted=False):\n",
        "        topic = [word for word, _ in topic]\n",
        "        topic.insert(0, str(id))\n",
        "        topics.append(topic)\n",
        "    \n",
        "    return topics"
      ],
      "execution_count": null,
      "outputs": []
    },
    {
      "cell_type": "code",
      "metadata": {
        "id": "Jym3dLOWQ5IA"
      },
      "source": [
        "topics1 = get_topics(model1)\n",
        "topics2 = get_topics(model2)\n",
        "topics3 = get_topics(model3)\n",
        "topics4 = get_topics(tfidf1)\n",
        "topics5 = get_topics(tfidf2)\n",
        "topics6 = get_topics(tfidf3)"
      ],
      "execution_count": null,
      "outputs": []
    },
    {
      "cell_type": "code",
      "metadata": {
        "scrolled": false,
        "id": "pZzbBP8LQ5IA",
        "outputId": "a618143c-ae6e-4976-83c5-c8a9d17b6572"
      },
      "source": [
        "for topic in topics1: # regular lda 100x7\n",
        "    print(\" \".join(topic))"
      ],
      "execution_count": null,
      "outputs": [
        {
          "output_type": "stream",
          "text": [
            "73 памятник ростовский хутор культура история объект церковь культурный n наследие\n",
            "93 упражнение ян филиппина серебряный ботсвана джованни рой даваться венеция ребёнок\n",
            "8 чёрный флаг белый пешка король поле ход красный цвет сторона\n",
            "74 строительство проект новый город рубль работа мост здание проведение 2010\n",
            "50 марка почтовый финляндия почта выпуск марк финский остров надпись рисунок\n",
            "28 церковь епархия епископ рог 1-й 1-2-й участник команда lotus век\n",
            "65 житомирский украина 2001 перепись код площадь почтовый р-н индекс телефонный\n",
            "25 звезда бразилия b собака обсерватория срок планета 2009 геологический порода\n",
            "39 компания версия система программа игра разработка windows мочь поддержка использовать\n",
            "66 война торговля союз договор город гитлер купец торговый товар москва\n",
            "3 клуб храм икона футбольный церковь стадион сезон кубок город дивизион\n",
            "78 паровоз адам польша вместе павел дорога вальтер немецкий война март\n",
            "15 город население центр состав деревня житель территория расположить век название\n",
            "52 российский медведь россия мультсериал министерство федерация государственный директор флотилия дума\n",
            "63 князь иван александр владимир великий русский сын василий михаил московский\n",
            "48 лагерь заключить свидетель святой её слово концлагерь кндр лагер октябрь\n",
            "60 цвет символ герб полотнище город муниципальный российский флаг символизировать ширина\n",
            "7 1937 университет январь 1930 май 1925 родиться декабрь март 1932\n",
            "5 wwe титул шоу длина смотреть мм поединок бой келли острый\n",
            "35 список двигатель автомобиль женщина новый модель л женский искусство дата\n",
            "58 житомирский емильчинский население тело коатуа перепись площадь код 2001 р-н\n",
            "69 река посёлок станция км дорога берег расположить железнодорожный город озеро\n",
            "77 войско армия город фронт противник операция бой наступление часть январь\n",
            "87 мочь являться иметь весь форма однако группа вид век часть\n",
            "80 компания вагон производство тип новый иметь получить лодка авиакомпания модель\n",
            "82 канадский операция наступление немецкий литва город девушка август клиент пройти\n",
            "31 военный эксперимент космический частица данные база израиль заместитель поток округ\n",
            "30 уезд округ городской специальный состав империя город провинция преобразовать переименовать\n",
            "16 альбом песня группа the выпустить сингл of записать 2009 новый\n",
            "13 мозг клетка бельгия генри марк де пациент известный 2 среди\n"
          ],
          "name": "stdout"
        }
      ]
    },
    {
      "cell_type": "code",
      "metadata": {
        "id": "hihq3_otQ5IA",
        "outputId": "a4a70406-ac12-47ba-ea11-2c91e3c5a64d"
      },
      "source": [
        "for topic in topics2: # regular lda 50x10\n",
        "    print(\" \".join(topic))"
      ],
      "execution_count": null,
      "outputs": [
        {
          "output_type": "stream",
          "text": [
            "31 фильм сын роль граф брат смерть дочь i отец её\n",
            "26 г н м п русский газета москва александр л кладбище\n",
            "40 клуб матч команда сезон сборная состав лига провести чемпионат забить\n",
            "46 автомобиль модель подвеска система иметь двигатель новый колесо задний версия\n",
            "21 здание дом построить вода проект строительство завод станция новый город\n",
            "28 мочь являться система иметь использовать весь использоваться вид число например\n",
            "44 турнир чемпионат мир сезон команда победа выиграть матч проиграть финал\n",
            "16 суд закон право дело гражданин латвия решение судебный сельсовет верховный\n",
            "43 город век герб часть слово цвет язык название племя белый\n",
            "48 россия улица москва день предприятие площадь украина город сергей дом\n",
            "45 флаг цвет социальный полотнище красный символ российский ширина полоса обеспечение\n",
            "32 пешка король окончание ферзь позиция блюдо сторона мясо поле белый\n",
            "23 река библиотека бассейн фестиваль расположить приток начало впадать число территория\n",
            "24 город войско часть армия река противник км бой дивизия фронт\n",
            "13 партия президент политический правительство страна организация национальный выборы министр совет\n",
            "39 экипаж станция финал азербайджан 6 хороший проходить место следующий тренер\n",
            "0 уезд округ городской км специальный состав расстояние расположить население город\n",
            "7 доктор фильм эпизод хороший премия серия смит весь канал мочь\n",
            "41 улица название оружие робот переулок сторона метро часть москва проходить\n",
            "10 её всё жизнь новый сезон сериал весь серия друг пытаться\n",
            "22 вид семейство растение тело часть подсемейство северный около являться некоторый\n",
            "35 самолёт корабль боевой флот лодка морской состав советский подводный война\n",
            "36 компания мост город дорога железнодорожный железный линия строительство аэропорт работа\n",
            "8 музей искусство художник век работа выставка произведение картина художественный современный\n",
            "42 храм церковь озеро расположить коммуна часть монастырь построить берег норвегия\n",
            "4 олимпийский игра летний участие медаль принимать завоевать история зимний страна\n",
            "19 университет институт г работать школа факультет работа государственный профессор окончить\n",
            "9 сельский хутор посёлок поселение ростовский центр км состав дорога расположить\n",
            "11 князь чёрный великий поле белый ход василий иван король сторона\n",
            "30 состав территория центр волость входить пункт станица население войти часть\n"
          ],
          "name": "stdout"
        }
      ]
    },
    {
      "cell_type": "code",
      "metadata": {
        "id": "ionIeCeHQ5IA",
        "outputId": "2c29c328-0cc1-4c65-f5cf-27b7827b10da"
      },
      "source": [
        "for topic in topics3: # regular lda 150x5\n",
        "    print(\" \".join(topic))"
      ],
      "execution_count": null,
      "outputs": [
        {
          "output_type": "stream",
          "text": [
            "145 храм церковь собор монастырь святой век епископ здание православный русский\n",
            "46 вино военный сша компания частный являться мочь оон иметь сорт\n",
            "10 медведь ричард её мультсериал племя являться использовать вещество страна ребёнок\n",
            "67 князь иван робот московский великий иванович век москва iii русский\n",
            "139 город задача проект 1 являться 2 весь всё число коммуна\n",
            "18 автомобиль задний модель двигатель подвеска кузов передний колесо иметь мост\n",
            "29 сельский состав хутор центр ростовский поселение входить посёлок река станица\n",
            "89 российский федерация театр авиакомпания россия общественный 2010 компания валерий являться\n",
            "106 ссср день сеть войско пво оборона транспортный праздник анализ воскресение\n",
            "34 г ян сын российский министр дело дочь институт дмитриевич софья\n",
            "37 население город станица казак округ семья перепись житель средний сша\n",
            "147 вагон день иметь весь адам мочь слово звезда праздник всё\n",
            "142 медаль выиграть количество норвегия 380 игра оркестр золотой епархия канада\n",
            "99 военный польша война польский армия сентябрь генерал войско правительство германия\n",
            "110 война армия советский командир военный полка бой звание 1944 отечественный\n",
            "95 дом этаж музей сенегал николаевка новый звезда b хусейн второй\n",
            "84 посёлок улица км город дорога расположить № ростовский состав райцентр\n",
            "138 орден произвести назначить военный св степень получить участие война чин\n",
            "13 город убежище являться деревня канада часть давать известие земля жизнь\n",
            "86 томас император iv ii брак брат епархия сын ребёнок фридрих\n",
            "62 тепловоз формула сторона иметь треугольник мощность являться использовать завод двор\n",
            "17 роль являться её сериал актриса школа фильм работа весь мэри\n",
            "59 текст канада являться популярный список сеть блюдо сохраниться сша вода\n",
            "52 новый музей билет самолёт № образец ноябрь алексей выпускаться рубль\n",
            "104 озеро остров расположить берег река часть западный относиться флаг ширина\n",
            "92 змея formula_1 formula_4 система распределение formula_5 момент formula_2 formula_8 топливо\n",
            "112 город ирландия река зелёный шведский северный часть залив век вода\n",
            "6 вода москва александровский станция город сооружение построить стадион московский система\n",
            "123 тверской знак мать почётный слава тобаго джейн роза век награждение\n",
            "102 житомирский перепись украина 2001 площадь код индекс р-н почтовый телефонный\n"
          ],
          "name": "stdout"
        }
      ]
    },
    {
      "cell_type": "code",
      "metadata": {
        "id": "RX7kCEcaQ5IB",
        "outputId": "1ce2f31d-0c20-4c09-f997-b91695472774"
      },
      "source": [
        "model1.log_perplexity(corpus[:1000]), model2.log_perplexity(corpus[:1000]), model3.log_perplexity(corpus[:1000])"
      ],
      "execution_count": null,
      "outputs": [
        {
          "output_type": "execute_result",
          "data": {
            "text/plain": [
              "(-12.529603011976924, -9.919772060404574, -16.854604284921272)"
            ]
          },
          "metadata": {
            "tags": []
          },
          "execution_count": 60
        }
      ]
    },
    {
      "cell_type": "code",
      "metadata": {
        "id": "gntgRbVuQ5IB",
        "outputId": "fd35b0be-645c-4ae8-d9a6-cc5cf4abeaa5"
      },
      "source": [
        "coherence_model_lda1 = gensim.models.CoherenceModel(model=model1,\n",
        "                                                    texts=texts,\n",
        "                                                    dictionary=dictionary,\n",
        "                                                    coherence='c_v')\n",
        "\n",
        "coherence_model_lda2 = gensim.models.CoherenceModel(model=model2,\n",
        "                                                    texts=texts,\n",
        "                                                    dictionary=dictionary,\n",
        "                                                    coherence='c_v')\n",
        "\n",
        "coherence_model_lda3 = gensim.models.CoherenceModel(model=model3,\n",
        "                                                    texts=texts,\n",
        "                                                    dictionary=dictionary,\n",
        "                                                    coherence='c_v')\n",
        "\n",
        "coherence_model_lda1.get_coherence(), coherence_model_lda2.get_coherence(), coherence_model_lda3.get_coherence()"
      ],
      "execution_count": null,
      "outputs": [
        {
          "output_type": "execute_result",
          "data": {
            "text/plain": [
              "(0.49964053048061435, 0.5593595436815606, 0.4770401638735298)"
            ]
          },
          "metadata": {
            "tags": []
          },
          "execution_count": 62
        }
      ]
    },
    {
      "cell_type": "markdown",
      "metadata": {
        "id": "2d3xckS_Q5IB"
      },
      "source": [
        "### Comparing models without tfidf\n",
        "After analysing samples of 30 topics, it is possible to say that model with 50x10 paramenters performs relatively better. Results of log_perplexity and coherence can support it."
      ]
    },
    {
      "cell_type": "markdown",
      "metadata": {
        "id": "bQCWT0AoQ5IC"
      },
      "source": [
        "**Best topics**:\n",
        "\n",
        "40 клуб матч команда сезон сборная состав лига провести чемпионат забить\n",
        "\n",
        "8 музей искусство художник век работа выставка произведение картина художественный современный\n",
        "\n",
        "30 состав территория центр волость входить пункт станица население войти часть"
      ]
    },
    {
      "cell_type": "code",
      "metadata": {
        "id": "k74ll-eXQ5IC",
        "outputId": "cfd5d261-d439-4ad5-8548-76be4e0ad0af"
      },
      "source": [
        "for topic in topics4: # tfidf lda 100x7\n",
        "    print(\" \".join(topic))"
      ],
      "execution_count": null,
      "outputs": [
        {
          "output_type": "stream",
          "text": [
            "46 инвалид сердце 260 аргентинский актёрский лечение госпиталь кевин ангел реабилитация\n",
            "92 олимпийский игра летний зимний медаль завоевать принимать участие история сборная\n",
            "96 святой жена муж имя актриса дочь трое сын её воля\n",
            "99 женский химический али скульптор белый художница нии скульптура иркутский античность\n",
            "22 ленин боливия 19 варшавский 79 боковой 1969 партизан проектирование 1917\n",
            "72 вещество арена магнус тайвань король сигурд инга жидкость мозг волокно\n",
            "24 монголия сингл хорватия органический грэмми статистика hot billboard испанский рудник\n",
            "15 самолёт эфир истребитель приём полёт ввс новость рота ствол general\n",
            "3 каменский области.############ть комплект ямайка камера плато ткань популяция войти world\n",
            "40 корея мюнхен художник 1972 мексика живопись музей выставка картина женщина\n",
            "84 поезд бюро никольский раствор соборный de автоматический тонна скорость км/ча\n",
            "57 николай месторождение математик тёмный уральский минерал водиться dark монах цска\n",
            "85 коростенский 4142 остров ладожский армения шхера относиться тверской малый занимать\n",
            "58 шасси географический казахстан молоко библиотека бактерия старт корова глобус сахар\n",
            "70 война получить остров однако период военный часть второй из-за корабль\n",
            "64 сосуд лев англ мультфильм award international медный 1858 миноносец сергей\n",
            "45 кавалер крест рыцарский дубовый наградить 41 грузия пехотный 93 комикс\n",
            "59 гвардейский аргентина австрия полюс вулкан 1964 гвардия сержант провинция океан\n",
            "63 new дэвид times york грин кинокритик рой бить как-то заканчиваться\n",
            "28 белок танец чей иосиф структура критерий традиционный мак выделение солист\n",
            "88 звезда переулок солнце обсерватория наблюдение астроном древнегреческий антверпен дворец понятие\n",
            "90 означать мочь метр греческий судно башня иванович высота стена здание\n",
            "87 пекин тепловоз водохранилище китай школьный малайзия 54 57 статья представлять\n",
            "82 исток устье s кристофер 105 впадать англия гренландия лес великий\n",
            "9 система компания игра версия платформа функция модель программа компьютер разработка\n",
            "68 пропустить 1928 швейцария квебек берн v федеральный ганс 1793 рождественский\n",
            "20 уезд округ городской специальный оркестр империя расформировать преобразовать кнр заплыв\n",
            "38 университет школа язык музыка газета журнал музыкальный наука г член\n",
            "78 ядро мышца мыс технический 1600 отыграть молдавский травма мозг точка\n",
            "30 романовский 4146 романовка словакия департамент княжество польша 85 эдди численность\n"
          ],
          "name": "stdout"
        }
      ]
    },
    {
      "cell_type": "code",
      "metadata": {
        "id": "BVID2ZutQ5IC",
        "outputId": "c92bd0d2-0ae4-4830-d5e6-bce021f3fa6a"
      },
      "source": [
        "for topic in topics5: # tfidf lda 50x10\n",
        "    print(\" \".join(topic))"
      ],
      "execution_count": null,
      "outputs": [
        {
          "output_type": "stream",
          "text": [
            "35 раунд спортсмен дистанция квалификация муравей занятой независимо утешительный сидней термин\n",
            "31 ворота язык иванович социалистический труд армянский литовский герой индия преподавать\n",
            "5 церковь святой храм собор икона монастырь епархия православный католический дева\n",
            "15 граф король сын i ii князь графство де iii герцог\n",
            "9 албания балка верфь 1906 фиджи лодка подводный нью-джерси вилла ag\n",
            "8 фильм война г советский армия школа военный работать роль получить\n",
            "42 квебек турок юрий пехотный николаевский севастополь георгий мастерс петрович 65\n",
            "39 хутор ростовский сельский области.############входить река посёлок станица верхнедонский км состав\n",
            "20 значение сенегал аббревиатура человек.############являться рим 1960 впадение озеро боксёр гандбол\n",
            "34 км расстояние м/ж сельский река район,######харьковский расположить харьковский течение берег\n",
            "46 носитель монако литература тепловоз малайзия повесть писатель мощность intel сан-франциско\n",
            "22 зачёт прыжок фёдор космический ракета ван вкп(б арестовать цк 1854\n",
            "43 день кантон генри авианосец швейцарский дубовский гонка сказка рязанский ричард\n",
            "0 португалия мексика мехико тобаго мельбурн исландия пуэрто-рико артур гильдия плавание\n",
            "27 клуб чемпионат матч команда сезон турнир кубок мир чемпион игрок\n",
            "1 мочь часть являться иметь город вид система остров век название\n",
            "6 совет,######лозовский библиотека николаевка ткань мышца пирамида фраза индийский музей танец\n",
            "25 означать василиевич мочь 175 обл пгт 1888 68 ленин черешок\n",
            "41 шахматный югославия 1-2-й транспорт шахматист олимпиада международный гитлер гроссмейстер 1-й\n",
            "32 олимпийский игра летний зимний завоевать медаль принимать участие история сборная\n",
            "47 альбом песня the студийный певица in and розыгрыш сингл выпустить\n",
            "40 палата маяк озеро your критерий лорд скалистый перечень финансы архитектор\n",
            "7 улица название населить различный пункт у́лицо государство бывший ссср переулок\n",
            "26 коростышевский 4130 подпольный латвия четырнадцатый м синдром автомобиль сербский урочище\n",
            "48 хельсинки фильм 1952 финляндия нхл вагон курский руда бен хит\n",
            "11 оркестр смирнов городище 83 10000 1899 луи умерший 69 географический\n",
            "3 житомирский овручский области.############код коатуа р-н телефонный индекс почтовый код украина\n",
            "18 жук питаться мм лист вид жук-листоед подсемейство личинка длина надкрылья\n",
            "17 остров ладожский шхера карелия относиться порода озеро покрыть группа 48\n",
            "10 консул чешуекрылый мультсериал э подсемейство семейство род 61 н римлянин\n"
          ],
          "name": "stdout"
        }
      ]
    },
    {
      "cell_type": "code",
      "metadata": {
        "id": "2bOwY6a5Q5ID",
        "outputId": "3dd3c1a1-bf36-4470-fd41-bd4493e4308a"
      },
      "source": [
        "for topic in topics6: # tfidf lda 150x5\n",
        "    print(\" \".join(topic))"
      ],
      "execution_count": null,
      "outputs": [
        {
          "output_type": "stream",
          "text": [
            "81 встречаться шестой муж её жена брать жить мать дочь джордж\n",
            "90 турнир смотреть чемпионат мир финал раунд выиграть чемпион проиграть вещество\n",
            "16 китай китайский пекин чжан династия женщина тан архитектура традиционный история\n",
            "111 крест пьеса постановка поставить сюжетный театр сцена драматург визуальный героиня\n",
            "126 университет газета книга профессор факультет русский институт н нью-йорк литература\n",
            "122 святой румыния румынский житие епископ племянник родство 1989 имя вероятно\n",
            "4 макс электрический убить тюрьма молния питер доктор зелёный пытаться мочь\n",
            "98 философия руда педагогический колумбийский колледж нью-джерси премия николас организм г\n",
            "40 майк песня написать хит the альбом records группа записать is\n",
            "28 иванович николай н оркестр данные рабочий анализ инструмент возможность продукт\n",
            "56 овручский украина лист монастырь икона насекомое цветок упоминаться венгрия монах\n",
            "148 оркестр инструмент змея вселенная музыка мнение рассказ планета автор крестьянин\n",
            "135 хутор ростовский области.############входить станица сельский состав n памятник дон наследие\n",
            "6 мочь означать использоваться малый позволять 0 производство память изменение применяться\n",
            "97 коммуна июнь норвегия стрелковый президент министр 1942 пятьдесят генерал звание\n",
            "85 азербайджан стих поэт стихотворение посвятить азербайджанский мать пьеса герой советский\n",
            "74 граф король iii де сын битва 000 роберт генрих войско\n",
            "96 боливия коммунист революционный рабочий единство партия съезд коммунистический альберт наука\n",
            "132 герцог мультсериал людовик медведь мемуары де франция xi серия советник\n",
            "1 канал сериал сценарист томас шоу продюсер телеканал актриса школьный мюзикл\n",
            "47 улица седьмой линия областной здание называться магазин располагаться жилой помещение\n",
            "8 изобретатель севастополь 1855 инженерный крымский петрович заведовать генерал-майор сын санкт-петербург\n",
            "38 гибель заложник безуспешно благословение вера пушкин житие королевский корова поэтический\n",
            "21 опера замок 1750 епископ графиня молдавский вдова священник реконструкция митрополит\n",
            "101 мост 1968 американский 17 1987 сша морской 14 указать драма\n",
            "65 бог сражение поручение генерал возвратиться св назначить неприятель наградить комендант\n",
            "109 пещера керамика культура балканы тыс верхний н регион группа э\n",
            "100 португалия капитан апрель кавалерия ди кавалерийский военный пенсия школа направить\n",
            "20 подруга павел майк ребёнок отец переживать её узнать домохозяйка странный\n",
            "45 эксперимент компания инструмент полёт музыкальный бренд экипаж разработка national космонавт\n"
          ],
          "name": "stdout"
        }
      ]
    },
    {
      "cell_type": "code",
      "metadata": {
        "id": "pejxaKd_Q5ID",
        "outputId": "cdfcc90c-68d4-4259-91b8-a4ed5077548e"
      },
      "source": [
        "tfidf1.log_perplexity(corpus[:1000]), tfidf2.log_perplexity(corpus[:1000]), tfidf3.log_perplexity(corpus[:1000])"
      ],
      "execution_count": null,
      "outputs": [
        {
          "output_type": "execute_result",
          "data": {
            "text/plain": [
              "(-11.262671233880246, -8.946754967565905, -28.05496668806068)"
            ]
          },
          "metadata": {
            "tags": []
          },
          "execution_count": 70
        }
      ]
    },
    {
      "cell_type": "code",
      "metadata": {
        "id": "NF8fBEWxQ5ID",
        "outputId": "9b8c9fd2-e6ab-4499-b622-6d0b0f376a8e"
      },
      "source": [
        "coherence_tfidf_lda1 = gensim.models.CoherenceModel(model=tfidf1,\n",
        "                                                    texts=texts,\n",
        "                                                    dictionary=dictionary,\n",
        "                                                    coherence='c_v')\n",
        "\n",
        "coherence_tfidf_lda2 = gensim.models.CoherenceModel(model=tfidf2,\n",
        "                                                    texts=texts,\n",
        "                                                    dictionary=dictionary,\n",
        "                                                    coherence='c_v')\n",
        "\n",
        "coherence_tfidf_lda3 = gensim.models.CoherenceModel(model=tfidf3,\n",
        "                                                    texts=texts,\n",
        "                                                    dictionary=dictionary,\n",
        "                                                    coherence='c_v')\n",
        "\n",
        "coherence_tfidf_lda1.get_coherence(), coherence_tfidf_lda2.get_coherence(), coherence_tfidf_lda3.get_coherence()"
      ],
      "execution_count": null,
      "outputs": [
        {
          "output_type": "execute_result",
          "data": {
            "text/plain": [
              "(0.49866245961659855, 0.5574097093390988, 0.4119803382564534)"
            ]
          },
          "metadata": {
            "tags": []
          },
          "execution_count": 71
        }
      ]
    },
    {
      "cell_type": "markdown",
      "metadata": {
        "id": "0aMy63ACQ5ID"
      },
      "source": [
        "### Comparing models with tfidf\n",
        "\n",
        "After analysing samples of 30 topics, it is possible to say that again the model with 50x10 paramenters performs relatively better. It seems the number of passes has a higher impact on quality than number of topics. Results of log_perplexity and coherence can support it.\n"
      ]
    },
    {
      "cell_type": "markdown",
      "metadata": {
        "id": "fhY1ghZCQ5IE"
      },
      "source": [
        "**Best topics**:\n",
        "\n",
        "5 церковь святой храм собор икона монастырь епархия православный католический дева\n",
        "\n",
        "27 клуб чемпионат матч команда сезон турнир кубок мир чемпион игрок\n",
        "\n",
        "47 альбом песня the студийный певица in and розыгрыш сингл выпустить"
      ]
    },
    {
      "cell_type": "markdown",
      "metadata": {
        "id": "7HTPbXFYQ5IE"
      },
      "source": [
        "## Comparing best models"
      ]
    },
    {
      "cell_type": "markdown",
      "metadata": {
        "id": "-FgHB5Z7Q5IE"
      },
      "source": [
        "The model without tfidf seems to produce better shaped topics, but its metrics are slightly worse. Overall, well-shaped topics intersect, e.g: sports, geographic landmarks, religion.\n",
        "\n",
        "For now, it seems that a model with higher number of topics and passes (like the one we saw in class) performs better."
      ]
    },
    {
      "cell_type": "markdown",
      "metadata": {
        "id": "UFzCyN_gQ5IE"
      },
      "source": [
        "#  Sklearn"
      ]
    },
    {
      "cell_type": "code",
      "metadata": {
        "id": "m_ry0dQ8Q5IF"
      },
      "source": [
        "from sklearn.decomposition import NMF\n",
        "from joblib import dump, load\n",
        "from sklearn.feature_extraction.text import CountVectorizer, TfidfVectorizer"
      ],
      "execution_count": null,
      "outputs": []
    },
    {
      "cell_type": "markdown",
      "metadata": {
        "id": "qxSO--2eQ5IF"
      },
      "source": [
        "preprocess"
      ]
    },
    {
      "cell_type": "code",
      "metadata": {
        "id": "l3Au_O3AQ5IF"
      },
      "source": [
        "stexts = [' '.join(text) for text in texts]\n",
        "\n",
        "count_vec = CountVectorizer(max_features=3000,\n",
        "                             min_df=8,\n",
        "                             max_df=0.2,\n",
        "                             ngram_range=(1,2))\n",
        "\n",
        "X_count = count_vec.fit_transform(stexts)"
      ],
      "execution_count": null,
      "outputs": []
    },
    {
      "cell_type": "code",
      "metadata": {
        "id": "ZAy6L9D-Q5IF"
      },
      "source": [
        "tfidf_vec = TfidfVectorizer(max_features=2000,\n",
        "                             min_df=10,\n",
        "                             max_df=0.1,\n",
        "                             ngram_range=(1,2))\n",
        "\n",
        "X_tfidf = tfidf_vec.fit_transform(stexts)"
      ],
      "execution_count": null,
      "outputs": []
    },
    {
      "cell_type": "markdown",
      "metadata": {
        "id": "0YbXDGTqQ5IF"
      },
      "source": [
        "CountVectorizer models"
      ]
    },
    {
      "cell_type": "code",
      "metadata": {
        "id": "MjT-XApeQ5IF",
        "outputId": "b215835b-0cf0-4e5f-fe71-222c16fb6a37"
      },
      "source": [
        "skl1 = NMF(n_components=100)\n",
        "skl1.fit(X_count)\n",
        "dump(skl1, 'data/models/skl1/model.joblib')"
      ],
      "execution_count": null,
      "outputs": [
        {
          "output_type": "execute_result",
          "data": {
            "text/plain": [
              "['data/models/skl1/model.joblib']"
            ]
          },
          "metadata": {
            "tags": []
          },
          "execution_count": 11
        }
      ]
    },
    {
      "cell_type": "code",
      "metadata": {
        "id": "pQKWHXYsQ5IG",
        "outputId": "d0d5a844-1114-4917-d79a-1d4e4049024f"
      },
      "source": [
        "skl2 = NMF(n_components=50)\n",
        "skl2.fit(X_count)\n",
        "dump(skl2, 'data/models/skl2/model.joblib')"
      ],
      "execution_count": null,
      "outputs": [
        {
          "output_type": "execute_result",
          "data": {
            "text/plain": [
              "['data/models/skl2/model.joblib']"
            ]
          },
          "metadata": {
            "tags": []
          },
          "execution_count": 12
        }
      ]
    },
    {
      "cell_type": "code",
      "metadata": {
        "id": "G9SL-Z6LQ5IG",
        "outputId": "44949f56-ace6-4ea7-c8fe-6b95f9ac7885"
      },
      "source": [
        "skl3 = NMF(n_components=150)\n",
        "skl3.fit(X_count)\n",
        "dump(skl3, 'data/models/skl3/model.joblib')"
      ],
      "execution_count": null,
      "outputs": [
        {
          "output_type": "execute_result",
          "data": {
            "text/plain": [
              "['data/models/skl3/model.joblib']"
            ]
          },
          "metadata": {
            "tags": []
          },
          "execution_count": 13
        }
      ]
    },
    {
      "cell_type": "markdown",
      "metadata": {
        "id": "P7Uxa_LVQ5IG"
      },
      "source": [
        "TfIdfVectorizer moderls"
      ]
    },
    {
      "cell_type": "code",
      "metadata": {
        "id": "kRiCpBxdQ5IG",
        "outputId": "0ebd0110-5b52-48ae-f3c4-35bece3b0ad6"
      },
      "source": [
        "tfidf_skl1 = NMF(n_components=100)\n",
        "tfidf_skl1.fit(X_count)\n",
        "dump(tfidf_skl1, 'data/models/tfidf_skl1/model.joblib')"
      ],
      "execution_count": null,
      "outputs": [
        {
          "output_type": "execute_result",
          "data": {
            "text/plain": [
              "['data/models/tfidf_skl1/model.joblib']"
            ]
          },
          "metadata": {
            "tags": []
          },
          "execution_count": 29
        }
      ]
    },
    {
      "cell_type": "code",
      "metadata": {
        "id": "x_ie0PC-Q5IG",
        "outputId": "f570d138-e270-4df5-e8eb-972318747a98"
      },
      "source": [
        "tfidf_skl2 = NMF(n_components=50)\n",
        "tfidf_skl2.fit(X_count)\n",
        "dump(tfidf_skl2, 'data/models/tfidf_skl2/model.joblib')"
      ],
      "execution_count": null,
      "outputs": [
        {
          "output_type": "execute_result",
          "data": {
            "text/plain": [
              "['data/models/tfidf_skl2/model.joblib']"
            ]
          },
          "metadata": {
            "tags": []
          },
          "execution_count": 30
        }
      ]
    },
    {
      "cell_type": "code",
      "metadata": {
        "id": "xVlEzwQ8Q5IH",
        "outputId": "3452f01d-1986-4bc6-c62a-ea5296cf85c7"
      },
      "source": [
        "tfidf_skl3 = NMF(n_components=150)\n",
        "tfidf_skl3.fit(X_count)\n",
        "dump(tfidf_skl3, 'data/models/tfidf_skl3/model.joblib')"
      ],
      "execution_count": null,
      "outputs": [
        {
          "output_type": "execute_result",
          "data": {
            "text/plain": [
              "['data/models/tfidf_skl3/model.joblib']"
            ]
          },
          "metadata": {
            "tags": []
          },
          "execution_count": 31
        }
      ]
    },
    {
      "cell_type": "markdown",
      "metadata": {
        "id": "LyNlYXA5Q5IH"
      },
      "source": [
        "**use count_vec models**"
      ]
    },
    {
      "cell_type": "code",
      "metadata": {
        "id": "FGJFZaHCQ5IH"
      },
      "source": [
        "skl1 = load('data/models/skl1/model.joblib')\n",
        "skl2 = load('data/models/skl2/model.joblib')\n",
        "skl3 = load('data/models/skl3/model.joblib')"
      ],
      "execution_count": null,
      "outputs": []
    },
    {
      "cell_type": "code",
      "metadata": {
        "id": "87qj5xbkQ5IH"
      },
      "source": [
        "cfeat_names = count_vec.get_feature_names()\n",
        "tfeat_names = tfidf_vec.get_feature_names()"
      ],
      "execution_count": null,
      "outputs": []
    },
    {
      "cell_type": "code",
      "metadata": {
        "id": "9G_-0JsjQ5IH",
        "outputId": "d95c885d-f090-43a4-c4ff-83c3d74c4cca"
      },
      "source": [
        "top_words1 = skl1.components_.argsort()[:30,:-9:-1] # number of components = 100\n",
        "\n",
        "for i in range(top_words1.shape[0]):\n",
        "    words = [cfeat_names[j] for j in top_words1[i]]\n",
        "    print(i, \"--\".join(words))"
      ],
      "execution_count": null,
      "outputs": [
        {
          "output_type": "stream",
          "text": [
            "0 подвеска--автомобиль--колесо--рычаг--поперечный--поворот--задний--ось\n",
            "1 войско--фронт--армия--город--январь--противник--бой--овладеть\n",
            "2 новый--версия--10--выпуск--выпустить--включать--апрель--проект\n",
            "3 игра--of--2010--2010 год--black--карта--2011--студия\n",
            "4 турнир--разряд--финал--пара--рейтинг--открытый--открытый чемпионат--парный\n",
            "5 нансен--экспедиция--фрам--лёд--весь--команда--северный--свердруп\n",
            "6 линь--лян--китайский--её--архитектура--китай--пекин--дом\n",
            "7 генерал--армия--корпус--конный--февраль--войско--командование--сентябрь\n",
            "8 уезд--округ--специальный--городской--специальный район--состав--год уезд--городской уезд\n",
            "9 москва--купец--россия--торговля--век--русский--товар--новгород\n",
            "10 житомирский--код--житомирский область--2001--2001 год--перепись--украина--год составлять\n",
            "11 брак--право--однополый--россия--российский--мочь--суд--семейный\n",
            "12 турнир--раунд--выйти--чемпионат--финал--открытый--смочь--открытый чемпионат\n",
            "13 религиозный--передача--здание--организация--имущество--церковь--2010--культура\n",
            "14 флотилия--капитан--святой--лейтенант--порт--корабль--русский--военный\n",
            "15 армия--военный--войско--война--русский--начало--вооружение--создать\n",
            "16 дивизия--1941--1941 год--стрелковый--июль--стрелковый дивизия--бой--корпус\n",
            "17 билет--сторона--рубль--серия--образец--знак--портрет--новый\n",
            "18 город--городской--центр--год город--крепость--часть--округ--новый\n",
            "19 маша--медведь--мультсериал--серия--ребёнок--её--компания--самый\n",
            "20 доктор--серия--эпизод--говорить--десятый--сериал--мочь--сезон\n",
            "21 группа--участник--состав--концерт--сингл--год группа--музыкальный--коллектив\n",
            "22 олимпийский--олимпийский игра--игра--летний--летний олимпийский--участие--медаль--принимать\n",
            "23 экономический--общество--россия--вольный--российский--развитие--труд--деятельность\n",
            "24 вода--фильтр--ран--2010--россия--2010 год--комиссия--суд\n",
            "25 самолёт--км--установить--часть--полёт--крыло--двигатель--кг\n",
            "26 река--часть--озеро--км--расположить--берег--являться--западный\n",
            "27 ураган--тропический--шторм--2009--2009 год--сезон--уровень--ветер\n",
            "28 ссср--государственный--российский--совет--школа--член--федерация--председатель\n",
            "29 фильм--побег--сеть--герой--сцена--режиссёр--всё--главный\n"
          ],
          "name": "stdout"
        }
      ]
    },
    {
      "cell_type": "code",
      "metadata": {
        "id": "FGNjhTiQQ5II",
        "outputId": "3904a55a-1162-47e6-f09d-eb768f9dd9e1"
      },
      "source": [
        "top_words2 = skl2.components_.argsort()[:30,:-9:-1] # number of components = 50\n",
        "\n",
        "for i in range(top_words2.shape[0]):\n",
        "    words = [cfeat_names[j] for j in top_words2[i]]\n",
        "    print(i, \"--\".join(words))"
      ],
      "execution_count": null,
      "outputs": [
        {
          "output_type": "stream",
          "text": [
            "0 подвеска--автомобиль--колесо--рычаг--поперечный--поворот--задний--ось\n",
            "1 войско--армия--фронт--город--январь--противник--бой--овладеть\n",
            "2 вид--часть--являться--иметь--век--растение--цвет--мочь\n",
            "3 игра--of--2010--2010 год--black--карта--2011--студия\n",
            "4 турнир--мир--чемпионат--финал--сезон--открытый--открытый чемпионат--разряд\n",
            "5 нансен--экспедиция--фрам--лёд--весь--команда--северный--свердруп\n",
            "6 линь--лян--её--китайский--архитектура--китай--дом--пекин\n",
            "7 генерал--армия--штаб--август--военный--корпус--сентябрь--начальник\n",
            "8 уезд--округ--городской--специальный--специальный район--состав--год уезд--городской уезд\n",
            "9 экономический--общество--россия--вольный--российский--развитие--деятельность--труд\n",
            "10 житомирский--код--украина--житомирский область--площадь--2001--2001 год--перепись\n",
            "11 брак--право--однополый--россия--мочь--российский--суд--семейный\n",
            "12 раунд--проиграть--счёт--турнир--первый раунд--второй--квалификация--открытый\n",
            "13 церковь--храм--монастырь--святой--собор--епископ--русский--православный\n",
            "14 корабль--флот--крейсер--лодка--китайский--подводный--подводный лодка--морской\n",
            "15 армия--военный--война--войско--русский--начало--служба--сила\n",
            "16 дивизия--батальон--бой--1941--полка--полк--1941 год--стрелковый\n",
            "17 религиозный--передача--здание--организация--имущество--церковь--2010--культура\n",
            "18 город--центр--городской--часть--новый--строительство--крепость--век\n",
            "19 маша--медведь--мультсериал--серия--её--ребёнок--сезон--самый\n",
            "20 доктор--серия--эпизод--роль--сериал--говорить--сезон--смит\n",
            "21 альбом--группа--песня--the--выпустить--новый--музыкальный--сингл\n",
            "22 wwe--матч--титул--шоу--келли--победа--бой--чемпион\n",
            "23 территория--страна--россия--гражданин--власть--республика--украина--режим\n",
            "24 вода--фильтр--ран--2010--россия--2010 год--комиссия--суд\n",
            "25 самолёт--модель--часть--км--двигатель--установить--полёт--крыло\n",
            "26 состав--деревня--сельский--волость--крымский--двор--река--крым\n",
            "27 ураган--тропический--шторм--2009--сезон--2009 год--уровень--остров\n",
            "28 ссср--советский--член--союз--совет--работать--государственный--школа\n",
            "29 фильм--роль--её--герой--главный--хороший--сцена--всё\n"
          ],
          "name": "stdout"
        }
      ]
    },
    {
      "cell_type": "code",
      "metadata": {
        "id": "aRJLoEfNQ5II",
        "outputId": "a8c05d33-17c2-4172-85b3-ab270310b514"
      },
      "source": [
        "top_words3 = skl3.components_.argsort()[:30,:-9:-1] # number of components = 150\n",
        "\n",
        "for i in range(top_words3.shape[0]):\n",
        "    words = [cfeat_names[j] for j in top_words3[i]]\n",
        "    print(i, \"--\".join(words))"
      ],
      "execution_count": null,
      "outputs": [
        {
          "output_type": "stream",
          "text": [
            "0 подвеска--автомобиль--колесо--рычаг--поперечный--поворот--задний--ось\n",
            "1 войско--фронт--армия--город--январь--противник--бой--овладеть\n",
            "2 октябрь--июнь--май--декабрь--ноябрь--сентябрь--апрель--январь\n",
            "3 игра--of--2010--2010 год--black--карта--2011--студия\n",
            "4 турнир--финал--разряд--пара--рейтинг--открытый--открытый чемпионат--парный\n",
            "5 весь--всё--ещё--большой--самый--должный--несколько--практически\n",
            "6 линь--лян--китайский--её--архитектура--китай--пекин--дом\n",
            "7 состав--округ--свердловский--муниципальный--образование--следующий--территория--муниципальный образование\n",
            "8 уезд--округ--специальный--специальный район--городской--год уезд--состав--городской уезд\n",
            "9 россия--российский--москва--русский--московский--федерация--российский федерация--2015\n",
            "10 житомирский--код--житомирский область--2001--2001 год--перепись--год составлять--перепись 2001\n",
            "11 брак--однополый--право--мочь--семейный--пара--семья--суд\n",
            "12 турнир--раунд--выйти--чемпионат--финал--открытый--открытый чемпионат--смочь\n",
            "13 религиозный--передача--здание--организация--имущество--2010--церковь--2010 год\n",
            "14 флотилия--капитан--святой--лейтенант--корабль--порт--русский--экспедиция\n",
            "15 крепость--станица--казак--линия--северный--уезд--войско--полка\n",
            "16 батальон--полка--полк--противник--позиция--бой--дивизия--атака\n",
            "17 состояние--модель--теория--ребёнок--развитие--эксперимент--of--исследование\n",
            "18 город--городской--центр--год город--житель--шведский--проведение--местный\n",
            "19 маша--медведь--мультсериал--серия--ребёнок--её--самый--страна\n",
            "20 доктор--серия--эпизод--говорить--десятый--сериал--сезон--мочь\n",
            "21 группа--участник--состав--сингл--год группа--концерт--коллектив--выйти\n",
            "22 олимпийский--олимпийский игра--игра--летний--летний олимпийский--участие--медаль--принимать\n",
            "23 экономический--общество--вольный--развитие--россия--деятельность--труд--организация\n",
            "24 вода--фильтр--ран--2010--2010 год--комиссия--виктор--программа\n",
            "25 самолёт--км--установить--полёт--крыло--двигатель--кг--модель\n",
            "26 часть--территория--восточный--западный--южный--центральный--располагаться--больший часть\n",
            "27 ураган--тропический--шторм--2009--2009 год--сезон--уровень--ветер\n",
            "28 нансен--экспедиция--фрам--лёд--команда--северный--свердруп--полюс\n",
            "29 фильм--сеть--режиссёр--сцена--социальный--марк--герой--главный\n"
          ],
          "name": "stdout"
        }
      ]
    },
    {
      "cell_type": "markdown",
      "metadata": {
        "id": "mFYyeYUGQ5II"
      },
      "source": [
        "### Comparing CountVec models\n",
        "\n",
        "The higher number of components allows to shape topics better:\n",
        "\n",
        "n=50: 11 брак--право--однополый--россия--мочь--российский--суд--семейный\n",
        "\n",
        "n=100: 11 брак--право--однополый--россия--российский--мочь--суд--семейный\n",
        "\n",
        "n=150: 11 брак--однополый--право--мочь--семейный--пара--семья--суд"
      ]
    },
    {
      "cell_type": "markdown",
      "metadata": {
        "id": "HNk45gH4Q5II"
      },
      "source": [
        "**Best-shaped topics**\n",
        "\n",
        "0 подвеска--автомобиль--колесо--рычаг--поперечный--поворот--задний--ось\n",
        "\n",
        "16 батальон--полка--полк--противник--позиция--бой--дивизия--атака\n",
        "\n",
        "28 нансен--экспедиция--фрам--лёд--команда--северный--свердруп--полюс"
      ]
    },
    {
      "cell_type": "markdown",
      "metadata": {
        "id": "zfyPvHbgQ5II"
      },
      "source": [
        "**use tfidf models**"
      ]
    },
    {
      "cell_type": "code",
      "metadata": {
        "id": "5NxMU21NQ5II"
      },
      "source": [
        "tfidf_skl1 = load('data/models/tfidf_skl1/model.joblib')\n",
        "tfidf_skl2 = load('data/models/tfidf_skl2/model.joblib')\n",
        "tfidf_skl3 = load('data/models/tfidf_skl3/model.joblib')"
      ],
      "execution_count": null,
      "outputs": []
    },
    {
      "cell_type": "code",
      "metadata": {
        "id": "gMRNX2BlQ5IJ",
        "outputId": "9a3a3d29-f86a-4c03-a104-81d82b238a6d"
      },
      "source": [
        "top_words4 = tfidf_skl1.components_.argsort()[:30,:-9:-1] # number of components = 100\n",
        "\n",
        "for i in range(top_words4.shape[0]):\n",
        "    words = [cfeat_names[j] for j in top_words4[i]]\n",
        "    print(i, \"--\".join(words))"
      ],
      "execution_count": null,
      "outputs": [
        {
          "output_type": "stream",
          "text": [
            "0 подвеска--автомобиль--колесо--рычаг--поперечный--поворот--задний--ось\n",
            "1 войско--фронт--армия--город--январь--противник--бой--овладеть\n",
            "2 новый--всё--весь--тоннель--вагон--однако--получить--название\n",
            "3 игра--of--2010--2010 год--black--карта--2011--студия\n",
            "4 турнир--финал--чемпионат--открытый--открытый чемпионат--разряд--мир--пара\n",
            "5 нансен--экспедиция--фрам--лёд--весь--команда--северный--свердруп\n",
            "6 линь--лян--её--китайский--архитектура--китай--пекин--дом\n",
            "7 состав--округ--свердловский--образование--муниципальный--следующий--территория--образовать\n",
            "8 уезд--округ--специальный--городской--специальный район--год уезд--состав--городской уезд\n",
            "9 государственный--российский--ссср--совет--школа--федерация--министерство--председатель\n",
            "10 житомирский--код--житомирский область--2001--украина--2001 год--перепись--год составлять\n",
            "11 брак--однополый--право--россия--российский--мочь--суд--семейный\n",
            "12 бой--раунд--удар--победа--боец--однако--провести--первый раунд\n",
            "13 религиозный--передача--здание--организация--имущество--церковь--2010--2010 год\n",
            "14 флотилия--капитан--святой--лейтенант--порт--корабль--русский--судно\n",
            "15 армия--военный--война--войско--русский--начало--вооружение--создать\n",
            "16 батальон--полка--полк--противник--позиция--бой--дивизия--атака\n",
            "17 язык--раздел--книга--слово--содержать--русский--болезнь--на\n",
            "18 город--городской--центр--год город--крепость--часть--житель--весь\n",
            "19 маша--медведь--мультсериал--серия--ребёнок--её--самый--россия\n",
            "20 доктор--серия--эпизод--говорить--десятый--сериал--мочь--сезон\n",
            "21 группа--участник--состав--концерт--сингл--год группа--музыкальный--коллектив\n",
            "22 олимпийский--олимпийский игра--игра--летний--летний олимпийский--участие--медаль--принимать\n",
            "23 экономический--общество--россия--вольный--российский--развитие--труд--деятельность\n",
            "24 вода--фильтр--ран--2010--россия--2010 год--комиссия--суд\n",
            "25 самолёт--км--установить--часть--полёт--крыло--двигатель--кг\n",
            "26 вода--станция--система--москва--сооружение--река--построить--млн\n",
            "27 ураган--тропический--шторм--2009--2009 год--сезон--уровень--ветер\n",
            "28 орден--назначить--август--наградить--св--произвести--степень--генерал\n",
            "29 фильм--побег--сеть--герой--сцена--режиссёр--всё--главный\n"
          ],
          "name": "stdout"
        }
      ]
    },
    {
      "cell_type": "code",
      "metadata": {
        "id": "VkCo7aQLQ5IJ",
        "outputId": "43a52e4f-4a4e-4818-fab6-a93284e4d18d"
      },
      "source": [
        "top_words5 = tfidf_skl2.components_.argsort()[:30,:-9:-1] # number of components = 50\n",
        "\n",
        "for i in range(top_words5.shape[0]):\n",
        "    words = [cfeat_names[j] for j in top_words5[i]]\n",
        "    print(i, \"--\".join(words))"
      ],
      "execution_count": null,
      "outputs": [
        {
          "output_type": "stream",
          "text": [
            "0 подвеска--автомобиль--колесо--рычаг--поперечный--поворот--задний--ось\n",
            "1 войско--армия--фронт--город--январь--противник--бой--овладеть\n",
            "2 вид--мочь--животное--являться--иметь--некоторый--язык--часть\n",
            "3 игра--of--2010--2010 год--black--карта--2011--студия\n",
            "4 турнир--финал--чемпионат--открытый--открытый чемпионат--разряд--мир--пара\n",
            "5 нансен--экспедиция--фрам--полюс--команда--весь--лёд--северный\n",
            "6 линь--лян--её--китайский--архитектура--китай--дом--пекин\n",
            "7 генерал--армия--штаб--август--корпус--сентябрь--военный--начальник\n",
            "8 уезд--округ--городской--специальный--специальный район--состав--год уезд--городской уезд\n",
            "9 ссср--советский--член--союз--совет--работать--государственный--школа\n",
            "10 житомирский--код--украина--житомирский область--2001--2001 год--перепись--год составлять\n",
            "11 брак--право--однополый--россия--мочь--российский--суд--семейный\n",
            "12 раунд--проиграть--счёт--первый раунд--турнир--второй--квалификация--чемпионат\n",
            "13 церковь--храм--монастырь--святой--собор--епископ--век--русский\n",
            "14 корабль--флот--крейсер--лодка--китайский--подводный--подводный лодка--морской\n",
            "15 армия--военный--война--войско--русский--начало--сила--служба\n",
            "16 дивизия--батальон--бой--1941--полка--полк--1941 год--стрелковый\n",
            "17 религиозный--передача--здание--организация--имущество--церковь--2010--культура\n",
            "18 город--центр--городской--часть--новый--век--строительство--крепость\n",
            "19 маша--медведь--мультсериал--серия--её--ребёнок--компания--самый\n",
            "20 доктор--серия--эпизод--роль--сериал--говорить--сезон--смит\n",
            "21 альбом--группа--песня--the--выпустить--новый--сингл--музыкальный\n",
            "22 wwe--матч--титул--шоу--келли--победа--бой--чемпион\n",
            "23 территория--страна--россия--гражданин--власть--республика--украина--режим\n",
            "24 вода--фильтр--ран--2010--россия--2010 год--комиссия--суд\n",
            "25 самолёт--модель--часть--км--двигатель--установить--полёт--крыло\n",
            "26 экономический--общество--россия--вольный--российский--развитие--деятельность--труд\n",
            "27 ураган--тропический--шторм--2009--2009 год--сезон--уровень--остров\n",
            "28 партия--политический--президент--выборы--правительство--совет--движение--министр\n",
            "29 фильм--роль--побег--хороший--главный--всё--режиссёр--весь\n"
          ],
          "name": "stdout"
        }
      ]
    },
    {
      "cell_type": "code",
      "metadata": {
        "id": "VVmLWp8PQ5IJ",
        "outputId": "aa11cab1-2351-4226-c433-15475a488c89"
      },
      "source": [
        "top_words6 = tfidf_skl3.components_.argsort()[:30,:-9:-1] # number of components = 150\n",
        "\n",
        "for i in range(top_words6.shape[0]):\n",
        "    words = [cfeat_names[j] for j in top_words6[i]]\n",
        "    print(i, \"--\".join(words))"
      ],
      "execution_count": null,
      "outputs": [
        {
          "output_type": "stream",
          "text": [
            "0 подвеска--автомобиль--колесо--рычаг--поперечный--поворот--задний--ось\n",
            "1 войско--фронт--армия--город--январь--противник--бой--овладеть\n",
            "2 новый--тоннель--название--однако--январь--больший--большой--старый\n",
            "3 игра--of--2010--2010 год--black--карта--2011--студия\n",
            "4 турнир--разряд--финал--пара--рейтинг--открытый--открытый чемпионат--парный\n",
            "5 всё--весь--мочь--должный--друг--жизнь--бог--последний\n",
            "6 линь--лян--китайский--её--архитектура--китай--пекин--дом\n",
            "7 состав--округ--свердловский--муниципальный--образование--территория--следующий--муниципальный образование\n",
            "8 уезд--округ--специальный--специальный район--городской--состав--год уезд--городской уезд\n",
            "9 россия--российский--русский--московский--москва--история--2015--участие\n",
            "10 житомирский--код--житомирский область--2001--2001 год--перепись--год составлять--перепись 2001\n",
            "11 брак--однополый--право--мочь--россия--семейный--пара--российский\n",
            "12 турнир--раунд--выйти--чемпионат--открытый--открытый чемпионат--финал--смочь\n",
            "13 религиозный--передача--здание--организация--имущество--2010--церковь--2010 год\n",
            "14 флотилия--капитан--лейтенант--святой--корабль--порт--русский--судно\n",
            "15 крепость--станица--казак--северный--линия--уезд--войско--полка\n",
            "16 батальон--полка--полк--противник--позиция--бой--дивизия--атака\n",
            "17 книга--болезнь--язык--поведение--заболевание--история--концепция--жизнь\n",
            "18 город--городской--центр--год город--часть--житель--проведение--шведский\n",
            "19 маша--медведь--мультсериал--серия--ребёнок--её--самый--страна\n",
            "20 доктор--серия--эпизод--говорить--десятый--сериал--мочь--сезон\n",
            "21 группа--участник--состав--сингл--год группа--концерт--коллектив--выйти\n",
            "22 олимпийский--олимпийский игра--игра--летний--летний олимпийский--участие--медаль--принимать\n",
            "23 экономический--общество--вольный--россия--развитие--труд--деятельность--организация\n",
            "24 вода--фильтр--ран--2010--2010 год--россия--комиссия--виктор\n",
            "25 самолёт--км--установить--часть--полёт--крыло--двигатель--кг\n",
            "26 река--км--посёлок--расположить--берег--озеро--дорога--сельский\n",
            "27 ураган--тропический--шторм--2009--2009 год--уровень--ветер--август\n",
            "28 нансен--экспедиция--фрам--лёд--весь--команда--северный--свердруп\n",
            "29 фильм--сеть--режиссёр--сцена--марк--социальный--герой--главный\n"
          ],
          "name": "stdout"
        }
      ]
    },
    {
      "cell_type": "markdown",
      "metadata": {
        "id": "jhm0RFzZQ5IJ"
      },
      "source": [
        "### Comparing TfIdfVec models\n",
        "\n",
        "The higher number of components allows to shape even subtopics:\n",
        "\n",
        "4 турнир--разряд--финал--пара--рейтинг--открытый--открытый чемпионат--парный\n",
        "\n",
        "12 турнир--раунд--выйти--чемпионат--открытый--открытый чемпионат--финал--смочь\n",
        "\n",
        "22 олимпийский--олимпийский игра--игра--летний--летний олимпийский--участие--медаль--принимать"
      ]
    },
    {
      "cell_type": "markdown",
      "metadata": {
        "id": "qnIc80ZtQ5IJ"
      },
      "source": [
        "**Overall difference between sklearn tfidf and count models seems to be insignificant.**"
      ]
    },
    {
      "cell_type": "markdown",
      "metadata": {
        "id": "TfXurCQPQ5IJ"
      },
      "source": [
        "Generally, it looks like sklearn works faster and shapes more specific topics better than gensim. \n",
        "\n",
        "Topics likes religion, army, sports appear in all models and with all parameters"
      ]
    },
    {
      "cell_type": "markdown",
      "metadata": {
        "id": "Uq2_y0WHQ5IK"
      },
      "source": [
        ""
      ]
    }
  ]
}