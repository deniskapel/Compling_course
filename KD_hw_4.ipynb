{
 "cells": [
  {
   "cell_type": "markdown",
   "metadata": {},
   "source": [
    "# Задание 1\n",
    "Преобразуйте таблицу с абсолютными частотностями в семинарской тетрадке в таблицу с tfidf значениями. (Таблица - https://i.ibb.co/r5Nc2HC/abs-bow.jpg) Формула tfidf есть в семинаре на картнике с пояснениями на английском. \n",
    "Можно считать в google sheets, екселе, питоне или на листочке. Сделайте скрин получившейся таблицы и загрузите картинку на гитхаб, вставьте ссылку в поле ниже."
   ]
  },
  {
   "cell_type": "markdown",
   "metadata": {},
   "source": [
    "https://github.com/deniskapel/Compling_course/blob/master/Tfidf_table.PNG"
   ]
  },
  {
   "cell_type": "code",
   "execution_count": 1,
   "metadata": {},
   "outputs": [],
   "source": [
    "import pandas as pd\n",
    "from sklearn.model_selection import train_test_split\n",
    "from sklearn.feature_extraction.text import CountVectorizer, TfidfVectorizer\n",
    "\n",
    "from sklearn.linear_model import LogisticRegression\n",
    "from sklearn.tree import DecisionTreeClassifier\n",
    "from sklearn.neighbors import KNeighborsClassifier\n",
    "from sklearn.naive_bayes import MultinomialNB\n",
    "\n",
    "from sklearn.metrics import classification_report, accuracy_score\n",
    "from sklearn.metrics.pairwise import cosine_distances, cosine_similarity"
   ]
  },
  {
   "cell_type": "code",
   "execution_count": 2,
   "metadata": {},
   "outputs": [],
   "source": [
    "pd.set_option('display.max_colwidth', 500)"
   ]
  },
  {
   "cell_type": "code",
   "execution_count": 3,
   "metadata": {},
   "outputs": [],
   "source": [
    "class DatasetVectorizer():\n",
    "    \n",
    "    \"\"\" a class to vectorize a pandas dataset using one of sklearn vectorizers \"\"\"\n",
    "    def __init__(self, vec):\n",
    "        self.vectorizer = vec\n",
    "        self.data = pd.DataFrame()\n",
    "        self.train = pd.DataFrame()\n",
    "        self.test = pd.DataFrame()\n",
    "        self.X = 0\n",
    "        self.X_test = 0\n",
    "        self.y = 0\n",
    "        self.y_test = 0\n",
    "        \n",
    "    def load_data(self, path):\n",
    "        \"\"\" opens a .csv file using pandas dataframe \"\"\"\n",
    "        self.data = pd.read_csv(path)\n",
    "        \n",
    "    def train_test_split(self):\n",
    "        \"\"\" splits data using sklearn train_test_split() function \"\"\"\n",
    "        self.train, self.test = train_test_split(self.data, test_size=0.1, shuffle=True)\n",
    "        self.train.reset_index(inplace=True)\n",
    "        self.test.reset_index(inplace=True)\n",
    "        \n",
    "    def vectorizeXy(self, feature_col, value_col):\n",
    "        \"\"\" transforms a dataset into X, X_test, Y and Y_test \"\"\"\n",
    "        self.X = self.vectorizer.fit_transform(self.train[feature_col])\n",
    "        self.X_test = self.vectorizer.transform(self.test[feature_col])\n",
    "        self.y = self.train[value_col].values\n",
    "        self.y_test = self.test[value_col].values"
   ]
  },
  {
   "cell_type": "code",
   "execution_count": 4,
   "metadata": {},
   "outputs": [
    {
     "data": {
      "text/html": [
       "<div>\n",
       "<style scoped>\n",
       "    .dataframe tbody tr th:only-of-type {\n",
       "        vertical-align: middle;\n",
       "    }\n",
       "\n",
       "    .dataframe tbody tr th {\n",
       "        vertical-align: top;\n",
       "    }\n",
       "\n",
       "    .dataframe thead th {\n",
       "        text-align: right;\n",
       "    }\n",
       "</style>\n",
       "<table border=\"1\" class=\"dataframe\">\n",
       "  <thead>\n",
       "    <tr style=\"text-align: right;\">\n",
       "      <th></th>\n",
       "      <th>comment</th>\n",
       "      <th>toxic</th>\n",
       "    </tr>\n",
       "  </thead>\n",
       "  <tbody>\n",
       "    <tr>\n",
       "      <th>0</th>\n",
       "      <td>Верблюдов-то за что? Дебилы, бл...\\n</td>\n",
       "      <td>1.0</td>\n",
       "    </tr>\n",
       "    <tr>\n",
       "      <th>1</th>\n",
       "      <td>Хохлы, это отдушина затюканого россиянина, мол, вон, а у хохлов еще хуже. Если бы хохлов не было, кисель их бы придумал.\\n</td>\n",
       "      <td>1.0</td>\n",
       "    </tr>\n",
       "    <tr>\n",
       "      <th>2</th>\n",
       "      <td>Собаке - собачья смерть\\n</td>\n",
       "      <td>1.0</td>\n",
       "    </tr>\n",
       "    <tr>\n",
       "      <th>3</th>\n",
       "      <td>Страницу обнови, дебил. Это тоже не оскорбление, а доказанный факт - не-дебил про себя во множественном числе писать не будет. Или мы в тебя верим - это ты и твои воображаемые друзья?\\n</td>\n",
       "      <td>1.0</td>\n",
       "    </tr>\n",
       "    <tr>\n",
       "      <th>4</th>\n",
       "      <td>тебя не убедил 6-страничный пдф в том, что Скрипалей отравила Россия? Анализировать и думать пытаешься? Ватник что ли?)\\n</td>\n",
       "      <td>1.0</td>\n",
       "    </tr>\n",
       "  </tbody>\n",
       "</table>\n",
       "</div>"
      ],
      "text/plain": [
       "                                                                                                                                                                                     comment  \\\n",
       "0                                                                                                                                                       Верблюдов-то за что? Дебилы, бл...\\n   \n",
       "1                                                                 Хохлы, это отдушина затюканого россиянина, мол, вон, а у хохлов еще хуже. Если бы хохлов не было, кисель их бы придумал.\\n   \n",
       "2                                                                                                                                                                  Собаке - собачья смерть\\n   \n",
       "3  Страницу обнови, дебил. Это тоже не оскорбление, а доказанный факт - не-дебил про себя во множественном числе писать не будет. Или мы в тебя верим - это ты и твои воображаемые друзья?\\n   \n",
       "4                                                                  тебя не убедил 6-страничный пдф в том, что Скрипалей отравила Россия? Анализировать и думать пытаешься? Ватник что ли?)\\n   \n",
       "\n",
       "   toxic  \n",
       "0    1.0  \n",
       "1    1.0  \n",
       "2    1.0  \n",
       "3    1.0  \n",
       "4    1.0  "
      ]
     },
     "execution_count": 4,
     "metadata": {},
     "output_type": "execute_result"
    }
   ],
   "source": [
    "dv = DatasetVectorizer(TfidfVectorizer(min_df=3, max_df=0.5))\n",
    "dv.load_data('data/labeled.csv')\n",
    "dv.data.head()"
   ]
  },
  {
   "cell_type": "markdown",
   "metadata": {},
   "source": [
    "# Задание 2. \n",
    "Векторизовать можно любым способом, но постарайтесь, чтобы 1 и 0 не получались в близостях.\n",
    "Результат запишите в тетрадке.\n"
   ]
  },
  {
   "cell_type": "markdown",
   "metadata": {},
   "source": [
    "### а) Посчитайте близость между 3 и 12666 текстами в датасете (labeled.csv из семинара) "
   ]
  },
  {
   "cell_type": "code",
   "execution_count": 5,
   "metadata": {},
   "outputs": [
    {
     "data": {
      "text/html": [
       "<div>\n",
       "<style scoped>\n",
       "    .dataframe tbody tr th:only-of-type {\n",
       "        vertical-align: middle;\n",
       "    }\n",
       "\n",
       "    .dataframe tbody tr th {\n",
       "        vertical-align: top;\n",
       "    }\n",
       "\n",
       "    .dataframe thead th {\n",
       "        text-align: right;\n",
       "    }\n",
       "</style>\n",
       "<table border=\"1\" class=\"dataframe\">\n",
       "  <thead>\n",
       "    <tr style=\"text-align: right;\">\n",
       "      <th></th>\n",
       "      <th>comment</th>\n",
       "      <th>toxic</th>\n",
       "    </tr>\n",
       "  </thead>\n",
       "  <tbody>\n",
       "    <tr>\n",
       "      <th>3</th>\n",
       "      <td>Страницу обнови, дебил. Это тоже не оскорбление, а доказанный факт - не-дебил про себя во множественном числе писать не будет. Или мы в тебя верим - это ты и твои воображаемые друзья?\\n</td>\n",
       "      <td>1.0</td>\n",
       "    </tr>\n",
       "    <tr>\n",
       "      <th>12666</th>\n",
       "      <td>Это не параноик, это дебил\\n</td>\n",
       "      <td>1.0</td>\n",
       "    </tr>\n",
       "  </tbody>\n",
       "</table>\n",
       "</div>"
      ],
      "text/plain": [
       "                                                                                                                                                                                         comment  \\\n",
       "3      Страницу обнови, дебил. Это тоже не оскорбление, а доказанный факт - не-дебил про себя во множественном числе писать не будет. Или мы в тебя верим - это ты и твои воображаемые друзья?\\n   \n",
       "12666                                                                                                                                                               Это не параноик, это дебил\\n   \n",
       "\n",
       "       toxic  \n",
       "3        1.0  \n",
       "12666    1.0  "
      ]
     },
     "execution_count": 5,
     "metadata": {},
     "output_type": "execute_result"
    }
   ],
   "source": [
    "# vectorize whole dataset\n",
    "X = dv.vectorizer.fit_transform(dv.data.comment)\n",
    "dv.data.loc[[3, 12666]]"
   ]
  },
  {
   "cell_type": "code",
   "execution_count": 6,
   "metadata": {},
   "outputs": [
    {
     "name": "stdout",
     "output_type": "stream",
     "text": [
      "[[0.5290017]]\n",
      "[[0.5290017]]\n"
     ]
    }
   ],
   "source": [
    "print(1 - cosine_distances(X[3], X[12666]))\n",
    "print(cosine_similarity(X[3], X[12666]))"
   ]
  },
  {
   "cell_type": "markdown",
   "metadata": {},
   "source": [
    "### б) найдите 3 самых близких текста к тексту номер 43; выведите сами тексты и значения близостей, а не только индексы этих текстов. "
   ]
  },
  {
   "cell_type": "code",
   "execution_count": 7,
   "metadata": {},
   "outputs": [
    {
     "name": "stdout",
     "output_type": "stream",
     "text": [
      "[   43  1986 14325  5564]\n"
     ]
    }
   ],
   "source": [
    "closest = cosine_distances(X[43], X)\n",
    "print(closest.argsort()[0,:4])"
   ]
  },
  {
   "cell_type": "code",
   "execution_count": 8,
   "metadata": {},
   "outputs": [
    {
     "name": "stdout",
     "output_type": "stream",
     "text": [
      "[1.         0.20875876 0.20196174 0.1772219 ]\n"
     ]
    }
   ],
   "source": [
    "# how close\n",
    "print(1-closest[0,[43, 1986, 14325,  5564]])"
   ]
  },
  {
   "cell_type": "code",
   "execution_count": 9,
   "metadata": {
    "scrolled": true
   },
   "outputs": [
    {
     "data": {
      "text/html": [
       "<div>\n",
       "<style scoped>\n",
       "    .dataframe tbody tr th:only-of-type {\n",
       "        vertical-align: middle;\n",
       "    }\n",
       "\n",
       "    .dataframe tbody tr th {\n",
       "        vertical-align: top;\n",
       "    }\n",
       "\n",
       "    .dataframe thead th {\n",
       "        text-align: right;\n",
       "    }\n",
       "</style>\n",
       "<table border=\"1\" class=\"dataframe\">\n",
       "  <thead>\n",
       "    <tr style=\"text-align: right;\">\n",
       "      <th></th>\n",
       "      <th>comment</th>\n",
       "      <th>toxic</th>\n",
       "    </tr>\n",
       "  </thead>\n",
       "  <tbody>\n",
       "    <tr>\n",
       "      <th>43</th>\n",
       "      <td>Люди зажрались и охуели если по мнению этих игроков андромеда лучше Антема. Хотя че там с багаутом76 сравнивают вон... Вот оно че оказывается, игроки просто охуели, ну ок. Вот долбанные пидерасы, не хотят покупать такую отличную игру, а еще смеют ругать такой божественный геймплей. Баги, хуевый геймплей поправят, а контент, ну его запилят, через год другой, причем бесплатно! Ага. Стоит лишь потерпеть!\\n</td>\n",
       "      <td>1.0</td>\n",
       "    </tr>\n",
       "    <tr>\n",
       "      <th>1986</th>\n",
       "      <td>НУ И КАКАЯ МРАЗЬ КИДАЕТ ССЫЛКИ? ОХУЕЛИ ТАМ В КРАЙ УЖЕ?\\n</td>\n",
       "      <td>1.0</td>\n",
       "    </tr>\n",
       "    <tr>\n",
       "      <th>14325</th>\n",
       "      <td>Ну оль, ну вот че тебе надо? Иди в по сри, а этот достопочтенный тред оставь в покое\\n</td>\n",
       "      <td>1.0</td>\n",
       "    </tr>\n",
       "    <tr>\n",
       "      <th>5564</th>\n",
       "      <td>МАААМ, НУ ЧЕ ОНИ ЗА МНОЙ ХОДЯТ?\\n</td>\n",
       "      <td>1.0</td>\n",
       "    </tr>\n",
       "  </tbody>\n",
       "</table>\n",
       "</div>"
      ],
      "text/plain": [
       "                                                                                                                                                                                                                                                                                                                                                                                                                      comment  \\\n",
       "43     Люди зажрались и охуели если по мнению этих игроков андромеда лучше Антема. Хотя че там с багаутом76 сравнивают вон... Вот оно че оказывается, игроки просто охуели, ну ок. Вот долбанные пидерасы, не хотят покупать такую отличную игру, а еще смеют ругать такой божественный геймплей. Баги, хуевый геймплей поправят, а контент, ну его запилят, через год другой, причем бесплатно! Ага. Стоит лишь потерпеть!\\n   \n",
       "1986                                                                                                                                                                                                                                                                                                                                                                 НУ И КАКАЯ МРАЗЬ КИДАЕТ ССЫЛКИ? ОХУЕЛИ ТАМ В КРАЙ УЖЕ?\\n   \n",
       "14325                                                                                                                                                                                                                                                                                                                                  Ну оль, ну вот че тебе надо? Иди в по сри, а этот достопочтенный тред оставь в покое\\n   \n",
       "5564                                                                                                                                                                                                                                                                                                                                                                                        МАААМ, НУ ЧЕ ОНИ ЗА МНОЙ ХОДЯТ?\\n   \n",
       "\n",
       "       toxic  \n",
       "43       1.0  \n",
       "1986     1.0  \n",
       "14325    1.0  \n",
       "5564     1.0  "
      ]
     },
     "execution_count": 9,
     "metadata": {},
     "output_type": "execute_result"
    }
   ],
   "source": [
    "dv.data.loc[[43, 1986, 14325,  5564]]"
   ]
  },
  {
   "cell_type": "markdown",
   "metadata": {},
   "source": [
    "# Задание 3\n",
    "\n",
    "Обучите 2 любых разных классификатора из семинара.\n",
    "\n",
    "Предскажите токсичность для текстов из 2ch_corpus.txt (второй семинар) и найдите 10 самых токсичных для каждого из классификаторов. Сравните получаемые тексты - какие тексты совпадают, какие отличаются, правда ли тексты токсичные? *Можете предсказывать не все данные, но не менее 2500."
   ]
  },
  {
   "cell_type": "code",
   "execution_count": 10,
   "metadata": {},
   "outputs": [],
   "source": [
    "dv = DatasetVectorizer(TfidfVectorizer(min_df=5, max_df=0.4))\n",
    "dv.load_data('data/labeled.csv')\n",
    "dv.train_test_split()\n",
    "dv.vectorizeXy('comment', 'toxic')"
   ]
  },
  {
   "cell_type": "code",
   "execution_count": 11,
   "metadata": {},
   "outputs": [
    {
     "data": {
      "text/plain": [
       "(2500, 7604)"
      ]
     },
     "execution_count": 11,
     "metadata": {},
     "output_type": "execute_result"
    }
   ],
   "source": [
    "dvach = open('data/2ch_corpus.txt', encoding=\"utf-8\").readlines()[0:2500]\n",
    "dvach_vec = dv.vectorizer.transform(dvach)\n",
    "dvach_vec.shape"
   ]
  },
  {
   "cell_type": "markdown",
   "metadata": {},
   "source": [
    "### LogisticRegression"
   ]
  },
  {
   "cell_type": "code",
   "execution_count": 12,
   "metadata": {},
   "outputs": [
    {
     "name": "stdout",
     "output_type": "stream",
     "text": [
      "              precision    recall  f1-score   support\n",
      "\n",
      "         0.0       0.90      0.87      0.88       938\n",
      "         1.0       0.77      0.81      0.79       504\n",
      "\n",
      "    accuracy                           0.85      1442\n",
      "   macro avg       0.83      0.84      0.84      1442\n",
      "weighted avg       0.85      0.85      0.85      1442\n",
      "\n"
     ]
    }
   ],
   "source": [
    "lr = LogisticRegression(C=1, class_weight='balanced')\n",
    "lr.fit(dv.X, dv.y) # create a model\n",
    "preds = lr.predict(dv.X_test)\n",
    "print(classification_report(dv.y_test, preds))"
   ]
  },
  {
   "cell_type": "code",
   "execution_count": 15,
   "metadata": {},
   "outputs": [
    {
     "data": {
      "text/plain": [
       "array([[0.844838  , 0.155162  ],\n",
       "       [0.84355221, 0.15644779],\n",
       "       [0.4727683 , 0.5272317 ],\n",
       "       ...,\n",
       "       [0.07061404, 0.92938596],\n",
       "       [0.66437344, 0.33562656],\n",
       "       [0.83338751, 0.16661249]])"
      ]
     },
     "execution_count": 15,
     "metadata": {},
     "output_type": "execute_result"
    }
   ],
   "source": [
    "probas = lr.predict_proba(dv.X_test)\n",
    "probas"
   ]
  },
  {
   "cell_type": "code",
   "execution_count": 14,
   "metadata": {},
   "outputs": [
    {
     "name": "stdout",
     "output_type": "stream",
     "text": [
      "              precision    recall  f1-score   support\n",
      "\n",
      "         0.0       0.84      0.95      0.89       938\n",
      "         1.0       0.87      0.66      0.75       504\n",
      "\n",
      "    accuracy                           0.85      1442\n",
      "   macro avg       0.85      0.80      0.82      1442\n",
      "weighted avg       0.85      0.85      0.84      1442\n",
      "\n"
     ]
    }
   ],
   "source": [
    "# check if probability of class 2 is higher than a given threshold\n",
    "preds = (probas[:,1]>0.60).astype(int) \n",
    "print(classification_report(dv.y_test, preds))"
   ]
  },
  {
   "cell_type": "code",
   "execution_count": 16,
   "metadata": {},
   "outputs": [
    {
     "name": "stdout",
     "output_type": "stream",
     "text": [
      "(2500,) (2500, 2)\n"
     ]
    }
   ],
   "source": [
    "dvach_preds_lr = lr.predict(dvach_vec)\n",
    "dvach_probas_lr = lr.predict_proba(dvach_vec)\n",
    "print(dvach_preds_lr.shape, dvach_probas_lr.shape)"
   ]
  },
  {
   "cell_type": "code",
   "execution_count": 17,
   "metadata": {},
   "outputs": [],
   "source": [
    "dvach_lr_labeled = pd.DataFrame({\"comment\": dvach, 'toxic': dvach_preds_lr, 'prob_tox' : dvach_probas_lr[:, 1]})"
   ]
  },
  {
   "cell_type": "markdown",
   "metadata": {},
   "source": [
    "### DecisionTreeClassifier"
   ]
  },
  {
   "cell_type": "code",
   "execution_count": 18,
   "metadata": {},
   "outputs": [
    {
     "name": "stdout",
     "output_type": "stream",
     "text": [
      "              precision    recall  f1-score   support\n",
      "\n",
      "         0.0       0.83      0.70      0.76       938\n",
      "         1.0       0.57      0.74      0.64       504\n",
      "\n",
      "    accuracy                           0.71      1442\n",
      "   macro avg       0.70      0.72      0.70      1442\n",
      "weighted avg       0.74      0.71      0.72      1442\n",
      "\n"
     ]
    }
   ],
   "source": [
    "dt = DecisionTreeClassifier(max_depth=100, class_weight='balanced')\n",
    "dt.fit(dv.X, dv.y)\n",
    "preds = dt.predict(dv.X_test)\n",
    "\n",
    "print(classification_report(dv.y_test, preds))"
   ]
  },
  {
   "cell_type": "code",
   "execution_count": 21,
   "metadata": {},
   "outputs": [
    {
     "data": {
      "text/plain": [
       "array([[1., 0.],\n",
       "       [1., 0.],\n",
       "       [1., 0.],\n",
       "       ...,\n",
       "       [0., 1.],\n",
       "       [1., 0.],\n",
       "       [1., 0.]])"
      ]
     },
     "execution_count": 21,
     "metadata": {},
     "output_type": "execute_result"
    }
   ],
   "source": [
    "probas = dt.predict_proba(dv.X_test)\n",
    "probas"
   ]
  },
  {
   "cell_type": "code",
   "execution_count": 20,
   "metadata": {},
   "outputs": [
    {
     "name": "stdout",
     "output_type": "stream",
     "text": [
      "              precision    recall  f1-score   support\n",
      "\n",
      "         0.0       0.83      0.70      0.76       938\n",
      "         1.0       0.57      0.74      0.64       504\n",
      "\n",
      "    accuracy                           0.71      1442\n",
      "   macro avg       0.70      0.72      0.70      1442\n",
      "weighted avg       0.74      0.71      0.72      1442\n",
      "\n"
     ]
    }
   ],
   "source": [
    "# check if probability of class 2 is higher than a given threshold\n",
    "preds = (probas[:,1]>0.5630).astype(int) \n",
    "print(classification_report(dv.y_test, preds))"
   ]
  },
  {
   "cell_type": "markdown",
   "metadata": {},
   "source": [
    "Предскажите токсичность для текстов из 2ch_corpus.txt (второй семинар) и найдите 10 самых токсичных для каждого из классификаторов. Сравните получаемые тексты - какие тексты совпадают, какие отличаются, правда ли тексты токсичные?\n",
    "*Можете предсказывать не все данные, но не менее 2500."
   ]
  },
  {
   "cell_type": "code",
   "execution_count": 22,
   "metadata": {},
   "outputs": [
    {
     "name": "stdout",
     "output_type": "stream",
     "text": [
      "(2500,) (2500, 2)\n"
     ]
    }
   ],
   "source": [
    "dvach_preds_dt = dt.predict(dvach_vec)\n",
    "dvach_probas_dt = dt.predict_proba(dvach_vec)\n",
    "print(dvach_preds_dt.shape, dvach_probas_dt.shape)"
   ]
  },
  {
   "cell_type": "code",
   "execution_count": 23,
   "metadata": {},
   "outputs": [],
   "source": [
    "dvach_dt_labeled = pd.DataFrame({\"comment\": dvach, 'toxic': dvach_preds_dt, 'prob_tox' : dvach_probas_dt[:, 1]})"
   ]
  },
  {
   "cell_type": "markdown",
   "metadata": {},
   "source": [
    "Сравните получаемые тексты - какие тексты совпадают, какие отличаются, правда ли тексты токсичные?"
   ]
  },
  {
   "cell_type": "code",
   "execution_count": 24,
   "metadata": {},
   "outputs": [
    {
     "data": {
      "text/html": [
       "<div>\n",
       "<style scoped>\n",
       "    .dataframe tbody tr th:only-of-type {\n",
       "        vertical-align: middle;\n",
       "    }\n",
       "\n",
       "    .dataframe tbody tr th {\n",
       "        vertical-align: top;\n",
       "    }\n",
       "\n",
       "    .dataframe thead th {\n",
       "        text-align: right;\n",
       "    }\n",
       "</style>\n",
       "<table border=\"1\" class=\"dataframe\">\n",
       "  <thead>\n",
       "    <tr style=\"text-align: right;\">\n",
       "      <th></th>\n",
       "      <th>comment</th>\n",
       "      <th>toxic</th>\n",
       "      <th>prob_tox</th>\n",
       "    </tr>\n",
       "  </thead>\n",
       "  <tbody>\n",
       "    <tr>\n",
       "      <th>87</th>\n",
       "      <td>Ты превращаешься в Суисейсеки, десу.\\n</td>\n",
       "      <td>1.0</td>\n",
       "      <td>0.999150</td>\n",
       "    </tr>\n",
       "    <tr>\n",
       "      <th>271</th>\n",
       "      <td>&gt;ElixirНу ты и говноед.\\n</td>\n",
       "      <td>1.0</td>\n",
       "      <td>0.999150</td>\n",
       "    </tr>\n",
       "    <tr>\n",
       "      <th>2463</th>\n",
       "      <td>Крысу ты разделовал?\\n</td>\n",
       "      <td>1.0</td>\n",
       "      <td>0.999150</td>\n",
       "    </tr>\n",
       "    <tr>\n",
       "      <th>118</th>\n",
       "      <td>оуоуоуо уча уча уча аиавивива ну ты ну ты ну ты ВИЧУУУУУУУУУУУУУУУУУХА\\n</td>\n",
       "      <td>1.0</td>\n",
       "      <td>0.996437</td>\n",
       "    </tr>\n",
       "    <tr>\n",
       "      <th>938</th>\n",
       "      <td>Ебать ты юморист донный.\\n</td>\n",
       "      <td>1.0</td>\n",
       "      <td>0.995942</td>\n",
       "    </tr>\n",
       "    <tr>\n",
       "      <th>1775</th>\n",
       "      <td>Кто подданный? Ты подданый, ёпт. Здравствуй.\\n</td>\n",
       "      <td>1.0</td>\n",
       "      <td>0.993945</td>\n",
       "    </tr>\n",
       "    <tr>\n",
       "      <th>2036</th>\n",
       "      <td>Ты зацени какой подклад на пиджаке\\n</td>\n",
       "      <td>1.0</td>\n",
       "      <td>0.993906</td>\n",
       "    </tr>\n",
       "    <tr>\n",
       "      <th>1489</th>\n",
       "      <td>И нахуй ты это ему написал?\\n</td>\n",
       "      <td>1.0</td>\n",
       "      <td>0.992868</td>\n",
       "    </tr>\n",
       "    <tr>\n",
       "      <th>1760</th>\n",
       "      <td>Просто ты скучный и предсказуемый.\\n</td>\n",
       "      <td>1.0</td>\n",
       "      <td>0.992781</td>\n",
       "    </tr>\n",
       "    <tr>\n",
       "      <th>898</th>\n",
       "      <td>Ты просто феерический счетовод.\\n</td>\n",
       "      <td>1.0</td>\n",
       "      <td>0.992781</td>\n",
       "    </tr>\n",
       "  </tbody>\n",
       "</table>\n",
       "</div>"
      ],
      "text/plain": [
       "                                                                        comment  \\\n",
       "87                                       Ты превращаешься в Суисейсеки, десу.\\n   \n",
       "271                                                   >ElixirНу ты и говноед.\\n   \n",
       "2463                                                     Крысу ты разделовал?\\n   \n",
       "118    оуоуоуо уча уча уча аиавивива ну ты ну ты ну ты ВИЧУУУУУУУУУУУУУУУУУХА\\n   \n",
       "938                                                  Ебать ты юморист донный.\\n   \n",
       "1775                             Кто подданный? Ты подданый, ёпт. Здравствуй.\\n   \n",
       "2036                                       Ты зацени какой подклад на пиджаке\\n   \n",
       "1489                                              И нахуй ты это ему написал?\\n   \n",
       "1760                                       Просто ты скучный и предсказуемый.\\n   \n",
       "898                                           Ты просто феерический счетовод.\\n   \n",
       "\n",
       "      toxic  prob_tox  \n",
       "87      1.0  0.999150  \n",
       "271     1.0  0.999150  \n",
       "2463    1.0  0.999150  \n",
       "118     1.0  0.996437  \n",
       "938     1.0  0.995942  \n",
       "1775    1.0  0.993945  \n",
       "2036    1.0  0.993906  \n",
       "1489    1.0  0.992868  \n",
       "1760    1.0  0.992781  \n",
       "898     1.0  0.992781  "
      ]
     },
     "execution_count": 24,
     "metadata": {},
     "output_type": "execute_result"
    }
   ],
   "source": [
    "dvach_lr_labeled.sort_values('prob_tox',ascending=False).head(10)"
   ]
  },
  {
   "cell_type": "code",
   "execution_count": 25,
   "metadata": {},
   "outputs": [
    {
     "data": {
      "text/html": [
       "<div>\n",
       "<style scoped>\n",
       "    .dataframe tbody tr th:only-of-type {\n",
       "        vertical-align: middle;\n",
       "    }\n",
       "\n",
       "    .dataframe tbody tr th {\n",
       "        vertical-align: top;\n",
       "    }\n",
       "\n",
       "    .dataframe thead th {\n",
       "        text-align: right;\n",
       "    }\n",
       "</style>\n",
       "<table border=\"1\" class=\"dataframe\">\n",
       "  <thead>\n",
       "    <tr style=\"text-align: right;\">\n",
       "      <th></th>\n",
       "      <th>comment</th>\n",
       "      <th>toxic</th>\n",
       "      <th>prob_tox</th>\n",
       "    </tr>\n",
       "  </thead>\n",
       "  <tbody>\n",
       "    <tr>\n",
       "      <th>1250</th>\n",
       "      <td>Я понимаю, что тебя пидорасит, это нормально. У самого пару раз бывало. Сиди дома, попробуй уснуть. Тебе врачи то же самое скажут.\\n</td>\n",
       "      <td>1.0</td>\n",
       "      <td>1.0</td>\n",
       "    </tr>\n",
       "    <tr>\n",
       "      <th>1397</th>\n",
       "      <td>Сколько по времени? Нервная ткань же не восстанавливается?\\n</td>\n",
       "      <td>1.0</td>\n",
       "      <td>1.0</td>\n",
       "    </tr>\n",
       "    <tr>\n",
       "      <th>2246</th>\n",
       "      <td>Сказал двачер, который сдохнет в 30 лет в нищете от инфаркта\\n</td>\n",
       "      <td>1.0</td>\n",
       "      <td>1.0</td>\n",
       "    </tr>\n",
       "    <tr>\n",
       "      <th>678</th>\n",
       "      <td>&gt;сцука &gt;сц&gt; убейся апстенку кококо Шло бы ты в свои контакты, хуйло из 2005\\n</td>\n",
       "      <td>1.0</td>\n",
       "      <td>1.0</td>\n",
       "    </tr>\n",
       "    <tr>\n",
       "      <th>680</th>\n",
       "      <td>ты дибил 76 мест в обеих кружках на 56 человек, только 56 могут ходить в один кружок остальные 20 в 2 кружка одновременно, если нет места лишнего ни для кого потому что по условию сцука 28 и 48 \\n</td>\n",
       "      <td>1.0</td>\n",
       "      <td>1.0</td>\n",
       "    </tr>\n",
       "    <tr>\n",
       "      <th>1957</th>\n",
       "      <td>Будь я крутым парнем, то тоже бы Дорна слушал.\\n</td>\n",
       "      <td>1.0</td>\n",
       "      <td>1.0</td>\n",
       "    </tr>\n",
       "    <tr>\n",
       "      <th>682</th>\n",
       "      <td>Учеников всего 56. 28 ходят на шахматы, значит 56-28=28 - точно не ходят на шахматы. 48 ходят на танцы, значит 56 - 48 = 8 - точно не ходят на танцы. 28+8=36 - кол-во, которое точно посещает один из двух кружков, но не два одновременно. 56-36 = 20 - кол-во учеников, которые ходят на два кружка одновременно.\\n</td>\n",
       "      <td>1.0</td>\n",
       "      <td>1.0</td>\n",
       "    </tr>\n",
       "    <tr>\n",
       "      <th>683</th>\n",
       "      <td>Иди на хуй дурбецело. В задаче нет этих условий, а значит ходят все.\\n</td>\n",
       "      <td>1.0</td>\n",
       "      <td>1.0</td>\n",
       "    </tr>\n",
       "    <tr>\n",
       "      <th>1403</th>\n",
       "      <td>Скорость выведения токсинов и их захват. Вообще по-разному, на вкус и цвет. Мне привычнее глотать таблетки, чем гель в воде.\\n</td>\n",
       "      <td>1.0</td>\n",
       "      <td>1.0</td>\n",
       "    </tr>\n",
       "    <tr>\n",
       "      <th>1401</th>\n",
       "      <td>Живот болит+температура+лейкоцитоз=эмоциональный стресс, ну ты и еблааан (хирург кун)\\n</td>\n",
       "      <td>1.0</td>\n",
       "      <td>1.0</td>\n",
       "    </tr>\n",
       "  </tbody>\n",
       "</table>\n",
       "</div>"
      ],
      "text/plain": [
       "                                                                                                                                                                                                                                                                                                                      comment  \\\n",
       "1250                                                                                                                                                                                     Я понимаю, что тебя пидорасит, это нормально. У самого пару раз бывало. Сиди дома, попробуй уснуть. Тебе врачи то же самое скажут.\\n   \n",
       "1397                                                                                                                                                                                                                                                             Сколько по времени? Нервная ткань же не восстанавливается?\\n   \n",
       "2246                                                                                                                                                                                                                                                           Сказал двачер, который сдохнет в 30 лет в нищете от инфаркта\\n   \n",
       "678                                                                                                                                                                                                                                             >сцука >сц> убейся апстенку кококо Шло бы ты в свои контакты, хуйло из 2005\\n   \n",
       "680                                                                                                                      ты дибил 76 мест в обеих кружках на 56 человек, только 56 могут ходить в один кружок остальные 20 в 2 кружка одновременно, если нет места лишнего ни для кого потому что по условию сцука 28 и 48 \\n   \n",
       "1957                                                                                                                                                                                                                                                                         Будь я крутым парнем, то тоже бы Дорна слушал.\\n   \n",
       "682    Учеников всего 56. 28 ходят на шахматы, значит 56-28=28 - точно не ходят на шахматы. 48 ходят на танцы, значит 56 - 48 = 8 - точно не ходят на танцы. 28+8=36 - кол-во, которое точно посещает один из двух кружков, но не два одновременно. 56-36 = 20 - кол-во учеников, которые ходят на два кружка одновременно.\\n   \n",
       "683                                                                                                                                                                                                                                                    Иди на хуй дурбецело. В задаче нет этих условий, а значит ходят все.\\n   \n",
       "1403                                                                                                                                                                                           Скорость выведения токсинов и их захват. Вообще по-разному, на вкус и цвет. Мне привычнее глотать таблетки, чем гель в воде.\\n   \n",
       "1401                                                                                                                                                                                                                                  Живот болит+температура+лейкоцитоз=эмоциональный стресс, ну ты и еблааан (хирург кун)\\n   \n",
       "\n",
       "      toxic  prob_tox  \n",
       "1250    1.0       1.0  \n",
       "1397    1.0       1.0  \n",
       "2246    1.0       1.0  \n",
       "678     1.0       1.0  \n",
       "680     1.0       1.0  \n",
       "1957    1.0       1.0  \n",
       "682     1.0       1.0  \n",
       "683     1.0       1.0  \n",
       "1403    1.0       1.0  \n",
       "1401    1.0       1.0  "
      ]
     },
     "execution_count": 25,
     "metadata": {},
     "output_type": "execute_result"
    }
   ],
   "source": [
    "dvach_dt_labeled.sort_values('prob_tox',ascending=False).head(10)"
   ]
  },
  {
   "cell_type": "markdown",
   "metadata": {},
   "source": [
    "Пересечений в топ-10 не надблюдается, предсказание чуть лучше работает на модели линейной регрессии."
   ]
  }
 ],
 "metadata": {
  "kernelspec": {
   "display_name": "Python 3",
   "language": "python",
   "name": "python3"
  },
  "language_info": {
   "codemirror_mode": {
    "name": "ipython",
    "version": 3
   },
   "file_extension": ".py",
   "mimetype": "text/x-python",
   "name": "python",
   "nbconvert_exporter": "python",
   "pygments_lexer": "ipython3",
   "version": "3.8.2"
  }
 },
 "nbformat": 4,
 "nbformat_minor": 4
}
