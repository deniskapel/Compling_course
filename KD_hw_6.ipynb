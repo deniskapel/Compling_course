{
 "cells": [
  {
   "cell_type": "markdown",
   "id": "painted-window",
   "metadata": {},
   "source": [
    "# Gensim"
   ]
  },
  {
   "cell_type": "markdown",
   "id": "latest-monitoring",
   "metadata": {},
   "source": [
    "## Preprocess texts"
   ]
  },
  {
   "cell_type": "code",
   "execution_count": 1,
   "id": "extended-conflict",
   "metadata": {},
   "outputs": [],
   "source": [
    "import gensim\n",
    "import json\n",
    "import re\n",
    "import pandas as pd\n",
    "from nltk.tokenize import word_tokenize\n",
    "from nltk.corpus import stopwords\n",
    "from pymorphy2 import MorphAnalyzer\n",
    "import pyLDAvis.gensim\n",
    "import string\n",
    "from collections import Counter\n",
    "import warnings\n",
    "warnings.filterwarnings(\"ignore\")\n",
    "from IPython.display import Image\n",
    "from IPython.core.display import HTML \n",
    "morph = MorphAnalyzer()"
   ]
  },
  {
   "cell_type": "code",
   "execution_count": 2,
   "id": "opening-differential",
   "metadata": {},
   "outputs": [],
   "source": [
    "stops = set(stopwords.words('russian'))"
   ]
  },
  {
   "cell_type": "markdown",
   "id": "still-mission",
   "metadata": {},
   "source": [
    "Normalizing texts"
   ]
  },
  {
   "cell_type": "code",
   "execution_count": 3,
   "id": "psychological-reserve",
   "metadata": {},
   "outputs": [],
   "source": [
    "class TextNormalizer():\n",
    "    \n",
    "    # Class for fast text-normalization\n",
    "        \n",
    "    def opt_normalize(self, texts, top=None) -> list:\n",
    "        \n",
    "        texts = self.tokenize_texts(texts)\n",
    "        \n",
    "        uniq = Counter()\n",
    "        [uniq.update(text) for text in texts]\n",
    "\n",
    "        norm_uniq = { # build cache\n",
    "            word:morph.parse(\n",
    "                word\n",
    "            )[0].normal_form for word, _ in uniq.most_common(top)}\n",
    "\n",
    "        norm_texts = self.normalize_texts(texts, norm_uniq)\n",
    "        \n",
    "        return norm_texts\n",
    "    \n",
    "    def tokenize_texts(self, texts):\n",
    "        \"\"\" a text tokenizer for a list of texts \"\"\"\n",
    "        return ([self.tokenize(text.lower()) for text in texts])\n",
    "\n",
    "\n",
    "    def tokenize(self, text) -> list:\n",
    "        \"\"\" a single text tokenizer \"\"\"\n",
    "        punct = string.punctuation + '«»—…–“”#'\n",
    "        words = [word.strip(punct) for word in text.split()]\n",
    "        words = [word for word in words if word]\n",
    "\n",
    "        return words\n",
    "    \n",
    "    def normalize_texts(self, texts, norm_uniq) -> list:\n",
    "        \"\"\" returns lemmas and removes stopwords and punctuation \"\"\"\n",
    "        norm_texts = []\n",
    "        for text in texts:\n",
    "            # lemmas from cashe\n",
    "            norm_words = [norm_uniq.get(word) for word in text]\n",
    "            #remove punctuation\n",
    "            \n",
    "            norm_words = [word for word in norm_words if (\n",
    "                word) and (word not in stops)]\n",
    "            norm_texts.append(norm_words)\n",
    "\n",
    "        return norm_texts"
   ]
  },
  {
   "cell_type": "code",
   "execution_count": 4,
   "id": "inclusive-bacon",
   "metadata": {},
   "outputs": [],
   "source": [
    "texts = open('data/wiki_data.txt').read().splitlines()[:10000]"
   ]
  },
  {
   "cell_type": "code",
   "execution_count": 6,
   "id": "driven-satin",
   "metadata": {},
   "outputs": [
    {
     "name": "stdout",
     "output_type": "stream",
     "text": [
      "CPU times: user 2.32 s, sys: 78.9 ms, total: 2.4 s\n",
      "Wall time: 2.39 s\n"
     ]
    }
   ],
   "source": [
    "%%time\n",
    "texts = TextNormalizer().opt_normalize(texts, 30000)"
   ]
  },
  {
   "cell_type": "code",
   "execution_count": 7,
   "id": "previous-casting",
   "metadata": {},
   "outputs": [
    {
     "data": {
      "text/plain": [
       "['нижегородский', 'сельский', 'посёлок', 'район', 'нижегородский']"
      ]
     },
     "execution_count": 7,
     "metadata": {},
     "output_type": "execute_result"
    }
   ],
   "source": [
    "texts[0][:5]"
   ]
  },
  {
   "cell_type": "markdown",
   "id": "interior-accommodation",
   "metadata": {},
   "source": [
    "build ngrams"
   ]
  },
  {
   "cell_type": "code",
   "execution_count": 7,
   "id": "unlikely-surface",
   "metadata": {},
   "outputs": [],
   "source": [
    "# play around with threshold\n",
    "ph = gensim.models.Phrases(texts, scoring='npmi', threshold=0.45)\n",
    "p = gensim.models.phrases.Phraser(ph)\n",
    "ngrammed_texts = p[texts]"
   ]
  },
  {
   "cell_type": "markdown",
   "id": "jewish-thompson",
   "metadata": {},
   "source": [
    "# Build dictionary for models"
   ]
  },
  {
   "cell_type": "code",
   "execution_count": 57,
   "id": "temporal-consortium",
   "metadata": {},
   "outputs": [
    {
     "name": "stdout",
     "output_type": "stream",
     "text": [
      "Dictionary(6846 unique tokens: ['1', '1,2', '1,5', '12', '14']...)\n"
     ]
    }
   ],
   "source": [
    "dictionary = gensim.corpora.Dictionary(texts)\n",
    "dictionary.filter_extremes(no_above=0.2, no_below=15)\n",
    "dictionary.compactify()\n",
    "print(dictionary)"
   ]
  },
  {
   "cell_type": "markdown",
   "id": "given-cancellation",
   "metadata": {},
   "source": [
    "transform to corpora"
   ]
  },
  {
   "cell_type": "markdown",
   "id": "golden-accounting",
   "metadata": {},
   "source": [
    "### No TfIdf"
   ]
  },
  {
   "cell_type": "code",
   "execution_count": 58,
   "id": "nominated-luxury",
   "metadata": {},
   "outputs": [],
   "source": [
    "corpus = [dictionary.doc2bow(text) for text in texts]"
   ]
  },
  {
   "cell_type": "code",
   "execution_count": 11,
   "id": "fiscal-aerospace",
   "metadata": {
    "scrolled": false
   },
   "outputs": [],
   "source": [
    "lda1 = gensim.models.LdaMulticore(corpus,\n",
    "                                 100,\n",
    "                                 id2word=dictionary,\n",
    "                                 passes=7)\n",
    "\n",
    "lda1.save('data/models/lda1/lda1.model')"
   ]
  },
  {
   "cell_type": "code",
   "execution_count": 17,
   "id": "spread-arrow",
   "metadata": {},
   "outputs": [],
   "source": [
    "lda2 = gensim.models.LdaMulticore(corpus,\n",
    "                                 50,\n",
    "                                 id2word=dictionary,\n",
    "                                 passes=10)\n",
    "\n",
    "lda2.save('data/models/lda2/lda.model')"
   ]
  },
  {
   "cell_type": "code",
   "execution_count": 18,
   "id": "existing-hours",
   "metadata": {},
   "outputs": [],
   "source": [
    "lda3 = gensim.models.LdaMulticore(corpus,\n",
    "                                 150,\n",
    "                                 id2word=dictionary,\n",
    "                                 passes=5)\n",
    "\n",
    "lda3.save('data/models/lda3/lda.model')"
   ]
  },
  {
   "cell_type": "markdown",
   "id": "marked-mechanism",
   "metadata": {},
   "source": [
    "### With TfIdf"
   ]
  },
  {
   "cell_type": "code",
   "execution_count": 10,
   "id": "normal-meaning",
   "metadata": {},
   "outputs": [],
   "source": [
    "tfidf = gensim.models.TfidfModel(corpus, id2word=dictionary)\n",
    "tfidf_corpus = tfidf[corpus]"
   ]
  },
  {
   "cell_type": "code",
   "execution_count": 12,
   "id": "verbal-tampa",
   "metadata": {},
   "outputs": [],
   "source": [
    "tfidf_lda1 = gensim.models.LdaMulticore(tfidf_corpus,\n",
    "                                 100,\n",
    "                                 id2word=dictionary,\n",
    "                                 passes=7)\n",
    "\n",
    "tfidf_lda1.save('data/models/tfidf_lda1/tfidf_lda.model')"
   ]
  },
  {
   "cell_type": "code",
   "execution_count": 13,
   "id": "stunning-sauce",
   "metadata": {},
   "outputs": [],
   "source": [
    "tfidf_lda2 = gensim.models.LdaMulticore(tfidf_corpus,\n",
    "                                 50,\n",
    "                                 id2word=dictionary,\n",
    "                                 passes=10)\n",
    "\n",
    "tfidf_lda2.save('data/models/tfidf_lda2/tfidf_lda.model')"
   ]
  },
  {
   "cell_type": "code",
   "execution_count": 14,
   "id": "perfect-tyler",
   "metadata": {},
   "outputs": [],
   "source": [
    "tfidf_lda3 = gensim.models.LdaMulticore(tfidf_corpus,\n",
    "                                 150,\n",
    "                                 id2word=dictionary,\n",
    "                                 passes=5)\n",
    "\n",
    "tfidf_lda3.save('data/models/tfidf_lda3/tfidf_lda.model')"
   ]
  },
  {
   "cell_type": "markdown",
   "id": "sharp-reducing",
   "metadata": {},
   "source": [
    "### compare models"
   ]
  },
  {
   "cell_type": "code",
   "execution_count": 17,
   "id": "funny-oklahoma",
   "metadata": {},
   "outputs": [],
   "source": [
    "# load models\n",
    "model1 = gensim.models.LdaModel.load(\n",
    "    'data/models/lda1/lda1.model')\n",
    "model2 = gensim.models.LdaModel.load(\n",
    "    'data/models/lda2/lda.model')\n",
    "model3 = gensim.models.LdaModel.load(\n",
    "    'data/models/lda3/lda.model')\n",
    "tfidf1 = gensim.models.LdaModel.load(\n",
    "    'data/models/tfidf_lda1/tfidf_lda.model')\n",
    "tfidf2 = gensim.models.LdaModel.load(\n",
    "    'data/models/tfidf_lda2/tfidf_lda.model')\n",
    "tfidf3 = gensim.models.LdaModel.load(\n",
    "    'data/models/tfidf_lda3/tfidf_lda.model')"
   ]
  },
  {
   "cell_type": "code",
   "execution_count": 50,
   "id": "dental-bronze",
   "metadata": {},
   "outputs": [],
   "source": [
    "def get_topics(model):\n",
    "    topics = []\n",
    "    for id, topic in model.show_topics(num_topics=30, formatted=False):\n",
    "        topic = [word for word, _ in topic]\n",
    "        topic.insert(0, str(id))\n",
    "        topics.append(topic)\n",
    "    \n",
    "    return topics"
   ]
  },
  {
   "cell_type": "code",
   "execution_count": 51,
   "id": "worth-float",
   "metadata": {},
   "outputs": [],
   "source": [
    "topics1 = get_topics(model1)\n",
    "topics2 = get_topics(model2)\n",
    "topics3 = get_topics(model3)\n",
    "topics4 = get_topics(tfidf1)\n",
    "topics5 = get_topics(tfidf2)\n",
    "topics6 = get_topics(tfidf3)"
   ]
  },
  {
   "cell_type": "code",
   "execution_count": 52,
   "id": "devoted-metabolism",
   "metadata": {
    "scrolled": false
   },
   "outputs": [
    {
     "name": "stdout",
     "output_type": "stream",
     "text": [
      "73 памятник ростовский хутор культура история объект церковь культурный n наследие\n",
      "93 упражнение ян филиппина серебряный ботсвана джованни рой даваться венеция ребёнок\n",
      "8 чёрный флаг белый пешка король поле ход красный цвет сторона\n",
      "74 строительство проект новый город рубль работа мост здание проведение 2010\n",
      "50 марка почтовый финляндия почта выпуск марк финский остров надпись рисунок\n",
      "28 церковь епархия епископ рог 1-й 1-2-й участник команда lotus век\n",
      "65 житомирский украина 2001 перепись код площадь почтовый р-н индекс телефонный\n",
      "25 звезда бразилия b собака обсерватория срок планета 2009 геологический порода\n",
      "39 компания версия система программа игра разработка windows мочь поддержка использовать\n",
      "66 война торговля союз договор город гитлер купец торговый товар москва\n",
      "3 клуб храм икона футбольный церковь стадион сезон кубок город дивизион\n",
      "78 паровоз адам польша вместе павел дорога вальтер немецкий война март\n",
      "15 город население центр состав деревня житель территория расположить век название\n",
      "52 российский медведь россия мультсериал министерство федерация государственный директор флотилия дума\n",
      "63 князь иван александр владимир великий русский сын василий михаил московский\n",
      "48 лагерь заключить свидетель святой её слово концлагерь кндр лагер октябрь\n",
      "60 цвет символ герб полотнище город муниципальный российский флаг символизировать ширина\n",
      "7 1937 университет январь 1930 май 1925 родиться декабрь март 1932\n",
      "5 wwe титул шоу длина смотреть мм поединок бой келли острый\n",
      "35 список двигатель автомобиль женщина новый модель л женский искусство дата\n",
      "58 житомирский емильчинский население тело коатуа перепись площадь код 2001 р-н\n",
      "69 река посёлок станция км дорога берег расположить железнодорожный город озеро\n",
      "77 войско армия город фронт противник операция бой наступление часть январь\n",
      "87 мочь являться иметь весь форма однако группа вид век часть\n",
      "80 компания вагон производство тип новый иметь получить лодка авиакомпания модель\n",
      "82 канадский операция наступление немецкий литва город девушка август клиент пройти\n",
      "31 военный эксперимент космический частица данные база израиль заместитель поток округ\n",
      "30 уезд округ городской специальный состав империя город провинция преобразовать переименовать\n",
      "16 альбом песня группа the выпустить сингл of записать 2009 новый\n",
      "13 мозг клетка бельгия генри марк де пациент известный 2 среди\n"
     ]
    }
   ],
   "source": [
    "for topic in topics1: # regular lda 100x7\n",
    "    print(\" \".join(topic))"
   ]
  },
  {
   "cell_type": "code",
   "execution_count": 53,
   "id": "incident-calendar",
   "metadata": {},
   "outputs": [
    {
     "name": "stdout",
     "output_type": "stream",
     "text": [
      "31 фильм сын роль граф брат смерть дочь i отец её\n",
      "26 г н м п русский газета москва александр л кладбище\n",
      "40 клуб матч команда сезон сборная состав лига провести чемпионат забить\n",
      "46 автомобиль модель подвеска система иметь двигатель новый колесо задний версия\n",
      "21 здание дом построить вода проект строительство завод станция новый город\n",
      "28 мочь являться система иметь использовать весь использоваться вид число например\n",
      "44 турнир чемпионат мир сезон команда победа выиграть матч проиграть финал\n",
      "16 суд закон право дело гражданин латвия решение судебный сельсовет верховный\n",
      "43 город век герб часть слово цвет язык название племя белый\n",
      "48 россия улица москва день предприятие площадь украина город сергей дом\n",
      "45 флаг цвет социальный полотнище красный символ российский ширина полоса обеспечение\n",
      "32 пешка король окончание ферзь позиция блюдо сторона мясо поле белый\n",
      "23 река библиотека бассейн фестиваль расположить приток начало впадать число территория\n",
      "24 город войско часть армия река противник км бой дивизия фронт\n",
      "13 партия президент политический правительство страна организация национальный выборы министр совет\n",
      "39 экипаж станция финал азербайджан 6 хороший проходить место следующий тренер\n",
      "0 уезд округ городской км специальный состав расстояние расположить население город\n",
      "7 доктор фильм эпизод хороший премия серия смит весь канал мочь\n",
      "41 улица название оружие робот переулок сторона метро часть москва проходить\n",
      "10 её всё жизнь новый сезон сериал весь серия друг пытаться\n",
      "22 вид семейство растение тело часть подсемейство северный около являться некоторый\n",
      "35 самолёт корабль боевой флот лодка морской состав советский подводный война\n",
      "36 компания мост город дорога железнодорожный железный линия строительство аэропорт работа\n",
      "8 музей искусство художник век работа выставка произведение картина художественный современный\n",
      "42 храм церковь озеро расположить коммуна часть монастырь построить берег норвегия\n",
      "4 олимпийский игра летний участие медаль принимать завоевать история зимний страна\n",
      "19 университет институт г работать школа факультет работа государственный профессор окончить\n",
      "9 сельский хутор посёлок поселение ростовский центр км состав дорога расположить\n",
      "11 князь чёрный великий поле белый ход василий иван король сторона\n",
      "30 состав территория центр волость входить пункт станица население войти часть\n"
     ]
    }
   ],
   "source": [
    "for topic in topics2: # regular lda 50x10\n",
    "    print(\" \".join(topic))"
   ]
  },
  {
   "cell_type": "code",
   "execution_count": 54,
   "id": "passive-wallpaper",
   "metadata": {},
   "outputs": [
    {
     "name": "stdout",
     "output_type": "stream",
     "text": [
      "145 храм церковь собор монастырь святой век епископ здание православный русский\n",
      "46 вино военный сша компания частный являться мочь оон иметь сорт\n",
      "10 медведь ричард её мультсериал племя являться использовать вещество страна ребёнок\n",
      "67 князь иван робот московский великий иванович век москва iii русский\n",
      "139 город задача проект 1 являться 2 весь всё число коммуна\n",
      "18 автомобиль задний модель двигатель подвеска кузов передний колесо иметь мост\n",
      "29 сельский состав хутор центр ростовский поселение входить посёлок река станица\n",
      "89 российский федерация театр авиакомпания россия общественный 2010 компания валерий являться\n",
      "106 ссср день сеть войско пво оборона транспортный праздник анализ воскресение\n",
      "34 г ян сын российский министр дело дочь институт дмитриевич софья\n",
      "37 население город станица казак округ семья перепись житель средний сша\n",
      "147 вагон день иметь весь адам мочь слово звезда праздник всё\n",
      "142 медаль выиграть количество норвегия 380 игра оркестр золотой епархия канада\n",
      "99 военный польша война польский армия сентябрь генерал войско правительство германия\n",
      "110 война армия советский командир военный полка бой звание 1944 отечественный\n",
      "95 дом этаж музей сенегал николаевка новый звезда b хусейн второй\n",
      "84 посёлок улица км город дорога расположить № ростовский состав райцентр\n",
      "138 орден произвести назначить военный св степень получить участие война чин\n",
      "13 город убежище являться деревня канада часть давать известие земля жизнь\n",
      "86 томас император iv ii брак брат епархия сын ребёнок фридрих\n",
      "62 тепловоз формула сторона иметь треугольник мощность являться использовать завод двор\n",
      "17 роль являться её сериал актриса школа фильм работа весь мэри\n",
      "59 текст канада являться популярный список сеть блюдо сохраниться сша вода\n",
      "52 новый музей билет самолёт № образец ноябрь алексей выпускаться рубль\n",
      "104 озеро остров расположить берег река часть западный относиться флаг ширина\n",
      "92 змея formula_1 formula_4 система распределение formula_5 момент formula_2 formula_8 топливо\n",
      "112 город ирландия река зелёный шведский северный часть залив век вода\n",
      "6 вода москва александровский станция город сооружение построить стадион московский система\n",
      "123 тверской знак мать почётный слава тобаго джейн роза век награждение\n",
      "102 житомирский перепись украина 2001 площадь код индекс р-н почтовый телефонный\n"
     ]
    }
   ],
   "source": [
    "for topic in topics3: # regular lda 150x5\n",
    "    print(\" \".join(topic))"
   ]
  },
  {
   "cell_type": "code",
   "execution_count": 60,
   "id": "reasonable-north",
   "metadata": {},
   "outputs": [
    {
     "data": {
      "text/plain": [
       "(-12.529603011976924, -9.919772060404574, -16.854604284921272)"
      ]
     },
     "execution_count": 60,
     "metadata": {},
     "output_type": "execute_result"
    }
   ],
   "source": [
    "model1.log_perplexity(corpus[:1000]), model2.log_perplexity(corpus[:1000]), model3.log_perplexity(corpus[:1000])"
   ]
  },
  {
   "cell_type": "code",
   "execution_count": 62,
   "id": "certified-community",
   "metadata": {},
   "outputs": [
    {
     "data": {
      "text/plain": [
       "(0.49964053048061435, 0.5593595436815606, 0.4770401638735298)"
      ]
     },
     "execution_count": 62,
     "metadata": {},
     "output_type": "execute_result"
    }
   ],
   "source": [
    "coherence_model_lda1 = gensim.models.CoherenceModel(model=model1,\n",
    "                                                    texts=texts,\n",
    "                                                    dictionary=dictionary,\n",
    "                                                    coherence='c_v')\n",
    "\n",
    "coherence_model_lda2 = gensim.models.CoherenceModel(model=model2,\n",
    "                                                    texts=texts,\n",
    "                                                    dictionary=dictionary,\n",
    "                                                    coherence='c_v')\n",
    "\n",
    "coherence_model_lda3 = gensim.models.CoherenceModel(model=model3,\n",
    "                                                    texts=texts,\n",
    "                                                    dictionary=dictionary,\n",
    "                                                    coherence='c_v')\n",
    "\n",
    "coherence_model_lda1.get_coherence(), coherence_model_lda2.get_coherence(), coherence_model_lda3.get_coherence()"
   ]
  },
  {
   "cell_type": "markdown",
   "id": "deluxe-michigan",
   "metadata": {},
   "source": [
    "### Comparing models without tfidf\n",
    "After analysing samples of 30 topics, it is possible to say that model with 50x10 paramenters performs relatively better. Results of log_perplexity and coherence can support it."
   ]
  },
  {
   "cell_type": "markdown",
   "id": "freelance-spirituality",
   "metadata": {},
   "source": [
    "**Best topics**:\n",
    "\n",
    "40 клуб матч команда сезон сборная состав лига провести чемпионат забить\n",
    "\n",
    "8 музей искусство художник век работа выставка произведение картина художественный современный\n",
    "\n",
    "30 состав территория центр волость входить пункт станица население войти часть"
   ]
  },
  {
   "cell_type": "code",
   "execution_count": 63,
   "id": "vocational-notification",
   "metadata": {},
   "outputs": [
    {
     "name": "stdout",
     "output_type": "stream",
     "text": [
      "46 инвалид сердце 260 аргентинский актёрский лечение госпиталь кевин ангел реабилитация\n",
      "92 олимпийский игра летний зимний медаль завоевать принимать участие история сборная\n",
      "96 святой жена муж имя актриса дочь трое сын её воля\n",
      "99 женский химический али скульптор белый художница нии скульптура иркутский античность\n",
      "22 ленин боливия 19 варшавский 79 боковой 1969 партизан проектирование 1917\n",
      "72 вещество арена магнус тайвань король сигурд инга жидкость мозг волокно\n",
      "24 монголия сингл хорватия органический грэмми статистика hot billboard испанский рудник\n",
      "15 самолёт эфир истребитель приём полёт ввс новость рота ствол general\n",
      "3 каменский области.############ть комплект ямайка камера плато ткань популяция войти world\n",
      "40 корея мюнхен художник 1972 мексика живопись музей выставка картина женщина\n",
      "84 поезд бюро никольский раствор соборный de автоматический тонна скорость км/ча\n",
      "57 николай месторождение математик тёмный уральский минерал водиться dark монах цска\n",
      "85 коростенский 4142 остров ладожский армения шхера относиться тверской малый занимать\n",
      "58 шасси географический казахстан молоко библиотека бактерия старт корова глобус сахар\n",
      "70 война получить остров однако период военный часть второй из-за корабль\n",
      "64 сосуд лев англ мультфильм award international медный 1858 миноносец сергей\n",
      "45 кавалер крест рыцарский дубовый наградить 41 грузия пехотный 93 комикс\n",
      "59 гвардейский аргентина австрия полюс вулкан 1964 гвардия сержант провинция океан\n",
      "63 new дэвид times york грин кинокритик рой бить как-то заканчиваться\n",
      "28 белок танец чей иосиф структура критерий традиционный мак выделение солист\n",
      "88 звезда переулок солнце обсерватория наблюдение астроном древнегреческий антверпен дворец понятие\n",
      "90 означать мочь метр греческий судно башня иванович высота стена здание\n",
      "87 пекин тепловоз водохранилище китай школьный малайзия 54 57 статья представлять\n",
      "82 исток устье s кристофер 105 впадать англия гренландия лес великий\n",
      "9 система компания игра версия платформа функция модель программа компьютер разработка\n",
      "68 пропустить 1928 швейцария квебек берн v федеральный ганс 1793 рождественский\n",
      "20 уезд округ городской специальный оркестр империя расформировать преобразовать кнр заплыв\n",
      "38 университет школа язык музыка газета журнал музыкальный наука г член\n",
      "78 ядро мышца мыс технический 1600 отыграть молдавский травма мозг точка\n",
      "30 романовский 4146 романовка словакия департамент княжество польша 85 эдди численность\n"
     ]
    }
   ],
   "source": [
    "for topic in topics4: # tfidf lda 100x7\n",
    "    print(\" \".join(topic))"
   ]
  },
  {
   "cell_type": "code",
   "execution_count": 66,
   "id": "dedicated-threat",
   "metadata": {},
   "outputs": [
    {
     "name": "stdout",
     "output_type": "stream",
     "text": [
      "35 раунд спортсмен дистанция квалификация муравей занятой независимо утешительный сидней термин\n",
      "31 ворота язык иванович социалистический труд армянский литовский герой индия преподавать\n",
      "5 церковь святой храм собор икона монастырь епархия православный католический дева\n",
      "15 граф король сын i ii князь графство де iii герцог\n",
      "9 албания балка верфь 1906 фиджи лодка подводный нью-джерси вилла ag\n",
      "8 фильм война г советский армия школа военный работать роль получить\n",
      "42 квебек турок юрий пехотный николаевский севастополь георгий мастерс петрович 65\n",
      "39 хутор ростовский сельский области.############входить река посёлок станица верхнедонский км состав\n",
      "20 значение сенегал аббревиатура человек.############являться рим 1960 впадение озеро боксёр гандбол\n",
      "34 км расстояние м/ж сельский река район,######харьковский расположить харьковский течение берег\n",
      "46 носитель монако литература тепловоз малайзия повесть писатель мощность intel сан-франциско\n",
      "22 зачёт прыжок фёдор космический ракета ван вкп(б арестовать цк 1854\n",
      "43 день кантон генри авианосец швейцарский дубовский гонка сказка рязанский ричард\n",
      "0 португалия мексика мехико тобаго мельбурн исландия пуэрто-рико артур гильдия плавание\n",
      "27 клуб чемпионат матч команда сезон турнир кубок мир чемпион игрок\n",
      "1 мочь часть являться иметь город вид система остров век название\n",
      "6 совет,######лозовский библиотека николаевка ткань мышца пирамида фраза индийский музей танец\n",
      "25 означать василиевич мочь 175 обл пгт 1888 68 ленин черешок\n",
      "41 шахматный югославия 1-2-й транспорт шахматист олимпиада международный гитлер гроссмейстер 1-й\n",
      "32 олимпийский игра летний зимний завоевать медаль принимать участие история сборная\n",
      "47 альбом песня the студийный певица in and розыгрыш сингл выпустить\n",
      "40 палата маяк озеро your критерий лорд скалистый перечень финансы архитектор\n",
      "7 улица название населить различный пункт у́лицо государство бывший ссср переулок\n",
      "26 коростышевский 4130 подпольный латвия четырнадцатый м синдром автомобиль сербский урочище\n",
      "48 хельсинки фильм 1952 финляндия нхл вагон курский руда бен хит\n",
      "11 оркестр смирнов городище 83 10000 1899 луи умерший 69 географический\n",
      "3 житомирский овручский области.############код коатуа р-н телефонный индекс почтовый код украина\n",
      "18 жук питаться мм лист вид жук-листоед подсемейство личинка длина надкрылья\n",
      "17 остров ладожский шхера карелия относиться порода озеро покрыть группа 48\n",
      "10 консул чешуекрылый мультсериал э подсемейство семейство род 61 н римлянин\n"
     ]
    }
   ],
   "source": [
    "for topic in topics5: # tfidf lda 50x10\n",
    "    print(\" \".join(topic))"
   ]
  },
  {
   "cell_type": "code",
   "execution_count": 68,
   "id": "proper-experiment",
   "metadata": {},
   "outputs": [
    {
     "name": "stdout",
     "output_type": "stream",
     "text": [
      "81 встречаться шестой муж её жена брать жить мать дочь джордж\n",
      "90 турнир смотреть чемпионат мир финал раунд выиграть чемпион проиграть вещество\n",
      "16 китай китайский пекин чжан династия женщина тан архитектура традиционный история\n",
      "111 крест пьеса постановка поставить сюжетный театр сцена драматург визуальный героиня\n",
      "126 университет газета книга профессор факультет русский институт н нью-йорк литература\n",
      "122 святой румыния румынский житие епископ племянник родство 1989 имя вероятно\n",
      "4 макс электрический убить тюрьма молния питер доктор зелёный пытаться мочь\n",
      "98 философия руда педагогический колумбийский колледж нью-джерси премия николас организм г\n",
      "40 майк песня написать хит the альбом records группа записать is\n",
      "28 иванович николай н оркестр данные рабочий анализ инструмент возможность продукт\n",
      "56 овручский украина лист монастырь икона насекомое цветок упоминаться венгрия монах\n",
      "148 оркестр инструмент змея вселенная музыка мнение рассказ планета автор крестьянин\n",
      "135 хутор ростовский области.############входить станица сельский состав n памятник дон наследие\n",
      "6 мочь означать использоваться малый позволять 0 производство память изменение применяться\n",
      "97 коммуна июнь норвегия стрелковый президент министр 1942 пятьдесят генерал звание\n",
      "85 азербайджан стих поэт стихотворение посвятить азербайджанский мать пьеса герой советский\n",
      "74 граф король iii де сын битва 000 роберт генрих войско\n",
      "96 боливия коммунист революционный рабочий единство партия съезд коммунистический альберт наука\n",
      "132 герцог мультсериал людовик медведь мемуары де франция xi серия советник\n",
      "1 канал сериал сценарист томас шоу продюсер телеканал актриса школьный мюзикл\n",
      "47 улица седьмой линия областной здание называться магазин располагаться жилой помещение\n",
      "8 изобретатель севастополь 1855 инженерный крымский петрович заведовать генерал-майор сын санкт-петербург\n",
      "38 гибель заложник безуспешно благословение вера пушкин житие королевский корова поэтический\n",
      "21 опера замок 1750 епископ графиня молдавский вдова священник реконструкция митрополит\n",
      "101 мост 1968 американский 17 1987 сша морской 14 указать драма\n",
      "65 бог сражение поручение генерал возвратиться св назначить неприятель наградить комендант\n",
      "109 пещера керамика культура балканы тыс верхний н регион группа э\n",
      "100 португалия капитан апрель кавалерия ди кавалерийский военный пенсия школа направить\n",
      "20 подруга павел майк ребёнок отец переживать её узнать домохозяйка странный\n",
      "45 эксперимент компания инструмент полёт музыкальный бренд экипаж разработка national космонавт\n"
     ]
    }
   ],
   "source": [
    "for topic in topics6: # tfidf lda 150x5\n",
    "    print(\" \".join(topic))"
   ]
  },
  {
   "cell_type": "code",
   "execution_count": 70,
   "id": "leading-history",
   "metadata": {},
   "outputs": [
    {
     "data": {
      "text/plain": [
       "(-11.262671233880246, -8.946754967565905, -28.05496668806068)"
      ]
     },
     "execution_count": 70,
     "metadata": {},
     "output_type": "execute_result"
    }
   ],
   "source": [
    "tfidf1.log_perplexity(corpus[:1000]), tfidf2.log_perplexity(corpus[:1000]), tfidf3.log_perplexity(corpus[:1000])"
   ]
  },
  {
   "cell_type": "code",
   "execution_count": 71,
   "id": "studied-teddy",
   "metadata": {},
   "outputs": [
    {
     "data": {
      "text/plain": [
       "(0.49866245961659855, 0.5574097093390988, 0.4119803382564534)"
      ]
     },
     "execution_count": 71,
     "metadata": {},
     "output_type": "execute_result"
    }
   ],
   "source": [
    "coherence_tfidf_lda1 = gensim.models.CoherenceModel(model=tfidf1,\n",
    "                                                    texts=texts,\n",
    "                                                    dictionary=dictionary,\n",
    "                                                    coherence='c_v')\n",
    "\n",
    "coherence_tfidf_lda2 = gensim.models.CoherenceModel(model=tfidf2,\n",
    "                                                    texts=texts,\n",
    "                                                    dictionary=dictionary,\n",
    "                                                    coherence='c_v')\n",
    "\n",
    "coherence_tfidf_lda3 = gensim.models.CoherenceModel(model=tfidf3,\n",
    "                                                    texts=texts,\n",
    "                                                    dictionary=dictionary,\n",
    "                                                    coherence='c_v')\n",
    "\n",
    "coherence_tfidf_lda1.get_coherence(), coherence_tfidf_lda2.get_coherence(), coherence_tfidf_lda3.get_coherence()"
   ]
  },
  {
   "cell_type": "markdown",
   "id": "dried-samba",
   "metadata": {},
   "source": [
    "### Comparing models with tfidf\n",
    "\n",
    "After analysing samples of 30 topics, it is possible to say that again the model with 50x10 paramenters performs relatively better. It seems the number of passes has a higher impact on quality than number of topics. Results of log_perplexity and coherence can support it.\n"
   ]
  },
  {
   "cell_type": "markdown",
   "id": "informative-newark",
   "metadata": {},
   "source": [
    "**Best topics**:\n",
    "\n",
    "5 церковь святой храм собор икона монастырь епархия православный католический дева\n",
    "\n",
    "27 клуб чемпионат матч команда сезон турнир кубок мир чемпион игрок\n",
    "\n",
    "47 альбом песня the студийный певица in and розыгрыш сингл выпустить"
   ]
  },
  {
   "cell_type": "markdown",
   "id": "little-mexico",
   "metadata": {},
   "source": [
    "## Comparing best models"
   ]
  },
  {
   "cell_type": "markdown",
   "id": "protective-hypothetical",
   "metadata": {},
   "source": [
    "The model without tfidf seems to produce better shaped topics, but its metrics are slightly worse. Overall, well-shaped topics intersect, e.g: sports, geographic landmarks, religion.\n",
    "\n",
    "For now, it seems that a model with higher number of topics and passes (like the one we saw in class) performs better."
   ]
  },
  {
   "cell_type": "markdown",
   "id": "informative-belly",
   "metadata": {},
   "source": [
    "#  Sklearn"
   ]
  },
  {
   "cell_type": "code",
   "execution_count": 8,
   "id": "practical-collins",
   "metadata": {},
   "outputs": [],
   "source": [
    "from sklearn.decomposition import NMF\n",
    "from joblib import dump, load\n",
    "from sklearn.feature_extraction.text import CountVectorizer, TfidfVectorizer"
   ]
  },
  {
   "cell_type": "markdown",
   "id": "rubber-firewall",
   "metadata": {},
   "source": [
    "preprocess"
   ]
  },
  {
   "cell_type": "code",
   "execution_count": 9,
   "id": "marine-crazy",
   "metadata": {},
   "outputs": [],
   "source": [
    "stexts = [' '.join(text) for text in texts]\n",
    "\n",
    "count_vec = CountVectorizer(max_features=3000,\n",
    "                             min_df=8,\n",
    "                             max_df=0.2,\n",
    "                             ngram_range=(1,2))\n",
    "\n",
    "X_count = count_vec.fit_transform(stexts)"
   ]
  },
  {
   "cell_type": "code",
   "execution_count": 10,
   "id": "purple-expert",
   "metadata": {},
   "outputs": [],
   "source": [
    "tfidf_vec = TfidfVectorizer(max_features=2000,\n",
    "                             min_df=10,\n",
    "                             max_df=0.1,\n",
    "                             ngram_range=(1,2))\n",
    "\n",
    "X_tfidf = tfidf_vec.fit_transform(stexts)"
   ]
  },
  {
   "cell_type": "markdown",
   "id": "double-charter",
   "metadata": {},
   "source": [
    "CountVectorizer models"
   ]
  },
  {
   "cell_type": "code",
   "execution_count": 11,
   "id": "manufactured-teddy",
   "metadata": {},
   "outputs": [
    {
     "data": {
      "text/plain": [
       "['data/models/skl1/model.joblib']"
      ]
     },
     "execution_count": 11,
     "metadata": {},
     "output_type": "execute_result"
    }
   ],
   "source": [
    "skl1 = NMF(n_components=100)\n",
    "skl1.fit(X_count)\n",
    "dump(skl1, 'data/models/skl1/model.joblib')"
   ]
  },
  {
   "cell_type": "code",
   "execution_count": 12,
   "id": "empty-dietary",
   "metadata": {},
   "outputs": [
    {
     "data": {
      "text/plain": [
       "['data/models/skl2/model.joblib']"
      ]
     },
     "execution_count": 12,
     "metadata": {},
     "output_type": "execute_result"
    }
   ],
   "source": [
    "skl2 = NMF(n_components=50)\n",
    "skl2.fit(X_count)\n",
    "dump(skl2, 'data/models/skl2/model.joblib')"
   ]
  },
  {
   "cell_type": "code",
   "execution_count": 13,
   "id": "unlike-stupid",
   "metadata": {},
   "outputs": [
    {
     "data": {
      "text/plain": [
       "['data/models/skl3/model.joblib']"
      ]
     },
     "execution_count": 13,
     "metadata": {},
     "output_type": "execute_result"
    }
   ],
   "source": [
    "skl3 = NMF(n_components=150)\n",
    "skl3.fit(X_count)\n",
    "dump(skl3, 'data/models/skl3/model.joblib')"
   ]
  },
  {
   "cell_type": "markdown",
   "id": "european-software",
   "metadata": {},
   "source": [
    "TfIdfVectorizer moderls"
   ]
  },
  {
   "cell_type": "code",
   "execution_count": 14,
   "id": "superior-headset",
   "metadata": {},
   "outputs": [
    {
     "data": {
      "text/plain": [
       "['data/models/tfidf_skl1/model.joblib']"
      ]
     },
     "execution_count": 14,
     "metadata": {},
     "output_type": "execute_result"
    }
   ],
   "source": [
    "tfidf_skl1 = NMF(n_components=100)\n",
    "skl1.fit(X_count)\n",
    "dump(skl1, 'data/models/tfidf_skl1/model.joblib')"
   ]
  },
  {
   "cell_type": "code",
   "execution_count": 15,
   "id": "given-india",
   "metadata": {},
   "outputs": [
    {
     "data": {
      "text/plain": [
       "['data/models/tfidf_skl2/model.joblib']"
      ]
     },
     "execution_count": 15,
     "metadata": {},
     "output_type": "execute_result"
    }
   ],
   "source": [
    "tfidf_skl2 = NMF(n_components=50)\n",
    "skl1.fit(X_count)\n",
    "dump(skl1, 'data/models/tfidf_skl2/model.joblib')"
   ]
  },
  {
   "cell_type": "code",
   "execution_count": 16,
   "id": "communist-azerbaijan",
   "metadata": {},
   "outputs": [
    {
     "data": {
      "text/plain": [
       "['data/models/tfidf_skl3/model.joblib']"
      ]
     },
     "execution_count": 16,
     "metadata": {},
     "output_type": "execute_result"
    }
   ],
   "source": [
    "tfidf_skl3 = NMF(n_components=150)\n",
    "skl1.fit(X_count)\n",
    "dump(skl1, 'data/models/tfidf_skl3/model.joblib')"
   ]
  },
  {
   "cell_type": "code",
   "execution_count": null,
   "id": "improved-heath",
   "metadata": {},
   "outputs": [],
   "source": []
  }
 ],
 "metadata": {
  "kernelspec": {
   "display_name": "Python 3",
   "language": "python",
   "name": "python3"
  },
  "language_info": {
   "codemirror_mode": {
    "name": "ipython",
    "version": 3
   },
   "file_extension": ".py",
   "mimetype": "text/x-python",
   "name": "python",
   "nbconvert_exporter": "python",
   "pygments_lexer": "ipython3",
   "version": "3.8.5"
  }
 },
 "nbformat": 4,
 "nbformat_minor": 5
}
