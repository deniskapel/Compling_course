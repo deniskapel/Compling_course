{
 "cells": [
  {
   "cell_type": "markdown",
   "metadata": {},
   "source": [
    "# Homework on word embeddings"
   ]
  },
  {
   "cell_type": "markdown",
   "metadata": {},
   "source": [
    "## Task 1\n",
    "\n",
    "1) Векторизуйте тексты с помощью Word2vec модели, обученной самостоятельно, и с помощью модели, взятой с rusvectores (например вот этой - http://vectors.nlpl.eu/repository/20/180.zip). Обучите 2 модели по определению перефразирования на получившихся векторах и проверьте, что работает лучше. \n",
    "\n",
    "Word2Vec нужно обучить на отдельном корпусе (не на парафразах). Можно взять данные из семинара или любые другие. \n",
    "!!!! ВАЖНО: Оценивать модели нужно с помощью кросс-валидации (в семинаре не кросс-валидация)! Метрика - f1."
   ]
  },
  {
   "cell_type": "code",
   "execution_count": 1,
   "metadata": {},
   "outputs": [],
   "source": [
    "import pandas as pd\n",
    "from lxml import html\n",
    "import numpy as np\n",
    "from pymystem3 import Mystem\n",
    "from tqdm import tqdm\n",
    "from matplotlib import pyplot as plt\n",
    "from sklearn.decomposition import TruncatedSVD, NMF, PCA\n",
    "from sklearn.manifold import TSNE\n",
    "from sklearn.feature_extraction.text import TfidfVectorizer, CountVectorizer\n",
    "from sklearn.metrics.pairwise import cosine_distances\n",
    "from sklearn.ensemble import RandomForestClassifier\n",
    "import gensim\n",
    "import numpy as np\n",
    "from sklearn.cluster import MiniBatchKMeans\n",
    "from sklearn.linear_model import LogisticRegression\n",
    "from sklearn.model_selection import train_test_split\n",
    "from sklearn.metrics import classification_report\n",
    "from collections import Counter,defaultdict\n",
    "from string import punctuation\n",
    "from razdel import tokenize as razdel_tokenize\n",
    "import os\n",
    "from nltk.corpus import stopwords\n",
    "from pymorphy2 import MorphAnalyzer\n",
    "%matplotlib inline"
   ]
  },
  {
   "cell_type": "markdown",
   "metadata": {},
   "source": [
    "### Normalization"
   ]
  },
  {
   "cell_type": "code",
   "execution_count": 2,
   "metadata": {},
   "outputs": [],
   "source": [
    "class Normilizer():\n",
    "\n",
    "    def __init__(self, morph_type):\n",
    "        \n",
    "        self.morpho = MorphAnalyzer() \n",
    "        self.cashe = {}\n",
    "        self.stops = set(stopwords.words('russian'))\n",
    "        \n",
    "    \n",
    "    def normalize(self, text) -> list:\n",
    "        \"\"\"\n",
    "            returns a normalized text with POS tags mapped to udpipe\n",
    "        \"\"\"\n",
    "        \n",
    "        words = self.tokenize(text)\n",
    "        \n",
    "        res=[]\n",
    "        \n",
    "        mapping = self.generate_mapping('data/ru-rnc.map.txt')\n",
    "\n",
    "        for word in words:\n",
    "            if not word or word in self.stops:# skip stop words\n",
    "                continue \n",
    "            elif word in self.cashe: # check cashed first\n",
    "                res.append(self.cashe[word])\n",
    "            else:\n",
    "                r=self.morpho.parse(word)[0]\n",
    "                lemma = r.normal_form\n",
    "                pos = r.tag.POS\n",
    "                try:\n",
    "                    pos = mapping[pos]\n",
    "                    res.append(lemma+'_'+pos)\n",
    "                    self.cashe[word]=lemma+'_'+pos\n",
    "                except:\n",
    "                    res.append('Error')\n",
    "                \n",
    "        return res\n",
    "\n",
    "    \n",
    "    def tokenize(self, text) -> str:\n",
    "        \"\"\"\n",
    "            tokenizes a text and keeps only alphanumeric tokens\n",
    "        \"\"\"\n",
    "        punct = punctuation+'«»—…“”*№–'\n",
    "        \n",
    "        tokens = [token.text.strip(punct).lower() for token in list(razdel_tokenize(text))]\n",
    "        tokens = [token for token in tokens if token.isalnum()]\n",
    "\n",
    "        return tokens\n",
    "    \n",
    "    \n",
    "    def generate_mapping(self, path) -> dict:\n",
    "        \"\"\" \n",
    "            generates mapping of PoS tags to map mystem and udpipe tags:\n",
    "            Mapping was update for pymorphy2\n",
    "        \"\"\"\n",
    "        mapping = {}\n",
    "\n",
    "        for line in open(path):\n",
    "            ms, ud = line.strip('\\n').split()\n",
    "            mapping[ms] = ud\n",
    "            \n",
    "        return mapping"
   ]
  },
  {
   "cell_type": "code",
   "execution_count": 3,
   "metadata": {},
   "outputs": [
    {
     "data": {
      "text/plain": [
       "['обучить_VERB',\n",
       " 'классификатор_NOUN',\n",
       " 'парафраз_NOUN',\n",
       " 'предобученный_ADJ',\n",
       " 'модель_NOUN',\n",
       " 'нужно_X',\n",
       " 'дом_NOUN']"
      ]
     },
     "execution_count": 3,
     "metadata": {},
     "output_type": "execute_result"
    }
   ],
   "source": [
    "data = open('data/wiki_data.txt', encoding='utf8').read().splitlines()\n",
    "norm = Normilizer('pymorphy2')\n",
    "norm.normalize('Обучить классификатор парафразов на предобученной модели вам нужно будет дома')"
   ]
  },
  {
   "cell_type": "code",
   "execution_count": 4,
   "metadata": {},
   "outputs": [
    {
     "name": "stdout",
     "output_type": "stream",
     "text": [
      "Wall time: 1min 25s\n"
     ]
    }
   ],
   "source": [
    "%%time\n",
    "data_norm = [norm.normalize(text) for text in data]"
   ]
  },
  {
   "cell_type": "code",
   "execution_count": 5,
   "metadata": {},
   "outputs": [
    {
     "data": {
      "text/plain": [
       "20002"
      ]
     },
     "execution_count": 5,
     "metadata": {},
     "output_type": "execute_result"
    }
   ],
   "source": [
    "len(data_norm)"
   ]
  },
  {
   "cell_type": "markdown",
   "metadata": {},
   "source": [
    "### Modelling"
   ]
  },
  {
   "cell_type": "markdown",
   "metadata": {},
   "source": [
    "my embedding"
   ]
  },
  {
   "cell_type": "code",
   "execution_count": 6,
   "metadata": {
    "scrolled": false
   },
   "outputs": [],
   "source": [
    "w2v = gensim.models.Word2Vec([text for text in data_norm], size=50, sg=1)"
   ]
  },
  {
   "cell_type": "code",
   "execution_count": 7,
   "metadata": {},
   "outputs": [
    {
     "name": "stderr",
     "output_type": "stream",
     "text": [
      "<ipython-input-7-05aad1014560>:1: DeprecationWarning: Call to deprecated `most_similar` (Method will be removed in 4.0.0, use self.wv.most_similar() instead).\n",
      "  w2v.most_similar('полиция_NOUN')\n"
     ]
    },
    {
     "data": {
      "text/plain": [
       "[('полицейский_ADJ', 0.8500531911849976),\n",
       " ('полицейский_NOUN', 0.8263692855834961),\n",
       " ('преступник_NOUN', 0.8263688087463379),\n",
       " ('охранник_NOUN', 0.8084696531295776),\n",
       " ('гестапо_NOUN', 0.7944058179855347),\n",
       " ('подозревать_ADJ', 0.7846692204475403),\n",
       " ('милиция_NOUN', 0.7791818976402283),\n",
       " ('жандарм_NOUN', 0.7747201919555664),\n",
       " ('бандит_NOUN', 0.7740579843521118),\n",
       " ('спецназ_NOUN', 0.7737398743629456)]"
      ]
     },
     "execution_count": 7,
     "metadata": {},
     "output_type": "execute_result"
    }
   ],
   "source": [
    "w2v.most_similar('полиция_NOUN')"
   ]
  },
  {
   "cell_type": "code",
   "execution_count": 8,
   "metadata": {},
   "outputs": [
    {
     "data": {
      "text/plain": [
       "<gensim.models.word2vec.Word2Vec at 0x1853b0205e0>"
      ]
     },
     "execution_count": 8,
     "metadata": {},
     "output_type": "execute_result"
    }
   ],
   "source": [
    "w2v"
   ]
  },
  {
   "cell_type": "markdown",
   "metadata": {},
   "source": [
    "rusvectores http://vectors.nlpl.eu/repository/20/180.zip"
   ]
  },
  {
   "cell_type": "code",
   "execution_count": 9,
   "metadata": {},
   "outputs": [],
   "source": [
    "rusvec = gensim.models.KeyedVectors.load_word2vec_format('data/models/180/model.bin', binary=True)"
   ]
  },
  {
   "cell_type": "code",
   "execution_count": 10,
   "metadata": {},
   "outputs": [
    {
     "data": {
      "text/plain": [
       "[('полиция_PROPN', 0.78785240650177),\n",
       " ('полицейский_ADJ', 0.7626974582672119),\n",
       " ('полицейский_NOUN', 0.6821430921554565),\n",
       " ('жандармерия_NOUN', 0.6472468376159668),\n",
       " ('жандарм_NOUN', 0.6468209624290466),\n",
       " ('городовый_ADJ', 0.6110862493515015),\n",
       " ('сыскный_ADJ', 0.6072753667831421),\n",
       " ('жандармский_ADJ', 0.6051692962646484),\n",
       " ('агент_NOUN', 0.5971013307571411),\n",
       " ('градоначальник_NOUN', 0.5876316428184509)]"
      ]
     },
     "execution_count": 10,
     "metadata": {},
     "output_type": "execute_result"
    }
   ],
   "source": [
    "rusvec.most_similar('полиция_NOUN')"
   ]
  },
  {
   "cell_type": "markdown",
   "metadata": {},
   "source": [
    "Vectorizing"
   ]
  },
  {
   "cell_type": "code",
   "execution_count": 11,
   "metadata": {},
   "outputs": [],
   "source": [
    "class Vectorizer():\n",
    "    \"\"\" word2vec vectorizer \"\"\"\n",
    "    \n",
    "    def __init__(self, model, dim):\n",
    "        self.model = model # Gensim w2v model\n",
    "        self.dim = dim\n",
    "        \n",
    "\n",
    "    def get_embedding(self, text):\n",
    "        \"\"\" transforms a text into a vector using w2v model \"\"\"\n",
    "        \n",
    "        text = text.split()\n",
    "        words = Counter(text) # cashe words\n",
    "        total = len(text)\n",
    "        vectors = np.zeros((len(words), self.dim))\n",
    "\n",
    "        for i,word in enumerate(words):\n",
    "            try:\n",
    "                v = self.model[word]\n",
    "                vectors[i] = v*(words[word]/total) # value times word frequency\n",
    "            except (KeyError, ValueError):\n",
    "                continue\n",
    "        \n",
    "        # modify later to throw error when dimensinalities are not equal         \n",
    "        if vectors.any():\n",
    "            vector = np.average(vectors, axis=0)\n",
    "        else:\n",
    "            vector = np.zeros((self.dim))\n",
    "        \n",
    "        return vector"
   ]
  },
  {
   "cell_type": "code",
   "execution_count": 12,
   "metadata": {},
   "outputs": [],
   "source": [
    "corpus_xml = html.fromstring(open('data/paraphraser/paraphrases.xml', 'rb').read())\n",
    "texts_1 = []\n",
    "texts_2 = []\n",
    "classes = []\n",
    "\n",
    "for p in corpus_xml.xpath('//paraphrase'):\n",
    "    texts_1.append(p.xpath('./value[@name=\"text_1\"]/text()')[0])\n",
    "    texts_2.append(p.xpath('./value[@name=\"text_2\"]/text()')[0])\n",
    "    classes.append(p.xpath('./value[@name=\"class\"]/text()')[0])\n",
    "\n",
    "data = pd.DataFrame({'text_1':texts_1, 'text_2':texts_2, 'label':classes})"
   ]
  },
  {
   "cell_type": "code",
   "execution_count": 13,
   "metadata": {},
   "outputs": [],
   "source": [
    "data['text_1_norm'] = data['text_1'].apply(norm.normalize)\n",
    "data['text_2_norm'] = data['text_2'].apply(norm.normalize)\n",
    "data['text_1_norm'] = data['text_1_norm'].apply(\" \".join)\n",
    "data['text_2_norm'] = data['text_2_norm'].apply(\" \".join)"
   ]
  },
  {
   "cell_type": "code",
   "execution_count": 14,
   "metadata": {},
   "outputs": [
    {
     "data": {
      "text/html": [
       "<div>\n",
       "<style scoped>\n",
       "    .dataframe tbody tr th:only-of-type {\n",
       "        vertical-align: middle;\n",
       "    }\n",
       "\n",
       "    .dataframe tbody tr th {\n",
       "        vertical-align: top;\n",
       "    }\n",
       "\n",
       "    .dataframe thead th {\n",
       "        text-align: right;\n",
       "    }\n",
       "</style>\n",
       "<table border=\"1\" class=\"dataframe\">\n",
       "  <thead>\n",
       "    <tr style=\"text-align: right;\">\n",
       "      <th></th>\n",
       "      <th>text_1</th>\n",
       "      <th>text_2</th>\n",
       "      <th>label</th>\n",
       "      <th>text_1_norm</th>\n",
       "      <th>text_2_norm</th>\n",
       "    </tr>\n",
       "  </thead>\n",
       "  <tbody>\n",
       "    <tr>\n",
       "      <th>0</th>\n",
       "      <td>Полицейским разрешат стрелять на поражение по ...</td>\n",
       "      <td>Полиции могут разрешить стрелять по хулиганам ...</td>\n",
       "      <td>0</td>\n",
       "      <td>полицейский_NOUN разрешить_VERB стрелять_VERB ...</td>\n",
       "      <td>полиция_NOUN мочь_VERB разрешить_VERB стрелять...</td>\n",
       "    </tr>\n",
       "    <tr>\n",
       "      <th>1</th>\n",
       "      <td>Право полицейских на проникновение в жилище ре...</td>\n",
       "      <td>Правила внесудебного проникновения полицейских...</td>\n",
       "      <td>0</td>\n",
       "      <td>право_NOUN полицейский_ADJ проникновение_NOUN ...</td>\n",
       "      <td>правило_NOUN внесудебный_ADJ проникновение_NOU...</td>\n",
       "    </tr>\n",
       "  </tbody>\n",
       "</table>\n",
       "</div>"
      ],
      "text/plain": [
       "                                              text_1  \\\n",
       "0  Полицейским разрешат стрелять на поражение по ...   \n",
       "1  Право полицейских на проникновение в жилище ре...   \n",
       "\n",
       "                                              text_2 label  \\\n",
       "0  Полиции могут разрешить стрелять по хулиганам ...     0   \n",
       "1  Правила внесудебного проникновения полицейских...     0   \n",
       "\n",
       "                                         text_1_norm  \\\n",
       "0  полицейский_NOUN разрешить_VERB стрелять_VERB ...   \n",
       "1  право_NOUN полицейский_ADJ проникновение_NOUN ...   \n",
       "\n",
       "                                         text_2_norm  \n",
       "0  полиция_NOUN мочь_VERB разрешить_VERB стрелять...  \n",
       "1  правило_NOUN внесудебный_ADJ проникновение_NOU...  "
      ]
     },
     "execution_count": 14,
     "metadata": {},
     "output_type": "execute_result"
    }
   ],
   "source": [
    "data.head(2)"
   ]
  },
  {
   "cell_type": "code",
   "execution_count": 15,
   "metadata": {},
   "outputs": [
    {
     "data": {
      "text/plain": [
       "0     2957\n",
       "-1    2582\n",
       "1     1688\n",
       "Name: label, dtype: int64"
      ]
     },
     "execution_count": 15,
     "metadata": {},
     "output_type": "execute_result"
    }
   ],
   "source": [
    "data.label.value_counts()"
   ]
  },
  {
   "cell_type": "code",
   "execution_count": 16,
   "metadata": {},
   "outputs": [
    {
     "data": {
      "text/plain": [
       "(7227,)"
      ]
     },
     "execution_count": 16,
     "metadata": {},
     "output_type": "execute_result"
    }
   ],
   "source": [
    "y = data['label']\n",
    "y.shape"
   ]
  },
  {
   "cell_type": "code",
   "execution_count": 17,
   "metadata": {},
   "outputs": [
    {
     "name": "stderr",
     "output_type": "stream",
     "text": [
      "<ipython-input-11-75724c73e890>:19: DeprecationWarning: Call to deprecated `__getitem__` (Method will be removed in 4.0.0, use self.wv.__getitem__() instead).\n",
      "  v = self.model[word]\n"
     ]
    }
   ],
   "source": [
    "dim=50\n",
    "\n",
    "W2V = Vectorizer(w2v, dim)\n",
    "\n",
    "X_text_1_w2v = np.zeros((len(data['text_1_norm']), dim))\n",
    "X_text_2_w2v = np.zeros((len(data['text_2_norm']), dim))\n",
    "\n",
    "for i, text in enumerate(data['text_1_norm'].values):\n",
    "    X_text_1_w2v[i] = W2V.get_embedding(text)\n",
    "    \n",
    "for i, text in enumerate(data['text_2_norm'].values):\n",
    "    X_text_2_w2v[i] = W2V.get_embedding(text)\n",
    "    \n",
    "X_text_w2v = np.concatenate([X_text_1_w2v, X_text_2_w2v], axis=1)"
   ]
  },
  {
   "cell_type": "code",
   "execution_count": 18,
   "metadata": {},
   "outputs": [
    {
     "data": {
      "text/plain": [
       "(7227, 100)"
      ]
     },
     "execution_count": 18,
     "metadata": {},
     "output_type": "execute_result"
    }
   ],
   "source": [
    "X_text_w2v.shape"
   ]
  },
  {
   "cell_type": "code",
   "execution_count": 19,
   "metadata": {},
   "outputs": [
    {
     "data": {
      "text/plain": [
       "array([ 0.03318706, -0.04561456,  0.05576942,  0.00259705, -0.04769241,\n",
       "        0.01200561, -0.03033194,  0.01177125,  0.03747249, -0.00064962,\n",
       "       -0.00491567, -0.05112004,  0.01183562,  0.01162327,  0.03830356,\n",
       "        0.00492895, -0.01512252, -0.03033132, -0.01084426,  0.06821928,\n",
       "       -0.0263701 ,  0.0204648 , -0.03520388, -0.01647543,  0.01431771,\n",
       "        0.00974876, -0.03096395,  0.12084189,  0.01913359,  0.01874183,\n",
       "       -0.00452537, -0.01621977,  0.03449763,  0.03314626, -0.04541603,\n",
       "       -0.06757362, -0.05105894, -0.02299673, -0.03925633,  0.0093741 ,\n",
       "        0.00426806,  0.07853495, -0.06917067, -0.01067022,  0.0219521 ,\n",
       "        0.0344793 , -0.01934548,  0.09621828,  0.0409141 ,  0.02076775,\n",
       "        0.00029674, -0.04170818,  0.04791079, -0.0041259 , -0.03660661,\n",
       "        0.01266169, -0.01671135,  0.00719931,  0.02956726,  0.00553932,\n",
       "       -0.01883045, -0.02489705, -0.00198378,  0.01398144,  0.02683648,\n",
       "        0.01634377, -0.02820855, -0.05409733,  0.02027883,  0.05016297,\n",
       "       -0.05259299,  0.02740894, -0.03054164,  0.0052982 ,  0.02844666,\n",
       "        0.01342455, -0.03752716,  0.12715689,  0.00060431, -0.00539818,\n",
       "       -0.01431799, -0.01131064,  0.03269898,  0.02784512, -0.01357928,\n",
       "       -0.05353656, -0.06615264, -0.01502919, -0.05568994,  0.00814914,\n",
       "       -0.00122092,  0.08617455, -0.06098803, -0.03028297,  0.02334447,\n",
       "        0.02753067, -0.00831316,  0.07579048,  0.02107666,  0.04769069])"
      ]
     },
     "execution_count": 19,
     "metadata": {},
     "output_type": "execute_result"
    }
   ],
   "source": [
    "X_text_w2v[0]"
   ]
  },
  {
   "cell_type": "code",
   "execution_count": 20,
   "metadata": {},
   "outputs": [],
   "source": [
    "dim=300\n",
    "\n",
    "RV = Vectorizer(rusvec, dim)\n",
    "\n",
    "X_text_1_rv = np.zeros((len(data['text_1_norm']), dim))\n",
    "X_text_2_rv = np.zeros((len(data['text_2_norm']), dim))\n",
    "for i, text in enumerate(data['text_1_norm'].values):\n",
    "    X_text_1_rv[i] = RV.get_embedding(text)\n",
    "    \n",
    "for i, text in enumerate(data['text_2_norm'].values):\n",
    "    X_text_2_rv[i] = RV.get_embedding(text)\n",
    "    \n",
    "X_text_rv = np.concatenate([X_text_1_rv, X_text_2_rv], axis=1)"
   ]
  },
  {
   "cell_type": "code",
   "execution_count": 21,
   "metadata": {},
   "outputs": [
    {
     "data": {
      "text/plain": [
       "(7227, 600)"
      ]
     },
     "execution_count": 21,
     "metadata": {},
     "output_type": "execute_result"
    }
   ],
   "source": [
    "X_text_rv.shape"
   ]
  },
  {
   "cell_type": "code",
   "execution_count": 22,
   "metadata": {},
   "outputs": [
    {
     "data": {
      "text/plain": [
       "array([ 1.64059601e-01,  1.21311058e-01, -1.96751207e-03,  1.23038463e-02,\n",
       "       -3.22328943e-02, -1.23041797e-01, -3.32447545e-02, -7.48019665e-04,\n",
       "        1.64932894e-01,  2.05589972e-01, -3.99886680e-02, -4.89076500e-02,\n",
       "       -4.36700465e-02, -1.50282814e-01, -2.59457119e-02,  1.34450427e-01,\n",
       "        1.53907708e-02, -2.26598683e-03,  9.73287964e-02,  1.51583243e-01,\n",
       "        6.47600641e-02,  5.85517474e-02, -1.57137622e-01,  1.16854645e-01,\n",
       "        1.04694522e-01, -4.70496186e-03,  3.42248657e-01, -1.72740516e-01,\n",
       "       -5.26267874e-02, -4.68619385e-02,  1.57444389e-02,  6.29507114e-03,\n",
       "       -9.23639437e-02,  1.26490953e-02,  4.81259639e-02, -9.92993576e-03,\n",
       "        9.51276583e-02,  5.22257388e-03, -2.30989221e-01,  8.83672635e-02,\n",
       "        1.33473856e-01, -1.34874692e-01, -9.26923336e-02, -1.11844506e-01,\n",
       "       -1.22059313e-01, -1.84837302e-01,  3.19754065e-02, -5.73036658e-02,\n",
       "        5.22557298e-02,  8.78588328e-02,  9.39663301e-02, -6.93004156e-02,\n",
       "        6.22022151e-02,  2.14275134e-02, -4.08492784e-02,  8.50224855e-02,\n",
       "        2.14497150e-02,  7.49583089e-02, -9.47063596e-02, -8.57504010e-02,\n",
       "       -5.34529773e-02,  2.08832967e-01, -1.75848541e-01, -1.20967353e-02,\n",
       "       -3.61803323e-02, -8.51384097e-02, -3.39496291e-03, -1.33072843e-01,\n",
       "       -1.55032434e-01,  1.95956769e-01,  2.06226598e-01,  8.43490909e-03,\n",
       "       -4.22060477e-02, -5.12032310e-02,  3.25043506e-02, -2.68214626e-01,\n",
       "        2.18713632e-01,  1.44289020e-01, -7.53977001e-02, -1.19389633e-01,\n",
       "        1.16762402e-01,  7.52359153e-02, -1.16497735e-01, -9.20394734e-02,\n",
       "        9.11776597e-02, -1.68270084e-02, -2.72197612e-02,  9.22589252e-02,\n",
       "        8.55502461e-02,  4.41625956e-02,  3.76890088e-02, -1.18582979e-01,\n",
       "        9.52977293e-02,  9.91282084e-03,  1.34411352e-01,  1.60374101e-01,\n",
       "        6.59821481e-02, -3.94210803e-02,  1.40685050e-01,  9.66774275e-02,\n",
       "       -2.09389421e-01, -5.00913219e-02, -8.16575290e-02, -4.41230747e-02,\n",
       "        1.53349382e-01,  3.35006192e-02, -1.28338046e-01, -7.93504915e-02,\n",
       "       -1.24932875e-01,  1.50659348e-01, -6.23468713e-02,  9.31740738e-03,\n",
       "        1.15152887e-01, -4.78197439e-02, -1.39950674e-02, -1.37828307e-02,\n",
       "       -2.54971155e-02, -1.73740568e-01, -3.61859488e-04,  1.44609911e-01,\n",
       "        1.34201285e-01, -9.69831533e-02,  1.51927379e-01, -2.07782684e-01,\n",
       "        2.97834234e-02,  7.12586045e-02,  2.36974714e-01,  6.25182063e-02,\n",
       "       -1.59314351e-01,  2.03418876e-01,  1.59319832e-02,  1.79146344e-01,\n",
       "       -5.60553595e-02,  1.17895231e-01,  1.87467678e-02, -1.44332676e-01,\n",
       "       -3.08632174e-02, -6.37781134e-02, -7.33948251e-03, -1.19681083e-01,\n",
       "       -4.85298404e-02,  8.99829601e-02,  9.32224380e-02,  5.28577470e-02,\n",
       "        3.79803019e-02,  7.24547617e-02, -9.09104149e-02,  2.11785374e-01,\n",
       "        8.84212799e-02, -1.93680635e-02, -7.59937329e-02,  2.51705504e-02,\n",
       "        5.29029127e-03, -5.92633747e-02, -2.18454015e-01, -1.56310131e-01,\n",
       "        3.82321837e-02, -5.93021844e-02,  1.55255413e-01, -1.27860020e-01,\n",
       "        2.70877888e-01, -2.09896232e-01,  7.41126460e-02, -5.99220768e-02,\n",
       "        4.97049938e-02, -8.06741565e-02, -5.98342052e-02, -1.68858727e-01,\n",
       "       -1.48598064e-02,  1.24230019e-02,  4.05832155e-02,  6.91300846e-02,\n",
       "       -3.73344915e-02, -1.23312969e-01,  1.32999089e-01, -1.05696760e-01,\n",
       "        5.97472846e-02,  1.18189356e-01, -2.16034775e-02, -2.98277438e-02,\n",
       "       -7.24362743e-02, -1.17605262e-01,  7.93857624e-02,  3.15316978e-02,\n",
       "        6.64732527e-02, -3.03988078e-02, -6.11745069e-03,  1.93029919e-01,\n",
       "       -5.03681324e-02, -1.51284208e-01,  1.23637403e-01,  1.61187503e-01,\n",
       "       -4.58983555e-02, -1.00325418e-01,  7.93216812e-03, -9.34824242e-02,\n",
       "        1.04480428e-01,  1.51765903e-01, -9.28906147e-02, -2.70260245e-02,\n",
       "       -4.29218138e-02, -1.43936568e-02,  1.24131785e-01,  2.35742422e-01,\n",
       "        3.65689397e-04,  6.88551466e-02,  3.88987834e-02,  2.13059864e-02,\n",
       "        1.71958507e-01, -5.08142440e-02,  8.06793260e-02, -3.68057933e-02,\n",
       "        7.58926036e-02,  8.45070637e-02,  8.59946183e-02,  5.23024394e-03,\n",
       "       -9.37864215e-02, -1.15643213e-01,  3.13554655e-02,  1.61281931e-01,\n",
       "       -1.47226885e-01, -2.57599882e-02, -1.36555259e-02, -3.79907464e-02,\n",
       "       -6.99954194e-02,  1.14599587e-01, -8.48240082e-02, -3.22691842e-02,\n",
       "        2.15769484e-01, -1.22089927e-01, -1.02045151e-01, -2.56051371e-03,\n",
       "       -3.18793394e-03,  6.04694902e-02,  1.44652678e-01, -7.08300726e-02,\n",
       "       -6.60706966e-02,  3.23686463e-02, -4.37983209e-02, -7.78646854e-02,\n",
       "       -5.56609904e-03,  6.33942255e-02,  7.97965620e-02,  2.35603054e-02,\n",
       "        1.77861725e-02,  4.11265179e-02, -8.02219460e-02,  4.55786213e-02,\n",
       "       -2.64055822e-02,  9.93313634e-02,  1.17499145e-01, -8.29458553e-02,\n",
       "       -1.10698428e-01, -1.50031845e-02, -1.61965740e-01,  5.11125227e-03,\n",
       "       -1.25177130e-02,  2.39635209e-02,  4.94217789e-02, -6.26923516e-03,\n",
       "        4.96357679e-02,  1.39701022e-02,  1.81914272e-01,  1.20847300e-01,\n",
       "       -1.36204842e-01, -9.21190611e-02, -2.95814389e-02, -6.65480408e-02,\n",
       "       -5.67903124e-02,  1.58347951e-01, -8.16131886e-02, -6.94443136e-02,\n",
       "       -6.89978575e-02, -1.07385491e-01, -9.74675541e-02, -1.27426578e-02,\n",
       "       -1.40627225e-04,  9.87224629e-02,  1.15446127e-01, -6.09859005e-02,\n",
       "        2.07023732e-01,  1.22203764e-01, -2.97072517e-02, -7.48328647e-02,\n",
       "       -1.49358565e-01, -7.28756630e-02,  1.07546423e-01, -2.21004233e-01,\n",
       "       -1.90952779e-01,  6.90955920e-02,  4.30010768e-02,  5.04045558e-02,\n",
       "        9.87915971e-02, -4.99855601e-03,  1.01531659e-01,  9.56611410e-02,\n",
       "       -5.48142201e-02, -9.49604458e-02,  1.94175131e-01, -1.15497735e-01,\n",
       "        4.56044301e-02,  1.13479259e-02, -2.17577517e-02, -3.98038559e-02,\n",
       "       -4.89917037e-02, -1.29572484e-01, -1.35756985e-01,  1.46838872e-01,\n",
       "        7.15705007e-02,  1.72464711e-01,  2.05004861e-02,  1.20135787e-01,\n",
       "       -5.74520609e-02, -1.38661952e-01, -1.83354523e-02,  8.73356620e-02,\n",
       "       -1.86796455e-02, -6.12474537e-02,  2.00857525e-01,  6.61241015e-03,\n",
       "        9.41623027e-02,  1.38554947e-01, -2.35108428e-01, -2.96704173e-02,\n",
       "        1.08398805e-01,  1.53087796e-01,  2.51784712e-01, -1.12818327e-01,\n",
       "       -1.61824953e-01, -4.96918373e-02,  2.51266841e-03,  1.61413639e-01,\n",
       "       -9.93651661e-02, -1.05331800e-01, -1.29868640e-02, -7.82558831e-02,\n",
       "        8.86347219e-02, -1.24365622e-01, -1.07528340e-01,  1.41422895e-01,\n",
       "        1.67959556e-01, -6.98369698e-02,  7.13397407e-02, -4.35762045e-02,\n",
       "        1.12998536e-01, -1.17812473e-02,  5.21983709e-02, -1.35287578e-01,\n",
       "        1.48733857e-01, -7.67816231e-02,  1.08857393e-01, -1.93502468e-02,\n",
       "        8.48772731e-02, -1.03211753e-01,  1.47005697e-01,  3.40196627e-02,\n",
       "        3.11799795e-02, -2.43686071e-02, -1.75317410e-01,  2.69056832e-02,\n",
       "       -6.64087702e-02,  5.16512630e-02, -8.70483654e-02,  2.75838971e-02,\n",
       "       -8.53862713e-02, -4.17019539e-02,  1.79752540e-02,  2.70636339e-02,\n",
       "       -9.40872381e-02, -3.29567740e-02,  2.30999316e-01,  1.27452647e-01,\n",
       "       -4.14770149e-02,  1.04912097e-02,  1.50441118e-02, -1.66979219e-01,\n",
       "        3.79036654e-01,  4.88011303e-02, -7.88507399e-02,  2.62435356e-02,\n",
       "        1.09836440e-01,  1.99331029e-02, -9.97639665e-02, -1.34665746e-01,\n",
       "       -1.28812343e-03, -1.11039398e-01,  2.43805788e-02,  6.00231613e-02,\n",
       "       -1.20546085e-02, -7.61510680e-03,  1.01213801e-01, -3.31216507e-02,\n",
       "        1.51584008e-01,  1.59609613e-02,  1.83152118e-01,  3.04580450e-02,\n",
       "        1.89989222e-01, -1.13000790e-01,  9.85736772e-02,  1.48151355e-01,\n",
       "       -2.96794698e-01,  1.26962924e-01, -8.12500021e-02,  1.26648806e-02,\n",
       "        5.59665474e-02, -3.69249086e-02, -3.05175314e-01, -4.30728607e-02,\n",
       "       -1.54202541e-01,  1.25199215e-01, -2.04257748e-02, -1.04598941e-01,\n",
       "        1.73335890e-01, -1.83648480e-02, -5.04995741e-02,  2.04934015e-02,\n",
       "        9.36500368e-02, -1.07905887e-01,  5.34227118e-04,  4.11182369e-02,\n",
       "        3.84907546e-02,  3.75142779e-02,  4.03607662e-02, -2.52711482e-02,\n",
       "       -6.72343907e-02,  1.35629638e-01,  1.81096844e-01, -5.30145502e-02,\n",
       "       -1.19369297e-01,  1.77631030e-02,  8.54332829e-02,  6.55188002e-02,\n",
       "       -2.35709697e-02, -3.31425183e-02,  1.95047551e-02, -1.56293012e-01,\n",
       "        2.23935675e-02, -1.15064341e-02, -4.97153451e-02, -2.59313782e-02,\n",
       "       -9.71111550e-02,  1.63495888e-01,  1.26106317e-01,  7.68696318e-02,\n",
       "       -4.47384827e-03,  9.94695214e-02, -1.88482746e-01,  2.48490361e-01,\n",
       "        6.58236888e-02,  8.52681578e-02,  4.63648116e-02, -4.61690867e-02,\n",
       "        3.27307240e-02, -5.08707749e-02, -9.46466227e-02, -6.47920823e-02,\n",
       "        4.48648781e-02, -6.78197903e-02,  1.57650682e-01, -2.34013463e-01,\n",
       "        1.60091966e-01, -7.55792800e-02, -4.63681947e-03, -8.50812159e-02,\n",
       "        3.57442473e-03, -6.26469385e-02, -4.61426328e-02, -1.94708536e-01,\n",
       "       -5.53579848e-02,  5.19374820e-03,  1.07265062e-03,  3.29317475e-02,\n",
       "       -7.17439099e-03, -8.85721830e-02,  6.94522286e-02,  1.26508023e-01,\n",
       "        4.24096991e-02, -2.48946215e-02, -9.80111510e-02,  6.52279469e-02,\n",
       "        4.79587677e-02, -2.20886320e-01,  1.30890434e-02, -8.80133063e-02,\n",
       "        1.42038152e-02, -3.65550630e-03,  1.42341938e-01,  8.50819275e-02,\n",
       "       -1.20004535e-01, -3.61615901e-01,  1.72437279e-01,  1.39917463e-01,\n",
       "       -6.07015453e-02, -9.35894589e-02,  2.47434278e-03, -1.12649233e-01,\n",
       "        1.04377585e-01, -3.53712564e-02, -4.88464602e-03, -1.47433275e-01,\n",
       "       -1.22825552e-01, -6.03504206e-02, -1.32065576e-01,  8.51063666e-02,\n",
       "        1.69160619e-01,  8.53539016e-02,  1.12838899e-01,  5.64902915e-02,\n",
       "       -2.41630385e-02,  5.76885940e-02, -1.24695140e-02, -8.15143551e-02,\n",
       "        1.22088355e-01,  8.99664294e-02,  3.74756505e-03, -8.67654880e-02,\n",
       "        7.24535758e-02, -9.62072437e-02, -1.04924170e-01,  8.70513593e-02,\n",
       "       -1.96847538e-01,  2.68535313e-02,  1.19306423e-01,  6.93592009e-02,\n",
       "       -1.80613335e-01, -2.61348573e-02, -2.26487120e-02, -5.44837459e-02,\n",
       "        1.90192552e-01, -9.78681172e-02, -1.51457959e-01, -9.02800262e-02,\n",
       "        6.42443286e-02,  1.36647703e-02,  2.93964241e-02, -4.88417269e-02,\n",
       "        2.87801571e-03, -1.60190624e-02, -6.28128275e-02, -1.68402262e-01,\n",
       "       -6.40873127e-02,  1.11362889e-01,  1.30984318e-01,  1.58410663e-01,\n",
       "        4.73268696e-02,  8.99194274e-02,  5.26577259e-02, -5.32440972e-02,\n",
       "       -4.06313855e-02,  6.57314975e-02,  5.73341735e-02, -1.85879289e-02,\n",
       "       -4.84918753e-02, -8.47266987e-02, -2.63634914e-03,  4.16803608e-03,\n",
       "        4.08717692e-02,  5.17406253e-03,  7.65409553e-02, -7.20738775e-03,\n",
       "        1.01084317e-01, -8.65432754e-02,  4.51897079e-02,  1.92945781e-01,\n",
       "       -1.53540070e-01, -1.00704129e-02, -7.60808635e-02, -7.16257878e-02,\n",
       "        1.57894455e-02,  4.12994586e-02, -1.51356064e-01, -2.30573787e-01,\n",
       "       -8.84336531e-02,  6.19462716e-02,  7.42487113e-03,  5.87218311e-02,\n",
       "        6.43460235e-03,  7.83836730e-02,  2.51940835e-01, -3.68661992e-03,\n",
       "        1.19083268e-01,  9.88756934e-02,  7.09688744e-02, -1.02022568e-01,\n",
       "        9.83615813e-02, -2.28194628e-01,  1.91233561e-01, -3.28162495e-01,\n",
       "       -1.30769468e-01,  7.52591317e-02,  7.01883746e-02, -5.52168395e-03,\n",
       "        2.70171938e-02, -4.22636804e-02,  9.63003406e-02,  8.71647708e-02,\n",
       "       -1.41536886e-01, -8.65925563e-02,  1.91715199e-01, -5.23755131e-02])"
      ]
     },
     "execution_count": 22,
     "metadata": {},
     "output_type": "execute_result"
    }
   ],
   "source": [
    "X_text_rv[0]"
   ]
  },
  {
   "cell_type": "markdown",
   "metadata": {},
   "source": [
    "comparing models"
   ]
  },
  {
   "cell_type": "code",
   "execution_count": 23,
   "metadata": {},
   "outputs": [],
   "source": [
    "from sklearn.model_selection import cross_val_score"
   ]
  },
  {
   "cell_type": "code",
   "execution_count": 24,
   "metadata": {},
   "outputs": [],
   "source": [
    "clf1 = RandomForestClassifier(n_estimators=100, max_depth=7, min_samples_leaf=15,\n",
    "                             class_weight='balanced')\n",
    "clf2 = LogisticRegression(C=10000, class_weight='balanced')"
   ]
  },
  {
   "cell_type": "code",
   "execution_count": 25,
   "metadata": {},
   "outputs": [
    {
     "name": "stdout",
     "output_type": "stream",
     "text": [
      "[0.45435685 0.46196404 0.50034602 0.34394464 0.35224913]\n",
      "[0.38934993 0.41493776 0.44013841 0.33564014 0.32249135]\n"
     ]
    }
   ],
   "source": [
    "%%capture --no-stdout _\n",
    "print(cross_val_score(clf1, X_text_w2v, y, scoring=\"f1_micro\"))\n",
    "print(cross_val_score(clf2, X_text_w2v, y, scoring=\"f1_micro\"))"
   ]
  },
  {
   "cell_type": "code",
   "execution_count": 26,
   "metadata": {},
   "outputs": [
    {
     "name": "stdout",
     "output_type": "stream",
     "text": [
      "[0.4329184  0.47164592 0.49688581 0.36262976 0.37854671]\n",
      "[0.39488243 0.41217151 0.43460208 0.34186851 0.3550173 ]\n"
     ]
    }
   ],
   "source": [
    "%%capture --no-stdout _\n",
    "print(cross_val_score(clf1, X_text_rv, y, scoring=\"f1_micro\"))\n",
    "print(cross_val_score(clf2, X_text_rv, y, scoring=\"f1_micro\"))"
   ]
  },
  {
   "cell_type": "markdown",
   "metadata": {},
   "source": [
    "В целом, результаты сопоставимы, но на готовой модели результаты чуть более стабильны."
   ]
  },
  {
   "cell_type": "markdown",
   "metadata": {},
   "source": [
    "## Task 2\n",
    "\n",
    "Преобразуйте тексты в векторы в каждой паре 5 методами  - SVD, NMF, Word2Vec (свой и  русвекторовский), Fastext. У вас должно получиться 5 пар векторов для каждой строчки в датасете. Между векторами каждой пары вычислите косинусную близость (получится 5 чисел для каждой пары).\n",
    "\n",
    "Постройте обучающую выборку из этих близостей . Обучите любую модель (Логрег, Рандом форест или что-то ещё) на этой выборке и оцените качество на кросс-валидации (используйте микросреднюю f1-меру).  Попробуйте улучить метрику, изменив параметры в методах векторизации.\n",
    "!!УТОЧНЕНИЕ: модель нужно обучить сразу на всех 5 близостях, а не по 1 модели на каждой близости!\n"
   ]
  },
  {
   "cell_type": "code",
   "execution_count": 27,
   "metadata": {},
   "outputs": [],
   "source": [
    "from sklearn.metrics.pairwise import cosine_distances, cosine_similarity"
   ]
  },
  {
   "cell_type": "markdown",
   "metadata": {},
   "source": [
    "5 vector types"
   ]
  },
  {
   "cell_type": "code",
   "execution_count": 28,
   "metadata": {},
   "outputs": [
    {
     "data": {
      "text/plain": [
       "TfidfVectorizer(max_df=0.4, max_features=1000, min_df=3)"
      ]
     },
     "execution_count": 28,
     "metadata": {},
     "output_type": "execute_result"
    }
   ],
   "source": [
    "tfidf = TfidfVectorizer(min_df=3, max_df=0.4, max_features=1000)\n",
    "tfidf.fit(pd.concat([data['text_1_norm'], data['text_2_norm']]))"
   ]
  },
  {
   "cell_type": "code",
   "execution_count": 29,
   "metadata": {},
   "outputs": [],
   "source": [
    "svd = TruncatedSVD(200)\n",
    "\n",
    "X_text_1_svd = svd.fit_transform(tfidf.transform(data['text_1_norm']))\n",
    "X_text_2_svd = svd.fit_transform(tfidf.transform(data['text_2_norm']))"
   ]
  },
  {
   "cell_type": "code",
   "execution_count": 30,
   "metadata": {},
   "outputs": [],
   "source": [
    "nmf = NMF(100)\n",
    "\n",
    "X_text_1_nmf = nmf.fit_transform(tfidf.transform(data['text_1_norm']))\n",
    "X_text_2_nmf = nmf.fit_transform(tfidf.transform(data['text_2_norm']))\n",
    "\n",
    "X_text_nmf = np.concatenate([X_text_1_nmf, X_text_2_nmf], axis=1)"
   ]
  },
  {
   "cell_type": "code",
   "execution_count": 31,
   "metadata": {},
   "outputs": [
    {
     "name": "stderr",
     "output_type": "stream",
     "text": [
      "<ipython-input-11-75724c73e890>:19: DeprecationWarning: Call to deprecated `__getitem__` (Method will be removed in 4.0.0, use self.wv.__getitem__() instead).\n",
      "  v = self.model[word]\n"
     ]
    }
   ],
   "source": [
    "w2v = gensim.models.Word2Vec([text for text in data_norm], size=50, sg=1)\n",
    "\n",
    "dim=50\n",
    "\n",
    "W2V = Vectorizer(w2v, dim)\n",
    "\n",
    "X_text_1_w2v = np.zeros((len(data['text_1_norm']), dim))\n",
    "X_text_2_w2v = np.zeros((len(data['text_2_norm']), dim))\n",
    "\n",
    "for i, text in enumerate(data['text_1_norm'].values):\n",
    "    X_text_1_w2v[i] = W2V.get_embedding(text)\n",
    "    \n",
    "for i, text in enumerate(data['text_2_norm'].values):\n",
    "    X_text_2_w2v[i] = W2V.get_embedding(text)"
   ]
  },
  {
   "cell_type": "code",
   "execution_count": 32,
   "metadata": {},
   "outputs": [
    {
     "name": "stderr",
     "output_type": "stream",
     "text": [
      "<ipython-input-11-75724c73e890>:19: DeprecationWarning: Call to deprecated `__getitem__` (Method will be removed in 4.0.0, use self.wv.__getitem__() instead).\n",
      "  v = self.model[word]\n"
     ]
    }
   ],
   "source": [
    "fast_text = gensim.models.FastText([text for text in data_norm], size=50, min_n=4, max_n=8) \n",
    "\n",
    "dim=50\n",
    "\n",
    "FT = Vectorizer(fast_text, dim)\n",
    "\n",
    "X_text_1_ft = np.zeros((len(data['text_1_norm']), dim))\n",
    "X_text_2_ft = np.zeros((len(data['text_2_norm']), dim))\n",
    "\n",
    "for i, text in enumerate(data['text_1_norm'].values):\n",
    "    X_text_1_ft[i] = FT.get_embedding(text)\n",
    "    \n",
    "for i, text in enumerate(data['text_2_norm'].values):\n",
    "    X_text_2_ft[i] = FT.get_embedding(text)"
   ]
  },
  {
   "cell_type": "code",
   "execution_count": 33,
   "metadata": {},
   "outputs": [],
   "source": [
    "dim=300\n",
    "\n",
    "RV = Vectorizer(rusvec, dim)\n",
    "\n",
    "X_text_1_rv = np.zeros((len(data['text_1_norm']), dim))\n",
    "X_text_2_rv = np.zeros((len(data['text_2_norm']), dim))\n",
    "\n",
    "for i, text in enumerate(data['text_1_norm'].values):\n",
    "    X_text_1_rv[i] = RV.get_embedding(text)\n",
    "    \n",
    "for i, text in enumerate(data['text_2_norm'].values):\n",
    "    X_text_2_rv[i] = RV.get_embedding(text)"
   ]
  },
  {
   "cell_type": "code",
   "execution_count": 34,
   "metadata": {},
   "outputs": [
    {
     "data": {
      "text/plain": [
       "array([[-0.0307519]])"
      ]
     },
     "execution_count": 34,
     "metadata": {},
     "output_type": "execute_result"
    }
   ],
   "source": [
    "cosine_similarity(X_text_1_svd[0:1], X_text_2_svd[0:1])"
   ]
  },
  {
   "cell_type": "code",
   "execution_count": 35,
   "metadata": {},
   "outputs": [],
   "source": [
    "def calculate_row_similarity(A, B):\n",
    "    \"\"\" calculates similarity between each row of matrix A and matrix B \"\"\"\n",
    "    output = []\n",
    "    for row in zip(A, B):\n",
    "        # add a value only\n",
    "        output.extend(cosine_similarity([row[0]], [row[1]])[0])\n",
    "        \n",
    "    return output"
   ]
  },
  {
   "cell_type": "code",
   "execution_count": 36,
   "metadata": {},
   "outputs": [
    {
     "data": {
      "text/html": [
       "<div>\n",
       "<style scoped>\n",
       "    .dataframe tbody tr th:only-of-type {\n",
       "        vertical-align: middle;\n",
       "    }\n",
       "\n",
       "    .dataframe tbody tr th {\n",
       "        vertical-align: top;\n",
       "    }\n",
       "\n",
       "    .dataframe thead th {\n",
       "        text-align: right;\n",
       "    }\n",
       "</style>\n",
       "<table border=\"1\" class=\"dataframe\">\n",
       "  <thead>\n",
       "    <tr style=\"text-align: right;\">\n",
       "      <th></th>\n",
       "      <th>svd</th>\n",
       "      <th>nmf</th>\n",
       "      <th>w2v</th>\n",
       "      <th>ft</th>\n",
       "      <th>rv</th>\n",
       "    </tr>\n",
       "  </thead>\n",
       "  <tbody>\n",
       "    <tr>\n",
       "      <th>0</th>\n",
       "      <td>-0.030752</td>\n",
       "      <td>0.005112</td>\n",
       "      <td>0.911452</td>\n",
       "      <td>0.874739</td>\n",
       "      <td>0.644788</td>\n",
       "    </tr>\n",
       "    <tr>\n",
       "      <th>1</th>\n",
       "      <td>0.091922</td>\n",
       "      <td>0.024277</td>\n",
       "      <td>0.920896</td>\n",
       "      <td>0.862422</td>\n",
       "      <td>0.809568</td>\n",
       "    </tr>\n",
       "    <tr>\n",
       "      <th>2</th>\n",
       "      <td>0.013451</td>\n",
       "      <td>0.045723</td>\n",
       "      <td>0.942523</td>\n",
       "      <td>0.791031</td>\n",
       "      <td>0.806049</td>\n",
       "    </tr>\n",
       "    <tr>\n",
       "      <th>3</th>\n",
       "      <td>-0.199296</td>\n",
       "      <td>0.018446</td>\n",
       "      <td>0.799912</td>\n",
       "      <td>0.552522</td>\n",
       "      <td>0.401639</td>\n",
       "    </tr>\n",
       "    <tr>\n",
       "      <th>4</th>\n",
       "      <td>-0.245774</td>\n",
       "      <td>0.012617</td>\n",
       "      <td>0.920818</td>\n",
       "      <td>0.653118</td>\n",
       "      <td>0.584889</td>\n",
       "    </tr>\n",
       "  </tbody>\n",
       "</table>\n",
       "</div>"
      ],
      "text/plain": [
       "        svd       nmf       w2v        ft        rv\n",
       "0 -0.030752  0.005112  0.911452  0.874739  0.644788\n",
       "1  0.091922  0.024277  0.920896  0.862422  0.809568\n",
       "2  0.013451  0.045723  0.942523  0.791031  0.806049\n",
       "3 -0.199296  0.018446  0.799912  0.552522  0.401639\n",
       "4 -0.245774  0.012617  0.920818  0.653118  0.584889"
      ]
     },
     "execution_count": 36,
     "metadata": {},
     "output_type": "execute_result"
    }
   ],
   "source": [
    "svd_sim = calculate_row_similarity(X_text_1_svd, X_text_2_svd)\n",
    "nmf_sim = calculate_row_similarity(X_text_1_nmf, X_text_2_nmf)\n",
    "w2v_sim = calculate_row_similarity(X_text_1_w2v, X_text_2_w2v)\n",
    "ft_sim = calculate_row_similarity(X_text_1_ft, X_text_2_ft)\n",
    "rv_sim = calculate_row_similarity(X_text_1_rv, X_text_2_rv)\n",
    "\n",
    "similarities = pd.DataFrame({\n",
    "    'svd': svd_sim,\n",
    "    \"nmf\": nmf_sim,\n",
    "    'w2v': w2v_sim,\n",
    "    'ft' : ft_sim,\n",
    "    'rv' : rv_sim,\n",
    "})\n",
    "\n",
    "similarities.head()"
   ]
  },
  {
   "cell_type": "markdown",
   "metadata": {},
   "source": [
    "Классификаторы 1"
   ]
  },
  {
   "cell_type": "code",
   "execution_count": 37,
   "metadata": {},
   "outputs": [],
   "source": [
    "clf1 = RandomForestClassifier(n_estimators=100, max_depth=7, min_samples_leaf=15,\n",
    "                             class_weight='balanced')\n",
    "clf2 = LogisticRegression(C=10000, class_weight='balanced')"
   ]
  },
  {
   "cell_type": "code",
   "execution_count": 38,
   "metadata": {},
   "outputs": [
    {
     "name": "stdout",
     "output_type": "stream",
     "text": [
      "[0.53941909 0.57053942 0.60553633 0.47128028 0.46366782]\n",
      "[0.51590595 0.53872752 0.57577855 0.44290657 0.45467128]\n"
     ]
    }
   ],
   "source": [
    "%%capture --no-stdout _\n",
    "print(cross_val_score(clf1, similarities, y, scoring=\"f1_micro\"))\n",
    "print(cross_val_score(clf2, similarities, y, scoring=\"f1_micro\"))"
   ]
  },
  {
   "cell_type": "markdown",
   "metadata": {},
   "source": [
    "Результаты существенно выше, но разброс сохраняется"
   ]
  },
  {
   "cell_type": "markdown",
   "metadata": {},
   "source": [
    "Классификаторы 2: Изменение гиперпараметров (увеличение или уменьшение) не дает ощутимой разницы в результатах"
   ]
  },
  {
   "cell_type": "code",
   "execution_count": 39,
   "metadata": {},
   "outputs": [],
   "source": [
    "clf1 = RandomForestClassifier(n_estimators=50, max_depth=5, min_samples_leaf=10,\n",
    "                             class_weight='balanced')\n",
    "clf2 = LogisticRegression(C=1000, class_weight='balanced')"
   ]
  },
  {
   "cell_type": "code",
   "execution_count": 40,
   "metadata": {},
   "outputs": [
    {
     "name": "stdout",
     "output_type": "stream",
     "text": [
      "[0.53803596 0.57607192 0.61384083 0.46712803 0.46228374]\n",
      "[0.51452282 0.53803596 0.57577855 0.44290657 0.45467128]\n"
     ]
    }
   ],
   "source": [
    "%%capture --no-stdout _\n",
    "print(cross_val_score(clf1, similarities, y, scoring=\"f1_micro\"))\n",
    "print(cross_val_score(clf2, similarities, y, scoring=\"f1_micro\"))"
   ]
  },
  {
   "cell_type": "markdown",
   "metadata": {},
   "source": [
    "Оба классификатора, обученные на косинусной близости, дают более высокий результат в сравнении с классификаторами обученными только на эмбеддингах ~ +0.1\n"
   ]
  },
  {
   "cell_type": "markdown",
   "metadata": {},
   "source": [
    "**Изменение параметров при векторизации**"
   ]
  },
  {
   "cell_type": "code",
   "execution_count": 41,
   "metadata": {},
   "outputs": [
    {
     "data": {
      "text/plain": [
       "TfidfVectorizer(max_df=0.7, max_features=2000, min_df=5)"
      ]
     },
     "execution_count": 41,
     "metadata": {},
     "output_type": "execute_result"
    }
   ],
   "source": [
    "tfidf = TfidfVectorizer(min_df=5, max_df=0.7, max_features=2000)\n",
    "tfidf.fit(pd.concat([data['text_1_norm'], data['text_2_norm']]))"
   ]
  },
  {
   "cell_type": "code",
   "execution_count": 42,
   "metadata": {},
   "outputs": [],
   "source": [
    "svd = TruncatedSVD(300)\n",
    "\n",
    "X_text_1_svd = svd.fit_transform(tfidf.transform(data['text_1_norm']))\n",
    "X_text_2_svd = svd.fit_transform(tfidf.transform(data['text_2_norm']))"
   ]
  },
  {
   "cell_type": "code",
   "execution_count": 43,
   "metadata": {},
   "outputs": [
    {
     "name": "stderr",
     "output_type": "stream",
     "text": [
      "c:\\users\\denis\\appdata\\local\\programs\\python\\python38\\lib\\site-packages\\sklearn\\decomposition\\_nmf.py:1076: ConvergenceWarning: Maximum number of iterations 200 reached. Increase it to improve convergence.\n",
      "  warnings.warn(\"Maximum number of iterations %d reached. Increase it to\"\n"
     ]
    }
   ],
   "source": [
    "nmf = NMF(150)\n",
    "\n",
    "X_text_1_nmf = nmf.fit_transform(tfidf.transform(data['text_1_norm']))\n",
    "X_text_2_nmf = nmf.fit_transform(tfidf.transform(data['text_2_norm']))\n",
    "\n",
    "X_text_nmf = np.concatenate([X_text_1_nmf, X_text_2_nmf], axis=1)"
   ]
  },
  {
   "cell_type": "code",
   "execution_count": 44,
   "metadata": {},
   "outputs": [
    {
     "name": "stderr",
     "output_type": "stream",
     "text": [
      "<ipython-input-11-75724c73e890>:19: DeprecationWarning: Call to deprecated `__getitem__` (Method will be removed in 4.0.0, use self.wv.__getitem__() instead).\n",
      "  v = self.model[word]\n"
     ]
    }
   ],
   "source": [
    "w2v = gensim.models.Word2Vec([text for text in data_norm], size=100, sg=1)\n",
    "\n",
    "dim=100\n",
    "\n",
    "W2V = Vectorizer(w2v, dim)\n",
    "\n",
    "X_text_1_w2v = np.zeros((len(data['text_1_norm']), dim))\n",
    "X_text_2_w2v = np.zeros((len(data['text_2_norm']), dim))\n",
    "\n",
    "for i, text in enumerate(data['text_1_norm'].values):\n",
    "    X_text_1_w2v[i] = W2V.get_embedding(text)\n",
    "    \n",
    "for i, text in enumerate(data['text_2_norm'].values):\n",
    "    X_text_2_w2v[i] = W2V.get_embedding(text)"
   ]
  },
  {
   "cell_type": "code",
   "execution_count": 45,
   "metadata": {},
   "outputs": [
    {
     "name": "stderr",
     "output_type": "stream",
     "text": [
      "<ipython-input-11-75724c73e890>:19: DeprecationWarning: Call to deprecated `__getitem__` (Method will be removed in 4.0.0, use self.wv.__getitem__() instead).\n",
      "  v = self.model[word]\n"
     ]
    }
   ],
   "source": [
    "fast_text = gensim.models.FastText([text for text in data_norm], size=100, min_n=2, max_n=10) \n",
    "\n",
    "dim=100\n",
    "\n",
    "FT = Vectorizer(fast_text, dim)\n",
    "\n",
    "X_text_1_ft = np.zeros((len(data['text_1_norm']), dim))\n",
    "X_text_2_ft = np.zeros((len(data['text_2_norm']), dim))\n",
    "\n",
    "for i, text in enumerate(data['text_1_norm'].values):\n",
    "    X_text_1_ft[i] = FT.get_embedding(text)\n",
    "    \n",
    "for i, text in enumerate(data['text_2_norm'].values):\n",
    "    X_text_2_ft[i] = FT.get_embedding(text)"
   ]
  },
  {
   "cell_type": "code",
   "execution_count": 46,
   "metadata": {},
   "outputs": [],
   "source": [
    "dim=300\n",
    "\n",
    "RV = Vectorizer(rusvec, dim)\n",
    "\n",
    "X_text_1_rv = np.zeros((len(data['text_1_norm']), dim))\n",
    "X_text_2_rv = np.zeros((len(data['text_2_norm']), dim))\n",
    "\n",
    "for i, text in enumerate(data['text_1_norm'].values):\n",
    "    X_text_1_rv[i] = RV.get_embedding(text)\n",
    "    \n",
    "for i, text in enumerate(data['text_2_norm'].values):\n",
    "    X_text_2_rv[i] = RV.get_embedding(text)"
   ]
  },
  {
   "cell_type": "code",
   "execution_count": 47,
   "metadata": {},
   "outputs": [
    {
     "data": {
      "text/html": [
       "<div>\n",
       "<style scoped>\n",
       "    .dataframe tbody tr th:only-of-type {\n",
       "        vertical-align: middle;\n",
       "    }\n",
       "\n",
       "    .dataframe tbody tr th {\n",
       "        vertical-align: top;\n",
       "    }\n",
       "\n",
       "    .dataframe thead th {\n",
       "        text-align: right;\n",
       "    }\n",
       "</style>\n",
       "<table border=\"1\" class=\"dataframe\">\n",
       "  <thead>\n",
       "    <tr style=\"text-align: right;\">\n",
       "      <th></th>\n",
       "      <th>svd</th>\n",
       "      <th>nmf</th>\n",
       "      <th>w2v</th>\n",
       "      <th>ft</th>\n",
       "      <th>rv</th>\n",
       "    </tr>\n",
       "  </thead>\n",
       "  <tbody>\n",
       "    <tr>\n",
       "      <th>0</th>\n",
       "      <td>-0.103870</td>\n",
       "      <td>0.000000</td>\n",
       "      <td>0.879351</td>\n",
       "      <td>0.880637</td>\n",
       "      <td>0.644788</td>\n",
       "    </tr>\n",
       "    <tr>\n",
       "      <th>1</th>\n",
       "      <td>-0.103921</td>\n",
       "      <td>0.031926</td>\n",
       "      <td>0.903738</td>\n",
       "      <td>0.876320</td>\n",
       "      <td>0.809568</td>\n",
       "    </tr>\n",
       "    <tr>\n",
       "      <th>2</th>\n",
       "      <td>-0.038017</td>\n",
       "      <td>0.002405</td>\n",
       "      <td>0.907921</td>\n",
       "      <td>0.780492</td>\n",
       "      <td>0.806049</td>\n",
       "    </tr>\n",
       "    <tr>\n",
       "      <th>3</th>\n",
       "      <td>-0.110080</td>\n",
       "      <td>0.063408</td>\n",
       "      <td>0.767054</td>\n",
       "      <td>0.583848</td>\n",
       "      <td>0.401639</td>\n",
       "    </tr>\n",
       "    <tr>\n",
       "      <th>4</th>\n",
       "      <td>-0.097454</td>\n",
       "      <td>0.000000</td>\n",
       "      <td>0.901347</td>\n",
       "      <td>0.660946</td>\n",
       "      <td>0.584889</td>\n",
       "    </tr>\n",
       "  </tbody>\n",
       "</table>\n",
       "</div>"
      ],
      "text/plain": [
       "        svd       nmf       w2v        ft        rv\n",
       "0 -0.103870  0.000000  0.879351  0.880637  0.644788\n",
       "1 -0.103921  0.031926  0.903738  0.876320  0.809568\n",
       "2 -0.038017  0.002405  0.907921  0.780492  0.806049\n",
       "3 -0.110080  0.063408  0.767054  0.583848  0.401639\n",
       "4 -0.097454  0.000000  0.901347  0.660946  0.584889"
      ]
     },
     "execution_count": 47,
     "metadata": {},
     "output_type": "execute_result"
    }
   ],
   "source": [
    "svd_sim = calculate_row_similarity(X_text_1_svd, X_text_2_svd)\n",
    "nmf_sim = calculate_row_similarity(X_text_1_nmf, X_text_2_nmf)\n",
    "w2v_sim = calculate_row_similarity(X_text_1_w2v, X_text_2_w2v)\n",
    "ft_sim = calculate_row_similarity(X_text_1_ft, X_text_2_ft)\n",
    "rv_sim = calculate_row_similarity(X_text_1_rv, X_text_2_rv)\n",
    "\n",
    "similarities = pd.DataFrame({\n",
    "    'svd': svd_sim,\n",
    "    \"nmf\": nmf_sim,\n",
    "    'w2v': w2v_sim,\n",
    "    'ft' : ft_sim,\n",
    "    'rv' : rv_sim,\n",
    "})\n",
    "\n",
    "similarities.head()"
   ]
  },
  {
   "cell_type": "markdown",
   "metadata": {},
   "source": [
    "сравннение"
   ]
  },
  {
   "cell_type": "code",
   "execution_count": 48,
   "metadata": {},
   "outputs": [],
   "source": [
    "clf1 = RandomForestClassifier(n_estimators=100, max_depth=7, min_samples_leaf=15,\n",
    "                             class_weight='balanced')\n",
    "clf2 = LogisticRegression(C=10000, class_weight='balanced')"
   ]
  },
  {
   "cell_type": "code",
   "execution_count": 49,
   "metadata": {},
   "outputs": [
    {
     "name": "stdout",
     "output_type": "stream",
     "text": [
      "[0.5373444  0.5670816  0.60069204 0.46782007 0.45743945]\n",
      "[0.52213001 0.53665284 0.57716263 0.44567474 0.44290657]\n"
     ]
    }
   ],
   "source": [
    "%%capture --no-stdout _\n",
    "print(cross_val_score(clf1, similarities, y, scoring=\"f1_micro\"))\n",
    "print(cross_val_score(clf2, similarities, y, scoring=\"f1_micro\"))"
   ]
  },
  {
   "cell_type": "code",
   "execution_count": 50,
   "metadata": {},
   "outputs": [],
   "source": [
    "clf1 = RandomForestClassifier(n_estimators=50, max_depth=5, min_samples_leaf=10,\n",
    "                             class_weight='balanced')\n",
    "clf2 = LogisticRegression(C=1000, class_weight='balanced')"
   ]
  },
  {
   "cell_type": "code",
   "execution_count": 51,
   "metadata": {},
   "outputs": [
    {
     "name": "stdout",
     "output_type": "stream",
     "text": [
      "[0.52766252 0.57261411 0.61245675 0.46020761 0.46920415]\n",
      "[0.52213001 0.53665284 0.57716263 0.44567474 0.44290657]\n"
     ]
    }
   ],
   "source": [
    "%%capture --no-stdout _\n",
    "print(cross_val_score(clf1, similarities, y, scoring=\"f1_micro\"))\n",
    "print(cross_val_score(clf2, similarities, y, scoring=\"f1_micro\"))"
   ]
  },
  {
   "cell_type": "markdown",
   "metadata": {},
   "source": [
    "Изменение параметров не дает заметной разницы (+-0.03)"
   ]
  }
 ],
 "metadata": {
  "kernelspec": {
   "display_name": "Python 3",
   "language": "python",
   "name": "python3"
  },
  "language_info": {
   "codemirror_mode": {
    "name": "ipython",
    "version": 3
   },
   "file_extension": ".py",
   "mimetype": "text/x-python",
   "name": "python",
   "nbconvert_exporter": "python",
   "pygments_lexer": "ipython3",
   "version": "3.8.2"
  }
 },
 "nbformat": 4,
 "nbformat_minor": 4
}
