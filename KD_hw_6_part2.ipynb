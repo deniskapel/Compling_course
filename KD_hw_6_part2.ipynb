{
  "nbformat": 4,
  "nbformat_minor": 0,
  "metadata": {
    "colab": {
      "name": "KD_hw_6_part2.ipynb\"",
      "provenance": [],
      "collapsed_sections": [
        "yvkS-WG-1tEV",
        "FVsxfDBb4nYV"
      ],
      "toc_visible": true,
      "include_colab_link": true
    },
    "kernelspec": {
      "display_name": "Python 3",
      "language": "python",
      "name": "python3"
    },
    "language_info": {
      "codemirror_mode": {
        "name": "ipython",
        "version": 3
      },
      "file_extension": ".py",
      "mimetype": "text/x-python",
      "name": "python",
      "nbconvert_exporter": "python",
      "pygments_lexer": "ipython3",
      "version": "3.6.5"
    }
  },
  "cells": [
    {
      "cell_type": "markdown",
      "metadata": {
        "id": "view-in-github",
        "colab_type": "text"
      },
      "source": [
        "<a href=\"https://colab.research.google.com/github/deniskapel/Compling_course/blob/master/KD_hw_6_part2.ipynb\" target=\"_parent\"><img src=\"https://colab.research.google.com/assets/colab-badge.svg\" alt=\"Open In Colab\"/></a>"
      ]
    },
    {
      "cell_type": "markdown",
      "metadata": {
        "id": "DGYYCeQh0YFl"
      },
      "source": [
        "# BigARTM"
      ]
    },
    {
      "cell_type": "markdown",
      "metadata": {
        "id": "fAA_Q5jy14he"
      },
      "source": [
        "## installing BigARTM and pymorphy"
      ]
    },
    {
      "cell_type": "code",
      "metadata": {
        "colab": {
          "base_uri": "https://localhost:8080/"
        },
        "id": "onayCA5_0bOP",
        "outputId": "b15933b2-c6ed-47d8-999b-9679c0dca910"
      },
      "source": [
        "!apt-get --yes install git make cmake build-essential libboost-all-dev"
      ],
      "execution_count": 1,
      "outputs": [
        {
          "output_type": "stream",
          "text": [
            "Reading package lists... Done\n",
            "Building dependency tree       \n",
            "Reading state information... Done\n",
            "build-essential is already the newest version (12.4ubuntu1).\n",
            "make is already the newest version (4.1-9.1ubuntu1).\n",
            "make set to manually installed.\n",
            "libboost-all-dev is already the newest version (1.65.1.0ubuntu1).\n",
            "cmake is already the newest version (3.10.2-1ubuntu2.18.04.1).\n",
            "git is already the newest version (1:2.17.1-1ubuntu0.7).\n",
            "0 upgraded, 0 newly installed, 0 to remove and 13 not upgraded.\n"
          ],
          "name": "stdout"
        }
      ]
    },
    {
      "cell_type": "code",
      "metadata": {
        "colab": {
          "base_uri": "https://localhost:8080/"
        },
        "id": "RUiaLQ520oZH",
        "outputId": "f8eeb4b3-1efa-4bcd-b500-7e018fa320c7"
      },
      "source": [
        "!pip install protobuf tqdm wheel"
      ],
      "execution_count": 2,
      "outputs": [
        {
          "output_type": "stream",
          "text": [
            "Requirement already satisfied: protobuf in /usr/local/lib/python3.6/dist-packages (3.12.4)\n",
            "Requirement already satisfied: tqdm in /usr/local/lib/python3.6/dist-packages (4.41.1)\n",
            "Requirement already satisfied: wheel in /usr/local/lib/python3.6/dist-packages (0.36.2)\n",
            "Requirement already satisfied: six>=1.9 in /usr/local/lib/python3.6/dist-packages (from protobuf) (1.15.0)\n",
            "Requirement already satisfied: setuptools in /usr/local/lib/python3.6/dist-packages (from protobuf) (51.3.3)\n"
          ],
          "name": "stdout"
        }
      ]
    },
    {
      "cell_type": "code",
      "metadata": {
        "colab": {
          "base_uri": "https://localhost:8080/"
        },
        "id": "XUB9Dk0-05fi",
        "outputId": "3c75fc78-dcd2-4793-af67-2dc8e844da75"
      },
      "source": [
        "!git clone --branch=stable https://github.com/bigartm/bigartm.git"
      ],
      "execution_count": 3,
      "outputs": [
        {
          "output_type": "stream",
          "text": [
            "Cloning into 'bigartm'...\n",
            "remote: Enumerating objects: 27, done.\u001b[K\n",
            "remote: Counting objects: 100% (27/27), done.\u001b[K\n",
            "remote: Compressing objects: 100% (27/27), done.\u001b[K\n",
            "remote: Total 16618 (delta 6), reused 6 (delta 0), pack-reused 16591\u001b[K\n",
            "Receiving objects: 100% (16618/16618), 17.21 MiB | 21.03 MiB/s, done.\n",
            "Resolving deltas: 100% (11613/11613), done.\n"
          ],
          "name": "stdout"
        }
      ]
    },
    {
      "cell_type": "code",
      "metadata": {
        "colab": {
          "base_uri": "https://localhost:8080/"
        },
        "id": "C7ARp6n4081Q",
        "outputId": "24b5182b-5bc9-4dd4-a137-29502b9027d5"
      },
      "source": [
        "cd bigartm"
      ],
      "execution_count": 4,
      "outputs": [
        {
          "output_type": "stream",
          "text": [
            "/content/bigartm\n"
          ],
          "name": "stdout"
        }
      ]
    },
    {
      "cell_type": "code",
      "metadata": {
        "id": "Gy3B--b40_X0"
      },
      "source": [
        "mkdir build"
      ],
      "execution_count": 5,
      "outputs": []
    },
    {
      "cell_type": "code",
      "metadata": {
        "colab": {
          "base_uri": "https://localhost:8080/"
        },
        "id": "FNqpGY4_1C4n",
        "outputId": "90996cc1-13f5-450b-9d6c-60674e2d88ba"
      },
      "source": [
        "cd build"
      ],
      "execution_count": 6,
      "outputs": [
        {
          "output_type": "stream",
          "text": [
            "/content/bigartm/build\n"
          ],
          "name": "stdout"
        }
      ]
    },
    {
      "cell_type": "code",
      "metadata": {
        "colab": {
          "base_uri": "https://localhost:8080/"
        },
        "id": "ol4bRDUD1EDN",
        "outputId": "f28aae9a-fc48-4e58-82fe-b295666d1c69"
      },
      "source": [
        "!cmake .."
      ],
      "execution_count": 7,
      "outputs": [
        {
          "output_type": "stream",
          "text": [
            "-- The C compiler identification is GNU 7.5.0\n",
            "-- The CXX compiler identification is GNU 7.5.0\n",
            "-- Check for working C compiler: /usr/bin/cc\n",
            "-- Check for working C compiler: /usr/bin/cc -- works\n",
            "-- Detecting C compiler ABI info\n",
            "-- Detecting C compiler ABI info - done\n",
            "-- Detecting C compile features\n",
            "-- Detecting C compile features - done\n",
            "-- Check for working CXX compiler: /usr/bin/c++\n",
            "-- Check for working CXX compiler: /usr/bin/c++ -- works\n",
            "-- Detecting CXX compiler ABI info\n",
            "-- Detecting CXX compiler ABI info - done\n",
            "-- Detecting CXX compile features\n",
            "-- Detecting CXX compile features - done\n",
            "-- Build type: Release\n",
            "-- Looking for include file unistd.h\n",
            "-- Looking for include file unistd.h - found\n",
            "-- Boost version: 1.65.1\n",
            "-- Looking for pthread.h\n",
            "-- Looking for pthread.h - found\n",
            "-- Looking for pthread_create\n",
            "-- Looking for pthread_create - not found\n",
            "-- Looking for pthread_create in pthreads\n",
            "-- Looking for pthread_create in pthreads - not found\n",
            "-- Looking for pthread_create in pthread\n",
            "-- Looking for pthread_create in pthread - found\n",
            "-- Found Threads: TRUE  \n",
            "-- Boost version: 1.65.1\n",
            "-- Found the following Boost libraries:\n",
            "--   thread\n",
            "--   program_options\n",
            "--   date_time\n",
            "--   filesystem\n",
            "--   iostreams\n",
            "--   system\n",
            "--   chrono\n",
            "--   timer\n",
            "--   atomic\n",
            "--   regex\n",
            "-- Looking for C++ include stdint.h\n",
            "-- Looking for C++ include stdint.h - found\n",
            "-- Looking for C++ include inttypes.h\n",
            "-- Looking for C++ include inttypes.h - found\n",
            "-- Looking for C++ include sys/types.h\n",
            "-- Looking for C++ include sys/types.h - found\n",
            "-- Looking for C++ include sys/stat.h\n",
            "-- Looking for C++ include sys/stat.h - found\n",
            "-- Looking for C++ include fnmatch.h\n",
            "-- Looking for C++ include fnmatch.h - found\n",
            "-- Looking for strtoll\n",
            "-- Looking for strtoll - found\n",
            "-- Looking for C++ include stddef.h\n",
            "-- Looking for C++ include stddef.h - found\n",
            "-- Check size of pthread_rwlock_t\n",
            "-- Check size of pthread_rwlock_t - done\n",
            "-- Looking for dlfcn.h\n",
            "-- Looking for dlfcn.h - found\n",
            "-- Looking for execinfo.h\n",
            "-- Looking for execinfo.h - found\n",
            "-- Looking for glob.h\n",
            "-- Looking for glob.h - found\n",
            "-- Looking for libunwind.h\n",
            "-- Looking for libunwind.h - not found\n",
            "-- Looking for memory.h\n",
            "-- Looking for memory.h - found\n",
            "-- Looking for pwd.h\n",
            "-- Looking for pwd.h - found\n",
            "-- Looking for stdlib.h\n",
            "-- Looking for stdlib.h - found\n",
            "-- Looking for string.h\n",
            "-- Looking for string.h - found\n",
            "-- Looking for strings.h\n",
            "-- Looking for strings.h - found\n",
            "-- Looking for sys/syscall.h\n",
            "-- Looking for sys/syscall.h - found\n",
            "-- Looking for sys/time.h\n",
            "-- Looking for sys/time.h - found\n",
            "-- Looking for sys/utsname.h\n",
            "-- Looking for sys/utsname.h - found\n",
            "-- Looking for syscall.h\n",
            "-- Looking for syscall.h - found\n",
            "-- Looking for syslog.h\n",
            "-- Looking for syslog.h - found\n",
            "-- Looking for ucontext.h\n",
            "-- Looking for ucontext.h - found\n",
            "-- Looking for unwind.h\n",
            "-- Looking for unwind.h - found\n",
            "-- Looking for C++ include ext/hash_map\n",
            "-- Looking for C++ include ext/hash_map - found\n",
            "-- Looking for C++ include ext/hash_set\n",
            "-- Looking for C++ include ext/hash_set - found\n",
            "-- Looking for C++ include ext/slist\n",
            "-- Looking for C++ include ext/slist - found\n",
            "-- Looking for C++ include tr1/unordered_map\n",
            "-- Looking for C++ include tr1/unordered_map - found\n",
            "-- Looking for C++ include tr1/unordered_set\n",
            "-- Looking for C++ include tr1/unordered_set - found\n",
            "-- Looking for C++ include unordered_map\n",
            "-- Looking for C++ include unordered_map - found\n",
            "-- Looking for C++ include unordered_set\n",
            "-- Looking for C++ include unordered_set - found\n",
            "-- Check size of unsigned __int16\n",
            "-- Check size of unsigned __int16 - failed\n",
            "-- Check size of u_int16_t\n",
            "-- Check size of u_int16_t - done\n",
            "-- Check size of uint16_t\n",
            "-- Check size of uint16_t - done\n",
            "-- Looking for dladdr\n",
            "-- Looking for dladdr - not found\n",
            "-- Looking for fcntl\n",
            "-- Looking for fcntl - found\n",
            "-- Looking for pread\n",
            "-- Looking for pread - found\n",
            "-- Looking for pwrite\n",
            "-- Looking for pwrite - found\n",
            "-- Looking for sigaction\n",
            "-- Looking for sigaction - found\n",
            "-- Looking for sigaltstack\n",
            "-- Looking for sigaltstack - found\n",
            "-- Performing Test HAVE_NO_DEPRECATED\n",
            "-- Performing Test HAVE_NO_DEPRECATED - Success\n",
            "-- Performing Test HAVE_NO_UNNAMED_TYPE_TEMPLATE_ARGS\n",
            "-- Performing Test HAVE_NO_UNNAMED_TYPE_TEMPLATE_ARGS - Failed\n",
            "-- Looking for snprintf\n",
            "-- Looking for snprintf - found\n",
            "-- Looking for get_static_proc_name in unwind\n",
            "-- Looking for get_static_proc_name in unwind - not found\n",
            "-- Performing Test HAVE___ATTRIBUTE__\n",
            "-- Performing Test HAVE___ATTRIBUTE__ - Success\n",
            "-- Performing Test HAVE___ATTRIBUTE__VISIBILITY_DEFAULT\n",
            "-- Performing Test HAVE___ATTRIBUTE__VISIBILITY_DEFAULT - Success\n",
            "-- Performing Test HAVE___ATTRIBUTE__VISIBILITY_HIDDEN\n",
            "-- Performing Test HAVE___ATTRIBUTE__VISIBILITY_HIDDEN - Success\n",
            "-- Performing Test HAVE___BUILTIN_EXPECT\n",
            "-- Performing Test HAVE___BUILTIN_EXPECT - Success\n",
            "-- Performing Test HAVE___SYNC_VAL_COMPARE_AND_SWAP\n",
            "-- Performing Test HAVE___SYNC_VAL_COMPARE_AND_SWAP - Success\n",
            "-- Performing Test HAVE___DECLSPEC\n",
            "-- Performing Test HAVE___DECLSPEC - Failed\n",
            "-- Performing Test STL_NO_NAMESPACE\n",
            "-- Performing Test STL_NO_NAMESPACE - Failed\n",
            "-- Performing Test STL_STD_NAMESPACE\n",
            "-- Performing Test STL_STD_NAMESPACE - Success\n",
            "-- Performing Test HAVE_USING_OPERATOR\n",
            "-- Performing Test HAVE_USING_OPERATOR - Success\n",
            "-- Performing Test HAVE_NAMESPACES\n",
            "-- Performing Test HAVE_NAMESPACES - Success\n",
            "CMake Warning (dev) at 3rdparty/protobuf-3.0.0/cmake/install.cmake:41 (message):\n",
            "  The file\n",
            "  \"/content/bigartm/3rdparty/protobuf-3.0.0/src/google/protobuf/repeated_field_reflection.h\"\n",
            "  is listed in\n",
            "  \"/content/bigartm/3rdparty/protobuf-3.0.0/cmake/cmake/extract_includes.bat.in\"\n",
            "  but there not exists.  The file will not be installed.\n",
            "Call Stack (most recent call first):\n",
            "  3rdparty/protobuf-3.0.0/cmake/CMakeLists.txt:159 (include)\n",
            "This warning is for project developers.  Use -Wno-dev to suppress it.\n",
            "\n",
            "-- Performing Test COMPILER_SUPPORTS_CXX11\n",
            "-- Performing Test COMPILER_SUPPORTS_CXX11 - Success\n",
            "-- Performing Test COMPILER_SUPPORTS_CXX0X\n",
            "-- Performing Test COMPILER_SUPPORTS_CXX0X - Success\n",
            "-- Performing Test COMPILER_HAS_HIDDEN_VISIBILITY\n",
            "-- Performing Test COMPILER_HAS_HIDDEN_VISIBILITY - Success\n",
            "-- Performing Test COMPILER_HAS_HIDDEN_INLINE_VISIBILITY\n",
            "-- Performing Test COMPILER_HAS_HIDDEN_INLINE_VISIBILITY - Success\n",
            "-- Performing Test COMPILER_HAS_DEPRECATED_ATTR\n",
            "-- Performing Test COMPILER_HAS_DEPRECATED_ATTR - Success\n",
            "-- Configuring done\n",
            "-- Generating done\n",
            "-- Build files have been written to: /content/bigartm/build\n"
          ],
          "name": "stdout"
        }
      ]
    },
    {
      "cell_type": "code",
      "metadata": {
        "colab": {
          "base_uri": "https://localhost:8080/"
        },
        "id": "AcxbRUrQ1IKk",
        "outputId": "c1f11549-d244-4293-b7ca-2cf5e7a986fb"
      },
      "source": [
        "!make"
      ],
      "execution_count": 8,
      "outputs": [
        {
          "output_type": "stream",
          "text": [
            "\u001b[35m\u001b[1mScanning dependencies of target libprotobuf\u001b[0m\n",
            "[  0%] \u001b[32mBuilding CXX object 3rdparty/protobuf-3.0.0/cmake/CMakeFiles/libprotobuf.dir/__/src/google/protobuf/arena.cc.o\u001b[0m\n",
            "[  0%] \u001b[32mBuilding CXX object 3rdparty/protobuf-3.0.0/cmake/CMakeFiles/libprotobuf.dir/__/src/google/protobuf/arenastring.cc.o\u001b[0m\n",
            "[  1%] \u001b[32mBuilding CXX object 3rdparty/protobuf-3.0.0/cmake/CMakeFiles/libprotobuf.dir/__/src/google/protobuf/extension_set.cc.o\u001b[0m\n",
            "[  1%] \u001b[32mBuilding CXX object 3rdparty/protobuf-3.0.0/cmake/CMakeFiles/libprotobuf.dir/__/src/google/protobuf/generated_message_util.cc.o\u001b[0m\n",
            "[  1%] \u001b[32mBuilding CXX object 3rdparty/protobuf-3.0.0/cmake/CMakeFiles/libprotobuf.dir/__/src/google/protobuf/io/coded_stream.cc.o\u001b[0m\n",
            "[  2%] \u001b[32mBuilding CXX object 3rdparty/protobuf-3.0.0/cmake/CMakeFiles/libprotobuf.dir/__/src/google/protobuf/io/zero_copy_stream.cc.o\u001b[0m\n",
            "[  2%] \u001b[32mBuilding CXX object 3rdparty/protobuf-3.0.0/cmake/CMakeFiles/libprotobuf.dir/__/src/google/protobuf/io/zero_copy_stream_impl_lite.cc.o\u001b[0m\n",
            "[  2%] \u001b[32mBuilding CXX object 3rdparty/protobuf-3.0.0/cmake/CMakeFiles/libprotobuf.dir/__/src/google/protobuf/message_lite.cc.o\u001b[0m\n",
            "[  3%] \u001b[32mBuilding CXX object 3rdparty/protobuf-3.0.0/cmake/CMakeFiles/libprotobuf.dir/__/src/google/protobuf/repeated_field.cc.o\u001b[0m\n",
            "[  3%] \u001b[32mBuilding CXX object 3rdparty/protobuf-3.0.0/cmake/CMakeFiles/libprotobuf.dir/__/src/google/protobuf/stubs/atomicops_internals_x86_gcc.cc.o\u001b[0m\n",
            "[  3%] \u001b[32mBuilding CXX object 3rdparty/protobuf-3.0.0/cmake/CMakeFiles/libprotobuf.dir/__/src/google/protobuf/stubs/atomicops_internals_x86_msvc.cc.o\u001b[0m\n",
            "[  4%] \u001b[32mBuilding CXX object 3rdparty/protobuf-3.0.0/cmake/CMakeFiles/libprotobuf.dir/__/src/google/protobuf/stubs/bytestream.cc.o\u001b[0m\n",
            "[  4%] \u001b[32mBuilding CXX object 3rdparty/protobuf-3.0.0/cmake/CMakeFiles/libprotobuf.dir/__/src/google/protobuf/stubs/common.cc.o\u001b[0m\n",
            "[  4%] \u001b[32mBuilding CXX object 3rdparty/protobuf-3.0.0/cmake/CMakeFiles/libprotobuf.dir/__/src/google/protobuf/stubs/int128.cc.o\u001b[0m\n",
            "[  5%] \u001b[32mBuilding CXX object 3rdparty/protobuf-3.0.0/cmake/CMakeFiles/libprotobuf.dir/__/src/google/protobuf/stubs/once.cc.o\u001b[0m\n",
            "[  5%] \u001b[32mBuilding CXX object 3rdparty/protobuf-3.0.0/cmake/CMakeFiles/libprotobuf.dir/__/src/google/protobuf/stubs/status.cc.o\u001b[0m\n",
            "[  5%] \u001b[32mBuilding CXX object 3rdparty/protobuf-3.0.0/cmake/CMakeFiles/libprotobuf.dir/__/src/google/protobuf/stubs/statusor.cc.o\u001b[0m\n",
            "[  6%] \u001b[32mBuilding CXX object 3rdparty/protobuf-3.0.0/cmake/CMakeFiles/libprotobuf.dir/__/src/google/protobuf/stubs/stringpiece.cc.o\u001b[0m\n",
            "[  6%] \u001b[32mBuilding CXX object 3rdparty/protobuf-3.0.0/cmake/CMakeFiles/libprotobuf.dir/__/src/google/protobuf/stubs/stringprintf.cc.o\u001b[0m\n",
            "[  6%] \u001b[32mBuilding CXX object 3rdparty/protobuf-3.0.0/cmake/CMakeFiles/libprotobuf.dir/__/src/google/protobuf/stubs/structurally_valid.cc.o\u001b[0m\n",
            "[  7%] \u001b[32mBuilding CXX object 3rdparty/protobuf-3.0.0/cmake/CMakeFiles/libprotobuf.dir/__/src/google/protobuf/stubs/strutil.cc.o\u001b[0m\n",
            "[  7%] \u001b[32mBuilding CXX object 3rdparty/protobuf-3.0.0/cmake/CMakeFiles/libprotobuf.dir/__/src/google/protobuf/stubs/time.cc.o\u001b[0m\n",
            "[  7%] \u001b[32mBuilding CXX object 3rdparty/protobuf-3.0.0/cmake/CMakeFiles/libprotobuf.dir/__/src/google/protobuf/wire_format_lite.cc.o\u001b[0m\n",
            "[  8%] \u001b[32mBuilding CXX object 3rdparty/protobuf-3.0.0/cmake/CMakeFiles/libprotobuf.dir/__/src/google/protobuf/any.cc.o\u001b[0m\n",
            "[  8%] \u001b[32mBuilding CXX object 3rdparty/protobuf-3.0.0/cmake/CMakeFiles/libprotobuf.dir/__/src/google/protobuf/any.pb.cc.o\u001b[0m\n",
            "[  8%] \u001b[32mBuilding CXX object 3rdparty/protobuf-3.0.0/cmake/CMakeFiles/libprotobuf.dir/__/src/google/protobuf/api.pb.cc.o\u001b[0m\n",
            "[  9%] \u001b[32mBuilding CXX object 3rdparty/protobuf-3.0.0/cmake/CMakeFiles/libprotobuf.dir/__/src/google/protobuf/compiler/importer.cc.o\u001b[0m\n",
            "[  9%] \u001b[32mBuilding CXX object 3rdparty/protobuf-3.0.0/cmake/CMakeFiles/libprotobuf.dir/__/src/google/protobuf/compiler/parser.cc.o\u001b[0m\n",
            "[  9%] \u001b[32mBuilding CXX object 3rdparty/protobuf-3.0.0/cmake/CMakeFiles/libprotobuf.dir/__/src/google/protobuf/descriptor.cc.o\u001b[0m\n",
            "[ 10%] \u001b[32mBuilding CXX object 3rdparty/protobuf-3.0.0/cmake/CMakeFiles/libprotobuf.dir/__/src/google/protobuf/descriptor.pb.cc.o\u001b[0m\n",
            "[ 10%] \u001b[32mBuilding CXX object 3rdparty/protobuf-3.0.0/cmake/CMakeFiles/libprotobuf.dir/__/src/google/protobuf/descriptor_database.cc.o\u001b[0m\n",
            "[ 10%] \u001b[32mBuilding CXX object 3rdparty/protobuf-3.0.0/cmake/CMakeFiles/libprotobuf.dir/__/src/google/protobuf/duration.pb.cc.o\u001b[0m\n",
            "[ 11%] \u001b[32mBuilding CXX object 3rdparty/protobuf-3.0.0/cmake/CMakeFiles/libprotobuf.dir/__/src/google/protobuf/dynamic_message.cc.o\u001b[0m\n",
            "[ 11%] \u001b[32mBuilding CXX object 3rdparty/protobuf-3.0.0/cmake/CMakeFiles/libprotobuf.dir/__/src/google/protobuf/empty.pb.cc.o\u001b[0m\n",
            "[ 11%] \u001b[32mBuilding CXX object 3rdparty/protobuf-3.0.0/cmake/CMakeFiles/libprotobuf.dir/__/src/google/protobuf/extension_set_heavy.cc.o\u001b[0m\n",
            "[ 13%] \u001b[32mBuilding CXX object 3rdparty/protobuf-3.0.0/cmake/CMakeFiles/libprotobuf.dir/__/src/google/protobuf/field_mask.pb.cc.o\u001b[0m\n",
            "[ 13%] \u001b[32mBuilding CXX object 3rdparty/protobuf-3.0.0/cmake/CMakeFiles/libprotobuf.dir/__/src/google/protobuf/generated_message_reflection.cc.o\u001b[0m\n",
            "[ 13%] \u001b[32mBuilding CXX object 3rdparty/protobuf-3.0.0/cmake/CMakeFiles/libprotobuf.dir/__/src/google/protobuf/io/gzip_stream.cc.o\u001b[0m\n",
            "[ 14%] \u001b[32mBuilding CXX object 3rdparty/protobuf-3.0.0/cmake/CMakeFiles/libprotobuf.dir/__/src/google/protobuf/io/printer.cc.o\u001b[0m\n",
            "[ 14%] \u001b[32mBuilding CXX object 3rdparty/protobuf-3.0.0/cmake/CMakeFiles/libprotobuf.dir/__/src/google/protobuf/io/strtod.cc.o\u001b[0m\n",
            "[ 14%] \u001b[32mBuilding CXX object 3rdparty/protobuf-3.0.0/cmake/CMakeFiles/libprotobuf.dir/__/src/google/protobuf/io/tokenizer.cc.o\u001b[0m\n",
            "[ 15%] \u001b[32mBuilding CXX object 3rdparty/protobuf-3.0.0/cmake/CMakeFiles/libprotobuf.dir/__/src/google/protobuf/io/zero_copy_stream_impl.cc.o\u001b[0m\n",
            "[ 15%] \u001b[32mBuilding CXX object 3rdparty/protobuf-3.0.0/cmake/CMakeFiles/libprotobuf.dir/__/src/google/protobuf/map_field.cc.o\u001b[0m\n",
            "[ 15%] \u001b[32mBuilding CXX object 3rdparty/protobuf-3.0.0/cmake/CMakeFiles/libprotobuf.dir/__/src/google/protobuf/message.cc.o\u001b[0m\n",
            "[ 16%] \u001b[32mBuilding CXX object 3rdparty/protobuf-3.0.0/cmake/CMakeFiles/libprotobuf.dir/__/src/google/protobuf/reflection_ops.cc.o\u001b[0m\n",
            "[ 16%] \u001b[32mBuilding CXX object 3rdparty/protobuf-3.0.0/cmake/CMakeFiles/libprotobuf.dir/__/src/google/protobuf/service.cc.o\u001b[0m\n",
            "[ 16%] \u001b[32mBuilding CXX object 3rdparty/protobuf-3.0.0/cmake/CMakeFiles/libprotobuf.dir/__/src/google/protobuf/source_context.pb.cc.o\u001b[0m\n",
            "[ 17%] \u001b[32mBuilding CXX object 3rdparty/protobuf-3.0.0/cmake/CMakeFiles/libprotobuf.dir/__/src/google/protobuf/struct.pb.cc.o\u001b[0m\n",
            "[ 17%] \u001b[32mBuilding CXX object 3rdparty/protobuf-3.0.0/cmake/CMakeFiles/libprotobuf.dir/__/src/google/protobuf/stubs/mathlimits.cc.o\u001b[0m\n",
            "[ 17%] \u001b[32mBuilding CXX object 3rdparty/protobuf-3.0.0/cmake/CMakeFiles/libprotobuf.dir/__/src/google/protobuf/stubs/substitute.cc.o\u001b[0m\n",
            "[ 18%] \u001b[32mBuilding CXX object 3rdparty/protobuf-3.0.0/cmake/CMakeFiles/libprotobuf.dir/__/src/google/protobuf/text_format.cc.o\u001b[0m\n",
            "[ 18%] \u001b[32mBuilding CXX object 3rdparty/protobuf-3.0.0/cmake/CMakeFiles/libprotobuf.dir/__/src/google/protobuf/timestamp.pb.cc.o\u001b[0m\n",
            "[ 19%] \u001b[32mBuilding CXX object 3rdparty/protobuf-3.0.0/cmake/CMakeFiles/libprotobuf.dir/__/src/google/protobuf/type.pb.cc.o\u001b[0m\n",
            "[ 19%] \u001b[32mBuilding CXX object 3rdparty/protobuf-3.0.0/cmake/CMakeFiles/libprotobuf.dir/__/src/google/protobuf/unknown_field_set.cc.o\u001b[0m\n",
            "[ 19%] \u001b[32mBuilding CXX object 3rdparty/protobuf-3.0.0/cmake/CMakeFiles/libprotobuf.dir/__/src/google/protobuf/util/field_comparator.cc.o\u001b[0m\n",
            "[ 20%] \u001b[32mBuilding CXX object 3rdparty/protobuf-3.0.0/cmake/CMakeFiles/libprotobuf.dir/__/src/google/protobuf/util/field_mask_util.cc.o\u001b[0m\n",
            "[ 20%] \u001b[32mBuilding CXX object 3rdparty/protobuf-3.0.0/cmake/CMakeFiles/libprotobuf.dir/__/src/google/protobuf/util/internal/datapiece.cc.o\u001b[0m\n",
            "[ 20%] \u001b[32mBuilding CXX object 3rdparty/protobuf-3.0.0/cmake/CMakeFiles/libprotobuf.dir/__/src/google/protobuf/util/internal/default_value_objectwriter.cc.o\u001b[0m\n",
            "[ 21%] \u001b[32mBuilding CXX object 3rdparty/protobuf-3.0.0/cmake/CMakeFiles/libprotobuf.dir/__/src/google/protobuf/util/internal/error_listener.cc.o\u001b[0m\n",
            "[ 21%] \u001b[32mBuilding CXX object 3rdparty/protobuf-3.0.0/cmake/CMakeFiles/libprotobuf.dir/__/src/google/protobuf/util/internal/field_mask_utility.cc.o\u001b[0m\n",
            "[ 21%] \u001b[32mBuilding CXX object 3rdparty/protobuf-3.0.0/cmake/CMakeFiles/libprotobuf.dir/__/src/google/protobuf/util/internal/json_escaping.cc.o\u001b[0m\n",
            "[ 22%] \u001b[32mBuilding CXX object 3rdparty/protobuf-3.0.0/cmake/CMakeFiles/libprotobuf.dir/__/src/google/protobuf/util/internal/json_objectwriter.cc.o\u001b[0m\n",
            "[ 22%] \u001b[32mBuilding CXX object 3rdparty/protobuf-3.0.0/cmake/CMakeFiles/libprotobuf.dir/__/src/google/protobuf/util/internal/json_stream_parser.cc.o\u001b[0m\n",
            "[ 22%] \u001b[32mBuilding CXX object 3rdparty/protobuf-3.0.0/cmake/CMakeFiles/libprotobuf.dir/__/src/google/protobuf/util/internal/object_writer.cc.o\u001b[0m\n",
            "[ 23%] \u001b[32mBuilding CXX object 3rdparty/protobuf-3.0.0/cmake/CMakeFiles/libprotobuf.dir/__/src/google/protobuf/util/internal/proto_writer.cc.o\u001b[0m\n",
            "[ 23%] \u001b[32mBuilding CXX object 3rdparty/protobuf-3.0.0/cmake/CMakeFiles/libprotobuf.dir/__/src/google/protobuf/util/internal/protostream_objectsource.cc.o\u001b[0m\n",
            "[ 23%] \u001b[32mBuilding CXX object 3rdparty/protobuf-3.0.0/cmake/CMakeFiles/libprotobuf.dir/__/src/google/protobuf/util/internal/protostream_objectwriter.cc.o\u001b[0m\n",
            "[ 25%] \u001b[32mBuilding CXX object 3rdparty/protobuf-3.0.0/cmake/CMakeFiles/libprotobuf.dir/__/src/google/protobuf/util/internal/type_info.cc.o\u001b[0m\n",
            "[ 25%] \u001b[32mBuilding CXX object 3rdparty/protobuf-3.0.0/cmake/CMakeFiles/libprotobuf.dir/__/src/google/protobuf/util/internal/type_info_test_helper.cc.o\u001b[0m\n",
            "[ 25%] \u001b[32mBuilding CXX object 3rdparty/protobuf-3.0.0/cmake/CMakeFiles/libprotobuf.dir/__/src/google/protobuf/util/internal/utility.cc.o\u001b[0m\n",
            "[ 26%] \u001b[32mBuilding CXX object 3rdparty/protobuf-3.0.0/cmake/CMakeFiles/libprotobuf.dir/__/src/google/protobuf/util/json_util.cc.o\u001b[0m\n",
            "[ 26%] \u001b[32mBuilding CXX object 3rdparty/protobuf-3.0.0/cmake/CMakeFiles/libprotobuf.dir/__/src/google/protobuf/util/message_differencer.cc.o\u001b[0m\n",
            "[ 26%] \u001b[32mBuilding CXX object 3rdparty/protobuf-3.0.0/cmake/CMakeFiles/libprotobuf.dir/__/src/google/protobuf/util/time_util.cc.o\u001b[0m\n",
            "[ 27%] \u001b[32mBuilding CXX object 3rdparty/protobuf-3.0.0/cmake/CMakeFiles/libprotobuf.dir/__/src/google/protobuf/util/type_resolver_util.cc.o\u001b[0m\n",
            "[ 27%] \u001b[32mBuilding CXX object 3rdparty/protobuf-3.0.0/cmake/CMakeFiles/libprotobuf.dir/__/src/google/protobuf/wire_format.cc.o\u001b[0m\n",
            "[ 27%] \u001b[32mBuilding CXX object 3rdparty/protobuf-3.0.0/cmake/CMakeFiles/libprotobuf.dir/__/src/google/protobuf/wrappers.pb.cc.o\u001b[0m\n",
            "[ 28%] \u001b[32m\u001b[1mLinking CXX static library ../../../lib/libprotobuf.a\u001b[0m\n",
            "[ 28%] Built target libprotobuf\n",
            "\u001b[35m\u001b[1mScanning dependencies of target libprotoc\u001b[0m\n",
            "[ 28%] \u001b[32mBuilding CXX object 3rdparty/protobuf-3.0.0/cmake/CMakeFiles/libprotoc.dir/__/src/google/protobuf/compiler/code_generator.cc.o\u001b[0m\n",
            "[ 28%] \u001b[32mBuilding CXX object 3rdparty/protobuf-3.0.0/cmake/CMakeFiles/libprotoc.dir/__/src/google/protobuf/compiler/command_line_interface.cc.o\u001b[0m\n",
            "[ 29%] \u001b[32mBuilding CXX object 3rdparty/protobuf-3.0.0/cmake/CMakeFiles/libprotoc.dir/__/src/google/protobuf/compiler/cpp/cpp_enum.cc.o\u001b[0m\n",
            "[ 29%] \u001b[32mBuilding CXX object 3rdparty/protobuf-3.0.0/cmake/CMakeFiles/libprotoc.dir/__/src/google/protobuf/compiler/cpp/cpp_enum_field.cc.o\u001b[0m\n",
            "[ 29%] \u001b[32mBuilding CXX object 3rdparty/protobuf-3.0.0/cmake/CMakeFiles/libprotoc.dir/__/src/google/protobuf/compiler/cpp/cpp_extension.cc.o\u001b[0m\n",
            "[ 30%] \u001b[32mBuilding CXX object 3rdparty/protobuf-3.0.0/cmake/CMakeFiles/libprotoc.dir/__/src/google/protobuf/compiler/cpp/cpp_field.cc.o\u001b[0m\n",
            "[ 30%] \u001b[32mBuilding CXX object 3rdparty/protobuf-3.0.0/cmake/CMakeFiles/libprotoc.dir/__/src/google/protobuf/compiler/cpp/cpp_file.cc.o\u001b[0m\n",
            "[ 30%] \u001b[32mBuilding CXX object 3rdparty/protobuf-3.0.0/cmake/CMakeFiles/libprotoc.dir/__/src/google/protobuf/compiler/cpp/cpp_generator.cc.o\u001b[0m\n",
            "[ 31%] \u001b[32mBuilding CXX object 3rdparty/protobuf-3.0.0/cmake/CMakeFiles/libprotoc.dir/__/src/google/protobuf/compiler/cpp/cpp_helpers.cc.o\u001b[0m\n",
            "[ 31%] \u001b[32mBuilding CXX object 3rdparty/protobuf-3.0.0/cmake/CMakeFiles/libprotoc.dir/__/src/google/protobuf/compiler/cpp/cpp_map_field.cc.o\u001b[0m\n",
            "[ 31%] \u001b[32mBuilding CXX object 3rdparty/protobuf-3.0.0/cmake/CMakeFiles/libprotoc.dir/__/src/google/protobuf/compiler/cpp/cpp_message.cc.o\u001b[0m\n",
            "[ 32%] \u001b[32mBuilding CXX object 3rdparty/protobuf-3.0.0/cmake/CMakeFiles/libprotoc.dir/__/src/google/protobuf/compiler/cpp/cpp_message_field.cc.o\u001b[0m\n",
            "[ 32%] \u001b[32mBuilding CXX object 3rdparty/protobuf-3.0.0/cmake/CMakeFiles/libprotoc.dir/__/src/google/protobuf/compiler/cpp/cpp_primitive_field.cc.o\u001b[0m\n",
            "[ 32%] \u001b[32mBuilding CXX object 3rdparty/protobuf-3.0.0/cmake/CMakeFiles/libprotoc.dir/__/src/google/protobuf/compiler/cpp/cpp_service.cc.o\u001b[0m\n",
            "[ 33%] \u001b[32mBuilding CXX object 3rdparty/protobuf-3.0.0/cmake/CMakeFiles/libprotoc.dir/__/src/google/protobuf/compiler/cpp/cpp_string_field.cc.o\u001b[0m\n",
            "[ 33%] \u001b[32mBuilding CXX object 3rdparty/protobuf-3.0.0/cmake/CMakeFiles/libprotoc.dir/__/src/google/protobuf/compiler/csharp/csharp_doc_comment.cc.o\u001b[0m\n",
            "[ 33%] \u001b[32mBuilding CXX object 3rdparty/protobuf-3.0.0/cmake/CMakeFiles/libprotoc.dir/__/src/google/protobuf/compiler/csharp/csharp_enum.cc.o\u001b[0m\n",
            "[ 34%] \u001b[32mBuilding CXX object 3rdparty/protobuf-3.0.0/cmake/CMakeFiles/libprotoc.dir/__/src/google/protobuf/compiler/csharp/csharp_enum_field.cc.o\u001b[0m\n",
            "[ 34%] \u001b[32mBuilding CXX object 3rdparty/protobuf-3.0.0/cmake/CMakeFiles/libprotoc.dir/__/src/google/protobuf/compiler/csharp/csharp_field_base.cc.o\u001b[0m\n",
            "[ 34%] \u001b[32mBuilding CXX object 3rdparty/protobuf-3.0.0/cmake/CMakeFiles/libprotoc.dir/__/src/google/protobuf/compiler/csharp/csharp_generator.cc.o\u001b[0m\n",
            "[ 35%] \u001b[32mBuilding CXX object 3rdparty/protobuf-3.0.0/cmake/CMakeFiles/libprotoc.dir/__/src/google/protobuf/compiler/csharp/csharp_helpers.cc.o\u001b[0m\n",
            "[ 35%] \u001b[32mBuilding CXX object 3rdparty/protobuf-3.0.0/cmake/CMakeFiles/libprotoc.dir/__/src/google/protobuf/compiler/csharp/csharp_map_field.cc.o\u001b[0m\n",
            "[ 35%] \u001b[32mBuilding CXX object 3rdparty/protobuf-3.0.0/cmake/CMakeFiles/libprotoc.dir/__/src/google/protobuf/compiler/csharp/csharp_message.cc.o\u001b[0m\n",
            "[ 36%] \u001b[32mBuilding CXX object 3rdparty/protobuf-3.0.0/cmake/CMakeFiles/libprotoc.dir/__/src/google/protobuf/compiler/csharp/csharp_message_field.cc.o\u001b[0m\n",
            "[ 36%] \u001b[32mBuilding CXX object 3rdparty/protobuf-3.0.0/cmake/CMakeFiles/libprotoc.dir/__/src/google/protobuf/compiler/csharp/csharp_primitive_field.cc.o\u001b[0m\n",
            "[ 38%] \u001b[32mBuilding CXX object 3rdparty/protobuf-3.0.0/cmake/CMakeFiles/libprotoc.dir/__/src/google/protobuf/compiler/csharp/csharp_reflection_class.cc.o\u001b[0m\n",
            "[ 38%] \u001b[32mBuilding CXX object 3rdparty/protobuf-3.0.0/cmake/CMakeFiles/libprotoc.dir/__/src/google/protobuf/compiler/csharp/csharp_repeated_enum_field.cc.o\u001b[0m\n",
            "[ 38%] \u001b[32mBuilding CXX object 3rdparty/protobuf-3.0.0/cmake/CMakeFiles/libprotoc.dir/__/src/google/protobuf/compiler/csharp/csharp_repeated_message_field.cc.o\u001b[0m\n",
            "[ 39%] \u001b[32mBuilding CXX object 3rdparty/protobuf-3.0.0/cmake/CMakeFiles/libprotoc.dir/__/src/google/protobuf/compiler/csharp/csharp_repeated_primitive_field.cc.o\u001b[0m\n",
            "[ 39%] \u001b[32mBuilding CXX object 3rdparty/protobuf-3.0.0/cmake/CMakeFiles/libprotoc.dir/__/src/google/protobuf/compiler/csharp/csharp_source_generator_base.cc.o\u001b[0m\n",
            "[ 39%] \u001b[32mBuilding CXX object 3rdparty/protobuf-3.0.0/cmake/CMakeFiles/libprotoc.dir/__/src/google/protobuf/compiler/csharp/csharp_wrapper_field.cc.o\u001b[0m\n",
            "[ 40%] \u001b[32mBuilding CXX object 3rdparty/protobuf-3.0.0/cmake/CMakeFiles/libprotoc.dir/__/src/google/protobuf/compiler/java/java_context.cc.o\u001b[0m\n",
            "[ 40%] \u001b[32mBuilding CXX object 3rdparty/protobuf-3.0.0/cmake/CMakeFiles/libprotoc.dir/__/src/google/protobuf/compiler/java/java_doc_comment.cc.o\u001b[0m\n",
            "[ 40%] \u001b[32mBuilding CXX object 3rdparty/protobuf-3.0.0/cmake/CMakeFiles/libprotoc.dir/__/src/google/protobuf/compiler/java/java_enum.cc.o\u001b[0m\n",
            "[ 41%] \u001b[32mBuilding CXX object 3rdparty/protobuf-3.0.0/cmake/CMakeFiles/libprotoc.dir/__/src/google/protobuf/compiler/java/java_enum_field.cc.o\u001b[0m\n",
            "[ 41%] \u001b[32mBuilding CXX object 3rdparty/protobuf-3.0.0/cmake/CMakeFiles/libprotoc.dir/__/src/google/protobuf/compiler/java/java_enum_field_lite.cc.o\u001b[0m\n",
            "[ 41%] \u001b[32mBuilding CXX object 3rdparty/protobuf-3.0.0/cmake/CMakeFiles/libprotoc.dir/__/src/google/protobuf/compiler/java/java_enum_lite.cc.o\u001b[0m\n",
            "[ 42%] \u001b[32mBuilding CXX object 3rdparty/protobuf-3.0.0/cmake/CMakeFiles/libprotoc.dir/__/src/google/protobuf/compiler/java/java_extension.cc.o\u001b[0m\n",
            "[ 42%] \u001b[32mBuilding CXX object 3rdparty/protobuf-3.0.0/cmake/CMakeFiles/libprotoc.dir/__/src/google/protobuf/compiler/java/java_extension_lite.cc.o\u001b[0m\n",
            "[ 42%] \u001b[32mBuilding CXX object 3rdparty/protobuf-3.0.0/cmake/CMakeFiles/libprotoc.dir/__/src/google/protobuf/compiler/java/java_field.cc.o\u001b[0m\n",
            "[ 43%] \u001b[32mBuilding CXX object 3rdparty/protobuf-3.0.0/cmake/CMakeFiles/libprotoc.dir/__/src/google/protobuf/compiler/java/java_file.cc.o\u001b[0m\n",
            "[ 43%] \u001b[32mBuilding CXX object 3rdparty/protobuf-3.0.0/cmake/CMakeFiles/libprotoc.dir/__/src/google/protobuf/compiler/java/java_generator.cc.o\u001b[0m\n",
            "[ 43%] \u001b[32mBuilding CXX object 3rdparty/protobuf-3.0.0/cmake/CMakeFiles/libprotoc.dir/__/src/google/protobuf/compiler/java/java_generator_factory.cc.o\u001b[0m\n",
            "[ 44%] \u001b[32mBuilding CXX object 3rdparty/protobuf-3.0.0/cmake/CMakeFiles/libprotoc.dir/__/src/google/protobuf/compiler/java/java_helpers.cc.o\u001b[0m\n",
            "[ 44%] \u001b[32mBuilding CXX object 3rdparty/protobuf-3.0.0/cmake/CMakeFiles/libprotoc.dir/__/src/google/protobuf/compiler/java/java_lazy_message_field.cc.o\u001b[0m\n",
            "[ 44%] \u001b[32mBuilding CXX object 3rdparty/protobuf-3.0.0/cmake/CMakeFiles/libprotoc.dir/__/src/google/protobuf/compiler/java/java_lazy_message_field_lite.cc.o\u001b[0m\n",
            "[ 45%] \u001b[32mBuilding CXX object 3rdparty/protobuf-3.0.0/cmake/CMakeFiles/libprotoc.dir/__/src/google/protobuf/compiler/java/java_map_field.cc.o\u001b[0m\n",
            "[ 45%] \u001b[32mBuilding CXX object 3rdparty/protobuf-3.0.0/cmake/CMakeFiles/libprotoc.dir/__/src/google/protobuf/compiler/java/java_map_field_lite.cc.o\u001b[0m\n",
            "[ 45%] \u001b[32mBuilding CXX object 3rdparty/protobuf-3.0.0/cmake/CMakeFiles/libprotoc.dir/__/src/google/protobuf/compiler/java/java_message.cc.o\u001b[0m\n",
            "[ 46%] \u001b[32mBuilding CXX object 3rdparty/protobuf-3.0.0/cmake/CMakeFiles/libprotoc.dir/__/src/google/protobuf/compiler/java/java_message_builder.cc.o\u001b[0m\n",
            "[ 46%] \u001b[32mBuilding CXX object 3rdparty/protobuf-3.0.0/cmake/CMakeFiles/libprotoc.dir/__/src/google/protobuf/compiler/java/java_message_builder_lite.cc.o\u001b[0m\n",
            "[ 46%] \u001b[32mBuilding CXX object 3rdparty/protobuf-3.0.0/cmake/CMakeFiles/libprotoc.dir/__/src/google/protobuf/compiler/java/java_message_field.cc.o\u001b[0m\n",
            "[ 47%] \u001b[32mBuilding CXX object 3rdparty/protobuf-3.0.0/cmake/CMakeFiles/libprotoc.dir/__/src/google/protobuf/compiler/java/java_message_field_lite.cc.o\u001b[0m\n",
            "[ 47%] \u001b[32mBuilding CXX object 3rdparty/protobuf-3.0.0/cmake/CMakeFiles/libprotoc.dir/__/src/google/protobuf/compiler/java/java_message_lite.cc.o\u001b[0m\n",
            "[ 47%] \u001b[32mBuilding CXX object 3rdparty/protobuf-3.0.0/cmake/CMakeFiles/libprotoc.dir/__/src/google/protobuf/compiler/java/java_name_resolver.cc.o\u001b[0m\n",
            "[ 48%] \u001b[32mBuilding CXX object 3rdparty/protobuf-3.0.0/cmake/CMakeFiles/libprotoc.dir/__/src/google/protobuf/compiler/java/java_primitive_field.cc.o\u001b[0m\n",
            "[ 48%] \u001b[32mBuilding CXX object 3rdparty/protobuf-3.0.0/cmake/CMakeFiles/libprotoc.dir/__/src/google/protobuf/compiler/java/java_primitive_field_lite.cc.o\u001b[0m\n",
            "[ 48%] \u001b[32mBuilding CXX object 3rdparty/protobuf-3.0.0/cmake/CMakeFiles/libprotoc.dir/__/src/google/protobuf/compiler/java/java_service.cc.o\u001b[0m\n",
            "[ 50%] \u001b[32mBuilding CXX object 3rdparty/protobuf-3.0.0/cmake/CMakeFiles/libprotoc.dir/__/src/google/protobuf/compiler/java/java_shared_code_generator.cc.o\u001b[0m\n",
            "[ 50%] \u001b[32mBuilding CXX object 3rdparty/protobuf-3.0.0/cmake/CMakeFiles/libprotoc.dir/__/src/google/protobuf/compiler/java/java_string_field.cc.o\u001b[0m\n",
            "[ 50%] \u001b[32mBuilding CXX object 3rdparty/protobuf-3.0.0/cmake/CMakeFiles/libprotoc.dir/__/src/google/protobuf/compiler/java/java_string_field_lite.cc.o\u001b[0m\n",
            "[ 51%] \u001b[32mBuilding CXX object 3rdparty/protobuf-3.0.0/cmake/CMakeFiles/libprotoc.dir/__/src/google/protobuf/compiler/javanano/javanano_enum.cc.o\u001b[0m\n",
            "[ 51%] \u001b[32mBuilding CXX object 3rdparty/protobuf-3.0.0/cmake/CMakeFiles/libprotoc.dir/__/src/google/protobuf/compiler/javanano/javanano_enum_field.cc.o\u001b[0m\n",
            "[ 51%] \u001b[32mBuilding CXX object 3rdparty/protobuf-3.0.0/cmake/CMakeFiles/libprotoc.dir/__/src/google/protobuf/compiler/javanano/javanano_extension.cc.o\u001b[0m\n",
            "[ 52%] \u001b[32mBuilding CXX object 3rdparty/protobuf-3.0.0/cmake/CMakeFiles/libprotoc.dir/__/src/google/protobuf/compiler/javanano/javanano_field.cc.o\u001b[0m\n",
            "[ 52%] \u001b[32mBuilding CXX object 3rdparty/protobuf-3.0.0/cmake/CMakeFiles/libprotoc.dir/__/src/google/protobuf/compiler/javanano/javanano_file.cc.o\u001b[0m\n",
            "[ 52%] \u001b[32mBuilding CXX object 3rdparty/protobuf-3.0.0/cmake/CMakeFiles/libprotoc.dir/__/src/google/protobuf/compiler/javanano/javanano_generator.cc.o\u001b[0m\n",
            "[ 53%] \u001b[32mBuilding CXX object 3rdparty/protobuf-3.0.0/cmake/CMakeFiles/libprotoc.dir/__/src/google/protobuf/compiler/javanano/javanano_helpers.cc.o\u001b[0m\n",
            "[ 53%] \u001b[32mBuilding CXX object 3rdparty/protobuf-3.0.0/cmake/CMakeFiles/libprotoc.dir/__/src/google/protobuf/compiler/javanano/javanano_map_field.cc.o\u001b[0m\n",
            "[ 53%] \u001b[32mBuilding CXX object 3rdparty/protobuf-3.0.0/cmake/CMakeFiles/libprotoc.dir/__/src/google/protobuf/compiler/javanano/javanano_message.cc.o\u001b[0m\n",
            "[ 54%] \u001b[32mBuilding CXX object 3rdparty/protobuf-3.0.0/cmake/CMakeFiles/libprotoc.dir/__/src/google/protobuf/compiler/javanano/javanano_message_field.cc.o\u001b[0m\n",
            "[ 54%] \u001b[32mBuilding CXX object 3rdparty/protobuf-3.0.0/cmake/CMakeFiles/libprotoc.dir/__/src/google/protobuf/compiler/javanano/javanano_primitive_field.cc.o\u001b[0m\n",
            "[ 54%] \u001b[32mBuilding CXX object 3rdparty/protobuf-3.0.0/cmake/CMakeFiles/libprotoc.dir/__/src/google/protobuf/compiler/js/js_generator.cc.o\u001b[0m\n",
            "[ 55%] \u001b[32mBuilding CXX object 3rdparty/protobuf-3.0.0/cmake/CMakeFiles/libprotoc.dir/__/src/google/protobuf/compiler/objectivec/objectivec_enum.cc.o\u001b[0m\n",
            "[ 55%] \u001b[32mBuilding CXX object 3rdparty/protobuf-3.0.0/cmake/CMakeFiles/libprotoc.dir/__/src/google/protobuf/compiler/objectivec/objectivec_enum_field.cc.o\u001b[0m\n",
            "[ 55%] \u001b[32mBuilding CXX object 3rdparty/protobuf-3.0.0/cmake/CMakeFiles/libprotoc.dir/__/src/google/protobuf/compiler/objectivec/objectivec_extension.cc.o\u001b[0m\n",
            "[ 56%] \u001b[32mBuilding CXX object 3rdparty/protobuf-3.0.0/cmake/CMakeFiles/libprotoc.dir/__/src/google/protobuf/compiler/objectivec/objectivec_field.cc.o\u001b[0m\n",
            "[ 56%] \u001b[32mBuilding CXX object 3rdparty/protobuf-3.0.0/cmake/CMakeFiles/libprotoc.dir/__/src/google/protobuf/compiler/objectivec/objectivec_file.cc.o\u001b[0m\n",
            "[ 56%] \u001b[32mBuilding CXX object 3rdparty/protobuf-3.0.0/cmake/CMakeFiles/libprotoc.dir/__/src/google/protobuf/compiler/objectivec/objectivec_generator.cc.o\u001b[0m\n",
            "[ 57%] \u001b[32mBuilding CXX object 3rdparty/protobuf-3.0.0/cmake/CMakeFiles/libprotoc.dir/__/src/google/protobuf/compiler/objectivec/objectivec_helpers.cc.o\u001b[0m\n",
            "[ 57%] \u001b[32mBuilding CXX object 3rdparty/protobuf-3.0.0/cmake/CMakeFiles/libprotoc.dir/__/src/google/protobuf/compiler/objectivec/objectivec_map_field.cc.o\u001b[0m\n",
            "[ 57%] \u001b[32mBuilding CXX object 3rdparty/protobuf-3.0.0/cmake/CMakeFiles/libprotoc.dir/__/src/google/protobuf/compiler/objectivec/objectivec_message.cc.o\u001b[0m\n",
            "[ 58%] \u001b[32mBuilding CXX object 3rdparty/protobuf-3.0.0/cmake/CMakeFiles/libprotoc.dir/__/src/google/protobuf/compiler/objectivec/objectivec_message_field.cc.o\u001b[0m\n",
            "[ 58%] \u001b[32mBuilding CXX object 3rdparty/protobuf-3.0.0/cmake/CMakeFiles/libprotoc.dir/__/src/google/protobuf/compiler/objectivec/objectivec_oneof.cc.o\u001b[0m\n",
            "[ 58%] \u001b[32mBuilding CXX object 3rdparty/protobuf-3.0.0/cmake/CMakeFiles/libprotoc.dir/__/src/google/protobuf/compiler/objectivec/objectivec_primitive_field.cc.o\u001b[0m\n",
            "[ 59%] \u001b[32mBuilding CXX object 3rdparty/protobuf-3.0.0/cmake/CMakeFiles/libprotoc.dir/__/src/google/protobuf/compiler/plugin.cc.o\u001b[0m\n",
            "[ 59%] \u001b[32mBuilding CXX object 3rdparty/protobuf-3.0.0/cmake/CMakeFiles/libprotoc.dir/__/src/google/protobuf/compiler/plugin.pb.cc.o\u001b[0m\n",
            "[ 59%] \u001b[32mBuilding CXX object 3rdparty/protobuf-3.0.0/cmake/CMakeFiles/libprotoc.dir/__/src/google/protobuf/compiler/python/python_generator.cc.o\u001b[0m\n",
            "[ 60%] \u001b[32mBuilding CXX object 3rdparty/protobuf-3.0.0/cmake/CMakeFiles/libprotoc.dir/__/src/google/protobuf/compiler/ruby/ruby_generator.cc.o\u001b[0m\n",
            "[ 60%] \u001b[32mBuilding CXX object 3rdparty/protobuf-3.0.0/cmake/CMakeFiles/libprotoc.dir/__/src/google/protobuf/compiler/subprocess.cc.o\u001b[0m\n",
            "[ 60%] \u001b[32mBuilding CXX object 3rdparty/protobuf-3.0.0/cmake/CMakeFiles/libprotoc.dir/__/src/google/protobuf/compiler/zip_writer.cc.o\u001b[0m\n",
            "[ 61%] \u001b[32m\u001b[1mLinking CXX static library ../../../lib/libprotoc.a\u001b[0m\n",
            "[ 61%] Built target libprotoc\n",
            "\u001b[35m\u001b[1mScanning dependencies of target protoc\u001b[0m\n",
            "[ 61%] \u001b[32mBuilding CXX object 3rdparty/protobuf-3.0.0/cmake/CMakeFiles/protoc.dir/__/src/google/protobuf/compiler/main.cc.o\u001b[0m\n",
            "[ 63%] \u001b[32m\u001b[1mLinking CXX executable ../../../bin/protoc\u001b[0m\n",
            "[ 63%] Built target protoc\n",
            "\u001b[35m\u001b[1mScanning dependencies of target proto_generation\u001b[0m\n",
            "[ 63%] \u001b[34m\u001b[1mGenerating headers and sources from *.proto files\u001b[0m\n",
            "[ 63%] Built target proto_generation\n",
            "\u001b[35m\u001b[1mScanning dependencies of target internals_proto\u001b[0m\n",
            "[ 63%] \u001b[32mBuilding CXX object src/artm/CMakeFiles/internals_proto.dir/core/internals.pb.cc.o\u001b[0m\n",
            "[ 64%] \u001b[32m\u001b[1mLinking CXX static library ../../lib/libinternals_proto.a\u001b[0m\n",
            "[ 64%] Built target internals_proto\n",
            "\u001b[35m\u001b[1mScanning dependencies of target gflags_static\u001b[0m\n",
            "[ 64%] \u001b[32mBuilding CXX object 3rdparty/gflags/CMakeFiles/gflags_static.dir/src/gflags.cc.o\u001b[0m\n",
            "[ 64%] \u001b[32mBuilding CXX object 3rdparty/gflags/CMakeFiles/gflags_static.dir/src/gflags_reporting.cc.o\u001b[0m\n",
            "[ 65%] \u001b[32mBuilding CXX object 3rdparty/gflags/CMakeFiles/gflags_static.dir/src/gflags_completions.cc.o\u001b[0m\n",
            "[ 65%] \u001b[32m\u001b[1mLinking CXX static library ../../lib/libgflags.a\u001b[0m\n",
            "[ 65%] Built target gflags_static\n",
            "\u001b[35m\u001b[1mScanning dependencies of target glog\u001b[0m\n",
            "[ 65%] \u001b[32mBuilding CXX object 3rdparty/glog/CMakeFiles/glog.dir/src/demangle.cc.o\u001b[0m\n",
            "[ 66%] \u001b[32mBuilding CXX object 3rdparty/glog/CMakeFiles/glog.dir/src/logging.cc.o\u001b[0m\n",
            "[ 66%] \u001b[32mBuilding CXX object 3rdparty/glog/CMakeFiles/glog.dir/src/raw_logging.cc.o\u001b[0m\n",
            "[ 66%] \u001b[32mBuilding CXX object 3rdparty/glog/CMakeFiles/glog.dir/src/symbolize.cc.o\u001b[0m\n",
            "[ 67%] \u001b[32mBuilding CXX object 3rdparty/glog/CMakeFiles/glog.dir/src/utilities.cc.o\u001b[0m\n",
            "[ 67%] \u001b[32mBuilding CXX object 3rdparty/glog/CMakeFiles/glog.dir/src/vlog_is_on.cc.o\u001b[0m\n",
            "[ 67%] \u001b[32mBuilding CXX object 3rdparty/glog/CMakeFiles/glog.dir/src/signalhandler.cc.o\u001b[0m\n",
            "[ 68%] \u001b[32m\u001b[1mLinking CXX static library ../../lib/libglog.a\u001b[0m\n",
            "[ 68%] Built target glog\n",
            "\u001b[35m\u001b[1mScanning dependencies of target messages_proto\u001b[0m\n",
            "[ 68%] \u001b[32mBuilding CXX object src/artm/CMakeFiles/messages_proto.dir/messages.pb.cc.o\u001b[0m\n",
            "[ 69%] \u001b[32m\u001b[1mLinking CXX static library ../../lib/libmessages_proto.a\u001b[0m\n",
            "[ 69%] Built target messages_proto\n",
            "\u001b[35m\u001b[1mScanning dependencies of target artm-static\u001b[0m\n",
            "[ 70%] \u001b[32mBuilding CXX object src/artm/CMakeFiles/artm-static.dir/c_interface.cc.o\u001b[0m\n",
            "In file included from \u001b[01m\u001b[K/content/bigartm/src/artm/c_interface.cc:18:0\u001b[m\u001b[K:\n",
            "\u001b[01m\u001b[K/content/bigartm/src/artm/../artm/core/check_messages.h:\u001b[m\u001b[K In function ‘\u001b[01m\u001b[Kvoid artm::core::FixMessage(T*) [with T = artm::RegularizerConfig]\u001b[m\u001b[K’:\n",
            "\u001b[01m\u001b[K/content/bigartm/src/artm/../artm/core/check_messages.h:553:28:\u001b[m\u001b[K \u001b[01;35m\u001b[Kwarning: \u001b[m\u001b[Ksuggest parentheses around ‘\u001b[01m\u001b[K&&\u001b[m\u001b[K’ within ‘\u001b[01m\u001b[K||\u001b[m\u001b[K’ [\u001b[01;35m\u001b[K-Wparentheses\u001b[m\u001b[K]\n",
            "   if (\u001b[01;35m\u001b[Kmessage->has_gamma() && (message->gamma() < 0)\u001b[m\u001b[K || (message->gamma() > 1)) {\n",
            "       \u001b[01;35m\u001b[K~~~~~~~~~~~~~~~~~~~~~^~~~~~~~~~~~~~~~~~~~~~~~~\u001b[m\u001b[K\n",
            "[ 70%] \u001b[32mBuilding CXX object src/artm/CMakeFiles/artm-static.dir/cpp_interface.cc.o\u001b[0m\n",
            "[ 70%] \u001b[32mBuilding CXX object src/artm/CMakeFiles/artm-static.dir/regularizer_interface.cc.o\u001b[0m\n",
            "[ 71%] \u001b[32mBuilding CXX object src/artm/CMakeFiles/artm-static.dir/score_calculator_interface.cc.o\u001b[0m\n",
            "[ 71%] \u001b[32mBuilding CXX object src/artm/CMakeFiles/artm-static.dir/core/batch_manager.cc.o\u001b[0m\n",
            "[ 71%] \u001b[32mBuilding CXX object src/artm/CMakeFiles/artm-static.dir/core/cache_manager.cc.o\u001b[0m\n",
            "[ 72%] \u001b[32mBuilding CXX object src/artm/CMakeFiles/artm-static.dir/core/collection_parser.cc.o\u001b[0m\n",
            "\u001b[01m\u001b[K/content/bigartm/src/artm/core/collection_parser.cc:\u001b[m\u001b[K In member function ‘\u001b[01m\u001b[Kvoid artm::core::CollectionParser::BatchCollector::RecordTransaction(const std::vector<std::__cxx11::basic_string<char> >&, const std::vector<std::__cxx11::basic_string<char> >&, const std::vector<float>&, const TransactionTypeName&)\u001b[m\u001b[K’:\n",
            "\u001b[01m\u001b[K/content/bigartm/src/artm/core/collection_parser.cc:412:23:\u001b[m\u001b[K \u001b[01;35m\u001b[Kwarning: \u001b[m\u001b[Kcomparison between signed and unsigned integer expressions [\u001b[01;35m\u001b[K-Wsign-compare\u001b[m\u001b[K]\n",
            "     for (int i = 0; \u001b[01;35m\u001b[Ki < class_ids.size()\u001b[m\u001b[K; ++i) {\n",
            "                     \u001b[01;35m\u001b[K~~^~~~~~~~~~~~~~~~~~\u001b[m\u001b[K\n",
            "\u001b[01m\u001b[K/content/bigartm/src/artm/core/collection_parser.cc:\u001b[m\u001b[K In lambda function:\n",
            "\u001b[01m\u001b[K/content/bigartm/src/artm/core/collection_parser.cc:605:35:\u001b[m\u001b[K \u001b[01;35m\u001b[Kwarning: \u001b[m\u001b[Kcomparison between signed and unsigned integer expressions [\u001b[01;35m\u001b[K-Wsign-compare\u001b[m\u001b[K]\n",
            "                 for (int i = 0; \u001b[01;35m\u001b[Ki < tokens.size()\u001b[m\u001b[K; ++i) {\n",
            "                                 \u001b[01;35m\u001b[K~~^~~~~~~~~~~~~~~\u001b[m\u001b[K\n",
            "\u001b[01m\u001b[K/content/bigartm/src/artm/core/collection_parser.cc:729:27:\u001b[m\u001b[K \u001b[01;35m\u001b[Kwarning: \u001b[m\u001b[Kcomparison between signed and unsigned integer expressions [\u001b[01;35m\u001b[K-Wsign-compare\u001b[m\u001b[K]\n",
            "         for (int i = 0; \u001b[01;35m\u001b[Ki < tokens.size()\u001b[m\u001b[K; ++i) {\n",
            "                         \u001b[01;35m\u001b[K~~^~~~~~~~~~~~~~~\u001b[m\u001b[K\n",
            "\u001b[01m\u001b[K/content/bigartm/src/artm/core/collection_parser.cc:\u001b[m\u001b[K At global scope:\n",
            "\u001b[01m\u001b[K/content/bigartm/src/artm/core/collection_parser.cc:81:13:\u001b[m\u001b[K \u001b[01;35m\u001b[Kwarning: \u001b[m\u001b[K‘\u001b[01m\u001b[Kbool artm::core::useClassId(const std::vector<std::__cxx11::basic_string<char> >&, const artm::CollectionParserConfig&)\u001b[m\u001b[K’ defined but not used [\u001b[01;35m\u001b[K-Wunused-function\u001b[m\u001b[K]\n",
            " static bool \u001b[01;35m\u001b[KuseClassId\u001b[m\u001b[K(const std::vector<ClassId>& class_ids, const CollectionParserConfig& config) {\n",
            "             \u001b[01;35m\u001b[K^~~~~~~~~~\u001b[m\u001b[K\n",
            "[ 72%] \u001b[32mBuilding CXX object src/artm/CMakeFiles/artm-static.dir/core/cooccurrence_collector.cc.o\u001b[0m\n",
            "\u001b[01m\u001b[K/content/bigartm/src/artm/core/cooccurrence_collector.cc:\u001b[m\u001b[K In constructor ‘\u001b[01m\u001b[Kartm::core::Vocab::Vocab(const string&)\u001b[m\u001b[K’:\n",
            "\u001b[01m\u001b[K/content/bigartm/src/artm/core/cooccurrence_collector.cc:541:30:\u001b[m\u001b[K \u001b[01;35m\u001b[Kwarning: \u001b[m\u001b[Kcomparison between signed and unsigned integer expressions [\u001b[01;35m\u001b[K-Wsign-compare\u001b[m\u001b[K]\n",
            "       for (; \u001b[01;35m\u001b[Kpos_of_modality < strs.size()\u001b[m\u001b[K && strs[pos_of_modality].empty(); ++pos_of_modality) { }\n",
            "              \u001b[01;35m\u001b[K~~~~~~~~~~~~~~~~^~~~~~~~~~~~~\u001b[m\u001b[K\n",
            "\u001b[01m\u001b[K/content/bigartm/src/artm/core/cooccurrence_collector.cc:542:27:\u001b[m\u001b[K \u001b[01;35m\u001b[Kwarning: \u001b[m\u001b[Kcomparison between signed and unsigned integer expressions [\u001b[01;35m\u001b[K-Wsign-compare\u001b[m\u001b[K]\n",
            "       if (\u001b[01;35m\u001b[Kpos_of_modality != strs.size()\u001b[m\u001b[K) {\n",
            "           \u001b[01;35m\u001b[K~~~~~~~~~~~~~~~~^~~~~~~~~~~~~~\u001b[m\u001b[K\n",
            "[ 72%] \u001b[32mBuilding CXX object src/artm/CMakeFiles/artm-static.dir/core/cuckoo_watch.cc.o\u001b[0m\n",
            "[ 73%] \u001b[32mBuilding CXX object src/artm/CMakeFiles/artm-static.dir/core/dense_phi_matrix.cc.o\u001b[0m\n",
            "\u001b[01m\u001b[K/content/bigartm/src/artm/core/dense_phi_matrix.cc:\u001b[m\u001b[K In constructor ‘\u001b[01m\u001b[Kartm::core::AttachedPhiMatrix::AttachedPhiMatrix(int, float*, artm::core::PhiMatrixFrame*)\u001b[m\u001b[K’:\n",
            "\u001b[01m\u001b[K/content/bigartm/src/artm/core/dense_phi_matrix.cc:406:57:\u001b[m\u001b[K \u001b[01;35m\u001b[Kwarning: \u001b[m\u001b[Kcomparison between signed and unsigned integer expressions [\u001b[01;35m\u001b[K-Wsign-compare\u001b[m\u001b[K]\n",
            "   if (\u001b[01;35m\u001b[K(int64_t) topic_size * token_size * sizeof(float) != address_length\u001b[m\u001b[K) {\n",
            "       \u001b[01;35m\u001b[K~~~~~~~~~~~~~~~~~~~~~~~~~~~~~~~~~~~~~~~~~~~~~~~~~~^~~~~~~~~~~~~~~~~\u001b[m\u001b[K\n",
            "[ 73%] \u001b[32mBuilding CXX object src/artm/CMakeFiles/artm-static.dir/core/dictionary.cc.o\u001b[0m\n",
            "[ 73%] \u001b[32mBuilding CXX object src/artm/CMakeFiles/artm-static.dir/core/dictionary_operations.cc.o\u001b[0m\n",
            "[ 75%] \u001b[32mBuilding CXX object src/artm/CMakeFiles/artm-static.dir/core/helpers.cc.o\u001b[0m\n",
            "In file included from \u001b[01m\u001b[K/content/bigartm/src/artm/core/helpers.cc:16:0\u001b[m\u001b[K:\n",
            "\u001b[01m\u001b[K/content/bigartm/src/artm/../artm/core/check_messages.h:\u001b[m\u001b[K In function ‘\u001b[01m\u001b[Kvoid artm::core::FixMessage(T*) [with T = artm::RegularizerConfig]\u001b[m\u001b[K’:\n",
            "\u001b[01m\u001b[K/content/bigartm/src/artm/../artm/core/check_messages.h:553:28:\u001b[m\u001b[K \u001b[01;35m\u001b[Kwarning: \u001b[m\u001b[Ksuggest parentheses around ‘\u001b[01m\u001b[K&&\u001b[m\u001b[K’ within ‘\u001b[01m\u001b[K||\u001b[m\u001b[K’ [\u001b[01;35m\u001b[K-Wparentheses\u001b[m\u001b[K]\n",
            "   if (\u001b[01;35m\u001b[Kmessage->has_gamma() && (message->gamma() < 0)\u001b[m\u001b[K || (message->gamma() > 1)) {\n",
            "       \u001b[01;35m\u001b[K~~~~~~~~~~~~~~~~~~~~~^~~~~~~~~~~~~~~~~~~~~~~~~\u001b[m\u001b[K\n",
            "[ 75%] \u001b[32mBuilding CXX object src/artm/CMakeFiles/artm-static.dir/core/instance.cc.o\u001b[0m\n",
            "[ 75%] \u001b[32mBuilding CXX object src/artm/CMakeFiles/artm-static.dir/core/master_component.cc.o\u001b[0m\n",
            "In file included from \u001b[01m\u001b[K/content/bigartm/src/artm/core/master_component.cc:31:0\u001b[m\u001b[K:\n",
            "\u001b[01m\u001b[K/content/bigartm/src/artm/../artm/core/check_messages.h:\u001b[m\u001b[K In function ‘\u001b[01m\u001b[Kvoid artm::core::FixMessage(T*) [with T = artm::RegularizerConfig]\u001b[m\u001b[K’:\n",
            "\u001b[01m\u001b[K/content/bigartm/src/artm/../artm/core/check_messages.h:553:28:\u001b[m\u001b[K \u001b[01;35m\u001b[Kwarning: \u001b[m\u001b[Ksuggest parentheses around ‘\u001b[01m\u001b[K&&\u001b[m\u001b[K’ within ‘\u001b[01m\u001b[K||\u001b[m\u001b[K’ [\u001b[01;35m\u001b[K-Wparentheses\u001b[m\u001b[K]\n",
            "   if (\u001b[01;35m\u001b[Kmessage->has_gamma() && (message->gamma() < 0)\u001b[m\u001b[K || (message->gamma() > 1)) {\n",
            "       \u001b[01;35m\u001b[K~~~~~~~~~~~~~~~~~~~~~^~~~~~~~~~~~~~~~~~~~~~~~~\u001b[m\u001b[K\n",
            "\u001b[01m\u001b[K/content/bigartm/src/artm/core/master_component.cc:\u001b[m\u001b[K In member function ‘\u001b[01m\u001b[Kvoid artm::core::MasterComponent::RequestProcessBatchesImpl(const artm::ProcessBatchesArgs&, artm::core::BatchManager*, bool, artm::core::ScoreManager*, artm::ThetaMatrix*)\u001b[m\u001b[K’:\n",
            "\u001b[01m\u001b[K/content/bigartm/src/artm/core/master_component.cc:807:10:\u001b[m\u001b[K \u001b[01;35m\u001b[Kwarning: \u001b[m\u001b[Kenumeration value ‘\u001b[01m\u001b[KThetaMatrixType_None\u001b[m\u001b[K’ not handled in switch [\u001b[01;35m\u001b[K-Wswitch\u001b[m\u001b[K]\n",
            "   switch \u001b[01;35m\u001b[K(\u001b[m\u001b[Kargs.theta_matrix_type()) {\n",
            "          \u001b[01;35m\u001b[K^\u001b[m\u001b[K\n",
            "\u001b[01m\u001b[K/content/bigartm/src/artm/core/master_component.cc:824:34:\u001b[m\u001b[K \u001b[01;35m\u001b[Kwarning: \u001b[m\u001b[Kcomparison between signed and unsigned integer expressions [\u001b[01;35m\u001b[K-Wsign-compare\u001b[m\u001b[K]\n",
            "   if (\u001b[01;35m\u001b[Kargs.batch_filename_size() < instance_->processor_size()\u001b[m\u001b[K) {\n",
            "       \u001b[01;35m\u001b[K~~~~~~~~~~~~~~~~~~~~~~~~~~~^~~~~~~~~~~~~~~~~~~~~~~~~~~~~\u001b[m\u001b[K\n",
            "\u001b[01m\u001b[K/content/bigartm/src/artm/core/master_component.cc:880:10:\u001b[m\u001b[K \u001b[01;35m\u001b[Kwarning: \u001b[m\u001b[Kenumeration value ‘\u001b[01m\u001b[KThetaMatrixType_None\u001b[m\u001b[K’ not handled in switch [\u001b[01;35m\u001b[K-Wswitch\u001b[m\u001b[K]\n",
            "   switch \u001b[01;35m\u001b[K(\u001b[m\u001b[Kargs.theta_matrix_type()) {\n",
            "          \u001b[01;35m\u001b[K^\u001b[m\u001b[K\n",
            "\u001b[01m\u001b[K/content/bigartm/src/artm/core/master_component.cc:880:10:\u001b[m\u001b[K \u001b[01;35m\u001b[Kwarning: \u001b[m\u001b[Kenumeration value ‘\u001b[01m\u001b[KThetaMatrixType_Cache\u001b[m\u001b[K’ not handled in switch [\u001b[01;35m\u001b[K-Wswitch\u001b[m\u001b[K]\n",
            "\u001b[01m\u001b[K/content/bigartm/src/artm/core/master_component.cc:802:8:\u001b[m\u001b[K \u001b[01;35m\u001b[Kwarning: \u001b[m\u001b[Kvariable ‘\u001b[01m\u001b[Kreturn_theta\u001b[m\u001b[K’ set but not used [\u001b[01;35m\u001b[K-Wunused-but-set-variable\u001b[m\u001b[K]\n",
            "   bool \u001b[01;35m\u001b[Kreturn_theta\u001b[m\u001b[K = false;\n",
            "        \u001b[01;35m\u001b[K^~~~~~~~~~~~\u001b[m\u001b[K\n",
            "\u001b[01m\u001b[K/content/bigartm/src/artm/core/master_component.cc:803:8:\u001b[m\u001b[K \u001b[01;35m\u001b[Kwarning: \u001b[m\u001b[Kvariable ‘\u001b[01m\u001b[Kreturn_ptdw\u001b[m\u001b[K’ set but not used [\u001b[01;35m\u001b[K-Wunused-but-set-variable\u001b[m\u001b[K]\n",
            "   bool \u001b[01;35m\u001b[Kreturn_ptdw\u001b[m\u001b[K = false;\n",
            "        \u001b[01;35m\u001b[K^~~~~~~~~~~\u001b[m\u001b[K\n",
            "\u001b[01m\u001b[K/content/bigartm/src/artm/core/master_component.cc:\u001b[m\u001b[K In member function ‘\u001b[01m\u001b[Kbool artm::core::OnlineBatchesIterator::more() const\u001b[m\u001b[K’:\n",
            "\u001b[01m\u001b[K/content/bigartm/src/artm/core/master_component.cc:1198:39:\u001b[m\u001b[K \u001b[01;35m\u001b[Kwarning: \u001b[m\u001b[Kcomparison between signed and unsigned integer expressions [\u001b[01;35m\u001b[K-Wsign-compare\u001b[m\u001b[K]\n",
            "   bool more() const { return \u001b[01;35m\u001b[Kcurrent_ < static_cast<int>(update_after_.size())\u001b[m\u001b[K; }\n",
            "                              \u001b[01;35m\u001b[K~~~~~~~~~^~~~~~~~~~~~~~~~~~~~~~~~~~~~~~~~~~~~~~~~\u001b[m\u001b[K\n",
            "[ 76%] \u001b[32mBuilding CXX object src/artm/CMakeFiles/artm-static.dir/core/processor.cc.o\u001b[0m\n",
            "[ 76%] \u001b[32mBuilding CXX object src/artm/CMakeFiles/artm-static.dir/core/processor_helpers.cc.o\u001b[0m\n",
            "[ 76%] \u001b[32mBuilding CXX object src/artm/CMakeFiles/artm-static.dir/core/processor_transaction_helpers.cc.o\u001b[0m\n",
            "\u001b[01m\u001b[K/content/bigartm/src/artm/core/processor_transaction_helpers.cc:\u001b[m\u001b[K In static member function ‘\u001b[01m\u001b[Kstatic void artm::core::ProcessorTransactionHelpers::TransactionInferThetaAndUpdateNwtSparse(const artm::ProcessBatchesArgs&, const artm::Batch&, float, std::shared_ptr<artm::core::BatchTransactionInfo>, const artm::core::PhiMatrix&, const artm::core::RegularizeThetaAgentCollection&, artm::utility::LocalThetaMatrix<float>*, artm::core::NwtWriteAdapter*, artm::utility::Blas*, artm::ThetaMatrix*)\u001b[m\u001b[K’:\n",
            "\u001b[01m\u001b[K/content/bigartm/src/artm/core/processor_transaction_helpers.cc:166:25:\u001b[m\u001b[K \u001b[01;35m\u001b[Kwarning: \u001b[m\u001b[Kcomparison between signed and unsigned integer expressions [\u001b[01;35m\u001b[K-Wsign-compare\u001b[m\u001b[K]\n",
            "       for (int k = 0; \u001b[01;35m\u001b[Kk < it->second->local_pwt_token_index.size()\u001b[m\u001b[K; ++k) {\n",
            "                       \u001b[01;35m\u001b[K~~^~~~~~~~~~~~~~~~~~~~~~~~~~~~~~~~~~~~~~~~~~\u001b[m\u001b[K\n",
            "[ 77%] \u001b[32mBuilding CXX object src/artm/CMakeFiles/artm-static.dir/core/processor_input.cc.o\u001b[0m\n",
            "[ 77%] \u001b[32mBuilding CXX object src/artm/CMakeFiles/artm-static.dir/core/protobuf_serialization.cc.o\u001b[0m\n",
            "[ 77%] \u001b[32mBuilding CXX object src/artm/CMakeFiles/artm-static.dir/core/phi_matrix_operations.cc.o\u001b[0m\n",
            "In file included from \u001b[01m\u001b[K/content/bigartm/src/artm/core/phi_matrix_operations.cc:14:0\u001b[m\u001b[K:\n",
            "\u001b[01m\u001b[K/content/bigartm/src/artm/../artm/core/check_messages.h:\u001b[m\u001b[K In function ‘\u001b[01m\u001b[Kvoid artm::core::FixMessage(T*) [with T = artm::RegularizerConfig]\u001b[m\u001b[K’:\n",
            "\u001b[01m\u001b[K/content/bigartm/src/artm/../artm/core/check_messages.h:553:28:\u001b[m\u001b[K \u001b[01;35m\u001b[Kwarning: \u001b[m\u001b[Ksuggest parentheses around ‘\u001b[01m\u001b[K&&\u001b[m\u001b[K’ within ‘\u001b[01m\u001b[K||\u001b[m\u001b[K’ [\u001b[01;35m\u001b[K-Wparentheses\u001b[m\u001b[K]\n",
            "   if (\u001b[01;35m\u001b[Kmessage->has_gamma() && (message->gamma() < 0)\u001b[m\u001b[K || (message->gamma() > 1)) {\n",
            "       \u001b[01;35m\u001b[K~~~~~~~~~~~~~~~~~~~~~^~~~~~~~~~~~~~~~~~~~~~~~~\u001b[m\u001b[K\n",
            "\u001b[01m\u001b[K/content/bigartm/src/artm/core/phi_matrix_operations.cc:\u001b[m\u001b[K In static member function ‘\u001b[01m\u001b[Kstatic void artm::core::PhiMatrixOperations::ApplyTopicModelOperation(const artm::TopicModel&, float, bool, artm::core::PhiMatrix*)\u001b[m\u001b[K’:\n",
            "\u001b[01m\u001b[K/content/bigartm/src/artm/core/phi_matrix_operations.cc:156:60:\u001b[m\u001b[K \u001b[01;35m\u001b[Kwarning: \u001b[m\u001b[Kcomparison between signed and unsigned integer expressions [\u001b[01;35m\u001b[K-Wsign-compare\u001b[m\u001b[K]\n",
            "   if ((apply_weight == 1.0f) && (\u001b[01;35m\u001b[Ktarget_topic_index.size() == this_topic_size\u001b[m\u001b[K)) {\n",
            "                                  \u001b[01;35m\u001b[K~~~~~~~~~~~~~~~~~~~~~~~~~~^~~~~~~~~~~~~~~~~~\u001b[m\u001b[K\n",
            "\u001b[01m\u001b[K/content/bigartm/src/artm/core/phi_matrix_operations.cc:159:43:\u001b[m\u001b[K \u001b[01;35m\u001b[Kwarning: \u001b[m\u001b[Kcomparison between signed and unsigned integer expressions [\u001b[01;35m\u001b[K-Wsign-compare\u001b[m\u001b[K]\n",
            "       if (target_topic_index[topic_index] != topic_index) {\n",
            "[ 78%] \u001b[32mBuilding CXX object src/artm/CMakeFiles/artm-static.dir/core/score_manager.cc.o\u001b[0m\n",
            "[ 78%] \u001b[32mBuilding CXX object src/artm/CMakeFiles/artm-static.dir/core/token.cc.o\u001b[0m\n",
            "[ 78%] \u001b[32mBuilding CXX object src/artm/CMakeFiles/artm-static.dir/core/transform_function.cc.o\u001b[0m\n",
            "[ 79%] \u001b[32mBuilding CXX object src/artm/CMakeFiles/artm-static.dir/regularizer/decorrelator_phi.cc.o\u001b[0m\n",
            "[ 79%] \u001b[32mBuilding CXX object src/artm/CMakeFiles/artm-static.dir/regularizer/multilanguage_phi.cc.o\u001b[0m\n",
            "[ 79%] \u001b[32mBuilding CXX object src/artm/CMakeFiles/artm-static.dir/regularizer/smooth_sparse_phi.cc.o\u001b[0m\n",
            "[ 80%] \u001b[32mBuilding CXX object src/artm/CMakeFiles/artm-static.dir/regularizer/label_regularization_phi.cc.o\u001b[0m\n",
            "[ 80%] \u001b[32mBuilding CXX object src/artm/CMakeFiles/artm-static.dir/regularizer/smooth_sparse_theta.cc.o\u001b[0m\n",
            "\u001b[01m\u001b[K/content/bigartm/src/artm/regularizer/smooth_sparse_theta.cc:\u001b[m\u001b[K In member function ‘\u001b[01m\u001b[Kvirtual void artm::regularizer::SmoothSparseThetaAgent::Apply(int, int, int, const float*, float*) const\u001b[m\u001b[K’:\n",
            "\u001b[01m\u001b[K/content/bigartm/src/artm/regularizer/smooth_sparse_theta.cc:22:19:\u001b[m\u001b[K \u001b[01;35m\u001b[Kwarning: \u001b[m\u001b[Kcomparison between signed and unsigned integer expressions [\u001b[01;35m\u001b[K-Wsign-compare\u001b[m\u001b[K]\n",
            "   if (\u001b[01;35m\u001b[Ktopics_size != topic_weight.size()\u001b[m\u001b[K || inner_iter >= alpha_weight.size()) {\n",
            "       \u001b[01;35m\u001b[K~~~~~~~~~~~~^~~~~~~~~~~~~~~~~~~~~~\u001b[m\u001b[K\n",
            "\u001b[01m\u001b[K/content/bigartm/src/artm/regularizer/smooth_sparse_theta.cc:22:56:\u001b[m\u001b[K \u001b[01;35m\u001b[Kwarning: \u001b[m\u001b[Kcomparison between signed and unsigned integer expressions [\u001b[01;35m\u001b[K-Wsign-compare\u001b[m\u001b[K]\n",
            "   if (topics_size != topic_weight.size() || \u001b[01;35m\u001b[Kinner_iter >= alpha_weight.size()\u001b[m\u001b[K) {\n",
            "                                             \u001b[01;35m\u001b[K~~~~~~~~~~~^~~~~~~~~~~~~~~~~~~~~~\u001b[m\u001b[K\n",
            "\u001b[01m\u001b[K/content/bigartm/src/artm/regularizer/smooth_sparse_theta.cc:34:71:\u001b[m\u001b[K \u001b[01;35m\u001b[Kwarning: \u001b[m\u001b[Kcomparison between signed and unsigned integer expressions [\u001b[01;35m\u001b[K-Wsign-compare\u001b[m\u001b[K]\n",
            "   if (use_universal_multiplier && \u001b[01;35m\u001b[Kuniversal_topic_multiplier_->size() != topics_size\u001b[m\u001b[K) {\n",
            "                                   \u001b[01;35m\u001b[K~~~~~~~~~~~~~~~~~~~~~~~~~~~~~~~~~~~~^~~~~~~~~~~~~~\u001b[m\u001b[K\n",
            "\u001b[01m\u001b[K/content/bigartm/src/artm/regularizer/smooth_sparse_theta.cc:46:56:\u001b[m\u001b[K \u001b[01;35m\u001b[Kwarning: \u001b[m\u001b[Kcomparison between signed and unsigned integer expressions [\u001b[01;35m\u001b[K-Wsign-compare\u001b[m\u001b[K]\n",
            "     if (use_specific_multiplier && \u001b[01;35m\u001b[Kiter->second.size() != topics_size\u001b[m\u001b[K) {\n",
            "                                    \u001b[01;35m\u001b[K~~~~~~~~~~~~~~~~~~~~^~~~~~~~~~~~~~\u001b[m\u001b[K\n",
            "[ 80%] \u001b[32mBuilding CXX object src/artm/CMakeFiles/artm-static.dir/regularizer/smooth_ptdw.cc.o\u001b[0m\n",
            "[ 81%] \u001b[32mBuilding CXX object src/artm/CMakeFiles/artm-static.dir/regularizer/specified_sparse_phi.cc.o\u001b[0m\n",
            "\u001b[01m\u001b[K/content/bigartm/src/artm/regularizer/specified_sparse_phi.cc:\u001b[m\u001b[K In member function ‘\u001b[01m\u001b[Kvirtual bool artm::regularizer::SpecifiedSparsePhi::RegularizePhi(const artm::core::PhiMatrix&, const artm::core::PhiMatrix&, artm::core::PhiMatrix*)\u001b[m\u001b[K’:\n",
            "\u001b[01m\u001b[K/content/bigartm/src/artm/regularizer/specified_sparse_phi.cc:79:28:\u001b[m\u001b[K \u001b[01;35m\u001b[Kwarning: \u001b[m\u001b[Kcomparison between signed and unsigned integer expressions [\u001b[01;35m\u001b[K-Wsign-compare\u001b[m\u001b[K]\n",
            "       if (\u001b[01;35m\u001b[Kmax_queue.size() < config_.max_elements_count()\u001b[m\u001b[K) {\n",
            "           \u001b[01;35m\u001b[K~~~~~~~~~~~~~~~~~^~~~~~~~~~~~~~~~~~~~~~~~~~~~~~\u001b[m\u001b[K\n",
            "[ 81%] \u001b[32mBuilding CXX object src/artm/CMakeFiles/artm-static.dir/regularizer/improve_coherence_phi.cc.o\u001b[0m\n",
            "[ 81%] \u001b[32mBuilding CXX object src/artm/CMakeFiles/artm-static.dir/regularizer/topic_selection_theta.cc.o\u001b[0m\n",
            "\u001b[01m\u001b[K/content/bigartm/src/artm/regularizer/topic_selection_theta.cc:\u001b[m\u001b[K In member function ‘\u001b[01m\u001b[Kvirtual void artm::regularizer::TopicSelectionThetaAgent::Apply(int, int, int, const float*, float*) const\u001b[m\u001b[K’:\n",
            "\u001b[01m\u001b[K/content/bigartm/src/artm/regularizer/topic_selection_theta.cc:26:19:\u001b[m\u001b[K \u001b[01;35m\u001b[Kwarning: \u001b[m\u001b[Kcomparison between signed and unsigned integer expressions [\u001b[01;35m\u001b[K-Wsign-compare\u001b[m\u001b[K]\n",
            "   if (\u001b[01;35m\u001b[Ktopics_size != topic_weight.size()\u001b[m\u001b[K || inner_iter >= alpha_weight.size()) {\n",
            "       \u001b[01;35m\u001b[K~~~~~~~~~~~~^~~~~~~~~~~~~~~~~~~~~~\u001b[m\u001b[K\n",
            "\u001b[01m\u001b[K/content/bigartm/src/artm/regularizer/topic_selection_theta.cc:26:56:\u001b[m\u001b[K \u001b[01;35m\u001b[Kwarning: \u001b[m\u001b[Kcomparison between signed and unsigned integer expressions [\u001b[01;35m\u001b[K-Wsign-compare\u001b[m\u001b[K]\n",
            "   if (topics_size != topic_weight.size() || \u001b[01;35m\u001b[Kinner_iter >= alpha_weight.size()\u001b[m\u001b[K) {\n",
            "                                             \u001b[01;35m\u001b[K~~~~~~~~~~~^~~~~~~~~~~~~~~~~~~~~~\u001b[m\u001b[K\n",
            "\u001b[01m\u001b[K/content/bigartm/src/artm/regularizer/topic_selection_theta.cc:\u001b[m\u001b[K In member function ‘\u001b[01m\u001b[Kvirtual void artm::regularizer::TopicSelectionThetaAgent::Apply(int, const artm::utility::LocalThetaMatrix<float>&, artm::utility::LocalThetaMatrix<float>*) const\u001b[m\u001b[K’:\n",
            "\u001b[01m\u001b[K/content/bigartm/src/artm/regularizer/topic_selection_theta.cc:46:18:\u001b[m\u001b[K \u001b[01;35m\u001b[Kwarning: \u001b[m\u001b[Kcomparison between signed and unsigned integer expressions [\u001b[01;35m\u001b[K-Wsign-compare\u001b[m\u001b[K]\n",
            "   if (\u001b[01;35m\u001b[Ktopic_size != topic_weight.size()\u001b[m\u001b[K || inner_iter >= alpha_weight.size()) {\n",
            "       \u001b[01;35m\u001b[K~~~~~~~~~~~^~~~~~~~~~~~~~~~~~~~~~\u001b[m\u001b[K\n",
            "\u001b[01m\u001b[K/content/bigartm/src/artm/regularizer/topic_selection_theta.cc:46:55:\u001b[m\u001b[K \u001b[01;35m\u001b[Kwarning: \u001b[m\u001b[Kcomparison between signed and unsigned integer expressions [\u001b[01;35m\u001b[K-Wsign-compare\u001b[m\u001b[K]\n",
            "   if (topic_size != topic_weight.size() || \u001b[01;35m\u001b[Kinner_iter >= alpha_weight.size()\u001b[m\u001b[K) {\n",
            "                                            \u001b[01;35m\u001b[K~~~~~~~~~~~^~~~~~~~~~~~~~~~~~~~~~\u001b[m\u001b[K\n",
            "[ 82%] \u001b[32mBuilding CXX object src/artm/CMakeFiles/artm-static.dir/regularizer/biterms_phi.cc.o\u001b[0m\n",
            "[ 82%] \u001b[32mBuilding CXX object src/artm/CMakeFiles/artm-static.dir/regularizer/hierarchy_sparsing_theta.cc.o\u001b[0m\n",
            "\u001b[01m\u001b[K/content/bigartm/src/artm/regularizer/hierarchy_sparsing_theta.cc:\u001b[m\u001b[K In member function ‘\u001b[01m\u001b[Kvirtual void artm::regularizer::HierarchySparsingThetaAgent::Apply(int, const artm::utility::LocalThetaMatrix<float>&, artm::utility::LocalThetaMatrix<float>*) const\u001b[m\u001b[K’:\n",
            "\u001b[01m\u001b[K/content/bigartm/src/artm/regularizer/hierarchy_sparsing_theta.cc:54:18:\u001b[m\u001b[K \u001b[01;35m\u001b[Kwarning: \u001b[m\u001b[Kcomparison between signed and unsigned integer expressions [\u001b[01;35m\u001b[K-Wsign-compare\u001b[m\u001b[K]\n",
            "   if (\u001b[01;35m\u001b[Ktopic_size != topic_weight.size()\u001b[m\u001b[K || inner_iter >= alpha_weight.size()) {\n",
            "       \u001b[01;35m\u001b[K~~~~~~~~~~~^~~~~~~~~~~~~~~~~~~~~~\u001b[m\u001b[K\n",
            "\u001b[01m\u001b[K/content/bigartm/src/artm/regularizer/hierarchy_sparsing_theta.cc:54:55:\u001b[m\u001b[K \u001b[01;35m\u001b[Kwarning: \u001b[m\u001b[Kcomparison between signed and unsigned integer expressions [\u001b[01;35m\u001b[K-Wsign-compare\u001b[m\u001b[K]\n",
            "   if (topic_size != topic_weight.size() || \u001b[01;35m\u001b[Kinner_iter >= alpha_weight.size()\u001b[m\u001b[K) {\n",
            "                                            \u001b[01;35m\u001b[K~~~~~~~~~~~^~~~~~~~~~~~~~~~~~~~~~\u001b[m\u001b[K\n",
            "[ 82%] \u001b[32mBuilding CXX object src/artm/CMakeFiles/artm-static.dir/regularizer/topic_segmentation_ptdw.cc.o\u001b[0m\n",
            "[ 83%] \u001b[32mBuilding CXX object src/artm/CMakeFiles/artm-static.dir/regularizer/smooth_time_in_topics_phi.cc.o\u001b[0m\n",
            "[ 83%] \u001b[32mBuilding CXX object src/artm/CMakeFiles/artm-static.dir/regularizer/net_plsa_phi.cc.o\u001b[0m\n",
            "\u001b[01m\u001b[K/content/bigartm/src/artm/regularizer/net_plsa_phi.cc:\u001b[m\u001b[K In member function ‘\u001b[01m\u001b[Kvirtual bool artm::regularizer::NetPlsaPhi::RegularizePhi(const artm::core::PhiMatrix&, const artm::core::PhiMatrix&, artm::core::PhiMatrix*)\u001b[m\u001b[K’:\n",
            "\u001b[01m\u001b[K/content/bigartm/src/artm/regularizer/net_plsa_phi.cc:41:42:\u001b[m\u001b[K \u001b[01;35m\u001b[Kwarning: \u001b[m\u001b[Kcomparison between signed and unsigned integer expressions [\u001b[01;35m\u001b[K-Wsign-compare\u001b[m\u001b[K]\n",
            "   if (has_weights && \u001b[01;35m\u001b[Kvertex_name_.size() != config_.vertex_weight_size()\u001b[m\u001b[K) {\n",
            "                      \u001b[01;35m\u001b[K~~~~~~~~~~~~~~~~~~~~^~~~~~~~~~~~~~~~~~~~~~~~~~~~~~~\u001b[m\u001b[K\n",
            "\u001b[01m\u001b[K/content/bigartm/src/artm/regularizer/net_plsa_phi.cc:55:37:\u001b[m\u001b[K \u001b[01;35m\u001b[Kwarning: \u001b[m\u001b[Kcomparison between signed and unsigned integer expressions [\u001b[01;35m\u001b[K-Wsign-compare\u001b[m\u001b[K]\n",
            "   for (int vertex_id = 0; \u001b[01;35m\u001b[Kvertex_id < vertex_name_.size()\u001b[m\u001b[K; ++vertex_id) {\n",
            "                           \u001b[01;35m\u001b[K~~~~~~~~~~^~~~~~~~~~~~~~~~~~~~~\u001b[m\u001b[K\n",
            "\u001b[01m\u001b[K/content/bigartm/src/artm/regularizer/net_plsa_phi.cc:76:27:\u001b[m\u001b[K \u001b[01;35m\u001b[Kwarning: \u001b[m\u001b[Kcomparison between signed and unsigned integer expressions [\u001b[01;35m\u001b[K-Wsign-compare\u001b[m\u001b[K]\n",
            "         if (\u001b[01;35m\u001b[Kpair_id.first >= vertex_name_.size()\u001b[m\u001b[K || pair_id.first < 0) {\n",
            "             \u001b[01;35m\u001b[K~~~~~~~~~~~~~~^~~~~~~~~~~~~~~~~~~~~~\u001b[m\u001b[K\n",
            "[ 83%] \u001b[32mBuilding CXX object src/artm/CMakeFiles/artm-static.dir/score/class_precision.cc.o\u001b[0m\n",
            "[ 84%] \u001b[32mBuilding CXX object src/artm/CMakeFiles/artm-static.dir/score/items_processed.cc.o\u001b[0m\n",
            "[ 84%] \u001b[32mBuilding CXX object src/artm/CMakeFiles/artm-static.dir/score/peak_memory.cc.o\u001b[0m\n",
            "[ 84%] \u001b[32mBuilding CXX object src/artm/CMakeFiles/artm-static.dir/score/perplexity.cc.o\u001b[0m\n",
            "\u001b[01m\u001b[K/content/bigartm/src/artm/score/perplexity.cc:\u001b[m\u001b[K In member function ‘\u001b[01m\u001b[Kvirtual void artm::score::Perplexity::AppendScore(const artm::Item&, const artm::Batch&, const std::vector<artm::core::Token>&, const artm::core::PhiMatrix&, const artm::ProcessBatchesArgs&, const std::vector<float>&, artm::Score*)\u001b[m\u001b[K’:\n",
            "\u001b[01m\u001b[K/content/bigartm/src/artm/score/perplexity.cc:169:11:\u001b[m\u001b[K \u001b[01;35m\u001b[Kwarning: \u001b[m\u001b[Kvariable ‘\u001b[01m\u001b[Ktt_weight\u001b[m\u001b[K’ set but not used [\u001b[01;35m\u001b[K-Wunused-but-set-variable\u001b[m\u001b[K]\n",
            "     float \u001b[01;35m\u001b[Ktt_weight\u001b[m\u001b[K = 1.0f;\n",
            "           \u001b[01;35m\u001b[K^~~~~~~~~\u001b[m\u001b[K\n",
            "\u001b[01m\u001b[K/content/bigartm/src/artm/score/perplexity.cc:\u001b[m\u001b[K In member function ‘\u001b[01m\u001b[Kvirtual void artm::score::Perplexity::AppendScore(const Score&, artm::Score*)\u001b[m\u001b[K’:\n",
            "\u001b[01m\u001b[K/content/bigartm/src/artm/score/perplexity.cc:292:26:\u001b[m\u001b[K \u001b[01;35m\u001b[Kwarning: \u001b[m\u001b[Kcomparison between signed and unsigned integer expressions [\u001b[01;35m\u001b[K-Wsign-compare\u001b[m\u001b[K]\n",
            "     for (size_t i = 0; \u001b[01;35m\u001b[Ki < perplexity_score->transaction_typename_info_size()\u001b[m\u001b[K; ++i) {\n",
            "                        \u001b[01;35m\u001b[K~~^~~~~~~~~~~~~~~~~~~~~~~~~~~~~~~~~~~~~~~~~~~~~~~~~~~~\u001b[m\u001b[K\n",
            "\u001b[01m\u001b[K/content/bigartm/src/artm/score/perplexity.cc:296:28:\u001b[m\u001b[K \u001b[01;35m\u001b[Kwarning: \u001b[m\u001b[Kcomparison between signed and unsigned integer expressions [\u001b[01;35m\u001b[K-Wsign-compare\u001b[m\u001b[K]\n",
            "       for (size_t j = 0; \u001b[01;35m\u001b[Kj < perplexity_target->transaction_typename_info_size()\u001b[m\u001b[K; ++j) {\n",
            "                          \u001b[01;35m\u001b[K~~^~~~~~~~~~~~~~~~~~~~~~~~~~~~~~~~~~~~~~~~~~~~~~~~~~~~~\u001b[m\u001b[K\n",
            "\u001b[01m\u001b[K/content/bigartm/src/artm/score/perplexity.cc:323:26:\u001b[m\u001b[K \u001b[01;35m\u001b[Kwarning: \u001b[m\u001b[Kcomparison between signed and unsigned integer expressions [\u001b[01;35m\u001b[K-Wsign-compare\u001b[m\u001b[K]\n",
            "     for (size_t j = 0; \u001b[01;35m\u001b[Kj < perplexity_target->transaction_typename_info_size()\u001b[m\u001b[K; ++j) {\n",
            "                        \u001b[01;35m\u001b[K~~^~~~~~~~~~~~~~~~~~~~~~~~~~~~~~~~~~~~~~~~~~~~~~~~~~~~~\u001b[m\u001b[K\n",
            "[ 85%] \u001b[32mBuilding CXX object src/artm/CMakeFiles/artm-static.dir/score/sparsity_phi.cc.o\u001b[0m\n",
            "[ 85%] \u001b[32mBuilding CXX object src/artm/CMakeFiles/artm-static.dir/score/sparsity_theta.cc.o\u001b[0m\n",
            "[ 85%] \u001b[32mBuilding CXX object src/artm/CMakeFiles/artm-static.dir/score/theta_snippet.cc.o\u001b[0m\n",
            "[ 86%] \u001b[32mBuilding CXX object src/artm/CMakeFiles/artm-static.dir/score/top_tokens.cc.o\u001b[0m\n",
            "[ 86%] \u001b[32mBuilding CXX object src/artm/CMakeFiles/artm-static.dir/score/topic_kernel.cc.o\u001b[0m\n",
            "[ 86%] \u001b[32mBuilding CXX object src/artm/CMakeFiles/artm-static.dir/score/topic_mass_phi.cc.o\u001b[0m\n",
            "[ 88%] \u001b[32mBuilding CXX object src/artm/CMakeFiles/artm-static.dir/score/background_tokens_ratio.cc.o\u001b[0m\n",
            "[ 88%] \u001b[32mBuilding CXX object src/artm/CMakeFiles/artm-static.dir/utility/blas.cc.o\u001b[0m\n",
            "[ 88%] \u001b[32mBuilding CXX object src/artm/CMakeFiles/artm-static.dir/utility/progress_printer.cc.o\u001b[0m\n",
            "[ 89%] \u001b[32m\u001b[1mLinking CXX static library ../../lib/libartm-static.a\u001b[0m\n",
            "[ 89%] Built target artm-static\n",
            "\u001b[35m\u001b[1mScanning dependencies of target artm\u001b[0m\n",
            "[ 89%] \u001b[32mBuilding CXX object src/artm/CMakeFiles/artm.dir/c_interface.cc.o\u001b[0m\n",
            "In file included from \u001b[01m\u001b[K/content/bigartm/src/artm/c_interface.cc:18:0\u001b[m\u001b[K:\n",
            "\u001b[01m\u001b[K/content/bigartm/src/artm/../artm/core/check_messages.h:\u001b[m\u001b[K In function ‘\u001b[01m\u001b[Kvoid artm::core::FixMessage(T*) [with T = artm::RegularizerConfig]\u001b[m\u001b[K’:\n",
            "\u001b[01m\u001b[K/content/bigartm/src/artm/../artm/core/check_messages.h:553:28:\u001b[m\u001b[K \u001b[01;35m\u001b[Kwarning: \u001b[m\u001b[Ksuggest parentheses around ‘\u001b[01m\u001b[K&&\u001b[m\u001b[K’ within ‘\u001b[01m\u001b[K||\u001b[m\u001b[K’ [\u001b[01;35m\u001b[K-Wparentheses\u001b[m\u001b[K]\n",
            "   if (\u001b[01;35m\u001b[Kmessage->has_gamma() && (message->gamma() < 0)\u001b[m\u001b[K || (message->gamma() > 1)) {\n",
            "       \u001b[01;35m\u001b[K~~~~~~~~~~~~~~~~~~~~~^~~~~~~~~~~~~~~~~~~~~~~~~\u001b[m\u001b[K\n",
            "[ 90%] \u001b[32mBuilding CXX object src/artm/CMakeFiles/artm.dir/cpp_interface.cc.o\u001b[0m\n",
            "[ 90%] \u001b[32mBuilding CXX object src/artm/CMakeFiles/artm.dir/messages.pb.cc.o\u001b[0m\n",
            "[ 90%] \u001b[32m\u001b[1mLinking CXX shared library ../../lib/libartm.so\u001b[0m\n",
            "[ 90%] Built target artm\n",
            "\u001b[35m\u001b[1mScanning dependencies of target artm_tests\u001b[0m\n",
            "[ 90%] \u001b[32mBuilding CXX object src/artm_tests/CMakeFiles/artm_tests.dir/api.cc.o\u001b[0m\n",
            "[ 90%] \u001b[32mBuilding CXX object src/artm_tests/CMakeFiles/artm_tests.dir/batch_manager_test.cc.o\u001b[0m\n",
            "[ 91%] \u001b[32mBuilding CXX object src/artm_tests/CMakeFiles/artm_tests.dir/blas_test.cc.o\u001b[0m\n",
            "[ 91%] \u001b[32mBuilding CXX object src/artm_tests/CMakeFiles/artm_tests.dir/boost_thread_test.cc.o\u001b[0m\n",
            "[ 91%] \u001b[32mBuilding CXX object src/artm_tests/CMakeFiles/artm_tests.dir/cache_manager_test.cc.o\u001b[0m\n",
            "In file included from \u001b[01m\u001b[K/content/bigartm/src/artm_tests/cache_manager_test.cc:5:0\u001b[m\u001b[K:\n",
            "/content/bigartm/3rdparty/gtest/fused-src/gtest/gtest.h: In instantiation of ‘\u001b[01m\u001b[Ktesting::AssertionResult testing::internal::CmpHelperEQ(const char*, const char*, const T1&, const T2&) [with T1 = long unsigned int; T2 = int]\u001b[m\u001b[K’:\n",
            "\u001b[01m\u001b[K/content/bigartm/3rdparty/gtest/fused-src/gtest/gtest.h:18897:23:\u001b[m\u001b[K   required from ‘\u001b[01m\u001b[Kstatic testing::AssertionResult testing::internal::EqHelper<lhs_is_null_literal>::Compare(const char*, const char*, const T1&, const T2&) [with T1 = long unsigned int; T2 = int; bool lhs_is_null_literal = false]\u001b[m\u001b[K’\n",
            "\u001b[01m\u001b[K/content/bigartm/src/artm_tests/cache_manager_test.cc:27:3:\u001b[m\u001b[K   required from here\n",
            "\u001b[01m\u001b[K/content/bigartm/3rdparty/gtest/fused-src/gtest/gtest.h:18861:16:\u001b[m\u001b[K \u001b[01;35m\u001b[Kwarning: \u001b[m\u001b[Kcomparison between signed and unsigned integer expressions [\u001b[01;35m\u001b[K-Wsign-compare\u001b[m\u001b[K]\n",
            "   if (\u001b[01;35m\u001b[Kexpected == actual\u001b[m\u001b[K) {\n",
            "       \u001b[01;35m\u001b[K~~~~~~~~~^~~~~~~~~\u001b[m\u001b[K\n",
            "[ 92%] \u001b[32mBuilding CXX object src/artm_tests/CMakeFiles/artm_tests.dir/collection_parser_test.cc.o\u001b[0m\n",
            "[ 92%] \u001b[32mBuilding CXX object src/artm_tests/CMakeFiles/artm_tests.dir/cpp_interface_test.cc.o\u001b[0m\n",
            "\u001b[01m\u001b[K/content/bigartm/src/artm_tests/cpp_interface_test.cc:\u001b[m\u001b[K In member function ‘\u001b[01m\u001b[Kvirtual void CppInterface_AsyncProcessBatches_Test::TestBody()\u001b[m\u001b[K’:\n",
            "\u001b[01m\u001b[K/content/bigartm/src/artm_tests/cpp_interface_test.cc:700:26:\u001b[m\u001b[K \u001b[01;35m\u001b[Kwarning: \u001b[m\u001b[Kcomparison between signed and unsigned integer expressions [\u001b[01;35m\u001b[K-Wsign-compare\u001b[m\u001b[K]\n",
            "   for (unsigned i = 0; \u001b[01;35m\u001b[Ki < offlineArgs.batch_filename_size()\u001b[m\u001b[K; ++i) {\n",
            "                        \u001b[01;35m\u001b[K~~^~~~~~~~~~~~~~~~~~~~~~~~~~~~~~~~~~~\u001b[m\u001b[K\n",
            "In file included from \u001b[01m\u001b[K/content/bigartm/src/artm_tests/cpp_interface_test.cc:4:0\u001b[m\u001b[K:\n",
            "/content/bigartm/3rdparty/gtest/fused-src/gtest/gtest.h: In instantiation of ‘\u001b[01m\u001b[Ktesting::AssertionResult testing::internal::CmpHelperGT(const char*, const char*, const T1&, const T2&) [with T1 = long unsigned int; T2 = int]\u001b[m\u001b[K’:\n",
            "\u001b[01m\u001b[K/content/bigartm/src/artm_tests/cpp_interface_test.cc:31:3:\u001b[m\u001b[K   required from here\n",
            "\u001b[01m\u001b[K/content/bigartm/3rdparty/gtest/fused-src/gtest/gtest.h:18998:28:\u001b[m\u001b[K \u001b[01;35m\u001b[Kwarning: \u001b[m\u001b[Kcomparison between signed and unsigned integer expressions [\u001b[01;35m\u001b[K-Wsign-compare\u001b[m\u001b[K]\n",
            "\u001b[01m\u001b[K/content/bigartm/3rdparty/gtest/fused-src/gtest/gtest.h:18975:7:\u001b[m\u001b[K\n",
            "   if (\u001b[01;35m\u001b[Kval1 op v\u001b[m\u001b[Kal2) {\\\n",
            "       \u001b[01;35m\u001b[K~~~~~~~~~\u001b[m\u001b[K             \n",
            "\u001b[01m\u001b[K/content/bigartm/3rdparty/gtest/fused-src/gtest/gtest.h:18998:28:\u001b[m\u001b[K\n",
            " GTEST_IMPL_CMP_HELPER_(GT, >);\n",
            "\u001b[01m\u001b[K/content/bigartm/3rdparty/gtest/fused-src/gtest/gtest.h:18975:12:\u001b[m\u001b[K \u001b[01;36m\u001b[Knote: \u001b[m\u001b[Kin definition of macro ‘\u001b[01m\u001b[KGTEST_IMPL_CMP_HELPER_\u001b[m\u001b[K’\n",
            "   if (val1 \u001b[01;36m\u001b[Kop\u001b[m\u001b[K val2) {\\\n",
            "            \u001b[01;36m\u001b[K^~\u001b[m\u001b[K\n",
            "/content/bigartm/3rdparty/gtest/fused-src/gtest/gtest.h: In instantiation of ‘\u001b[01m\u001b[Ktesting::AssertionResult testing::internal::CmpHelperEQ(const char*, const char*, const T1&, const T2&) [with T1 = long unsigned int; T2 = int]\u001b[m\u001b[K’:\n",
            "\u001b[01m\u001b[K/content/bigartm/3rdparty/gtest/fused-src/gtest/gtest.h:18897:23:\u001b[m\u001b[K   required from ‘\u001b[01m\u001b[Kstatic testing::AssertionResult testing::internal::EqHelper<lhs_is_null_literal>::Compare(const char*, const char*, const T1&, const T2&) [with T1 = long unsigned int; T2 = int; bool lhs_is_null_literal = false]\u001b[m\u001b[K’\n",
            "\u001b[01m\u001b[K/content/bigartm/src/artm_tests/cpp_interface_test.cc:342:7:\u001b[m\u001b[K   required from here\n",
            "\u001b[01m\u001b[K/content/bigartm/3rdparty/gtest/fused-src/gtest/gtest.h:18861:16:\u001b[m\u001b[K \u001b[01;35m\u001b[Kwarning: \u001b[m\u001b[Kcomparison between signed and unsigned integer expressions [\u001b[01;35m\u001b[K-Wsign-compare\u001b[m\u001b[K]\n",
            "   if (\u001b[01;35m\u001b[Kexpected == actual\u001b[m\u001b[K) {\n",
            "       \u001b[01;35m\u001b[K~~~~~~~~~^~~~~~~~~\u001b[m\u001b[K\n",
            "[ 92%] \u001b[32mBuilding CXX object src/artm_tests/CMakeFiles/artm_tests.dir/master_model_test.cc.o\u001b[0m\n",
            "\u001b[01m\u001b[K/content/bigartm/src/artm_tests/master_model_test.cc:\u001b[m\u001b[K In function ‘\u001b[01m\u001b[Kvoid testReshapeTokens(bool, bool)\u001b[m\u001b[K’:\n",
            "\u001b[01m\u001b[K/content/bigartm/src/artm_tests/master_model_test.cc:277:9:\u001b[m\u001b[K \u001b[01;35m\u001b[Kwarning: \u001b[m\u001b[Kunused variable ‘\u001b[01m\u001b[Kexpected\u001b[m\u001b[K’ [\u001b[01;35m\u001b[K-Wunused-variable\u001b[m\u001b[K]\n",
            "   float \u001b[01;35m\u001b[Kexpected\u001b[m\u001b[K[] = { 14.3481f, 11.7418f, 10.8133f, 10.3792f };\n",
            "         \u001b[01;35m\u001b[K^~~~~~~~\u001b[m\u001b[K\n",
            "In file included from \u001b[01m\u001b[K/content/bigartm/src/artm_tests/master_model_test.cc:7:0\u001b[m\u001b[K:\n",
            "/content/bigartm/3rdparty/gtest/fused-src/gtest/gtest.h: In instantiation of ‘\u001b[01m\u001b[Ktesting::AssertionResult testing::internal::CmpHelperEQ(const char*, const char*, const T1&, const T2&) [with T1 = long unsigned int; T2 = int]\u001b[m\u001b[K’:\n",
            "\u001b[01m\u001b[K/content/bigartm/3rdparty/gtest/fused-src/gtest/gtest.h:18897:23:\u001b[m\u001b[K   required from ‘\u001b[01m\u001b[Kstatic testing::AssertionResult testing::internal::EqHelper<lhs_is_null_literal>::Compare(const char*, const char*, const T1&, const T2&) [with T1 = long unsigned int; T2 = int; bool lhs_is_null_literal = false]\u001b[m\u001b[K’\n",
            "\u001b[01m\u001b[K/content/bigartm/src/artm_tests/master_model_test.cc:95:5:\u001b[m\u001b[K   required from here\n",
            "\u001b[01m\u001b[K/content/bigartm/3rdparty/gtest/fused-src/gtest/gtest.h:18861:16:\u001b[m\u001b[K \u001b[01;35m\u001b[Kwarning: \u001b[m\u001b[Kcomparison between signed and unsigned integer expressions [\u001b[01;35m\u001b[K-Wsign-compare\u001b[m\u001b[K]\n",
            "   if (\u001b[01;35m\u001b[Kexpected == actual\u001b[m\u001b[K) {\n",
            "       \u001b[01;35m\u001b[K~~~~~~~~~^~~~~~~~~\u001b[m\u001b[K\n",
            "[ 93%] \u001b[32mBuilding CXX object src/artm_tests/CMakeFiles/artm_tests.dir/multiple_classes_test.cc.o\u001b[0m\n",
            "[ 93%] \u001b[32mBuilding CXX object src/artm_tests/CMakeFiles/artm_tests.dir/regularizers_test.cc.o\u001b[0m\n",
            "In file included from \u001b[01m\u001b[K/content/bigartm/src/artm_tests/regularizers_test.cc:6:0\u001b[m\u001b[K:\n",
            "/content/bigartm/3rdparty/gtest/fused-src/gtest/gtest.h: In instantiation of ‘\u001b[01m\u001b[Ktesting::AssertionResult testing::internal::CmpHelperEQ(const char*, const char*, const T1&, const T2&) [with T1 = long unsigned int; T2 = int]\u001b[m\u001b[K’:\n",
            "\u001b[01m\u001b[K/content/bigartm/3rdparty/gtest/fused-src/gtest/gtest.h:18897:23:\u001b[m\u001b[K   required from ‘\u001b[01m\u001b[Kstatic testing::AssertionResult testing::internal::EqHelper<lhs_is_null_literal>::Compare(const char*, const char*, const T1&, const T2&) [with T1 = long unsigned int; T2 = int; bool lhs_is_null_literal = false]\u001b[m\u001b[K’\n",
            "\u001b[01m\u001b[K/content/bigartm/src/artm_tests/regularizers_test.cc:377:5:\u001b[m\u001b[K   required from here\n",
            "\u001b[01m\u001b[K/content/bigartm/3rdparty/gtest/fused-src/gtest/gtest.h:18861:16:\u001b[m\u001b[K \u001b[01;35m\u001b[Kwarning: \u001b[m\u001b[Kcomparison between signed and unsigned integer expressions [\u001b[01;35m\u001b[K-Wsign-compare\u001b[m\u001b[K]\n",
            "   if (\u001b[01;35m\u001b[Kexpected == actual\u001b[m\u001b[K) {\n",
            "       \u001b[01;35m\u001b[K~~~~~~~~~^~~~~~~~~\u001b[m\u001b[K\n",
            "[ 93%] \u001b[32mBuilding CXX object src/artm_tests/CMakeFiles/artm_tests.dir/scores_test.cc.o\u001b[0m\n",
            "\u001b[01m\u001b[K/content/bigartm/src/artm_tests/scores_test.cc:\u001b[m\u001b[K In member function ‘\u001b[01m\u001b[Kvirtual void Scores_ScoreTrackerExportImport_Test::TestBody()\u001b[m\u001b[K’:\n",
            "\u001b[01m\u001b[K/content/bigartm/src/artm_tests/scores_test.cc:197:24:\u001b[m\u001b[K \u001b[01;35m\u001b[Kwarning: \u001b[m\u001b[Kcomparison between signed and unsigned integer expressions [\u001b[01;35m\u001b[K-Wsign-compare\u001b[m\u001b[K]\n",
            "   for (size_t i = 0; \u001b[01;35m\u001b[Ki < nPasses\u001b[m\u001b[K; ++i) {\n",
            "                      \u001b[01;35m\u001b[K~~^~~~~~~~~\u001b[m\u001b[K\n",
            "\u001b[01m\u001b[K/content/bigartm/src/artm_tests/scores_test.cc:204:24:\u001b[m\u001b[K \u001b[01;35m\u001b[Kwarning: \u001b[m\u001b[Kcomparison between signed and unsigned integer expressions [\u001b[01;35m\u001b[K-Wsign-compare\u001b[m\u001b[K]\n",
            "   for (size_t i = 0; \u001b[01;35m\u001b[Ki < nPasses\u001b[m\u001b[K; ++i) {\n",
            "                      \u001b[01;35m\u001b[K~~^~~~~~~~~\u001b[m\u001b[K\n",
            "[ 94%] \u001b[32mBuilding CXX object src/artm_tests/CMakeFiles/artm_tests.dir/repeatable_result_test.cc.o\u001b[0m\n",
            "In file included from \u001b[01m\u001b[K/content/bigartm/src/artm_tests/repeatable_result_test.cc:4:0\u001b[m\u001b[K:\n",
            "/content/bigartm/3rdparty/gtest/fused-src/gtest/gtest.h: In instantiation of ‘\u001b[01m\u001b[Ktesting::AssertionResult testing::internal::CmpHelperEQ(const char*, const char*, const T1&, const T2&) [with T1 = long unsigned int; T2 = int]\u001b[m\u001b[K’:\n",
            "\u001b[01m\u001b[K/content/bigartm/3rdparty/gtest/fused-src/gtest/gtest.h:18897:23:\u001b[m\u001b[K   required from ‘\u001b[01m\u001b[Kstatic testing::AssertionResult testing::internal::EqHelper<lhs_is_null_literal>::Compare(const char*, const char*, const T1&, const T2&) [with T1 = long unsigned int; T2 = int; bool lhs_is_null_literal = false]\u001b[m\u001b[K’\n",
            "\u001b[01m\u001b[K/content/bigartm/src/artm_tests/repeatable_result_test.cc:72:3:\u001b[m\u001b[K   required from here\n",
            "\u001b[01m\u001b[K/content/bigartm/3rdparty/gtest/fused-src/gtest/gtest.h:18861:16:\u001b[m\u001b[K \u001b[01;35m\u001b[Kwarning: \u001b[m\u001b[Kcomparison between signed and unsigned integer expressions [\u001b[01;35m\u001b[K-Wsign-compare\u001b[m\u001b[K]\n",
            "   if (\u001b[01;35m\u001b[Kexpected == actual\u001b[m\u001b[K) {\n",
            "       \u001b[01;35m\u001b[K~~~~~~~~~^~~~~~~~~\u001b[m\u001b[K\n",
            "[ 94%] \u001b[32mBuilding CXX object src/artm_tests/CMakeFiles/artm_tests.dir/supcry_test.cc.o\u001b[0m\n",
            "[ 94%] \u001b[32mBuilding CXX object src/artm_tests/CMakeFiles/artm_tests.dir/template_manager_test.cc.o\u001b[0m\n",
            "In file included from \u001b[01m\u001b[K/content/bigartm/src/artm_tests/template_manager_test.cc:8:0\u001b[m\u001b[K:\n",
            "\u001b[01m\u001b[K/content/bigartm/src/artm_tests/../artm/core/check_messages.h:\u001b[m\u001b[K In function ‘\u001b[01m\u001b[Kvoid artm::core::FixMessage(T*) [with T = artm::RegularizerConfig]\u001b[m\u001b[K’:\n",
            "\u001b[01m\u001b[K/content/bigartm/src/artm_tests/../artm/core/check_messages.h:553:28:\u001b[m\u001b[K \u001b[01;35m\u001b[Kwarning: \u001b[m\u001b[Ksuggest parentheses around ‘\u001b[01m\u001b[K&&\u001b[m\u001b[K’ within ‘\u001b[01m\u001b[K||\u001b[m\u001b[K’ [\u001b[01;35m\u001b[K-Wparentheses\u001b[m\u001b[K]\n",
            "   if (\u001b[01;35m\u001b[Kmessage->has_gamma() && (message->gamma() < 0)\u001b[m\u001b[K || (message->gamma() > 1)) {\n",
            "       \u001b[01;35m\u001b[K~~~~~~~~~~~~~~~~~~~~~^~~~~~~~~~~~~~~~~~~~~~~~~\u001b[m\u001b[K\n",
            "[ 95%] \u001b[32mBuilding CXX object src/artm_tests/CMakeFiles/artm_tests.dir/test_mother.cc.o\u001b[0m\n",
            "[ 95%] \u001b[32mBuilding CXX object src/artm_tests/CMakeFiles/artm_tests.dir/thread_safe_holder_test.cc.o\u001b[0m\n",
            "[ 96%] \u001b[32mBuilding CXX object src/artm_tests/CMakeFiles/artm_tests.dir/topic_seg_test.cc.o\u001b[0m\n",
            "[ 96%] \u001b[32mBuilding CXX object src/artm_tests/CMakeFiles/artm_tests.dir/transactions_test.cc.o\u001b[0m\n",
            "\u001b[01m\u001b[K/content/bigartm/src/artm_tests/transactions_test.cc:\u001b[m\u001b[K In member function ‘\u001b[01m\u001b[Kvirtual void Transactions_BasicTest_Test::TestBody()\u001b[m\u001b[K’:\n",
            "\u001b[01m\u001b[K/content/bigartm/src/artm_tests/transactions_test.cc:166:27:\u001b[m\u001b[K \u001b[01;35m\u001b[Kwarning: \u001b[m\u001b[Kcomparison between signed and unsigned integer expressions [\u001b[01;35m\u001b[K-Wsign-compare\u001b[m\u001b[K]\n",
            "         for (int x = 0; \u001b[01;35m\u001b[Kx < transactions.size()\u001b[m\u001b[K; ++x) {\n",
            "                         \u001b[01;35m\u001b[K~~^~~~~~~~~~~~~~~~~~~~~\u001b[m\u001b[K\n",
            "[ 96%] \u001b[32mBuilding CXX object src/artm_tests/CMakeFiles/artm_tests.dir/__/__/3rdparty/gtest/fused-src/gtest/gtest_main.cc.o\u001b[0m\n",
            "[ 97%] \u001b[32mBuilding CXX object src/artm_tests/CMakeFiles/artm_tests.dir/__/__/3rdparty/gtest/fused-src/gtest/gtest-all.cc.o\u001b[0m\n",
            "[ 97%] \u001b[32m\u001b[1mLinking CXX executable ../../bin/artm_tests\u001b[0m\n",
            "[ 97%] Built target artm_tests\n",
            "\u001b[35m\u001b[1mScanning dependencies of target bigartm\u001b[0m\n",
            "[ 97%] \u001b[32mBuilding CXX object src/bigartm/CMakeFiles/bigartm.dir/srcmain.cc.o\u001b[0m\n",
            "[ 98%] \u001b[32m\u001b[1mLinking CXX executable ../../bin/bigartm\u001b[0m\n",
            "[ 98%] Built target bigartm\n",
            "\u001b[35m\u001b[1mScanning dependencies of target python_bigartm_build\u001b[0m\n",
            "[ 98%] \u001b[34m\u001b[1mBuilding python package bigartm\u001b[0m\n",
            "running build\n",
            "Generating ./artm/wrapper/messages_pb2.py...\n",
            "Executing ['/content/bigartm/build/bin/protoc', '-I../src', '--python_out=./tmpo0neah4b', '../src/./artm/messages.proto']...\n",
            "running build_py\n",
            "creating build\n",
            "creating build/lib\n",
            "creating build/lib/artm\n",
            "copying artm/batches_utils.py -> build/lib/artm\n",
            "copying artm/scores.py -> build/lib/artm\n",
            "copying artm/artm_model.py -> build/lib/artm\n",
            "copying artm/lda_model.py -> build/lib/artm\n",
            "copying artm/score_tracker.py -> build/lib/artm\n",
            "copying artm/__init__.py -> build/lib/artm\n",
            "copying artm/master_component.py -> build/lib/artm\n",
            "copying artm/regularizers.py -> build/lib/artm\n",
            "copying artm/dictionary.py -> build/lib/artm\n",
            "copying artm/hierarchy_utils.py -> build/lib/artm\n",
            "creating build/lib/artm/wrapper\n",
            "copying artm/wrapper/constants.py -> build/lib/artm/wrapper\n",
            "copying artm/wrapper/exceptions.py -> build/lib/artm/wrapper\n",
            "copying artm/wrapper/api.py -> build/lib/artm/wrapper\n",
            "copying artm/wrapper/spec.py -> build/lib/artm/wrapper\n",
            "copying artm/wrapper/__init__.py -> build/lib/artm/wrapper\n",
            "copying artm/wrapper/utils.py -> build/lib/artm/wrapper\n",
            "copying artm/wrapper/messages_pb2.py -> build/lib/artm/wrapper\n",
            "[ 98%] Built target python_bigartm_build\n",
            "\u001b[35m\u001b[1mScanning dependencies of target python_bigartm_wheel\u001b[0m\n",
            "[100%] \u001b[34m\u001b[1mBuilding wheel bigartm\u001b[0m\n",
            "running bdist_wheel\n",
            "running build\n",
            "running build_py\n",
            "running build_ext\n",
            "installing to build/bdist.linux-x86_64/wheel\n",
            "running install\n",
            "running install_lib\n",
            "creating build/bdist.linux-x86_64\n",
            "creating build/bdist.linux-x86_64/wheel\n",
            "creating build/bdist.linux-x86_64/wheel/bigartm-0.10.0.data\n",
            "creating build/bdist.linux-x86_64/wheel/bigartm-0.10.0.data/purelib\n",
            "creating build/bdist.linux-x86_64/wheel/bigartm-0.10.0.data/purelib/artm\n",
            "copying build/lib/artm/batches_utils.py -> build/bdist.linux-x86_64/wheel/bigartm-0.10.0.data/purelib/artm\n",
            "copying build/lib/artm/scores.py -> build/bdist.linux-x86_64/wheel/bigartm-0.10.0.data/purelib/artm\n",
            "copying build/lib/artm/artm_model.py -> build/bdist.linux-x86_64/wheel/bigartm-0.10.0.data/purelib/artm\n",
            "copying build/lib/artm/lda_model.py -> build/bdist.linux-x86_64/wheel/bigartm-0.10.0.data/purelib/artm\n",
            "copying build/lib/artm/score_tracker.py -> build/bdist.linux-x86_64/wheel/bigartm-0.10.0.data/purelib/artm\n",
            "copying build/lib/artm/__init__.py -> build/bdist.linux-x86_64/wheel/bigartm-0.10.0.data/purelib/artm\n",
            "creating build/bdist.linux-x86_64/wheel/bigartm-0.10.0.data/purelib/artm/wrapper\n",
            "copying build/lib/artm/wrapper/constants.py -> build/bdist.linux-x86_64/wheel/bigartm-0.10.0.data/purelib/artm/wrapper\n",
            "copying build/lib/artm/wrapper/exceptions.py -> build/bdist.linux-x86_64/wheel/bigartm-0.10.0.data/purelib/artm/wrapper\n",
            "copying build/lib/artm/wrapper/api.py -> build/bdist.linux-x86_64/wheel/bigartm-0.10.0.data/purelib/artm/wrapper\n",
            "copying build/lib/artm/wrapper/spec.py -> build/bdist.linux-x86_64/wheel/bigartm-0.10.0.data/purelib/artm/wrapper\n",
            "copying build/lib/artm/wrapper/__init__.py -> build/bdist.linux-x86_64/wheel/bigartm-0.10.0.data/purelib/artm/wrapper\n",
            "copying build/lib/artm/wrapper/utils.py -> build/bdist.linux-x86_64/wheel/bigartm-0.10.0.data/purelib/artm/wrapper\n",
            "copying build/lib/artm/wrapper/messages_pb2.py -> build/bdist.linux-x86_64/wheel/bigartm-0.10.0.data/purelib/artm/wrapper\n",
            "copying build/lib/artm/master_component.py -> build/bdist.linux-x86_64/wheel/bigartm-0.10.0.data/purelib/artm\n",
            "copying build/lib/artm/regularizers.py -> build/bdist.linux-x86_64/wheel/bigartm-0.10.0.data/purelib/artm\n",
            "copying build/lib/artm/dictionary.py -> build/bdist.linux-x86_64/wheel/bigartm-0.10.0.data/purelib/artm\n",
            "copying build/lib/artm/hierarchy_utils.py -> build/bdist.linux-x86_64/wheel/bigartm-0.10.0.data/purelib/artm\n",
            "copying build/lib/artm/libartm.so -> build/bdist.linux-x86_64/wheel/bigartm-0.10.0.data/purelib/artm\n",
            "running install_egg_info\n",
            "running egg_info\n",
            "creating bigartm.egg-info\n",
            "writing bigartm.egg-info/PKG-INFO\n",
            "writing dependency_links to bigartm.egg-info/dependency_links.txt\n",
            "writing requirements to bigartm.egg-info/requires.txt\n",
            "writing top-level names to bigartm.egg-info/top_level.txt\n",
            "writing manifest file 'bigartm.egg-info/SOURCES.txt'\n",
            "writing manifest file 'bigartm.egg-info/SOURCES.txt'\n",
            "Copying bigartm.egg-info to build/bdist.linux-x86_64/wheel/bigartm-0.10.0.data/purelib/bigartm-0.10.0-py3.6.egg-info\n",
            "running install_scripts\n",
            "creating build/bdist.linux-x86_64/wheel/bigartm-0.10.0.dist-info/WHEEL\n",
            "creating '/content/bigartm/build/python/bigartm-0.10.0-cp36-cp36m-linux_x86_64.whl' and adding 'build/bdist.linux-x86_64/wheel' to it\n",
            "adding 'bigartm-0.10.0.data/purelib/artm/__init__.py'\n",
            "adding 'bigartm-0.10.0.data/purelib/artm/artm_model.py'\n",
            "adding 'bigartm-0.10.0.data/purelib/artm/batches_utils.py'\n",
            "adding 'bigartm-0.10.0.data/purelib/artm/dictionary.py'\n",
            "adding 'bigartm-0.10.0.data/purelib/artm/hierarchy_utils.py'\n",
            "adding 'bigartm-0.10.0.data/purelib/artm/lda_model.py'\n",
            "adding 'bigartm-0.10.0.data/purelib/artm/libartm.so'\n",
            "adding 'bigartm-0.10.0.data/purelib/artm/master_component.py'\n",
            "adding 'bigartm-0.10.0.data/purelib/artm/regularizers.py'\n",
            "adding 'bigartm-0.10.0.data/purelib/artm/score_tracker.py'\n",
            "adding 'bigartm-0.10.0.data/purelib/artm/scores.py'\n",
            "adding 'bigartm-0.10.0.data/purelib/artm/wrapper/__init__.py'\n",
            "adding 'bigartm-0.10.0.data/purelib/artm/wrapper/api.py'\n",
            "adding 'bigartm-0.10.0.data/purelib/artm/wrapper/constants.py'\n",
            "adding 'bigartm-0.10.0.data/purelib/artm/wrapper/exceptions.py'\n",
            "adding 'bigartm-0.10.0.data/purelib/artm/wrapper/messages_pb2.py'\n",
            "adding 'bigartm-0.10.0.data/purelib/artm/wrapper/spec.py'\n",
            "adding 'bigartm-0.10.0.data/purelib/artm/wrapper/utils.py'\n",
            "adding 'bigartm-0.10.0.dist-info/METADATA'\n",
            "adding 'bigartm-0.10.0.dist-info/WHEEL'\n",
            "adding 'bigartm-0.10.0.dist-info/top_level.txt'\n",
            "adding 'bigartm-0.10.0.dist-info/RECORD'\n",
            "removing build/bdist.linux-x86_64/wheel\n",
            "[100%] Built target python_bigartm_wheel\n"
          ],
          "name": "stdout"
        }
      ]
    },
    {
      "cell_type": "code",
      "metadata": {
        "colab": {
          "base_uri": "https://localhost:8080/"
        },
        "id": "lMaKS0DQ4zSE",
        "outputId": "b5f4b498-238b-4718-ecaa-ac644ea3582c"
      },
      "source": [
        "!pip install python/bigartm*.whl -U"
      ],
      "execution_count": 9,
      "outputs": [
        {
          "output_type": "stream",
          "text": [
            "Processing ./python/bigartm-0.10.0-cp36-cp36m-linux_x86_64.whl\n",
            "Requirement already satisfied, skipping upgrade: pandas in /usr/local/lib/python3.6/dist-packages (from bigartm==0.10.0) (1.1.5)\n",
            "Requirement already satisfied, skipping upgrade: numpy in /usr/local/lib/python3.6/dist-packages (from bigartm==0.10.0) (1.19.5)\n",
            "Requirement already satisfied, skipping upgrade: python-dateutil>=2.7.3 in /usr/local/lib/python3.6/dist-packages (from pandas->bigartm==0.10.0) (2.8.1)\n",
            "Requirement already satisfied, skipping upgrade: pytz>=2017.2 in /usr/local/lib/python3.6/dist-packages (from pandas->bigartm==0.10.0) (2018.9)\n",
            "Requirement already satisfied, skipping upgrade: six>=1.5 in /usr/local/lib/python3.6/dist-packages (from python-dateutil>=2.7.3->pandas->bigartm==0.10.0) (1.15.0)\n",
            "Installing collected packages: bigartm\n",
            "Successfully installed bigartm-0.10.0\n"
          ],
          "name": "stdout"
        }
      ]
    },
    {
      "cell_type": "markdown",
      "metadata": {
        "id": "f2PVN5q014hg"
      },
      "source": [
        "Вернемся в изначальную папку."
      ]
    },
    {
      "cell_type": "code",
      "metadata": {
        "colab": {
          "base_uri": "https://localhost:8080/"
        },
        "id": "rO_Tezz714hg",
        "outputId": "5d4ec187-e195-429f-d93c-fa5cc7771675"
      },
      "source": [
        "cd ../.. "
      ],
      "execution_count": 10,
      "outputs": [
        {
          "output_type": "stream",
          "text": [
            "/content\n"
          ],
          "name": "stdout"
        }
      ]
    },
    {
      "cell_type": "code",
      "metadata": {
        "colab": {
          "base_uri": "https://localhost:8080/"
        },
        "id": "P6Ay2Ayx3v3W",
        "outputId": "7bc8d3aa-d95a-4a57-e266-b3dd8f20b2f1"
      },
      "source": [
        "!pip install pymorphy2[fast] nltk gensim"
      ],
      "execution_count": 11,
      "outputs": [
        {
          "output_type": "stream",
          "text": [
            "Collecting pymorphy2[fast]\n",
            "\u001b[?25l  Downloading https://files.pythonhosted.org/packages/07/57/b2ff2fae3376d4f3c697b9886b64a54b476e1a332c67eee9f88e7f1ae8c9/pymorphy2-0.9.1-py3-none-any.whl (55kB)\n",
            "\r\u001b[K     |██████                          | 10kB 15.1MB/s eta 0:00:01\r\u001b[K     |███████████▉                    | 20kB 11.4MB/s eta 0:00:01\r\u001b[K     |█████████████████▊              | 30kB 7.5MB/s eta 0:00:01\r\u001b[K     |███████████████████████▋        | 40kB 7.6MB/s eta 0:00:01\r\u001b[K     |█████████████████████████████▌  | 51kB 4.5MB/s eta 0:00:01\r\u001b[K     |████████████████████████████████| 61kB 3.1MB/s \n",
            "\u001b[?25hRequirement already satisfied: nltk in /usr/local/lib/python3.6/dist-packages (3.2.5)\n",
            "Requirement already satisfied: gensim in /usr/local/lib/python3.6/dist-packages (3.6.0)\n",
            "Collecting dawg-python>=0.7.1\n",
            "  Downloading https://files.pythonhosted.org/packages/6a/84/ff1ce2071d4c650ec85745766c0047ccc3b5036f1d03559fd46bb38b5eeb/DAWG_Python-0.7.2-py2.py3-none-any.whl\n",
            "Requirement already satisfied: docopt>=0.6 in /usr/local/lib/python3.6/dist-packages (from pymorphy2[fast]) (0.6.2)\n",
            "Collecting pymorphy2-dicts-ru<3.0,>=2.4\n",
            "\u001b[?25l  Downloading https://files.pythonhosted.org/packages/3a/79/bea0021eeb7eeefde22ef9e96badf174068a2dd20264b9a378f2be1cdd9e/pymorphy2_dicts_ru-2.4.417127.4579844-py2.py3-none-any.whl (8.2MB)\n",
            "\u001b[K     |████████████████████████████████| 8.2MB 5.3MB/s \n",
            "\u001b[?25hCollecting DAWG>=0.8; extra == \"fast\"\n",
            "\u001b[?25l  Downloading https://files.pythonhosted.org/packages/b8/ef/91b619a399685f7a0a95a03628006ba814d96293bbbbed234ee66fbdefd9/DAWG-0.8.0.tar.gz (371kB)\n",
            "\u001b[K     |████████████████████████████████| 378kB 47.2MB/s \n",
            "\u001b[?25hRequirement already satisfied: six in /usr/local/lib/python3.6/dist-packages (from nltk) (1.15.0)\n",
            "Requirement already satisfied: numpy>=1.11.3 in /usr/local/lib/python3.6/dist-packages (from gensim) (1.19.5)\n",
            "Requirement already satisfied: smart-open>=1.2.1 in /usr/local/lib/python3.6/dist-packages (from gensim) (4.1.0)\n",
            "Requirement already satisfied: scipy>=0.18.1 in /usr/local/lib/python3.6/dist-packages (from gensim) (1.4.1)\n",
            "Building wheels for collected packages: DAWG\n",
            "  Building wheel for DAWG (setup.py) ... \u001b[?25l\u001b[?25hdone\n",
            "  Created wheel for DAWG: filename=DAWG-0.8.0-cp36-cp36m-linux_x86_64.whl size=869285 sha256=528b307509cd7ee4ca11a3991a06d9eee3952605dae4f21b8c375c067b226d73\n",
            "  Stored in directory: /root/.cache/pip/wheels/3d/1f/f0/a5b1f9d02e193c997d252c33d215f24dfd7a448bc0166b2a12\n",
            "Successfully built DAWG\n",
            "Installing collected packages: dawg-python, pymorphy2-dicts-ru, DAWG, pymorphy2\n",
            "Successfully installed DAWG-0.8.0 dawg-python-0.7.2 pymorphy2-0.9.1 pymorphy2-dicts-ru-2.4.417127.4579844\n"
          ],
          "name": "stdout"
        }
      ]
    },
    {
      "cell_type": "markdown",
      "metadata": {
        "id": "yvkS-WG-1tEV"
      },
      "source": [
        "## Load modules and data"
      ]
    },
    {
      "cell_type": "code",
      "metadata": {
        "colab": {
          "base_uri": "https://localhost:8080/"
        },
        "id": "syGkglti0YFf",
        "outputId": "0b73777a-adca-4d13-df2d-b55cf61a8a7d"
      },
      "source": [
        "import artm\n",
        "%matplotlib inline\n",
        "import glob\n",
        "import os, re\n",
        "import matplotlib.pyplot as plt\n",
        "from collections import defaultdict, Counter\n",
        "from nltk.corpus import stopwords\n",
        "import string\n",
        "import numpy as np\n",
        "from pymorphy2 import MorphAnalyzer\n",
        "import gensim, nltk\n",
        "morph = MorphAnalyzer()\n",
        "from nltk.tokenize import word_tokenize\n",
        "nltk.download('punkt')\n",
        "nltk.download('stopwords')\n",
        "stops = set(stopwords.words('russian'))"
      ],
      "execution_count": 12,
      "outputs": [
        {
          "output_type": "stream",
          "text": [
            "/usr/local/lib/python3.6/dist-packages/scipy/sparse/sparsetools.py:21: DeprecationWarning: `scipy.sparse.sparsetools` is deprecated!\n",
            "scipy.sparse.sparsetools is a private module for scipy.sparse, and should not be used.\n",
            "  _deprecated()\n",
            "/usr/local/lib/python3.6/dist-packages/pymorphy2/units/base.py:70: DeprecationWarning: inspect.getargspec() is deprecated since Python 3.0, use inspect.signature() or inspect.getfullargspec()\n",
            "  args, varargs, kw, default = inspect.getargspec(cls.__init__)\n"
          ],
          "name": "stderr"
        },
        {
          "output_type": "stream",
          "text": [
            "[nltk_data] Downloading package punkt to /root/nltk_data...\n",
            "[nltk_data]   Unzipping tokenizers/punkt.zip.\n",
            "[nltk_data] Downloading package stopwords to /root/nltk_data...\n",
            "[nltk_data]   Unzipping corpora/stopwords.zip.\n"
          ],
          "name": "stdout"
        }
      ]
    },
    {
      "cell_type": "code",
      "metadata": {
        "colab": {
          "base_uri": "https://localhost:8080/"
        },
        "id": "1Fq4ut7r5J0u",
        "outputId": "29917f5e-5bc2-46c7-afc9-b93df777f065"
      },
      "source": [
        "!wget https://github.com/mannefedov/compling_nlp_hse_course/raw/master/data/wiki_data.txt.zip\r\n",
        "!unzip wiki_data.txt.zip"
      ],
      "execution_count": 13,
      "outputs": [
        {
          "output_type": "stream",
          "text": [
            "--2021-01-26 22:51:13--  https://github.com/mannefedov/compling_nlp_hse_course/raw/master/data/wiki_data.txt.zip\n",
            "Resolving github.com (github.com)... 140.82.112.3\n",
            "Connecting to github.com (github.com)|140.82.112.3|:443... connected.\n",
            "HTTP request sent, awaiting response... 302 Found\n",
            "Location: https://raw.githubusercontent.com/mannefedov/compling_nlp_hse_course/master/data/wiki_data.txt.zip [following]\n",
            "--2021-01-26 22:51:13--  https://raw.githubusercontent.com/mannefedov/compling_nlp_hse_course/master/data/wiki_data.txt.zip\n",
            "Resolving raw.githubusercontent.com (raw.githubusercontent.com)... 151.101.0.133, 151.101.64.133, 151.101.128.133, ...\n",
            "Connecting to raw.githubusercontent.com (raw.githubusercontent.com)|151.101.0.133|:443... connected.\n",
            "HTTP request sent, awaiting response... 200 OK\n",
            "Length: 18709143 (18M) [application/zip]\n",
            "Saving to: ‘wiki_data.txt.zip’\n",
            "\n",
            "wiki_data.txt.zip   100%[===================>]  17.84M  41.2MB/s    in 0.4s    \n",
            "\n",
            "2021-01-26 22:51:14 (41.2 MB/s) - ‘wiki_data.txt.zip’ saved [18709143/18709143]\n",
            "\n",
            "Archive:  wiki_data.txt.zip\n",
            "  inflating: wiki_data.txt           \n",
            "  inflating: __MACOSX/._wiki_data.txt  \n"
          ],
          "name": "stdout"
        }
      ]
    },
    {
      "cell_type": "markdown",
      "metadata": {
        "id": "FVsxfDBb4nYV"
      },
      "source": [
        "## Prerocessing texts"
      ]
    },
    {
      "cell_type": "code",
      "metadata": {
        "id": "1hLw-SVu0YFm"
      },
      "source": [
        "class TextNormalizer():\n",
        "    \n",
        "    # Class for fast text-normalization\n",
        "        \n",
        "    def opt_normalize(self, texts, top=None) -> list:\n",
        "        \n",
        "        texts = self.tokenize_texts(texts)\n",
        "        \n",
        "        uniq = Counter()\n",
        "        [uniq.update(text) for text in texts]\n",
        "\n",
        "        norm_uniq = { # build cache\n",
        "            word:morph.parse(\n",
        "                word.replace(':', '')\n",
        "            )[0].normal_form for word, _ in uniq.most_common(top)}\n",
        "\n",
        "        norm_texts = self.normalize_texts(texts, norm_uniq)\n",
        "        \n",
        "        return norm_texts\n",
        "    \n",
        "    def tokenize_texts(self, texts):\n",
        "        \"\"\" a text tokenizer for a list of texts \"\"\"\n",
        "        return ([self.tokenize(text.lower()) for text in texts])\n",
        "\n",
        "\n",
        "    def tokenize(self, text) -> list:\n",
        "        \"\"\" a single text tokenizer \"\"\"\n",
        "        punct = string.punctuation + \"«»—…–“”\" # hash is not caught somehow\n",
        "        words = [word.strip(punct).replace(\"#\", \"\") for word in text.split()]\n",
        "        words = [word for word in words if word]\n",
        "\n",
        "        return words\n",
        "    \n",
        "    def normalize_texts(self, texts, norm_uniq) -> list:\n",
        "        \"\"\" returns lemmas and removes stopwords and punctuation \"\"\"\n",
        "        norm_texts = []\n",
        "        for text in texts:\n",
        "            # lemmas from cashe\n",
        "            norm_words = [norm_uniq.get(word) for word in text]\n",
        "            #remove punctuation\n",
        "            \n",
        "            norm_words = [word for word in norm_words if (\n",
        "                word) and (word not in stops)]\n",
        "            norm_texts.append(norm_words)\n",
        "\n",
        "        return norm_texts"
      ],
      "execution_count": 89,
      "outputs": []
    },
    {
      "cell_type": "code",
      "metadata": {
        "id": "NDHkAaPb0YFp"
      },
      "source": [
        "texts = open('wiki_data.txt').read().splitlines()"
      ],
      "execution_count": 90,
      "outputs": []
    },
    {
      "cell_type": "code",
      "metadata": {
        "colab": {
          "base_uri": "https://localhost:8080/"
        },
        "id": "MhQovLHy5gx_",
        "outputId": "b12f90c6-6c78-4844-d73c-17b377e2d3c6"
      },
      "source": [
        "%%time\r\n",
        "texts = TextNormalizer().opt_normalize(texts, 30000)"
      ],
      "execution_count": 91,
      "outputs": [
        {
          "output_type": "stream",
          "text": [
            "CPU times: user 7.99 s, sys: 245 ms, total: 8.24 s\n",
            "Wall time: 8.25 s\n"
          ],
          "name": "stdout"
        }
      ]
    },
    {
      "cell_type": "markdown",
      "metadata": {
        "id": "TEmejO5E50FD"
      },
      "source": [
        "build ngrams"
      ]
    },
    {
      "cell_type": "code",
      "metadata": {
        "id": "o_yHUX490YFr"
      },
      "source": [
        "ph = gensim.models.Phrases(texts, scoring='npmi', threshold=0.5,\n",
        "                           common_terms=set(stopwords.words('russian')))\n",
        "\n",
        "p = gensim.models.phrases.Phraser(ph)\n",
        "ngrammed_texts = p[texts]"
      ],
      "execution_count": 92,
      "outputs": []
    },
    {
      "cell_type": "code",
      "metadata": {
        "id": "5q3JXJV40YFt",
        "colab": {
          "base_uri": "https://localhost:8080/"
        },
        "outputId": "7408442e-eaaf-4c08-9782-845b418f9b12"
      },
      "source": [
        "ngrammed_texts[13]"
      ],
      "execution_count": 97,
      "outputs": [
        {
          "output_type": "execute_result",
          "data": {
            "text/plain": [
              "['уезд',\n",
              " 'нижегородский',\n",
              " 'уезд',\n",
              " 'административно-территориальный_единица',\n",
              " 'состав',\n",
              " 'нижегородский_губерния',\n",
              " 'российский_империя',\n",
              " 'рсфср',\n",
              " 'существовать',\n",
              " 'год',\n",
              " 'уездный_город',\n",
              " 'уезд',\n",
              " 'состав',\n",
              " 'нижегородский',\n",
              " 'наместничество',\n",
              " 'образовать',\n",
              " '1779',\n",
              " 'год',\n",
              " 'ход',\n",
              " 'административный',\n",
              " 'реформа',\n",
              " 'екатерина_ii',\n",
              " '1796',\n",
              " 'год',\n",
              " 'состав',\n",
              " 'нижегородский_губернии.ть',\n",
              " '1923',\n",
              " 'год',\n",
              " 'уезд',\n",
              " 'упразднить',\n",
              " 'территория',\n",
              " 'разделить',\n",
              " 'данные_перепись',\n",
              " '1897',\n",
              " 'год',\n",
              " 'уезд',\n",
              " 'проживать',\n",
              " '141',\n",
              " 'чел',\n",
              " 'число',\n",
              " 'русский',\n",
              " 'уездный_город',\n",
              " 'человек.ть',\n",
              " '1913',\n",
              " 'год',\n",
              " 'уезд',\n",
              " '29',\n",
              " 'волость']"
            ]
          },
          "metadata": {
            "tags": []
          },
          "execution_count": 97
        }
      ]
    },
    {
      "cell_type": "markdown",
      "metadata": {
        "id": "vOiEF_5H0YFv"
      },
      "source": [
        "Для BigARTM требуется специальный формат данных. Их несколько, но мы возьмем vowpal wabbit.  \n",
        "На каждой строчке файла находится одельный текст, записывается такст вот таким образом:  \n",
        "```doc_name |@class_id word_1:1 word_2:3```  \n",
        "\n",
        "|@class_id - задает модальность, но когда она одна её можно не указывать.\n",
        "\n",
        "word_2:3 - слово и его частота (обратите внимание, что : - специальный символ и в словах его быть не может"
      ]
    },
    {
      "cell_type": "code",
      "metadata": {
        "id": "SZD1bmhR0YFw"
      },
      "source": [
        "f = open('wiki_texts.vw', 'w')\n",
        "\n",
        "for i, text in enumerate(ngrammed_texts):\n",
        "    c = Counter(text)\n",
        "    doc = 'doc_'+ str(i) + ' '\n",
        "    vw_text = ' '.join([x+':'+str(c[x]) for x in c])\n",
        "    \n",
        "    f.write(doc + vw_text  + '\\n')\n",
        "f.close()"
      ],
      "execution_count": 98,
      "outputs": []
    },
    {
      "cell_type": "markdown",
      "metadata": {
        "id": "VO4xO6zT0YFy"
      },
      "source": [
        "Для оценки будем использовать такую функцию (из туториалов от создателей библиотеки)"
      ]
    },
    {
      "cell_type": "code",
      "metadata": {
        "id": "xchX4sBs0YFz"
      },
      "source": [
        "def print_measures(model_artm):\n",
        "    print('Sparsity Phi: {0:.3f} ARTM)'.format(\n",
        "        model_artm.score_tracker['SparsityPhiScore'].last_value)\n",
        ")\n",
        "    print('Sparsity Theta: {0:.3f} (ARTM)'.format(\n",
        "        model_artm.score_tracker['SparsityThetaScore'].last_value))\n",
        "\n",
        "    print('Kernel contrast: {0:.3f} (ARTM)'.format(\n",
        "        model_artm.score_tracker['TopicKernelScore'].last_average_contrast))\n",
        "\n",
        "    print('Kernel purity: {0:.3f} (ARTM)'.format(\n",
        "        model_artm.score_tracker['TopicKernelScore'].last_average_purity))\n",
        "\n",
        "    print('Perplexity: {0:.3f} (ARTM)'.format(\n",
        "        model_artm.score_tracker['PerplexityScore'].last_value)\n",
        ")\n",
        "    plt.plot(range(model_artm.num_phi_updates), model_artm.score_tracker['PerplexityScore'].value, 'r--', linewidth=2)\n",
        "    plt.xlabel('Iterations count')\n",
        "    plt.ylabel(' ARTM perp. (red)')\n",
        "    plt.grid(True)\n",
        "    plt.show()\n",
        "    "
      ],
      "execution_count": 99,
      "outputs": []
    },
    {
      "cell_type": "markdown",
      "metadata": {
        "id": "GHFVe6gK0YF2"
      },
      "source": [
        "BigARTM работает не с целым файлом, а с кусочками. Поэтому разбиваем наш .vw файл специальным классом в artm."
      ]
    },
    {
      "cell_type": "code",
      "metadata": {
        "id": "NhIADC8O0YF2"
      },
      "source": [
        "batch_vectorizer = artm.BatchVectorizer(\n",
        "    data_path='wiki_texts.vw',  # название файла\n",
        "    data_format='vowpal_wabbit', # формат файла, у нас vw\n",
        "    target_folder='batches', # название папки в которую положаться батчи\n",
        "    batch_size=2000) # размер батча, подбирайте под свою память"
      ],
      "execution_count": 100,
      "outputs": []
    },
    {
      "cell_type": "markdown",
      "metadata": {
        "id": "ZjXpddzi0YF6"
      },
      "source": [
        "Уже созданные батчи можно заново загружать"
      ]
    },
    {
      "cell_type": "code",
      "metadata": {
        "id": "AG7xR0gu0YF6"
      },
      "source": [
        "batch_vectorizer = artm.BatchVectorizer(data_path='batches', # название папки с батчами\n",
        "                                        data_format='batches') # указываем формат - батчи"
      ],
      "execution_count": 101,
      "outputs": []
    },
    {
      "cell_type": "code",
      "metadata": {
        "id": "Qe0-ERcn0YF8"
      },
      "source": [
        "# инициализируем словарь, чтобы сделать модель\n",
        "dictionary = artm.Dictionary()"
      ],
      "execution_count": 102,
      "outputs": []
    },
    {
      "cell_type": "markdown",
      "metadata": {
        "id": "sNAKhYQZ0YF-"
      },
      "source": [
        "Собираем словарь по батчам"
      ]
    },
    {
      "cell_type": "code",
      "metadata": {
        "colab": {
          "base_uri": "https://localhost:8080/"
        },
        "id": "S6nXvdOq0YGA",
        "outputId": "4322a75f-97aa-4c1e-9d3b-c8b98aa42a49"
      },
      "source": [
        "dictionary.gather(data_path='batches')\n",
        "dictionary.filter(class_id='@default_class',\n",
        "                  min_df=10, max_df=2000,\n",
        "                  max_dictionary_size=2000)"
      ],
      "execution_count": 105,
      "outputs": [
        {
          "output_type": "execute_result",
          "data": {
            "text/plain": [
              "artm.Dictionary(name=25853bd2-9873-4ddc-b0a6-809cd0424f25, num_entries=1998)"
            ]
          },
          "metadata": {
            "tags": []
          },
          "execution_count": 105
        }
      ]
    },
    {
      "cell_type": "markdown",
      "metadata": {
        "id": "HEuyJjlB0YGB"
      },
      "source": [
        "**Словарь отредактирован руками** - минус:\r\n",
        "даты\r\n",
        "сокращения\r\n",
        "неудачные биграммы\r\n",
        "~ минус 200 слов"
      ]
    },
    {
      "cell_type": "code",
      "metadata": {
        "id": "I273a14r0YGC"
      },
      "source": [
        "dictionary.save_text('dict.txt')"
      ],
      "execution_count": 106,
      "outputs": []
    },
    {
      "cell_type": "code",
      "metadata": {
        "id": "QyRg9j_LD2dD"
      },
      "source": [
        "dictionary = artm.Dictionary()\r\n",
        "dictionary.load_text('dict.txt')"
      ],
      "execution_count": 107,
      "outputs": []
    },
    {
      "cell_type": "markdown",
      "metadata": {
        "id": "2PFzJ5W3D7-j"
      },
      "source": [
        "## Create models"
      ]
    },
    {
      "cell_type": "markdown",
      "metadata": {
        "id": "LXN_YR1m0YGF"
      },
      "source": [
        "`artm.DecorrelatorPhiRegularizer` - регуляризатор декорреляции тем, делает темы менее похожими друг на друга (рекомендуется включать его сразу на всех темах с положительным значением tau и не менять его в процессе обучения)  \n",
        "\n",
        "`artm.SmoothSparsePhiRegularizer` - регуляризатор сглаживания/разреженивания Phi (тем) - сглаживает или расреживает распределение слов в темах (отрицательный tau - разреживает, положительный - сглаживает), рекомендуется сразу включать сглаживание на всех темах и не менять его в процессе обучения;\n",
        "\n",
        "Количество тем нужно подбирать, но 200 часто работает хорошо. Снижение количества тем и уменьшения словаря ведут к уменьшению времени обучения модели (а увеличение, наоборот). "
      ]
    },
    {
      "cell_type": "markdown",
      "metadata": {
        "id": "E50jzuw9HB4x"
      },
      "source": [
        "### Model 1"
      ]
    },
    {
      "cell_type": "code",
      "metadata": {
        "id": "7gTUMUh90YGG"
      },
      "source": [
        "model_artm_lg = artm.ARTM(topic_names=['topic_{}'.format(i) for i in range(200)],\n",
        "                       \n",
        "                       regularizers=[\n",
        "                           artm.DecorrelatorPhiRegularizer(\n",
        "                                            name='Decorr', tau=0.1, \n",
        "                                            class_ids=['@default_class'],\n",
        "                                            topic_names=['topic_{}'.format(i) for i in range(0, 200)]),\n",
        "                           \n",
        "                           artm.SmoothSparsePhiRegularizer(\n",
        "                                            name='SmoothPhi_1', \n",
        "                                            class_ids=['@default_class'],\n",
        "                                            tau=0.1, \n",
        "                                            topic_names=['topic_{}'.format(i) for i in range(0, 200)])\n",
        "                                    ]\n",
        "                        )"
      ],
      "execution_count": 132,
      "outputs": []
    },
    {
      "cell_type": "code",
      "metadata": {
        "id": "ZXwur8c80YGI"
      },
      "source": [
        "# initialize model\n",
        "model_artm_lg.initialize(dictionary=dictionary)"
      ],
      "execution_count": 133,
      "outputs": []
    },
    {
      "cell_type": "code",
      "metadata": {
        "id": "M7ofKFaN0YGK"
      },
      "source": [
        "# add metrics\n",
        "model_artm_lg.scores.add(artm.PerplexityScore(name='PerplexityScore',\n",
        "                                                    dictionary=dictionary))\n",
        "model_artm_lg.scores.add(artm.SparsityPhiScore(name='SparsityPhiScore')) # разреженность слов в темах\n",
        "model_artm_lg.scores.add(artm.SparsityThetaScore(name='SparsityThetaScore')) # разреженность тем в доках\n",
        "model_artm_lg.scores.add(artm.TopicKernelScore(name='TopicKernelScore', probability_mass_threshold=0.1)) # когерентность по семантичесим ядрам\n",
        "model_artm_lg.scores.add(artm.TopTokensScore(class_id='@default_class', name='TopTokensScore_1', num_tokens=10)) # топ-n-слов для каждой темы "
      ],
      "execution_count": 134,
      "outputs": []
    },
    {
      "cell_type": "markdown",
      "metadata": {
        "id": "A7ih3cp10YGM"
      },
      "source": [
        "### Train model"
      ]
    },
    {
      "cell_type": "code",
      "metadata": {
        "id": "d3UPM4bd0YGO"
      },
      "source": [
        "model_artm_lg.num_document_passes = 2\n",
        "model_artm_lg.fit_offline(batch_vectorizer=batch_vectorizer, num_collection_passes=3)"
      ],
      "execution_count": 135,
      "outputs": []
    },
    {
      "cell_type": "code",
      "metadata": {
        "colab": {
          "base_uri": "https://localhost:8080/",
          "height": 363
        },
        "id": "sJNAHoO30YGR",
        "outputId": "de3d9eb7-1465-4839-de79-80a44a2f868a"
      },
      "source": [
        "print_measures(model_artm_lg)"
      ],
      "execution_count": 136,
      "outputs": [
        {
          "output_type": "stream",
          "text": [
            "Sparsity Phi: 0.000 ARTM)\n",
            "Sparsity Theta: 0.000 (ARTM)\n",
            "Kernel contrast: 0.007 (ARTM)\n",
            "Kernel purity: 0.005 (ARTM)\n",
            "Perplexity: 38.910 (ARTM)\n"
          ],
          "name": "stdout"
        },
        {
          "output_type": "display_data",
          "data": {
            "image/png": "[encoded data removed]",
            "text/plain": [
              "<Figure size 432x288 with 1 Axes>"
            ]
          },
          "metadata": {
            "tags": [],
            "needs_background": "light"
          }
        }
      ]
    },
    {
      "cell_type": "markdown",
      "metadata": {
        "id": "ESVQUJm90YGU"
      },
      "source": [
        "Add Regularizer"
      ]
    },
    {
      "cell_type": "code",
      "metadata": {
        "id": "zx8f5J140YGU"
      },
      "source": [
        "model_artm_lg.regularizers.add(artm.SmoothSparsePhiRegularizer(name='SparsePhi', tau=-0.15, \n",
        "                                                            topic_names=['topic_{}'.format(i) for i in range(1, 200)],\n",
        "                                                            ))\n",
        "model_artm_lg.regularizers.add(artm.SmoothSparseThetaRegularizer(name='SparseTheta', tau=-0.15, \n",
        "                                                              topic_names=['topic_{}'.format(i) for i in range(1, 200)]))"
      ],
      "execution_count": 137,
      "outputs": []
    },
    {
      "cell_type": "code",
      "metadata": {
        "id": "d-XyXPrF0YGX"
      },
      "source": [
        "model_artm_lg.fit_offline(batch_vectorizer=batch_vectorizer,num_collection_passes=2)"
      ],
      "execution_count": 138,
      "outputs": []
    },
    {
      "cell_type": "code",
      "metadata": {
        "id": "CWrgduzK0YGY"
      },
      "source": [
        "# step by step increase resulizers' parameters\n",
        "phi_tau = model_artm_lg.regularizers['SparsePhi'].tau\n",
        "theta_tau = model_artm_lg.regularizers['SparseTheta'].tau\n",
        "\n",
        "for i in range(10):\n",
        "    model_artm_lg.regularizers['SparsePhi'].tau = (phi_tau + (phi_tau*0.5))\n",
        "    model_artm_lg.regularizers['SparseTheta'].tau = (theta_tau + (theta_tau*0.1))\n",
        "    \n",
        "    model_artm_lg.fit_offline(batch_vectorizer=batch_vectorizer,num_collection_passes=1)\n",
        "    "
      ],
      "execution_count": 140,
      "outputs": []
    },
    {
      "cell_type": "code",
      "metadata": {
        "colab": {
          "base_uri": "https://localhost:8080/",
          "height": 363
        },
        "id": "Nz2ZycN80YGb",
        "outputId": "6cc6abfb-a8b0-40b9-88fd-34be7aae5ac4"
      },
      "source": [
        "# посмотрим на качество\n",
        "print_measures(model_artm_lg)"
      ],
      "execution_count": 142,
      "outputs": [
        {
          "output_type": "stream",
          "text": [
            "Sparsity Phi: 0.789 ARTM)\n",
            "Sparsity Theta: 0.826 (ARTM)\n",
            "Kernel contrast: 0.494 (ARTM)\n",
            "Kernel purity: 0.647 (ARTM)\n",
            "Perplexity: 19.276 (ARTM)\n"
          ],
          "name": "stdout"
        },
        {
          "output_type": "display_data",
          "data": {
            "image/png": "[encoded data removed]",
            "text/plain": [
              "<Figure size 432x288 with 1 Axes>"
            ]
          },
          "metadata": {
            "tags": [],
            "needs_background": "light"
          }
        }
      ]
    },
    {
      "cell_type": "markdown",
      "metadata": {
        "id": "r0pGwdLb0YGg"
      },
      "source": [
        "Results of this model are not even close to recommeded perplexity, but some topics looks promissing"
      ]
    },
    {
      "cell_type": "markdown",
      "metadata": {
        "id": "vq1qppvVH56S"
      },
      "source": [
        "**Some of the well-shaped topics by model 1:**\r\n",
        "\r\n",
        "topic_4: немецкий операция подразделение соединение сопротивление берлин германский тяжёлый солдат немец\r\n",
        "\r\n",
        "topic_8: театр искусство художник художественный театральный мастер мастерская творческий творчество учиться\r\n",
        "\r\n",
        "topic_24: улица центральный площадь дом ленин областной сторона центр располагаться параллельно"
      ]
    },
    {
      "cell_type": "code",
      "metadata": {
        "id": "tDeYG2kt0YGg"
      },
      "source": [
        "# check first 30 topics\n",
        "for topic_name in model_artm_lg.topic_names[:30]:\n",
        "    print(topic_name + ': ')\n",
        "    try:\n",
        "        for x in model_artm_lg.score_tracker['TopTokensScore_1'].last_tokens[topic_name]:\n",
        "            print(x)\n",
        "        print('---------')\n",
        "    \n",
        "    except KeyError: # some topics might be empty if overplayed with parameters\n",
        "        continue"
      ],
      "execution_count": null,
      "outputs": []
    },
    {
      "cell_type": "code",
      "metadata": {
        "id": "NAUy5VNu0YGi"
      },
      "source": [
        ""
      ],
      "execution_count": null,
      "outputs": []
    },
    {
      "cell_type": "markdown",
      "metadata": {
        "id": "6FOzGMSfJGcH"
      },
      "source": [
        "### model 2"
      ]
    },
    {
      "cell_type": "code",
      "metadata": {
        "id": "QikWeut8JHgx"
      },
      "source": [
        "model_artm_mid = artm.ARTM(topic_names=['topic_{}'.format(i) for i in range(125)],\r\n",
        "                       \r\n",
        "                       regularizers=[\r\n",
        "                           artm.DecorrelatorPhiRegularizer(\r\n",
        "                                            name='Decorr', tau=0.25, \r\n",
        "                                            class_ids=['@default_class'],\r\n",
        "                                            topic_names=['topic_{}'.format(i) for i in range(0, 125)]),\r\n",
        "                           \r\n",
        "                           artm.SmoothSparsePhiRegularizer(\r\n",
        "                                            name='SmoothPhi_1', \r\n",
        "                                            class_ids=['@default_class'],\r\n",
        "                                            tau=0.02, \r\n",
        "                                            topic_names=['topic_{}'.format(i) for i in range(0, 125)])\r\n",
        "                                    ]\r\n",
        "                        )"
      ],
      "execution_count": 156,
      "outputs": []
    },
    {
      "cell_type": "code",
      "metadata": {
        "id": "5iKe9a8xJcow"
      },
      "source": [
        "# initialize model\n",
        "model_artm_mid.initialize(dictionary=dictionary)"
      ],
      "execution_count": 157,
      "outputs": []
    },
    {
      "cell_type": "code",
      "metadata": {
        "id": "dlyEEy0fJco2"
      },
      "source": [
        "# add metrics\n",
        "model_artm_mid.scores.add(artm.PerplexityScore(name='PerplexityScore',\n",
        "                                                    dictionary=dictionary))\n",
        "model_artm_mid.scores.add(artm.SparsityPhiScore(name='SparsityPhiScore')) # разреженность слов в темах\n",
        "model_artm_mid.scores.add(artm.SparsityThetaScore(name='SparsityThetaScore')) # разреженность тем в доках\n",
        "model_artm_mid.scores.add(artm.TopicKernelScore(name='TopicKernelScore', probability_mass_threshold=0.1)) # когерентность по семантичесим ядрам\n",
        "model_artm_mid.scores.add(artm.TopTokensScore(class_id='@default_class', name='TopTokensScore_1', num_tokens=10)) # топ-n-слов для каждой темы "
      ],
      "execution_count": 158,
      "outputs": []
    },
    {
      "cell_type": "code",
      "metadata": {
        "id": "UZtLBjP3JkVL"
      },
      "source": [
        "model_artm_mid.num_document_passes = 2\n",
        "model_artm_mid.fit_offline(batch_vectorizer=batch_vectorizer, num_collection_passes=3)"
      ],
      "execution_count": 159,
      "outputs": []
    },
    {
      "cell_type": "code",
      "metadata": {
        "colab": {
          "base_uri": "https://localhost:8080/",
          "height": 363
        },
        "id": "e9SvK8bTJkVN",
        "outputId": "2cf9fab3-3c86-40bb-8723-fb4124355b97"
      },
      "source": [
        "print_measures(model_artm_mid)"
      ],
      "execution_count": 160,
      "outputs": [
        {
          "output_type": "stream",
          "text": [
            "Sparsity Phi: 0.000 ARTM)\n",
            "Sparsity Theta: 0.000 (ARTM)\n",
            "Kernel contrast: 0.020 (ARTM)\n",
            "Kernel purity: 0.007 (ARTM)\n",
            "Perplexity: 38.863 (ARTM)\n"
          ],
          "name": "stdout"
        },
        {
          "output_type": "display_data",
          "data": {
            "image/png": "[encoded data removed]",
            "text/plain": [
              "<Figure size 432x288 with 1 Axes>"
            ]
          },
          "metadata": {
            "tags": [],
            "needs_background": "light"
          }
        }
      ]
    },
    {
      "cell_type": "markdown",
      "metadata": {
        "id": "b2otp0YFJ9W9"
      },
      "source": [
        "Add Regularizer"
      ]
    },
    {
      "cell_type": "code",
      "metadata": {
        "id": "8zY7prQ2LSFN"
      },
      "source": [
        "model_artm_mid.fit_offline(batch_vectorizer=batch_vectorizer,num_collection_passes=2)"
      ],
      "execution_count": null,
      "outputs": []
    },
    {
      "cell_type": "code",
      "metadata": {
        "id": "MDNZxIfyJ9XG"
      },
      "source": [
        "model_artm_mid.fit_offline(batch_vectorizer=batch_vectorizer,num_collection_passes=2)"
      ],
      "execution_count": 162,
      "outputs": []
    },
    {
      "cell_type": "code",
      "metadata": {
        "id": "Alw_sAwsJ9XG"
      },
      "source": [
        "# step by step increase resulizers' parameters\n",
        "phi_tau = model_artm_mid.regularizers['SparsePhi'].tau\n",
        "theta_tau = model_artm_mid.regularizers['SparseTheta'].tau\n",
        "\n",
        "for i in range(10):\n",
        "    model_artm_mid.regularizers['SparsePhi'].tau = (phi_tau + (phi_tau*0.5))\n",
        "    model_artm_mid.regularizers['SparseTheta'].tau = (theta_tau + (theta_tau*0.1))\n",
        "    \n",
        "    model_artm_mid.fit_offline(batch_vectorizer=batch_vectorizer,num_collection_passes=1)\n",
        "    "
      ],
      "execution_count": 163,
      "outputs": []
    },
    {
      "cell_type": "code",
      "metadata": {
        "colab": {
          "base_uri": "https://localhost:8080/",
          "height": 363
        },
        "id": "ukN_HtZXJ9XH",
        "outputId": "3b8d23c1-b32c-4433-f91c-4480315bdf13"
      },
      "source": [
        "# посмотрим на качество\n",
        "print_measures(model_artm_mid)"
      ],
      "execution_count": 164,
      "outputs": [
        {
          "output_type": "stream",
          "text": [
            "Sparsity Phi: 0.723 ARTM)\n",
            "Sparsity Theta: 0.724 (ARTM)\n",
            "Kernel contrast: 0.411 (ARTM)\n",
            "Kernel purity: 0.640 (ARTM)\n",
            "Perplexity: 21.424 (ARTM)\n"
          ],
          "name": "stdout"
        },
        {
          "output_type": "display_data",
          "data": {
            "image/png": "[encoded data removed]",
            "text/plain": [
              "<Figure size 432x288 with 1 Axes>"
            ]
          },
          "metadata": {
            "tags": [],
            "needs_background": "light"
          }
        }
      ]
    },
    {
      "cell_type": "markdown",
      "metadata": {
        "id": "nguY8ZaEK4mf"
      },
      "source": [
        "Repeat with more passes"
      ]
    },
    {
      "cell_type": "code",
      "metadata": {
        "id": "BkHosdX0LHwf"
      },
      "source": [
        "model_artm_mid.fit_offline(batch_vectorizer=batch_vectorizer,num_collection_passes=3)"
      ],
      "execution_count": 166,
      "outputs": []
    },
    {
      "cell_type": "code",
      "metadata": {
        "colab": {
          "base_uri": "https://localhost:8080/",
          "height": 363
        },
        "id": "q9zMgOaiLka5",
        "outputId": "f82ee05f-1c39-4a8e-e121-44f6208e75ff"
      },
      "source": [
        "print_measures(model_artm_mid)"
      ],
      "execution_count": 167,
      "outputs": [
        {
          "output_type": "stream",
          "text": [
            "Sparsity Phi: 0.802 ARTM)\n",
            "Sparsity Theta: 0.750 (ARTM)\n",
            "Kernel contrast: 0.471 (ARTM)\n",
            "Kernel purity: 0.732 (ARTM)\n",
            "Perplexity: 20.705 (ARTM)\n"
          ],
          "name": "stdout"
        },
        {
          "output_type": "display_data",
          "data": {
            "image/png": "[encoded data removed]",
            "text/plain": [
              "<Figure size 432x288 with 1 Axes>"
            ]
          },
          "metadata": {
            "tags": [],
            "needs_background": "light"
          }
        }
      ]
    },
    {
      "cell_type": "markdown",
      "metadata": {
        "id": "6Ol1GVRdLru9"
      },
      "source": [
        "Again, not even close to 200-1000"
      ]
    },
    {
      "cell_type": "markdown",
      "metadata": {
        "id": "l9AEmcpwLxj5"
      },
      "source": [
        "**Some of the well-shaped topics:**\r\n",
        "\r\n",
        "topic_14: решение объект задача особый сохранение охрана осуществлять восстановление наименование формирование\r\n",
        "\r\n",
        "topic_22: сын король отец мать дочь королевство королевский карл скончаться смерть\r\n",
        "\r\n",
        "topic_15: земля экспедиция обнаружить оказаться владение достигнуть вероятно прийтись возвращение попытаться"
      ]
    },
    {
      "cell_type": "code",
      "metadata": {
        "id": "wApvn8WmKHk3"
      },
      "source": [
        "# check first 30 topics\r\n",
        "for topic_name in model_artm_mid.topic_names[:30]:\r\n",
        "    print(topic_name + ': ')\r\n",
        "    try:\r\n",
        "        for x in model_artm_mid.score_tracker['TopTokensScore_1'].last_tokens[topic_name]:\r\n",
        "            print(x)\r\n",
        "        print('---------')\r\n",
        "    \r\n",
        "    except KeyError: # some topics might be empty if overplayed with parameters\r\n",
        "        continue"
      ],
      "execution_count": null,
      "outputs": []
    },
    {
      "cell_type": "markdown",
      "metadata": {
        "id": "6gSIYm0UMqBN"
      },
      "source": [
        "### model 3"
      ]
    },
    {
      "cell_type": "code",
      "metadata": {
        "id": "NPbnD0NSMzEk"
      },
      "source": [
        "model_artm_sm = artm.ARTM(topic_names=['topic_{}'.format(i) for i in range(75)],\n",
        "                       \n",
        "                       regularizers=[\n",
        "                           artm.DecorrelatorPhiRegularizer(\n",
        "                                            name='Decorr', tau=0.25, \n",
        "                                            class_ids=['@default_class'],\n",
        "                                            topic_names=['topic_{}'.format(i) for i in range(0, 75)]),\n",
        "                           \n",
        "                           artm.SmoothSparsePhiRegularizer(\n",
        "                                            name='SmoothPhi_1', \n",
        "                                            class_ids=['@default_class'],\n",
        "                                            tau=0.15, \n",
        "                                            topic_names=['topic_{}'.format(i) for i in range(0, 75)])\n",
        "                                    ]\n",
        "                        )"
      ],
      "execution_count": 183,
      "outputs": []
    },
    {
      "cell_type": "code",
      "metadata": {
        "id": "Ky7sDdP-MzEq"
      },
      "source": [
        "# initialize model\n",
        "model_artm_sm.initialize(dictionary=dictionary)"
      ],
      "execution_count": 184,
      "outputs": []
    },
    {
      "cell_type": "code",
      "metadata": {
        "id": "x97T4UkaMzEq"
      },
      "source": [
        "# add metrics\n",
        "model_artm_sm.scores.add(artm.PerplexityScore(name='PerplexityScore',\n",
        "                                                    dictionary=dictionary))\n",
        "model_artm_sm.scores.add(artm.SparsityPhiScore(name='SparsityPhiScore')) # разреженность слов в темах\n",
        "model_artm_sm.scores.add(artm.SparsityThetaScore(name='SparsityThetaScore')) # разреженность тем в доках\n",
        "model_artm_sm.scores.add(artm.TopicKernelScore(name='TopicKernelScore', probability_mass_threshold=0.1)) # когерентность по семантичесим ядрам\n",
        "model_artm_sm.scores.add(artm.TopTokensScore(class_id='@default_class', name='TopTokensScore_1', num_tokens=10)) # топ-n-слов для каждой темы "
      ],
      "execution_count": 185,
      "outputs": []
    },
    {
      "cell_type": "markdown",
      "metadata": {
        "id": "84xYEjivMzEq"
      },
      "source": [
        "### Train model"
      ]
    },
    {
      "cell_type": "code",
      "metadata": {
        "id": "pcE7B6kIMzEr"
      },
      "source": [
        "# number of passes has a big impact on perplexity:\n",
        "# larger values can mess with the model as well\n",
        "model_artm_sm.num_document_passes = 3\n",
        "model_artm_sm.fit_offline(batch_vectorizer=batch_vectorizer,\n",
        "                          num_collection_passes=3)"
      ],
      "execution_count": 186,
      "outputs": []
    },
    {
      "cell_type": "code",
      "metadata": {
        "colab": {
          "base_uri": "https://localhost:8080/",
          "height": 363
        },
        "id": "IgnwV1LtMzEr",
        "outputId": "ea5289e4-5df0-485e-9f04-b8c5fcbd9775"
      },
      "source": [
        "print_measures(model_artm_sm)"
      ],
      "execution_count": 187,
      "outputs": [
        {
          "output_type": "stream",
          "text": [
            "Sparsity Phi: 0.000 ARTM)\n",
            "Sparsity Theta: 0.000 (ARTM)\n",
            "Kernel contrast: 0.063 (ARTM)\n",
            "Kernel purity: 0.022 (ARTM)\n",
            "Perplexity: 38.047 (ARTM)\n"
          ],
          "name": "stdout"
        },
        {
          "output_type": "display_data",
          "data": {
            "image/png": "[encoded data removed]",
            "text/plain": [
              "<Figure size 432x288 with 1 Axes>"
            ]
          },
          "metadata": {
            "tags": [],
            "needs_background": "light"
          }
        }
      ]
    },
    {
      "cell_type": "markdown",
      "metadata": {
        "id": "sUwPbrzyMzEs"
      },
      "source": [
        "Add Regularizer"
      ]
    },
    {
      "cell_type": "code",
      "metadata": {
        "id": "ZPIvURWgMzEs"
      },
      "source": [
        "model_artm_sm.regularizers.add(artm.SmoothSparsePhiRegularizer(name='SparsePhi', tau=-0.15, \n",
        "                                                            topic_names=['topic_{}'.format(i) for i in range(0, 75)],\n",
        "                                                            ))\n",
        "model_artm_sm.regularizers.add(artm.SmoothSparseThetaRegularizer(name='SparseTheta', tau=-0.15, \n",
        "                                                              topic_names=['topic_{}'.format(i) for i in range(0, 75)]))"
      ],
      "execution_count": 188,
      "outputs": []
    },
    {
      "cell_type": "code",
      "metadata": {
        "id": "4DG8LwJBMzEs"
      },
      "source": [
        "model_artm_sm.fit_offline(batch_vectorizer=batch_vectorizer,num_collection_passes=2)"
      ],
      "execution_count": 189,
      "outputs": []
    },
    {
      "cell_type": "code",
      "metadata": {
        "id": "9anZTw6sMzEs"
      },
      "source": [
        "# step by step increase resulizers' parameters\n",
        "phi_tau = model_artm_sm.regularizers['SparsePhi'].tau\n",
        "theta_tau = model_artm_sm.regularizers['SparseTheta'].tau\n",
        "\n",
        "for i in range(10):\n",
        "    model_artm_sm.regularizers['SparsePhi'].tau = (phi_tau + (phi_tau*0.5))\n",
        "    model_artm_sm.regularizers['SparseTheta'].tau = (theta_tau + (theta_tau*0.1))\n",
        "    \n",
        "    model_artm_sm.fit_offline(batch_vectorizer=batch_vectorizer,num_collection_passes=1)\n",
        "    "
      ],
      "execution_count": 190,
      "outputs": []
    },
    {
      "cell_type": "code",
      "metadata": {
        "colab": {
          "base_uri": "https://localhost:8080/",
          "height": 363
        },
        "id": "DQcDT2JCMzEv",
        "outputId": "14e2b4ed-1e86-47ad-c44f-810b4a63879d"
      },
      "source": [
        "# посмотрим на качество\n",
        "print_measures(model_artm_sm)"
      ],
      "execution_count": 191,
      "outputs": [
        {
          "output_type": "stream",
          "text": [
            "Sparsity Phi: 0.634 ARTM)\n",
            "Sparsity Theta: 0.756 (ARTM)\n",
            "Kernel contrast: 0.376 (ARTM)\n",
            "Kernel purity: 0.665 (ARTM)\n",
            "Perplexity: 22.310 (ARTM)\n"
          ],
          "name": "stdout"
        },
        {
          "output_type": "display_data",
          "data": {
            "image/png": "[encoded data removed]",
            "text/plain": [
              "<Figure size 432x288 with 1 Axes>"
            ]
          },
          "metadata": {
            "tags": [],
            "needs_background": "light"
          }
        }
      ]
    },
    {
      "cell_type": "markdown",
      "metadata": {
        "id": "V6MzjROwMzEw"
      },
      "source": [
        "All models appear to have somewhat similar perplexity"
      ]
    },
    {
      "cell_type": "markdown",
      "metadata": {
        "id": "TzUzQJZfMzEw"
      },
      "source": [
        "**Some of the well-shaped topics by model 3:**\r\n",
        "\r\n",
        "topic_25: сезон чемпионат выступать играть провести карьера лига перейти чемпионат_мир матч\r\n",
        "\r\n",
        "topic_15: земля граф экспедиция владение графство франция англия королевский роберт уильям\r\n",
        "\r\n",
        "topic_2: император н_э источник царь римский битва рим империя греческий известно"
      ]
    },
    {
      "cell_type": "code",
      "metadata": {
        "id": "mh-bBDYwMzEw"
      },
      "source": [
        "# check first 30 topics\n",
        "for topic_name in model_artm_sm.topic_names[:30]:\n",
        "    print(topic_name + ': ')\n",
        "    try:\n",
        "        for x in model_artm_sm.score_tracker['TopTokensScore_1'].last_tokens[topic_name]:\n",
        "            print(x)\n",
        "        print('---------')\n",
        "    \n",
        "    except KeyError: # some topics might be empty if overplayed with parameters\n",
        "        continue"
      ],
      "execution_count": null,
      "outputs": []
    },
    {
      "cell_type": "markdown",
      "metadata": {
        "id": "2HPWyXRNP7bl"
      },
      "source": [
        "## Conclusion"
      ]
    },
    {
      "cell_type": "markdown",
      "metadata": {
        "id": "2Vwecm6NPOpM"
      },
      "source": [
        "All three models's performance was relatively similar, and for now it is hard to define which parameters has larger influence it.\r\n",
        "\r\n",
        "The most noticable impact was observed when number of passes, both document and collection, was changed."
      ]
    }
  ]
}