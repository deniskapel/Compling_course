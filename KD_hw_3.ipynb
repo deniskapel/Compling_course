{
 "cells": [
  {
   "cell_type": "markdown",
   "metadata": {},
   "source": [
    "# Task 1\n",
    "Реализуйте алгоритм Symspell - https://medium.com/@wolfgarbe/1000x-faster-spelling-correction-algorithm-2012-8701fcd87a5f. Он похож на алгоритм Норвига, но проще и быстрее. Там к словам в словаре применяется только одна операция - удаление символа. Чтобы найти исправление из слова тоже удаляются символы и сравниваются с теми, что хранятся в словаре. Оцените качество полученного алгоритма теми же тремя метриками.\n"
   ]
  },
  {
   "cell_type": "code",
   "execution_count": 1,
   "metadata": {},
   "outputs": [],
   "source": [
    "from nltk.tokenize import sent_tokenize\n",
    "from razdel import sentenize\n",
    "from razdel import tokenize as razdel_tokenize\n",
    "from string import punctuation\n",
    "\n",
    "punctuation += \"«»—…“”\"\n",
    "punct = set(punctuation)\n",
    "\n",
    "class Preprocessor():\n",
    "    \n",
    "    \"\"\" a class to preprocess a txt file availabe through the path \"\"\"\n",
    "    def __init__(self, path):\n",
    "        self.path = path # a path to a txt file\n",
    "        self.sentences = []\n",
    "        self.tokens_by_sent = []\n",
    "        self.ngrams = []\n",
    "        \n",
    "    def extractContent(self):\n",
    "        \"\"\" loads the content of the file \"\"\"\n",
    "        with open(self.path, 'r', encoding=\"utf-8\") as f: # open in readonly mode\n",
    "            self.sentences.extend(f.read().splitlines())\n",
    "            \n",
    "    def normalize(self, text) -> list:\n",
    "        \"\"\" normalizes a string into a list of tokens \"\"\"\n",
    "        normalized_text = [word.text.strip(punctuation) for word \\\n",
    "                                                                in razdel_tokenize(text)]\n",
    "        normalized_text = [word.lower() for word in normalized_text if word and len(word) < 20]\n",
    "        return normalized_text\n",
    "        \n",
    "    def get_tokens_by_sent(self, n=0):\n",
    "        \"\"\"\n",
    "            tokenizes a text into a list of tokens by sentence\n",
    "            inserts n times <start> and n times <end> of tags\n",
    "            at the beginning and the end of a sentence\n",
    "        \"\"\"\n",
    "        tmp = [self.sp_tags(self.normalize(sent), n) for sent in self.sentences]\n",
    "        self.tokens_by_sent = tmp\n",
    "        \n",
    "    def sp_tags(self, tokens, n=0) -> list:\n",
    "        \"\"\" recieves a list of tokens and returns them with special tags \"\"\"\n",
    "        if n >= 0:\n",
    "            return(['<start>'] * n + tokens + ['<end>'] *n)\n",
    "        else:\n",
    "            return(ValueError)"
   ]
  },
  {
   "cell_type": "code",
   "execution_count": 2,
   "metadata": {},
   "outputs": [],
   "source": [
    "bad = Preprocessor('data/sents_with_mistakes.txt')\n",
    "true = Preprocessor('data/correct_sents.txt')\n",
    "bad.extractContent()\n",
    "true.extractContent()\n",
    "bad.get_tokens_by_sent()\n",
    "true.get_tokens_by_sent()"
   ]
  },
  {
   "cell_type": "code",
   "execution_count": 3,
   "metadata": {},
   "outputs": [
    {
     "name": "stdout",
     "output_type": "stream",
     "text": [
      "Симпатичнейшое шпионское устройство, такой себе гламурный фотоаппарат девушки Бонда - миниатюрная модель камеры Superheadz Clap Camera.\n",
      "Симпатичнейшее шпионское устройство такой себе гламурный фотоаппарат девушки Бонда миниатюрная модель камеры Superheadz Clap Camera\n",
      "['симпатичнейшое', 'шпионское', 'устройство', 'такой', 'себе', 'гламурный', 'фотоаппарат', 'девушки', 'бонда', 'миниатюрная', 'модель', 'камеры', 'superheadz', 'clap', 'camera']\n",
      "['симпатичнейшее', 'шпионское', 'устройство', 'такой', 'себе', 'гламурный', 'фотоаппарат', 'девушки', 'бонда', 'миниатюрная', 'модель', 'камеры', 'superheadz', 'clap', 'camera']\n"
     ]
    }
   ],
   "source": [
    "print(bad.sentences[0])\n",
    "print(true.sentences[0])\n",
    "print(bad.tokens_by_sent[0])\n",
    "print(true.tokens_by_sent[0])"
   ]
  },
  {
   "cell_type": "code",
   "execution_count": 4,
   "metadata": {},
   "outputs": [],
   "source": [
    "class TokenAligner():\n",
    "    \n",
    "    \"\"\" a class to align tokens of two parrallel texts \"\"\"\n",
    "    def __init__(self, correct_tokens_by_sent, incorrect_tokens_by_sent):\n",
    "        self.aligned_tokens = self.align_sents(correct_tokens_by_sent,\n",
    "                                         incorrect_tokens_by_sent)\n",
    "        self.mistakes = []\n",
    "        self.n_mistakes = 0\n",
    "        \n",
    "    def align_sents(self, tokens_1, tokens_2) -> list:\n",
    "        \"\"\" returns aligned tokens and sentences\"\"\"\n",
    "        tmp = []\n",
    "        [tmp.extend(self.align_tokens(sent_pair)) for sent_pair in zip(tokens_1, tokens_2)]\n",
    "        return tmp\n",
    "\n",
    "    def align_tokens(self, sent_pair) -> list:\n",
    "        \"\"\" aligns tokens from a pair of sentences \"\"\"\n",
    "        return list(zip(sent_pair[0], sent_pair[1]))\n",
    "        \n",
    "    def extract_mistakes(self):\n",
    "        \"\"\" extracts only tokens that do not match \"\"\"\n",
    "        for pair in self.aligned_tokens:\n",
    "            if pair[0] != pair[1]:\n",
    "                self.mistakes.append(pair)\n",
    "                \n",
    "    def calculate_proportion(self):\n",
    "        \"\"\" calculates the proportion of mistakes in a text \"\"\"\n",
    "        return ('Доля ошибок - ', \n",
    "                len(self.mistakes) / len(self.aligned_tokens))"
   ]
  },
  {
   "cell_type": "code",
   "execution_count": 5,
   "metadata": {},
   "outputs": [
    {
     "data": {
      "text/plain": [
       "[('симпатичнейшее', 'симпатичнейшое'),\n",
       " ('шпионское', 'шпионское'),\n",
       " ('устройство', 'устройство')]"
      ]
     },
     "execution_count": 5,
     "metadata": {},
     "output_type": "execute_result"
    }
   ],
   "source": [
    "aligner = TokenAligner(true.tokens_by_sent, bad.tokens_by_sent)\n",
    "aligner.aligned_tokens[0:3]"
   ]
  },
  {
   "cell_type": "code",
   "execution_count": 6,
   "metadata": {},
   "outputs": [],
   "source": [
    "import re\n",
    "from collections import Counter\n",
    "\n",
    "\n",
    "class SpellChecker():\n",
    "    \n",
    "    \"\"\" a class to spellcheck using a given corpus of correct words \"\"\"\n",
    "    def __init__(self, path):\n",
    "        self.path = path\n",
    "        self.dictionary = {}\n",
    "        self.deletes = {}\n",
    "        self.total_count = 1\n",
    "        \n",
    "    def create_dictionary(self):\n",
    "        \"\"\" \n",
    "            creates a dictionary of correct words\n",
    "            and their deletes \n",
    "        \"\"\"\n",
    "        self.dictionary = Counter(re.findall('\\w+', self.get_content()))\n",
    "        \n",
    "        self.total_count = sum(self.dictionary.values())\n",
    "        \n",
    "        for word in list(self.dictionary.keys()):\n",
    "            for d in self.generate_deletes(word):\n",
    "                if d in self.deletes:\n",
    "                    self.deletes[d].append(word)\n",
    "                else:\n",
    "                    self.deletes[d] = [word]\n",
    "        \n",
    "    def get_content(self) -> str:\n",
    "        \"\"\" loads the content of the file \"\"\"\n",
    "        with open(self.path, 'r', encoding=\"utf-8\") as f: # open in readonly mode\n",
    "            return f.read().lower()\n",
    "        \n",
    "    def generate_deletes(self, word) -> list:\n",
    "        \"\"\" generate deletes for a word \"\"\"\n",
    "\n",
    "        deletes = []\n",
    "        tmp = [word]\n",
    "        for d in range(1): # maximum 1 characters to delete\n",
    "            tmp_2 = []\n",
    "            for word in tmp:\n",
    "                if len(word) > 2:\n",
    "                    for char in range(len(word)):  # character index\n",
    "                        word_minus_char = word[:char] + word[char + 1:]\n",
    "                        if word_minus_char not in deletes:\n",
    "                            deletes.append(word_minus_char)\n",
    "                        if word_minus_char not in tmp_2:\n",
    "                            tmp_2.append(word_minus_char)\n",
    "            tmp = tmp_2\n",
    "\n",
    "        return deletes\n",
    "    \n",
    "    def generate_candidates(self, word) -> list:\n",
    "        \"\"\" get a list of candidates \"\"\"\n",
    "        \n",
    "        return (self.known([word]) or \n",
    "                self.known_deletes(word) or \n",
    "                [word])\n",
    "    \n",
    "    def known(self, words) -> list:\n",
    "        \"\"\" check if the word is in the dictionary \"\"\"\n",
    "        return set(w for w in words if w in self.dictionary)\n",
    "    \n",
    "    def known_deletes(self, word) -> list:\n",
    "        \"\"\" checks if any there is a potential candidate in deletes \"\"\"\n",
    "        deletes = self.generate_deletes(word)\n",
    "        candidates = []\n",
    "        [candidates.extend(self.deletes[w]) for w in deletes if w in self.deletes]\n",
    "        return set(candidates)\n",
    "\n",
    "    def calc_prob(self, word) -> float:\n",
    "        \"\"\" calculates probability for a given word \"\"\"\n",
    "        return self.dictionary[word] / self.total_count\n",
    "    \n",
    "    def get_corrected(self, word):\n",
    "        \"\"\" find the best match \"\"\"\n",
    "        return max(self.generate_candidates(word), key=self.calc_prob)\n"
   ]
  },
  {
   "cell_type": "code",
   "execution_count": 7,
   "metadata": {},
   "outputs": [],
   "source": [
    "spellcheck = SpellChecker('data/wiki_data.txt')\n",
    "spellcheck.create_dictionary()"
   ]
  },
  {
   "cell_type": "code",
   "execution_count": 8,
   "metadata": {},
   "outputs": [
    {
     "data": {
      "text/plain": [
       "'солнце'"
      ]
     },
     "execution_count": 8,
     "metadata": {},
     "output_type": "execute_result"
    }
   ],
   "source": [
    "spellcheck.get_corrected('сонлце')"
   ]
  },
  {
   "cell_type": "code",
   "execution_count": 9,
   "metadata": {},
   "outputs": [],
   "source": [
    "class SpellcheckEvaluator():\n",
    "    \n",
    "    \"\"\" a class to check how accurate is a given spell checker \"\"\"\n",
    "    def __init__(self):\n",
    "        self.correct = 0\n",
    "        self.total = 0\n",
    "        self.total_mistaken = 0\n",
    "        self.mistaken_fixed = 0\n",
    "        self.total_correct = 0\n",
    "        self.correct_broken = 0\n",
    "        self.cashe = {}\n",
    "        \n",
    "    def evaluate(self, pairs, spellchecker):\n",
    "        \"\"\" updates metrics to evaluate a spellchecker on given word pairs \"\"\"\n",
    "        \n",
    "        for pair in pairs:\n",
    "            # cashe results\n",
    "            predicted = self.cashe.get(pair[1], spellchecker.get_corrected(pair[1]))\n",
    "            self.cashe[pair[1]] = predicted\n",
    "\n",
    "            if predicted == pair[0]:\n",
    "                self.correct += 1\n",
    "            self.total += 1\n",
    "\n",
    "            if pair[0] == pair[1]:\n",
    "                self.total_correct += 1\n",
    "                if pair[0] !=  predicted:\n",
    "                    self.correct_broken += 1\n",
    "            else:\n",
    "                self.total_mistaken += 1\n",
    "                if pair[0] == predicted:\n",
    "                    self.mistaken_fixed += 1"
   ]
  },
  {
   "cell_type": "code",
   "execution_count": 10,
   "metadata": {},
   "outputs": [],
   "source": [
    "evaluator = SpellcheckEvaluator()\n",
    "evaluator.evaluate(aligner.aligned_tokens, spellcheck)"
   ]
  },
  {
   "cell_type": "markdown",
   "metadata": {},
   "source": [
    "Для оценки используем будем использовать три метрики:  \n",
    "1) процент правильных слов;  \n",
    "2) процент исправленных ошибок  \n",
    "3) процент ошибочно исправленных правильных слов"
   ]
  },
  {
   "cell_type": "code",
   "execution_count": 11,
   "metadata": {},
   "outputs": [
    {
     "name": "stdout",
     "output_type": "stream",
     "text": [
      "0.8496105452366687\n",
      "0.18827838827838828\n",
      "0.04601688056422708\n"
     ]
    }
   ],
   "source": [
    "print(evaluator.correct/evaluator.total)\n",
    "print(evaluator.mistaken_fixed/evaluator.total_mistaken)\n",
    "print(evaluator.correct_broken/evaluator.total_correct)"
   ]
  },
  {
   "cell_type": "markdown",
   "metadata": {},
   "source": [
    "# Task 2\n",
    "2. Добавьте к полученному алгоритму исправления (Symspell) триграммную модель и проверьте, улучшает ли она качество. Триграммную модель нужно вставить туда, где у вас выбирается один из нескольких кандидатов на исправление."
   ]
  },
  {
   "cell_type": "code",
   "execution_count": 12,
   "metadata": {},
   "outputs": [],
   "source": [
    "from collections import Counter\n",
    "import numpy as np\n",
    "\n",
    "class NgramModel():\n",
    "    \"\"\"\n",
    "        a class to generate text based on a list tokens split by sentences\n",
    "        input: [['tokens', 'of', 'a', 'single', 'sentence']]\n",
    "        \n",
    "        !!! modify to work on any ngram >= 2. Now it does not suit any to the full extent !!!\n",
    "    \"\"\"\n",
    "    def __init__(self, tokens, ngram_length=2):\n",
    "        if ngram_length < 2: # for bigrams and larger series only\n",
    "            return(ValueError)\n",
    "        self.tokens = tokens\n",
    "        self.ngram_length = ngram_length\n",
    "        self.ngrams = [] # [0] (n-1)grams [1] ngrams\n",
    "        self.id2unigram = []\n",
    "        self.unigram2id = {}\n",
    "        self.id2ngram = []\n",
    "        self.ngram2id = {}\n",
    "        self.matrix = np.empty(0)\n",
    "        \n",
    "     \n",
    "    def generate_ngrams(self):\n",
    "        \"\"\" generate ngrams from sentences \"\"\"\n",
    "        self.generate_counters() # generate enough counters for ngrams\n",
    "        \n",
    "        for sentence in self.tokens:\n",
    "            self.ngrams[0].update(sentence)\n",
    "            self.ngrams[1].update(\n",
    "                self.ngrammer(sentence, (self.ngram_length-1)) # gerenate ngrams of n-1 lenght\n",
    "                ) \n",
    "            self.ngrams[2].update(\n",
    "                self.ngrammer(sentence, self.ngram_length) # generate ngrams\n",
    "                )\n",
    "\n",
    "    def generate_counters(self):\n",
    "        \"\"\"\n",
    "            generates a number of ngrams Counter() to store in self.ngrams\n",
    "        \"\"\"\n",
    "        [self.ngrams.append(Counter()) for i in range(3)]\n",
    "        \n",
    "    def ngrammer(self, tokens, n=2) -> list:\n",
    "        \"\"\" return ngrams \"\"\"\n",
    "        ngrams = []\n",
    "        for i in range(0,len(tokens)-n+1):\n",
    "            ngrams.append(' '.join(tokens[i:i+n]))\n",
    "        return(ngrams)\n",
    "    \n",
    "    def build_matrix(self):\n",
    "        self.matrix = np.zeros(\n",
    "            (len(self.ngrams[1]), # rows with bigrams\n",
    "             len(self.ngrams[0]) # columns with unigrams\n",
    "            ))\n",
    "        \n",
    "        self.id2unigram = list(self.ngrams[0]) # index unigrams\n",
    "        self.unigram2id = {unigram:i for i, unigram in enumerate(self.id2unigram)}\n",
    "        self.id2ngram = list(self.ngrams[1]) # index (n-1)grams\n",
    "        self.ngram2id = {ngram:i for i, ngram in enumerate(self.id2ngram)}\n",
    "        \n",
    "        \n",
    "        for ngram in self.ngrams[-1]:\n",
    "            tmp = ngram.split()\n",
    "            prev = \" \".join(tmp[:-1]) # save ngram without last token\n",
    "            self.matrix[self.ngram2id[prev]][self.unigram2id[tmp[-1]]] = (self.ngrams[-1][ngram]/\n",
    "                                                                            self.ngrams[-2][prev])\n",
    "    "
   ]
  },
  {
   "cell_type": "code",
   "execution_count": 13,
   "metadata": {},
   "outputs": [],
   "source": [
    "corpus = Preprocessor('data/wiki_data.txt')\n",
    "corpus.extractContent()\n",
    "corpus.get_tokens_by_sent(2)"
   ]
  },
  {
   "cell_type": "code",
   "execution_count": 14,
   "metadata": {},
   "outputs": [],
   "source": [
    "model = NgramModel(corpus.tokens_by_sent[0:650], 3)\n",
    "model.generate_ngrams()\n",
    "model.build_matrix()"
   ]
  },
  {
   "cell_type": "code",
   "execution_count": 15,
   "metadata": {},
   "outputs": [],
   "source": [
    "class SpellcheckEvaluator_2():\n",
    "    \n",
    "    \"\"\" a class to check how accurate is a given spell checker \"\"\"\n",
    "    def __init__(self):\n",
    "        self.correct = 0\n",
    "        self.total = 0\n",
    "        self.total_mistaken = 0\n",
    "        self.mistaken_fixed = 0\n",
    "        self.total_correct = 0\n",
    "        self.correct_broken = 0\n",
    "        self.cashe = {}\n",
    "        self.context = '<start> <start>'\n",
    "        \n",
    "    def evaluate(self, pairs, spellchecker, model): # add a model to predict words\n",
    "        \"\"\" updates metrics to evaluate a spellchecker on given word pairs \"\"\"\n",
    "        \n",
    "        for i, pair in enumerate(pairs):\n",
    "            predicted = self.cashe.get(pair[1], self.get_corrected(pair[1],\n",
    "                                                                   model, spellchecker))\n",
    "            self.cashe[pair[1]] = predicted\n",
    "            \n",
    "            if predicted == pair[0]:\n",
    "                self.correct += 1\n",
    "            self.total += 1\n",
    "\n",
    "            if pair[0] == pair[1]:\n",
    "                self.total_correct += 1\n",
    "                if pair[0] !=  predicted:\n",
    "                    self.correct_broken += 1\n",
    "            else:\n",
    "                self.total_mistaken += 1\n",
    "                if pair[0] == predicted:\n",
    "                    self.mistaken_fixed += 1\n",
    "            \n",
    "        self.context = self.context.split()[-1] + \" \" + predicted\n",
    "                                       \n",
    "    def get_corrected(self, word, model, spellchecker) -> str:\n",
    "        \"\"\" chooses the best option out of generated candidates \"\"\"\n",
    "        candidates = spellchecker.generate_candidates(word)\n",
    "        weights = {c:spellchecker.calc_prob(c) for c in candidates}\n",
    "        \n",
    "        for c in candidates:\n",
    "            if c not in model.ngrams[0]:\n",
    "                continue\n",
    "            \n",
    "            weight = model.matrix[model.ngram2id[self.context]][model.unigram2id[c]]\n",
    "            if weight > 0:\n",
    "                weights[c] *= weight\n",
    "            \n",
    "            else:\n",
    "                continue\n",
    "                \n",
    "        return sorted(candidates, key=weights.__getitem__)[0]\n",
    "                                       "
   ]
  },
  {
   "cell_type": "code",
   "execution_count": 16,
   "metadata": {},
   "outputs": [],
   "source": [
    "evaluator = SpellcheckEvaluator_2()\n",
    "evaluator.evaluate(aligner.aligned_tokens, spellcheck, model)"
   ]
  },
  {
   "cell_type": "code",
   "execution_count": 17,
   "metadata": {},
   "outputs": [
    {
     "name": "stdout",
     "output_type": "stream",
     "text": [
      "0.841521869382864\n",
      "0.12893772893772895\n",
      "0.04601688056422708\n"
     ]
    }
   ],
   "source": [
    "print(evaluator.correct/evaluator.total)\n",
    "print(evaluator.mistaken_fixed/evaluator.total_mistaken)\n",
    "print(evaluator.correct_broken/evaluator.total_correct)"
   ]
  }
 ],
 "metadata": {
  "kernelspec": {
   "display_name": "Python 3",
   "language": "python",
   "name": "python3"
  },
  "language_info": {
   "codemirror_mode": {
    "name": "ipython",
    "version": 3
   },
   "file_extension": ".py",
   "mimetype": "text/x-python",
   "name": "python",
   "nbconvert_exporter": "python",
   "pygments_lexer": "ipython3",
   "version": "3.8.2"
  }
 },
 "nbformat": 4,
 "nbformat_minor": 4
}
