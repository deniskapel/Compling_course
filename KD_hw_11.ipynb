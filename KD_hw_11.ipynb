{
  "nbformat": 4,
  "nbformat_minor": 0,
  "metadata": {
    "kernelspec": {
      "display_name": "Python 3",
      "language": "python",
      "name": "python3"
    },
    "language_info": {
      "codemirror_mode": {
        "name": "ipython",
        "version": 3
      },
      "file_extension": ".py",
      "mimetype": "text/x-python",
      "name": "python",
      "nbconvert_exporter": "python",
      "pygments_lexer": "ipython3",
      "version": "3.8.8"
    },
    "colab": {
      "name": "KD_hw_11",
      "provenance": [],
      "collapsed_sections": []
    },
    "accelerator": "GPU"
  },
  "cells": [
    {
      "cell_type": "code",
      "metadata": {
        "scrolled": true,
        "id": "ZI2T5zOsaHiw"
      },
      "source": [
        "%%capture\n",
        "!pip install pandas scikit-learn gensim matplotlib\n",
        "!pip install tokenizers"
      ],
      "execution_count": 83,
      "outputs": []
    },
    {
      "cell_type": "code",
      "metadata": {
        "id": "GcceSh4kcPQt"
      },
      "source": [
        "import pandas as pd\n",
        "import numpy as np\n",
        "from string import punctuation\n",
        "from sklearn.model_selection import train_test_split\n",
        "from sklearn.metrics import classification_report\n",
        "from collections import Counter\n",
        "from random import seed\n",
        "import tensorflow as tf\n",
        "import gensim\n",
        "from tensorflow.keras import backend as K\n",
        "from tensorflow.keras.metrics import RecallAtPrecision\n",
        "from tokenizers import CharBPETokenizer, Tokenizer\n",
        "import matplotlib.pyplot as plt\n",
        "%matplotlib inline\n",
        "\n",
        "seed(42)"
      ],
      "execution_count": 2,
      "outputs": []
    },
    {
      "cell_type": "markdown",
      "metadata": {
        "id": "T9yCnbKyaHiv"
      },
      "source": [
        "# Task 1\n",
        "\n",
        "На одной из задач сравните, что лучше: \n",
        "1. конкатенировать эмбединги в один большой эмбединг\n",
        "2. усреднять эмбединги \n",
        "3. складывать эмбединги. \n",
        "\n",
        "Зафиксируйте разбиение на train_test  через random_seed, чтобы обучаться и оцениваться на одних и тех же данных. Параметры нейронок не нужно делать одинаковыми. Просто попробуйте добиться максимума от каждого из подходов. "
      ]
    },
    {
      "cell_type": "code",
      "metadata": {
        "id": "vEbUQJ2faHjB",
        "colab": {
          "base_uri": "https://localhost:8080/",
          "height": 196
        },
        "outputId": "928f04b0-8d05-4300-f491-4bcbef13de60"
      },
      "source": [
        "quora = pd.read_csv('quora.csv')\n",
        "quora.head()"
      ],
      "execution_count": 40,
      "outputs": [
        {
          "output_type": "execute_result",
          "data": {
            "text/html": [
              "<div>\n",
              "<style scoped>\n",
              "    .dataframe tbody tr th:only-of-type {\n",
              "        vertical-align: middle;\n",
              "    }\n",
              "\n",
              "    .dataframe tbody tr th {\n",
              "        vertical-align: top;\n",
              "    }\n",
              "\n",
              "    .dataframe thead th {\n",
              "        text-align: right;\n",
              "    }\n",
              "</style>\n",
              "<table border=\"1\" class=\"dataframe\">\n",
              "  <thead>\n",
              "    <tr style=\"text-align: right;\">\n",
              "      <th></th>\n",
              "      <th>qid</th>\n",
              "      <th>question_text</th>\n",
              "      <th>target</th>\n",
              "    </tr>\n",
              "  </thead>\n",
              "  <tbody>\n",
              "    <tr>\n",
              "      <th>0</th>\n",
              "      <td>00002165364db923c7e6</td>\n",
              "      <td>How did Quebec nationalists see their province...</td>\n",
              "      <td>0</td>\n",
              "    </tr>\n",
              "    <tr>\n",
              "      <th>1</th>\n",
              "      <td>000032939017120e6e44</td>\n",
              "      <td>Do you have an adopted dog, how would you enco...</td>\n",
              "      <td>0</td>\n",
              "    </tr>\n",
              "    <tr>\n",
              "      <th>2</th>\n",
              "      <td>0000412ca6e4628ce2cf</td>\n",
              "      <td>Why does velocity affect time? Does velocity a...</td>\n",
              "      <td>0</td>\n",
              "    </tr>\n",
              "    <tr>\n",
              "      <th>3</th>\n",
              "      <td>000042bf85aa498cd78e</td>\n",
              "      <td>How did Otto von Guericke used the Magdeburg h...</td>\n",
              "      <td>0</td>\n",
              "    </tr>\n",
              "    <tr>\n",
              "      <th>4</th>\n",
              "      <td>0000455dfa3e01eae3af</td>\n",
              "      <td>Can I convert montra helicon D to a mountain b...</td>\n",
              "      <td>0</td>\n",
              "    </tr>\n",
              "  </tbody>\n",
              "</table>\n",
              "</div>"
            ],
            "text/plain": [
              "                    qid  ... target\n",
              "0  00002165364db923c7e6  ...      0\n",
              "1  000032939017120e6e44  ...      0\n",
              "2  0000412ca6e4628ce2cf  ...      0\n",
              "3  000042bf85aa498cd78e  ...      0\n",
              "4  0000455dfa3e01eae3af  ...      0\n",
              "\n",
              "[5 rows x 3 columns]"
            ]
          },
          "metadata": {
            "tags": []
          },
          "execution_count": 40
        }
      ]
    },
    {
      "cell_type": "markdown",
      "metadata": {
        "id": "ZopGl6I1aHjC"
      },
      "source": [
        "Preprocess data (use subword)"
      ]
    },
    {
      "cell_type": "code",
      "metadata": {
        "id": "2-gKMrqpABm2"
      },
      "source": [
        "quora.question_text.to_csv('corpus.txt', index=None)"
      ],
      "execution_count": 41,
      "outputs": []
    },
    {
      "cell_type": "code",
      "metadata": {
        "id": "b9E8ZIHnC0PG"
      },
      "source": [
        "bpe = CharBPETokenizer()\n",
        "bpe.train('corpus.txt', vocab_size=50000, min_frequency=30)"
      ],
      "execution_count": 122,
      "outputs": []
    },
    {
      "cell_type": "code",
      "metadata": {
        "colab": {
          "base_uri": "https://localhost:8080/"
        },
        "id": "DRkWA37AfRIe",
        "outputId": "4a119074-8e52-4c15-99b1-cbb0994d3545"
      },
      "source": [
        "bpe.get_vocab_size()"
      ],
      "execution_count": 123,
      "outputs": [
        {
          "output_type": "execute_result",
          "data": {
            "text/plain": [
              "35145"
            ]
          },
          "metadata": {
            "tags": []
          },
          "execution_count": 123
        }
      ]
    },
    {
      "cell_type": "code",
      "metadata": {
        "id": "OVYkostb-V3N"
      },
      "source": [
        "bpe_vocab = bpe.get_vocab()"
      ],
      "execution_count": 124,
      "outputs": []
    },
    {
      "cell_type": "code",
      "metadata": {
        "id": "ycS1fFngaHjD"
      },
      "source": [
        "# переводим тексты в последовательности индексов\n",
        "X = []\n",
        "\n",
        "for text in quora.question_text:\n",
        "    X.append(bpe.encode(text).ids)"
      ],
      "execution_count": 125,
      "outputs": []
    },
    {
      "cell_type": "code",
      "metadata": {
        "id": "zSE5509WaHjD",
        "colab": {
          "base_uri": "https://localhost:8080/"
        },
        "outputId": "cc49b016-fad1-4d4e-e878-16685c9eab1d"
      },
      "source": [
        "MAX_LEN = max(len(x) for x in X)\n",
        "MAX_LEN"
      ],
      "execution_count": 126,
      "outputs": [
        {
          "output_type": "execute_result",
          "data": {
            "text/plain": [
              "634"
            ]
          },
          "metadata": {
            "tags": []
          },
          "execution_count": 126
        }
      ]
    },
    {
      "cell_type": "code",
      "metadata": {
        "id": "xWZuNHI4SC6K"
      },
      "source": [
        "MAX_LEN = 200"
      ],
      "execution_count": 127,
      "outputs": []
    },
    {
      "cell_type": "code",
      "metadata": {
        "id": "7eg3PuZAaHjE",
        "colab": {
          "base_uri": "https://localhost:8080/"
        },
        "outputId": "2a2605af-daf4-4544-b6e0-76bcd336bd6a"
      },
      "source": [
        "# паддинг\n",
        "X = tf.keras.preprocessing.sequence.pad_sequences(X, maxlen=MAX_LEN)\n",
        "X.shape"
      ],
      "execution_count": 128,
      "outputs": [
        {
          "output_type": "execute_result",
          "data": {
            "text/plain": [
              "(1306122, 200)"
            ]
          },
          "metadata": {
            "tags": []
          },
          "execution_count": 128
        }
      ]
    },
    {
      "cell_type": "code",
      "metadata": {
        "id": "WeziTqAiaHjE",
        "colab": {
          "base_uri": "https://localhost:8080/"
        },
        "outputId": "99a84c76-c2f4-4f01-f9c0-3ccf684014f7"
      },
      "source": [
        "y = quora.target.values\n",
        "y.shape"
      ],
      "execution_count": 129,
      "outputs": [
        {
          "output_type": "execute_result",
          "data": {
            "text/plain": [
              "(1306122,)"
            ]
          },
          "metadata": {
            "tags": []
          },
          "execution_count": 129
        }
      ]
    },
    {
      "cell_type": "code",
      "metadata": {
        "id": "uZb11DeCaHjE"
      },
      "source": [
        "X_train, X_valid, y_train, y_valid = train_test_split(X, y, test_size=0.05)"
      ],
      "execution_count": 130,
      "outputs": []
    },
    {
      "cell_type": "markdown",
      "metadata": {
        "id": "MurYkjM4h3CY"
      },
      "source": [
        "### Train the model"
      ]
    },
    {
      "cell_type": "markdown",
      "metadata": {
        "id": "eKgU5T-jwiqq"
      },
      "source": [
        "1. конкатенировать эмбединги в один большой эмбединг"
      ]
    },
    {
      "cell_type": "code",
      "metadata": {
        "id": "ZODWB7PaaHjE"
      },
      "source": [
        "inputs = tf.keras.layers.Input(shape=(MAX_LEN,))\n",
        "embeddings = tf.keras.layers.Embedding(input_dim=len(bpe_vocab), output_dim=100)(inputs, )\n",
        "flat = tf.keras.layers.Flatten()(embeddings)\n",
        "dense = tf.keras.layers.Dense(64, activation='relu')(flat)\n",
        "outputs = tf.keras.layers.Dense(1, activation='sigmoid')(dense)\n",
        "\n",
        "model = tf.keras.Model(inputs=inputs, outputs=outputs)\n",
        "optimizer = tf.keras.optimizers.Adam(learning_rate=0.0001)\n",
        "model.compile(optimizer=optimizer,\n",
        "              loss='binary_crossentropy',\n",
        "              metrics=['accuracy'])"
      ],
      "execution_count": 131,
      "outputs": []
    },
    {
      "cell_type": "code",
      "metadata": {
        "id": "qeOZbjXDQFHj",
        "colab": {
          "base_uri": "https://localhost:8080/"
        },
        "outputId": "e3b9e54c-2559-4bc5-f743-f7debd59a01e"
      },
      "source": [
        "model.summary()"
      ],
      "execution_count": 132,
      "outputs": [
        {
          "output_type": "stream",
          "text": [
            "Model: \"model_6\"\n",
            "_________________________________________________________________\n",
            "Layer (type)                 Output Shape              Param #   \n",
            "=================================================================\n",
            "input_7 (InputLayer)         [(None, 200)]             0         \n",
            "_________________________________________________________________\n",
            "embedding_7 (Embedding)      (None, 200, 100)          3514500   \n",
            "_________________________________________________________________\n",
            "flatten_4 (Flatten)          (None, 20000)             0         \n",
            "_________________________________________________________________\n",
            "dense_12 (Dense)             (None, 64)                1280064   \n",
            "_________________________________________________________________\n",
            "dense_13 (Dense)             (None, 1)                 65        \n",
            "=================================================================\n",
            "Total params: 4,794,629\n",
            "Trainable params: 4,794,629\n",
            "Non-trainable params: 0\n",
            "_________________________________________________________________\n"
          ],
          "name": "stdout"
        }
      ]
    },
    {
      "cell_type": "code",
      "metadata": {
        "scrolled": true,
        "id": "yS8cFf9YaHjF",
        "colab": {
          "base_uri": "https://localhost:8080/"
        },
        "outputId": "65005807-2b5c-4b27-9d70-8763f4e8101f"
      },
      "source": [
        "model.fit(X_train, y_train, \n",
        "          validation_data=(X_valid, y_valid),\n",
        "          batch_size=2048,\n",
        "          epochs=20)"
      ],
      "execution_count": 133,
      "outputs": [
        {
          "output_type": "stream",
          "text": [
            "Epoch 1/20\n",
            "606/606 [==============================] - 64s 104ms/step - loss: 0.2330 - accuracy: 0.9379 - val_loss: 0.1413 - val_accuracy: 0.9459\n",
            "Epoch 2/20\n",
            "606/606 [==============================] - 63s 103ms/step - loss: 0.1319 - accuracy: 0.9486 - val_loss: 0.1234 - val_accuracy: 0.9508\n",
            "Epoch 3/20\n",
            "606/606 [==============================] - 62s 103ms/step - loss: 0.1162 - accuracy: 0.9534 - val_loss: 0.1174 - val_accuracy: 0.9534\n",
            "Epoch 4/20\n",
            "606/606 [==============================] - 63s 103ms/step - loss: 0.1083 - accuracy: 0.9561 - val_loss: 0.1150 - val_accuracy: 0.9538\n",
            "Epoch 5/20\n",
            "606/606 [==============================] - 63s 104ms/step - loss: 0.1025 - accuracy: 0.9584 - val_loss: 0.1142 - val_accuracy: 0.9545\n",
            "Epoch 6/20\n",
            "606/606 [==============================] - 63s 104ms/step - loss: 0.0994 - accuracy: 0.9591 - val_loss: 0.1144 - val_accuracy: 0.9541\n",
            "Epoch 7/20\n",
            "606/606 [==============================] - 63s 104ms/step - loss: 0.0956 - accuracy: 0.9608 - val_loss: 0.1150 - val_accuracy: 0.9544\n",
            "Epoch 8/20\n",
            "606/606 [==============================] - 62s 103ms/step - loss: 0.0925 - accuracy: 0.9619 - val_loss: 0.1163 - val_accuracy: 0.9541\n",
            "Epoch 9/20\n",
            "606/606 [==============================] - 62s 103ms/step - loss: 0.0893 - accuracy: 0.9631 - val_loss: 0.1181 - val_accuracy: 0.9529\n",
            "Epoch 10/20\n",
            "606/606 [==============================] - 63s 103ms/step - loss: 0.0857 - accuracy: 0.9649 - val_loss: 0.1214 - val_accuracy: 0.9526\n",
            "Epoch 11/20\n",
            "606/606 [==============================] - 62s 103ms/step - loss: 0.0815 - accuracy: 0.9667 - val_loss: 0.1240 - val_accuracy: 0.9519\n",
            "Epoch 12/20\n",
            "606/606 [==============================] - 63s 104ms/step - loss: 0.0785 - accuracy: 0.9683 - val_loss: 0.1276 - val_accuracy: 0.9516\n",
            "Epoch 13/20\n",
            "606/606 [==============================] - 63s 103ms/step - loss: 0.0740 - accuracy: 0.9705 - val_loss: 0.1319 - val_accuracy: 0.9516\n",
            "Epoch 14/20\n",
            "606/606 [==============================] - 62s 103ms/step - loss: 0.0698 - accuracy: 0.9724 - val_loss: 0.1373 - val_accuracy: 0.9514\n",
            "Epoch 15/20\n",
            "606/606 [==============================] - 63s 103ms/step - loss: 0.0653 - accuracy: 0.9746 - val_loss: 0.1412 - val_accuracy: 0.9499\n",
            "Epoch 16/20\n",
            "606/606 [==============================] - 63s 103ms/step - loss: 0.0608 - accuracy: 0.9767 - val_loss: 0.1473 - val_accuracy: 0.9495\n",
            "Epoch 17/20\n",
            "606/606 [==============================] - 63s 104ms/step - loss: 0.0566 - accuracy: 0.9787 - val_loss: 0.1542 - val_accuracy: 0.9484\n",
            "Epoch 18/20\n",
            "606/606 [==============================] - 64s 106ms/step - loss: 0.0527 - accuracy: 0.9805 - val_loss: 0.1621 - val_accuracy: 0.9480\n",
            "Epoch 19/20\n",
            "606/606 [==============================] - 63s 104ms/step - loss: 0.0486 - accuracy: 0.9825 - val_loss: 0.1706 - val_accuracy: 0.9475\n",
            "Epoch 20/20\n",
            "606/606 [==============================] - 63s 105ms/step - loss: 0.0448 - accuracy: 0.9838 - val_loss: 0.1787 - val_accuracy: 0.9473\n"
          ],
          "name": "stdout"
        },
        {
          "output_type": "execute_result",
          "data": {
            "text/plain": [
              "<tensorflow.python.keras.callbacks.History at 0x7f1e6e576850>"
            ]
          },
          "metadata": {
            "tags": []
          },
          "execution_count": 133
        }
      ]
    },
    {
      "cell_type": "code",
      "metadata": {
        "id": "NX9qdEznaHjF",
        "colab": {
          "base_uri": "https://localhost:8080/",
          "height": 312
        },
        "outputId": "5b644668-9da6-417f-a7cb-a6b6910c60c3"
      },
      "source": [
        "print(model.history.history.keys())\n",
        "# summarize history for accuracy\n",
        "plt.plot(model.history.history['accuracy'])\n",
        "plt.plot(model.history.history['val_accuracy'])\n",
        "plt.title('model accuracy')\n",
        "plt.ylabel('accuracy')\n",
        "plt.xlabel('epoch')\n",
        "plt.legend(['train', 'val'], loc='upper left')\n",
        "plt.show()"
      ],
      "execution_count": 134,
      "outputs": [
        {
          "output_type": "stream",
          "text": [
            "dict_keys(['loss', 'accuracy', 'val_loss', 'val_accuracy'])\n"
          ],
          "name": "stdout"
        },
        {
          "output_type": "display_data",
          "data": {
            "image/png": "[encoded data removed]",
            "text/plain": [
              "<Figure size 432x288 with 1 Axes>"
            ]
          },
          "metadata": {
            "tags": [],
            "needs_background": "light"
          }
        }
      ]
    },
    {
      "cell_type": "code",
      "metadata": {
        "id": "qloHk_p-aHjG",
        "colab": {
          "base_uri": "https://localhost:8080/"
        },
        "outputId": "f9f92e72-7451-470d-ada4-2139ebbb3595"
      },
      "source": [
        "preds = model.predict(X_valid).reshape(-1)\n",
        "print(classification_report(y_valid, (preds > 0.5).astype(int)))"
      ],
      "execution_count": 135,
      "outputs": [
        {
          "output_type": "stream",
          "text": [
            "              precision    recall  f1-score   support\n",
            "\n",
            "           0       0.97      0.98      0.97     61272\n",
            "           1       0.58      0.51      0.55      4035\n",
            "\n",
            "    accuracy                           0.95     65307\n",
            "   macro avg       0.78      0.74      0.76     65307\n",
            "weighted avg       0.94      0.95      0.95     65307\n",
            "\n"
          ],
          "name": "stdout"
        }
      ]
    },
    {
      "cell_type": "markdown",
      "metadata": {
        "id": "ABCCI8fms9i5"
      },
      "source": [
        "2. усреднять эмбединги"
      ]
    },
    {
      "cell_type": "code",
      "metadata": {
        "id": "bPaoObKpLzuI"
      },
      "source": [
        "inputs = tf.keras.layers.Input(shape=(MAX_LEN,))\n",
        "embeddings = tf.keras.layers.Embedding(input_dim=len(bpe_vocab), output_dim=100)(inputs, )\n",
        "mean = tf.keras.layers.Lambda(lambda x: tf.keras.backend.mean(x,  axis=1))(embeddings)\n",
        "dense = tf.keras.layers.Dense(64, activation='relu')(mean)\n",
        "outputs = tf.keras.layers.Dense(1, activation='sigmoid')(dense)\n",
        "\n",
        "model = tf.keras.Model(inputs=inputs, outputs=outputs)\n",
        "optimizer = tf.keras.optimizers.Adam(learning_rate=0.0001)\n",
        "model.compile(optimizer=optimizer,\n",
        "              loss='binary_crossentropy',\n",
        "              metrics=['accuracy'])"
      ],
      "execution_count": 136,
      "outputs": []
    },
    {
      "cell_type": "code",
      "metadata": {
        "id": "f3y9xvfPP7OJ",
        "colab": {
          "base_uri": "https://localhost:8080/"
        },
        "outputId": "ef05f4f4-dec2-4c58-94bc-cbb9f51de10c"
      },
      "source": [
        "model.summary()"
      ],
      "execution_count": 137,
      "outputs": [
        {
          "output_type": "stream",
          "text": [
            "Model: \"model_7\"\n",
            "_________________________________________________________________\n",
            "Layer (type)                 Output Shape              Param #   \n",
            "=================================================================\n",
            "input_8 (InputLayer)         [(None, 200)]             0         \n",
            "_________________________________________________________________\n",
            "embedding_8 (Embedding)      (None, 200, 100)          3514500   \n",
            "_________________________________________________________________\n",
            "lambda_2 (Lambda)            (None, 100)               0         \n",
            "_________________________________________________________________\n",
            "dense_14 (Dense)             (None, 64)                6464      \n",
            "_________________________________________________________________\n",
            "dense_15 (Dense)             (None, 1)                 65        \n",
            "=================================================================\n",
            "Total params: 3,521,029\n",
            "Trainable params: 3,521,029\n",
            "Non-trainable params: 0\n",
            "_________________________________________________________________\n"
          ],
          "name": "stdout"
        }
      ]
    },
    {
      "cell_type": "code",
      "metadata": {
        "id": "SBcnFffrM90P",
        "colab": {
          "base_uri": "https://localhost:8080/"
        },
        "outputId": "b1213fab-3cf4-4ccb-e606-0f473a0edd88"
      },
      "source": [
        "model.fit(X_train, y_train, \n",
        "          validation_data=(X_valid, y_valid),\n",
        "          batch_size=2048,\n",
        "          epochs=20)"
      ],
      "execution_count": 138,
      "outputs": [
        {
          "output_type": "stream",
          "text": [
            "Epoch 1/20\n",
            "606/606 [==============================] - 61s 100ms/step - loss: 0.5582 - accuracy: 0.8742 - val_loss: 0.2357 - val_accuracy: 0.9382\n",
            "Epoch 2/20\n",
            "606/606 [==============================] - 61s 100ms/step - loss: 0.2300 - accuracy: 0.9380 - val_loss: 0.2242 - val_accuracy: 0.9382\n",
            "Epoch 3/20\n",
            "606/606 [==============================] - 61s 100ms/step - loss: 0.2230 - accuracy: 0.9383 - val_loss: 0.2203 - val_accuracy: 0.9382\n",
            "Epoch 4/20\n",
            "606/606 [==============================] - 61s 100ms/step - loss: 0.2192 - accuracy: 0.9380 - val_loss: 0.2134 - val_accuracy: 0.9382\n",
            "Epoch 5/20\n",
            "606/606 [==============================] - 61s 101ms/step - loss: 0.2105 - accuracy: 0.9380 - val_loss: 0.1984 - val_accuracy: 0.9384\n",
            "Epoch 6/20\n",
            "606/606 [==============================] - 61s 101ms/step - loss: 0.1920 - accuracy: 0.9387 - val_loss: 0.1773 - val_accuracy: 0.9406\n",
            "Epoch 7/20\n",
            "606/606 [==============================] - 61s 101ms/step - loss: 0.1721 - accuracy: 0.9407 - val_loss: 0.1607 - val_accuracy: 0.9427\n",
            "Epoch 8/20\n",
            "606/606 [==============================] - 61s 101ms/step - loss: 0.1570 - accuracy: 0.9431 - val_loss: 0.1504 - val_accuracy: 0.9446\n",
            "Epoch 9/20\n",
            "606/606 [==============================] - 61s 101ms/step - loss: 0.1475 - accuracy: 0.9453 - val_loss: 0.1440 - val_accuracy: 0.9460\n",
            "Epoch 10/20\n",
            "606/606 [==============================] - 61s 101ms/step - loss: 0.1405 - accuracy: 0.9471 - val_loss: 0.1395 - val_accuracy: 0.9475\n",
            "Epoch 11/20\n",
            "606/606 [==============================] - 61s 101ms/step - loss: 0.1360 - accuracy: 0.9484 - val_loss: 0.1360 - val_accuracy: 0.9485\n",
            "Epoch 12/20\n",
            "606/606 [==============================] - 61s 101ms/step - loss: 0.1330 - accuracy: 0.9491 - val_loss: 0.1333 - val_accuracy: 0.9492\n",
            "Epoch 13/20\n",
            "606/606 [==============================] - 62s 102ms/step - loss: 0.1300 - accuracy: 0.9501 - val_loss: 0.1309 - val_accuracy: 0.9497\n",
            "Epoch 14/20\n",
            "606/606 [==============================] - 62s 102ms/step - loss: 0.1268 - accuracy: 0.9509 - val_loss: 0.1289 - val_accuracy: 0.9502\n",
            "Epoch 15/20\n",
            "606/606 [==============================] - 61s 101ms/step - loss: 0.1257 - accuracy: 0.9510 - val_loss: 0.1273 - val_accuracy: 0.9504\n",
            "Epoch 16/20\n",
            "606/606 [==============================] - 61s 101ms/step - loss: 0.1232 - accuracy: 0.9519 - val_loss: 0.1258 - val_accuracy: 0.9508\n",
            "Epoch 17/20\n",
            "606/606 [==============================] - 62s 101ms/step - loss: 0.1220 - accuracy: 0.9524 - val_loss: 0.1245 - val_accuracy: 0.9514\n",
            "Epoch 18/20\n",
            "606/606 [==============================] - 61s 101ms/step - loss: 0.1207 - accuracy: 0.9527 - val_loss: 0.1233 - val_accuracy: 0.9517\n",
            "Epoch 19/20\n",
            "606/606 [==============================] - 61s 101ms/step - loss: 0.1194 - accuracy: 0.9529 - val_loss: 0.1221 - val_accuracy: 0.9519\n",
            "Epoch 20/20\n",
            "606/606 [==============================] - 61s 101ms/step - loss: 0.1175 - accuracy: 0.9535 - val_loss: 0.1211 - val_accuracy: 0.9523\n"
          ],
          "name": "stdout"
        },
        {
          "output_type": "execute_result",
          "data": {
            "text/plain": [
              "<tensorflow.python.keras.callbacks.History at 0x7f1e6e60a6d0>"
            ]
          },
          "metadata": {
            "tags": []
          },
          "execution_count": 138
        }
      ]
    },
    {
      "cell_type": "code",
      "metadata": {
        "id": "UajxWhPgM-b4",
        "colab": {
          "base_uri": "https://localhost:8080/",
          "height": 312
        },
        "outputId": "b87c6dd2-d52f-4256-d6f1-a981b331cb67"
      },
      "source": [
        "print(model.history.history.keys())\n",
        "# summarize history for accuracy\n",
        "plt.plot(model.history.history['accuracy'])\n",
        "plt.plot(model.history.history['val_accuracy'])\n",
        "plt.title('model accuracy')\n",
        "plt.ylabel('accuracy')\n",
        "plt.xlabel('epoch')\n",
        "plt.legend(['train', 'val'], loc='upper left')\n",
        "plt.show()"
      ],
      "execution_count": 139,
      "outputs": [
        {
          "output_type": "stream",
          "text": [
            "dict_keys(['loss', 'accuracy', 'val_loss', 'val_accuracy'])\n"
          ],
          "name": "stdout"
        },
        {
          "output_type": "display_data",
          "data": {
            "image/png": "[encoded data removed]",
            "text/plain": [
              "<Figure size 432x288 with 1 Axes>"
            ]
          },
          "metadata": {
            "tags": [],
            "needs_background": "light"
          }
        }
      ]
    },
    {
      "cell_type": "code",
      "metadata": {
        "id": "-S6Ug-1kNATw",
        "colab": {
          "base_uri": "https://localhost:8080/"
        },
        "outputId": "eca0eaf0-1ac5-469d-dccc-3d3600b8d692"
      },
      "source": [
        "preds = model.predict(X_valid).reshape(-1)\n",
        "print(classification_report(y_valid, (preds > 0.5).astype(int)))"
      ],
      "execution_count": 140,
      "outputs": [
        {
          "output_type": "stream",
          "text": [
            "              precision    recall  f1-score   support\n",
            "\n",
            "           0       0.96      0.99      0.97     61272\n",
            "           1       0.68      0.43      0.53      4035\n",
            "\n",
            "    accuracy                           0.95     65307\n",
            "   macro avg       0.82      0.71      0.75     65307\n",
            "weighted avg       0.95      0.95      0.95     65307\n",
            "\n"
          ],
          "name": "stdout"
        }
      ]
    },
    {
      "cell_type": "markdown",
      "metadata": {
        "id": "z0vVDkZ4NDMp"
      },
      "source": [
        "3. складывать эмбединги."
      ]
    },
    {
      "cell_type": "code",
      "metadata": {
        "id": "GTpuKKQgNK2F"
      },
      "source": [
        "inputs = tf.keras.layers.Input(shape=(MAX_LEN,))\n",
        "embeddings = tf.keras.layers.Embedding(input_dim=len(bpe_vocab), output_dim=100)(inputs, )\n",
        "sums = tf.keras.layers.Lambda(lambda x: tf.keras.backend.sum(x,  axis=1))(embeddings)\n",
        "dense = tf.keras.layers.Dense(64, activation='relu')(sums)\n",
        "outputs = tf.keras.layers.Dense(1, activation='sigmoid')(dense)\n",
        "\n",
        "model = tf.keras.Model(inputs=inputs, outputs=outputs)\n",
        "optimizer = tf.keras.optimizers.Adam(learning_rate=0.0001)\n",
        "model.compile(optimizer=optimizer,\n",
        "              loss='binary_crossentropy',\n",
        "              metrics=['accuracy'])"
      ],
      "execution_count": 141,
      "outputs": []
    },
    {
      "cell_type": "code",
      "metadata": {
        "id": "AIXNey-ENcRW",
        "colab": {
          "base_uri": "https://localhost:8080/"
        },
        "outputId": "69ae331e-8a1b-4ab4-d825-e9cada871bd8"
      },
      "source": [
        "model.summary()"
      ],
      "execution_count": 142,
      "outputs": [
        {
          "output_type": "stream",
          "text": [
            "Model: \"model_8\"\n",
            "_________________________________________________________________\n",
            "Layer (type)                 Output Shape              Param #   \n",
            "=================================================================\n",
            "input_9 (InputLayer)         [(None, 200)]             0         \n",
            "_________________________________________________________________\n",
            "embedding_9 (Embedding)      (None, 200, 100)          3514500   \n",
            "_________________________________________________________________\n",
            "lambda_3 (Lambda)            (None, 100)               0         \n",
            "_________________________________________________________________\n",
            "dense_16 (Dense)             (None, 64)                6464      \n",
            "_________________________________________________________________\n",
            "dense_17 (Dense)             (None, 1)                 65        \n",
            "=================================================================\n",
            "Total params: 3,521,029\n",
            "Trainable params: 3,521,029\n",
            "Non-trainable params: 0\n",
            "_________________________________________________________________\n"
          ],
          "name": "stdout"
        }
      ]
    },
    {
      "cell_type": "code",
      "metadata": {
        "id": "8Hz9cxUwQkf1",
        "colab": {
          "base_uri": "https://localhost:8080/"
        },
        "outputId": "54627b37-f213-4e78-dbdd-e4a476051d43"
      },
      "source": [
        "model.fit(X_train, y_train, \n",
        "          validation_data=(X_valid, y_valid),\n",
        "          batch_size=2048,\n",
        "          epochs=20)"
      ],
      "execution_count": 143,
      "outputs": [
        {
          "output_type": "stream",
          "text": [
            "Epoch 1/20\n",
            "606/606 [==============================] - 61s 100ms/step - loss: 0.1900 - accuracy: 0.9402 - val_loss: 0.1386 - val_accuracy: 0.9461\n",
            "Epoch 2/20\n",
            "606/606 [==============================] - 60s 99ms/step - loss: 0.1295 - accuracy: 0.9499 - val_loss: 0.1239 - val_accuracy: 0.9511\n",
            "Epoch 3/20\n",
            "606/606 [==============================] - 60s 99ms/step - loss: 0.1161 - accuracy: 0.9541 - val_loss: 0.1181 - val_accuracy: 0.9527\n",
            "Epoch 4/20\n",
            "606/606 [==============================] - 60s 99ms/step - loss: 0.1103 - accuracy: 0.9559 - val_loss: 0.1160 - val_accuracy: 0.9548\n",
            "Epoch 5/20\n",
            "606/606 [==============================] - 60s 99ms/step - loss: 0.1060 - accuracy: 0.9572 - val_loss: 0.1154 - val_accuracy: 0.9546\n",
            "Epoch 6/20\n",
            "606/606 [==============================] - 61s 100ms/step - loss: 0.1031 - accuracy: 0.9582 - val_loss: 0.1138 - val_accuracy: 0.9555\n",
            "Epoch 7/20\n",
            "606/606 [==============================] - 60s 99ms/step - loss: 0.1005 - accuracy: 0.9592 - val_loss: 0.1160 - val_accuracy: 0.9554\n",
            "Epoch 8/20\n",
            "606/606 [==============================] - 60s 100ms/step - loss: 0.0987 - accuracy: 0.9601 - val_loss: 0.1139 - val_accuracy: 0.9557\n",
            "Epoch 9/20\n",
            "606/606 [==============================] - 60s 98ms/step - loss: 0.0975 - accuracy: 0.9604 - val_loss: 0.1146 - val_accuracy: 0.9558\n",
            "Epoch 10/20\n",
            "606/606 [==============================] - 59s 98ms/step - loss: 0.0958 - accuracy: 0.9610 - val_loss: 0.1155 - val_accuracy: 0.9561\n",
            "Epoch 11/20\n",
            "606/606 [==============================] - 59s 98ms/step - loss: 0.0943 - accuracy: 0.9616 - val_loss: 0.1158 - val_accuracy: 0.9559\n",
            "Epoch 12/20\n",
            "606/606 [==============================] - 59s 98ms/step - loss: 0.0935 - accuracy: 0.9617 - val_loss: 0.1160 - val_accuracy: 0.9550\n",
            "Epoch 13/20\n",
            "606/606 [==============================] - 59s 98ms/step - loss: 0.0924 - accuracy: 0.9624 - val_loss: 0.1167 - val_accuracy: 0.9553\n",
            "Epoch 14/20\n",
            "606/606 [==============================] - 59s 98ms/step - loss: 0.0913 - accuracy: 0.9628 - val_loss: 0.1175 - val_accuracy: 0.9542\n",
            "Epoch 15/20\n",
            "606/606 [==============================] - 59s 98ms/step - loss: 0.0903 - accuracy: 0.9634 - val_loss: 0.1180 - val_accuracy: 0.9553\n",
            "Epoch 16/20\n",
            "606/606 [==============================] - 59s 98ms/step - loss: 0.0891 - accuracy: 0.9638 - val_loss: 0.1198 - val_accuracy: 0.9559\n",
            "Epoch 17/20\n",
            "606/606 [==============================] - 59s 98ms/step - loss: 0.0883 - accuracy: 0.9643 - val_loss: 0.1195 - val_accuracy: 0.9560\n",
            "Epoch 18/20\n",
            "606/606 [==============================] - 59s 98ms/step - loss: 0.0876 - accuracy: 0.9647 - val_loss: 0.1193 - val_accuracy: 0.9555\n",
            "Epoch 19/20\n",
            "606/606 [==============================] - 59s 98ms/step - loss: 0.0858 - accuracy: 0.9654 - val_loss: 0.1206 - val_accuracy: 0.9558\n",
            "Epoch 20/20\n",
            "606/606 [==============================] - 59s 98ms/step - loss: 0.0850 - accuracy: 0.9656 - val_loss: 0.1226 - val_accuracy: 0.9559\n"
          ],
          "name": "stdout"
        },
        {
          "output_type": "execute_result",
          "data": {
            "text/plain": [
              "<tensorflow.python.keras.callbacks.History at 0x7f1e6e6d4a10>"
            ]
          },
          "metadata": {
            "tags": []
          },
          "execution_count": 143
        }
      ]
    },
    {
      "cell_type": "code",
      "metadata": {
        "id": "wBC0FBjoQnzV",
        "colab": {
          "base_uri": "https://localhost:8080/",
          "height": 312
        },
        "outputId": "ca02d10a-9a07-4fe9-e328-d9d76499738d"
      },
      "source": [
        "print(model.history.history.keys())\n",
        "# summarize history for accuracy\n",
        "plt.plot(model.history.history['accuracy'])\n",
        "plt.plot(model.history.history['val_accuracy'])\n",
        "plt.title('model accuracy')\n",
        "plt.ylabel('accuracy')\n",
        "plt.xlabel('epoch')\n",
        "plt.legend(['train', 'val'], loc='upper left')\n",
        "plt.show()"
      ],
      "execution_count": 144,
      "outputs": [
        {
          "output_type": "stream",
          "text": [
            "dict_keys(['loss', 'accuracy', 'val_loss', 'val_accuracy'])\n"
          ],
          "name": "stdout"
        },
        {
          "output_type": "display_data",
          "data": {
            "image/png": "[encoded data removed]",
            "text/plain": [
              "<Figure size 432x288 with 1 Axes>"
            ]
          },
          "metadata": {
            "tags": [],
            "needs_background": "light"
          }
        }
      ]
    },
    {
      "cell_type": "code",
      "metadata": {
        "id": "2d78HnJIQoWr",
        "colab": {
          "base_uri": "https://localhost:8080/"
        },
        "outputId": "c1b8b409-0254-4973-ecbd-f379fcbeab7a"
      },
      "source": [
        "preds = model.predict(X_valid).reshape(-1)\n",
        "print(classification_report(y_valid, (preds > 0.5).astype(int)))"
      ],
      "execution_count": 145,
      "outputs": [
        {
          "output_type": "stream",
          "text": [
            "              precision    recall  f1-score   support\n",
            "\n",
            "           0       0.97      0.98      0.98     61272\n",
            "           1       0.68      0.54      0.60      4035\n",
            "\n",
            "    accuracy                           0.96     65307\n",
            "   macro avg       0.83      0.76      0.79     65307\n",
            "weighted avg       0.95      0.96      0.95     65307\n",
            "\n"
          ],
          "name": "stdout"
        }
      ]
    },
    {
      "cell_type": "markdown",
      "metadata": {
        "id": "Z-JP6QSmuS16"
      },
      "source": [
        "`Flattening` provides highest results (on train), though the difference between train and val increases over time (val is even decreasing). `Averaging` is more balanced in the same situation, though the results are a bit (insignificant on val) lower.\n",
        "`Summing` seems to be the best one as it is more or less balanced and the highest on val"
      ]
    },
    {
      "cell_type": "markdown",
      "metadata": {
        "id": "Ilwp_ff8yNcd"
      },
      "source": [
        "# Task 2\n",
        "\n",
        "В одной из задач используйте сразу две предобученные эмбединг модели (можно фастекст и ворд2век, а можно просто 2 фастекста с разными параметрами) в одной нейронке (имеется в виду предобученные до обучения нейронки, т.е вы можете сами обучить фастекст/ворд2век и не искать готовые модели в интернете). Попробуйте усреднять эмбединги и конкатенировать (общие эмбединги потом в один вектор собирайте любым способом - например, тем который оказался лучше в первой задаче)"
      ]
    },
    {
      "cell_type": "markdown",
      "metadata": {
        "id": "kGrjxM2t0MgA"
      },
      "source": [
        "**utils**"
      ]
    },
    {
      "cell_type": "code",
      "metadata": {
        "colab": {
          "base_uri": "https://localhost:8080/",
          "height": 196
        },
        "id": "7DUdub8a_lcC",
        "outputId": "408b591c-9a31-47d5-e010-2fdfa518d766"
      },
      "source": [
        "quora = pd.read_csv('quora.csv')\n",
        "quora.head()"
      ],
      "execution_count": 146,
      "outputs": [
        {
          "output_type": "execute_result",
          "data": {
            "text/html": [
              "<div>\n",
              "<style scoped>\n",
              "    .dataframe tbody tr th:only-of-type {\n",
              "        vertical-align: middle;\n",
              "    }\n",
              "\n",
              "    .dataframe tbody tr th {\n",
              "        vertical-align: top;\n",
              "    }\n",
              "\n",
              "    .dataframe thead th {\n",
              "        text-align: right;\n",
              "    }\n",
              "</style>\n",
              "<table border=\"1\" class=\"dataframe\">\n",
              "  <thead>\n",
              "    <tr style=\"text-align: right;\">\n",
              "      <th></th>\n",
              "      <th>qid</th>\n",
              "      <th>question_text</th>\n",
              "      <th>target</th>\n",
              "    </tr>\n",
              "  </thead>\n",
              "  <tbody>\n",
              "    <tr>\n",
              "      <th>0</th>\n",
              "      <td>00002165364db923c7e6</td>\n",
              "      <td>How did Quebec nationalists see their province...</td>\n",
              "      <td>0</td>\n",
              "    </tr>\n",
              "    <tr>\n",
              "      <th>1</th>\n",
              "      <td>000032939017120e6e44</td>\n",
              "      <td>Do you have an adopted dog, how would you enco...</td>\n",
              "      <td>0</td>\n",
              "    </tr>\n",
              "    <tr>\n",
              "      <th>2</th>\n",
              "      <td>0000412ca6e4628ce2cf</td>\n",
              "      <td>Why does velocity affect time? Does velocity a...</td>\n",
              "      <td>0</td>\n",
              "    </tr>\n",
              "    <tr>\n",
              "      <th>3</th>\n",
              "      <td>000042bf85aa498cd78e</td>\n",
              "      <td>How did Otto von Guericke used the Magdeburg h...</td>\n",
              "      <td>0</td>\n",
              "    </tr>\n",
              "    <tr>\n",
              "      <th>4</th>\n",
              "      <td>0000455dfa3e01eae3af</td>\n",
              "      <td>Can I convert montra helicon D to a mountain b...</td>\n",
              "      <td>0</td>\n",
              "    </tr>\n",
              "  </tbody>\n",
              "</table>\n",
              "</div>"
            ],
            "text/plain": [
              "                    qid  ... target\n",
              "0  00002165364db923c7e6  ...      0\n",
              "1  000032939017120e6e44  ...      0\n",
              "2  0000412ca6e4628ce2cf  ...      0\n",
              "3  000042bf85aa498cd78e  ...      0\n",
              "4  0000455dfa3e01eae3af  ...      0\n",
              "\n",
              "[5 rows x 3 columns]"
            ]
          },
          "metadata": {
            "tags": []
          },
          "execution_count": 146
        }
      ]
    },
    {
      "cell_type": "code",
      "metadata": {
        "id": "DcoBRoSjyTmq"
      },
      "source": [
        "def preprocess(text):\n",
        "    tokens = text.lower().split()\n",
        "    tokens = [token.strip(punctuation) for token in tokens]\n",
        "    return tokens"
      ],
      "execution_count": 147,
      "outputs": []
    },
    {
      "cell_type": "markdown",
      "metadata": {
        "id": "ojrhljUr0RvB"
      },
      "source": [
        "preprocess"
      ]
    },
    {
      "cell_type": "code",
      "metadata": {
        "id": "OCWEHcyF0Q2E"
      },
      "source": [
        "# словарь\n",
        "vocab = Counter()\n",
        "texts = quora.question_text.apply(preprocess).tolist()\n",
        "\n",
        "for text in texts:\n",
        "    vocab.update(text)\n",
        "\n",
        "# отфильтрованный словарь\n",
        "filtered_vocab = set()\n",
        "\n",
        "for word in vocab:\n",
        "    if vocab[word] > 30:\n",
        "        filtered_vocab.add(word)"
      ],
      "execution_count": 148,
      "outputs": []
    },
    {
      "cell_type": "code",
      "metadata": {
        "id": "5jOu699L095J"
      },
      "source": [
        "# индексируем слова\n",
        "word2id = {'PAD':0}\n",
        "\n",
        "for word in filtered_vocab:\n",
        "    word2id[word] = len(word2id)\n",
        "\n",
        "id2word = {i:word for word, i in word2id.items()}"
      ],
      "execution_count": 149,
      "outputs": []
    },
    {
      "cell_type": "code",
      "metadata": {
        "id": "S1qyBKFT1WrT"
      },
      "source": [
        "# переводим тексты в последовательности индексов\n",
        "X = []\n",
        "\n",
        "for tokens in texts:\n",
        "    ids = [word2id.get(token, 1) for token in tokens]\n",
        "    X.append(ids)"
      ],
      "execution_count": 150,
      "outputs": []
    },
    {
      "cell_type": "code",
      "metadata": {
        "id": "7tt8GxfH1evU"
      },
      "source": [
        "MAX_LEN = max(len(x) for x in X)"
      ],
      "execution_count": 151,
      "outputs": []
    },
    {
      "cell_type": "code",
      "metadata": {
        "colab": {
          "base_uri": "https://localhost:8080/"
        },
        "id": "vIcZIAhn_TuP",
        "outputId": "020086eb-8625-4bc4-8e70-a91e51dc732d"
      },
      "source": [
        "MAX_LEN"
      ],
      "execution_count": 152,
      "outputs": [
        {
          "output_type": "execute_result",
          "data": {
            "text/plain": [
              "134"
            ]
          },
          "metadata": {
            "tags": []
          },
          "execution_count": 152
        }
      ]
    },
    {
      "cell_type": "code",
      "metadata": {
        "id": "yyoM39K21mjx"
      },
      "source": [
        "# паддинг\n",
        "X = tf.keras.preprocessing.sequence.pad_sequences(X, maxlen=MAX_LEN)\n",
        "y = quora.target.values\n",
        "X_train, X_valid, y_train, y_valid = train_test_split(X, y, test_size=0.05)"
      ],
      "execution_count": 153,
      "outputs": []
    },
    {
      "cell_type": "markdown",
      "metadata": {
        "id": "f_jIcl3Nyend"
      },
      "source": [
        "**use basic tokenization to apply third-party embeddings**"
      ]
    },
    {
      "cell_type": "code",
      "metadata": {
        "id": "lT0A8LT5zw9J",
        "colab": {
          "base_uri": "https://localhost:8080/"
        },
        "outputId": "4f12e509-279d-4ea7-8a55-5e7335e3bb39"
      },
      "source": [
        "%%time\n",
        "\"\"\" a model with default parameters\n",
        "    min_count=5, window=5, iter=5\n",
        "\"\"\"\n",
        "# if error, add a second parameter == vector_size=MAX_LEN\n",
        "ft = gensim.models.FastText(texts)"
      ],
      "execution_count": 154,
      "outputs": [
        {
          "output_type": "stream",
          "text": [
            "CPU times: user 9min 6s, sys: 1.96 s, total: 9min 8s\n",
            "Wall time: 4min 51s\n"
          ],
          "name": "stdout"
        }
      ]
    },
    {
      "cell_type": "code",
      "metadata": {
        "id": "Yy6Y9S2uzo65"
      },
      "source": [
        "weights = np.zeros((len(word2id), 100))\n",
        "\n",
        "for word, i in word2id.items():\n",
        "    # вектор паддинга оставим нулевым\n",
        "    if word == 'PAD':\n",
        "        continue\n",
        "\n",
        "    try:\n",
        "        weights[i] = ft.wv[word]\n",
        "    \n",
        "    \n",
        "    except KeyError:\n",
        "        # для слов, которых нет в модели тоже возьмем какой-то  рандомный вектор\n",
        "        weights[i] = ft.wv['опрагпллирао']"
      ],
      "execution_count": 155,
      "outputs": []
    },
    {
      "cell_type": "code",
      "metadata": {
        "id": "HGdQrPru4KJp",
        "colab": {
          "base_uri": "https://localhost:8080/"
        },
        "outputId": "5b7ad3df-7ebb-4538-c70d-4389e4ec5c1b"
      },
      "source": [
        "%%time\n",
        "\"\"\" a model with changed parameters\n",
        "    min_count=3, window=7, iter=7\n",
        "\"\"\"\n",
        "ft2 = gensim.models.FastText(texts, min_count=3, window=7, iter=7)"
      ],
      "execution_count": 156,
      "outputs": [
        {
          "output_type": "stream",
          "text": [
            "CPU times: user 14min 40s, sys: 3.04 s, total: 14min 43s\n",
            "Wall time: 7min 45s\n"
          ],
          "name": "stdout"
        }
      ]
    },
    {
      "cell_type": "code",
      "metadata": {
        "id": "eaW_zeJ683sG"
      },
      "source": [
        "weights2 = np.zeros((len(word2id), 100))\n",
        "\n",
        "for word, i in word2id.items():\n",
        "    # вектор паддинга оставим нулевым\n",
        "    if word == 'PAD':\n",
        "        continue\n",
        "\n",
        "    try:\n",
        "        weights2[i] = ft.wv[word]\n",
        "    \n",
        "    \n",
        "    except KeyError:\n",
        "        # для слов, которых нет в модели тоже возьмем какой-то  рандомный вектор\n",
        "        weights2[i] = ft.wv['опрагпллирао']"
      ],
      "execution_count": 157,
      "outputs": []
    },
    {
      "cell_type": "markdown",
      "metadata": {
        "id": "dDvPd8pj2oWO"
      },
      "source": [
        "train"
      ]
    },
    {
      "cell_type": "code",
      "metadata": {
        "id": "ZO7RJEkX2nPh"
      },
      "source": [
        "inputs = tf.keras.layers.Input(shape=(MAX_LEN,))\n",
        "# apply the first set weights\n",
        "embeddings1 = tf.keras.layers.Embedding(input_dim=len(word2id),\n",
        "                                       output_dim=100,\n",
        "                                       trainable=False,\n",
        "                                       weights=[weights])(inputs, )\n",
        "# apply the second set of weights\n",
        "embeddings2 = tf.keras.layers.Embedding(input_dim=len(word2id), \n",
        "                                       output_dim=100, \n",
        "                                       trainable=False,\n",
        "                                       weights=[weights2])(inputs, )\n",
        "\n",
        "embeddings = tf.keras.layers.Average()([embeddings1, embeddings2])\n",
        "mean = tf.keras.layers.Lambda(lambda x: tf.keras.backend.mean(x,  axis=1))(embeddings)\n",
        "dense = tf.keras.layers.Dense(64, activation='relu')(mean)\n",
        "outputs = tf.keras.layers.Dense(1, activation='sigmoid')(dense)\n",
        "\n",
        "model = tf.keras.Model(inputs=inputs, outputs=outputs)\n",
        "optimizer = tf.keras.optimizers.Adam(learning_rate=0.0001)\n",
        "model.compile(optimizer=optimizer,\n",
        "              loss='binary_crossentropy',\n",
        "              metrics=['accuracy'])"
      ],
      "execution_count": 162,
      "outputs": []
    },
    {
      "cell_type": "code",
      "metadata": {
        "id": "jpAeBGU4-ZTn",
        "colab": {
          "base_uri": "https://localhost:8080/"
        },
        "outputId": "19ebe417-eceb-44a0-a13d-023ba378e2bc"
      },
      "source": [
        "model.fit(X_train, y_train, \n",
        "          validation_data=(X_valid, y_valid),\n",
        "          batch_size=2054,\n",
        "          epochs=20)"
      ],
      "execution_count": 163,
      "outputs": [
        {
          "output_type": "stream",
          "text": [
            "Epoch 1/20\n",
            "605/605 [==============================] - 29s 47ms/step - loss: 0.5511 - accuracy: 0.8431 - val_loss: 0.3091 - val_accuracy: 0.9374\n",
            "Epoch 2/20\n",
            "605/605 [==============================] - 29s 47ms/step - loss: 0.2882 - accuracy: 0.9378 - val_loss: 0.2395 - val_accuracy: 0.9374\n",
            "Epoch 3/20\n",
            "605/605 [==============================] - 29s 47ms/step - loss: 0.2257 - accuracy: 0.9383 - val_loss: 0.1942 - val_accuracy: 0.9387\n",
            "Epoch 4/20\n",
            "605/605 [==============================] - 29s 47ms/step - loss: 0.1876 - accuracy: 0.9401 - val_loss: 0.1727 - val_accuracy: 0.9408\n",
            "Epoch 5/20\n",
            "605/605 [==============================] - 29s 47ms/step - loss: 0.1699 - accuracy: 0.9418 - val_loss: 0.1623 - val_accuracy: 0.9422\n",
            "Epoch 6/20\n",
            "605/605 [==============================] - 29s 47ms/step - loss: 0.1609 - accuracy: 0.9428 - val_loss: 0.1564 - val_accuracy: 0.9426\n",
            "Epoch 7/20\n",
            "605/605 [==============================] - 28s 47ms/step - loss: 0.1552 - accuracy: 0.9440 - val_loss: 0.1526 - val_accuracy: 0.9435\n",
            "Epoch 8/20\n",
            "605/605 [==============================] - 29s 47ms/step - loss: 0.1522 - accuracy: 0.9444 - val_loss: 0.1498 - val_accuracy: 0.9439\n",
            "Epoch 9/20\n",
            "605/605 [==============================] - 29s 48ms/step - loss: 0.1491 - accuracy: 0.9450 - val_loss: 0.1477 - val_accuracy: 0.9443\n",
            "Epoch 10/20\n",
            "605/605 [==============================] - 29s 47ms/step - loss: 0.1475 - accuracy: 0.9452 - val_loss: 0.1461 - val_accuracy: 0.9447\n",
            "Epoch 11/20\n",
            "605/605 [==============================] - 29s 47ms/step - loss: 0.1456 - accuracy: 0.9458 - val_loss: 0.1447 - val_accuracy: 0.9450\n",
            "Epoch 12/20\n",
            "605/605 [==============================] - 29s 47ms/step - loss: 0.1446 - accuracy: 0.9460 - val_loss: 0.1437 - val_accuracy: 0.9454\n",
            "Epoch 13/20\n",
            "605/605 [==============================] - 28s 47ms/step - loss: 0.1441 - accuracy: 0.9460 - val_loss: 0.1427 - val_accuracy: 0.9455\n",
            "Epoch 14/20\n",
            "605/605 [==============================] - 28s 47ms/step - loss: 0.1429 - accuracy: 0.9465 - val_loss: 0.1419 - val_accuracy: 0.9456\n",
            "Epoch 15/20\n",
            "605/605 [==============================] - 28s 47ms/step - loss: 0.1428 - accuracy: 0.9461 - val_loss: 0.1413 - val_accuracy: 0.9457\n",
            "Epoch 16/20\n",
            "605/605 [==============================] - 28s 47ms/step - loss: 0.1410 - accuracy: 0.9468 - val_loss: 0.1406 - val_accuracy: 0.9460\n",
            "Epoch 17/20\n",
            "605/605 [==============================] - 29s 47ms/step - loss: 0.1404 - accuracy: 0.9468 - val_loss: 0.1401 - val_accuracy: 0.9461\n",
            "Epoch 18/20\n",
            "605/605 [==============================] - 28s 47ms/step - loss: 0.1409 - accuracy: 0.9467 - val_loss: 0.1395 - val_accuracy: 0.9460\n",
            "Epoch 19/20\n",
            "605/605 [==============================] - 28s 47ms/step - loss: 0.1408 - accuracy: 0.9468 - val_loss: 0.1392 - val_accuracy: 0.9462\n",
            "Epoch 20/20\n",
            "605/605 [==============================] - 29s 47ms/step - loss: 0.1400 - accuracy: 0.9469 - val_loss: 0.1387 - val_accuracy: 0.9461\n"
          ],
          "name": "stdout"
        },
        {
          "output_type": "execute_result",
          "data": {
            "text/plain": [
              "<tensorflow.python.keras.callbacks.History at 0x7f1e438c9d10>"
            ]
          },
          "metadata": {
            "tags": []
          },
          "execution_count": 163
        }
      ]
    },
    {
      "cell_type": "code",
      "metadata": {
        "id": "ggsWW_Qi-8pL",
        "colab": {
          "base_uri": "https://localhost:8080/",
          "height": 312
        },
        "outputId": "6be04e7d-8d59-47b9-fa87-f5a2be74883c"
      },
      "source": [
        "print(model.history.history.keys())\n",
        "# summarize history for accuracy\n",
        "plt.plot(model.history.history['accuracy'])\n",
        "plt.plot(model.history.history['val_accuracy'])\n",
        "plt.title('model accuracy')\n",
        "plt.ylabel('accuracy')\n",
        "plt.xlabel('epoch')\n",
        "plt.legend(['train', 'val'], loc='upper left')\n",
        "plt.show()"
      ],
      "execution_count": 160,
      "outputs": [
        {
          "output_type": "stream",
          "text": [
            "dict_keys(['loss', 'accuracy', 'val_loss', 'val_accuracy'])\n"
          ],
          "name": "stdout"
        },
        {
          "output_type": "display_data",
          "data": {
            "image/png": "[encoded data removed]",
            "text/plain": [
              "<Figure size 432x288 with 1 Axes>"
            ]
          },
          "metadata": {
            "tags": [],
            "needs_background": "light"
          }
        }
      ]
    },
    {
      "cell_type": "code",
      "metadata": {
        "id": "XH6kzi6kCqQ4",
        "colab": {
          "base_uri": "https://localhost:8080/"
        },
        "outputId": "31981233-5cb0-4b0b-e317-2e0c9b61aa3f"
      },
      "source": [
        "preds = model.predict(X_valid).reshape(-1)\n",
        "print(classification_report(y_valid, (preds > 0.5).astype(int)))"
      ],
      "execution_count": 161,
      "outputs": [
        {
          "output_type": "stream",
          "text": [
            "              precision    recall  f1-score   support\n",
            "\n",
            "           0       0.96      0.98      0.97     61218\n",
            "           1       0.58      0.39      0.47      4089\n",
            "\n",
            "    accuracy                           0.94     65307\n",
            "   macro avg       0.77      0.69      0.72     65307\n",
            "weighted avg       0.94      0.94      0.94     65307\n",
            "\n"
          ],
          "name": "stdout"
        }
      ]
    }
  ]
}