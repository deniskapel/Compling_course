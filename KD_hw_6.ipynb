{
 "cells": [
  {
   "cell_type": "markdown",
   "id": "painted-window",
   "metadata": {},
   "source": [
    "# Gensim and Sklearn"
   ]
  },
  {
   "cell_type": "markdown",
   "id": "latest-monitoring",
   "metadata": {},
   "source": [
    "## Preprocess texts"
   ]
  },
  {
   "cell_type": "code",
   "execution_count": 1,
   "id": "extended-conflict",
   "metadata": {},
   "outputs": [],
   "source": [
    "import gensim\n",
    "import json\n",
    "import re\n",
    "import pandas as pd\n",
    "from nltk.tokenize import word_tokenize\n",
    "from nltk.corpus import stopwords\n",
    "from pymorphy2 import MorphAnalyzer\n",
    "import pyLDAvis.gensim\n",
    "import string\n",
    "from collections import Counter\n",
    "import warnings\n",
    "warnings.filterwarnings(\"ignore\")\n",
    "from IPython.display import Image\n",
    "from IPython.core.display import HTML \n",
    "morph = MorphAnalyzer()"
   ]
  },
  {
   "cell_type": "code",
   "execution_count": 2,
   "id": "opening-differential",
   "metadata": {},
   "outputs": [],
   "source": [
    "stops = set(stopwords.words('russian'))"
   ]
  },
  {
   "cell_type": "markdown",
   "id": "still-mission",
   "metadata": {},
   "source": [
    "Normalizing texts"
   ]
  },
  {
   "cell_type": "code",
   "execution_count": 3,
   "id": "psychological-reserve",
   "metadata": {},
   "outputs": [],
   "source": [
    "class TextNormalizer():\n",
    "    \n",
    "    # Class for fast text-normalization\n",
    "        \n",
    "    def opt_normalize(self, texts, top=None) -> list:\n",
    "        \n",
    "        texts = self.tokenize_texts(texts)\n",
    "        \n",
    "        uniq = Counter()\n",
    "        [uniq.update(text) for text in texts]\n",
    "\n",
    "        norm_uniq = { # build cache\n",
    "            word:morph.parse(\n",
    "                word\n",
    "            )[0].normal_form for word, _ in uniq.most_common(top)}\n",
    "\n",
    "        norm_texts = self.normalize_texts(texts, norm_uniq)\n",
    "        \n",
    "        return norm_texts\n",
    "    \n",
    "    def tokenize_texts(self, texts):\n",
    "        \"\"\" a text tokenizer for a list of texts \"\"\"\n",
    "        return ([self.tokenize(text.lower()) for text in texts])\n",
    "\n",
    "\n",
    "    def tokenize(self, text) -> list:\n",
    "        \"\"\" a single text tokenizer \"\"\"\n",
    "        punct = string.punctuation + '«»—…–“”#'\n",
    "        words = [word.strip(punct) for word in text.split()]\n",
    "        words = [word for word in words if word]\n",
    "\n",
    "        return words\n",
    "    \n",
    "    def normalize_texts(self, texts, norm_uniq) -> list:\n",
    "        \"\"\" returns lemmas and removes stopwords and punctuation \"\"\"\n",
    "        norm_texts = []\n",
    "        for text in texts:\n",
    "            # lemmas from cashe\n",
    "            norm_words = [norm_uniq.get(word) for word in text]\n",
    "            #remove punctuation\n",
    "            \n",
    "            norm_words = [word for word in norm_words if (\n",
    "                word) and (word not in stops)]\n",
    "            norm_texts.append(norm_words)\n",
    "\n",
    "        return norm_texts"
   ]
  },
  {
   "cell_type": "code",
   "execution_count": 4,
   "id": "inclusive-bacon",
   "metadata": {},
   "outputs": [],
   "source": [
    "texts = open('data/wiki_data.txt').read().splitlines()[:10000]"
   ]
  },
  {
   "cell_type": "code",
   "execution_count": 5,
   "id": "driven-satin",
   "metadata": {},
   "outputs": [
    {
     "name": "stdout",
     "output_type": "stream",
     "text": [
      "CPU times: user 2.27 s, sys: 74.4 ms, total: 2.35 s\n",
      "Wall time: 2.35 s\n"
     ]
    }
   ],
   "source": [
    "%%time\n",
    "texts = TextNormalizer().opt_normalize(texts, 30000)"
   ]
  },
  {
   "cell_type": "code",
   "execution_count": 7,
   "id": "previous-casting",
   "metadata": {},
   "outputs": [
    {
     "data": {
      "text/plain": [
       "['нижегородский', 'сельский', 'посёлок', 'район', 'нижегородский']"
      ]
     },
     "execution_count": 7,
     "metadata": {},
     "output_type": "execute_result"
    }
   ],
   "source": [
    "texts[0][:5]"
   ]
  },
  {
   "cell_type": "markdown",
   "id": "interior-accommodation",
   "metadata": {},
   "source": [
    "build ngrams"
   ]
  },
  {
   "cell_type": "code",
   "execution_count": 8,
   "id": "unlikely-surface",
   "metadata": {},
   "outputs": [],
   "source": [
    "# play around with threshold\n",
    "ph = gensim.models.Phrases(texts, scoring='npmi', threshold=0.45)\n",
    "p = gensim.models.phrases.Phraser(ph)\n",
    "ngrammed_texts = p[texts]"
   ]
  },
  {
   "cell_type": "markdown",
   "id": "jewish-thompson",
   "metadata": {},
   "source": [
    "# Build dictionary for models"
   ]
  },
  {
   "cell_type": "code",
   "execution_count": 9,
   "id": "temporal-consortium",
   "metadata": {},
   "outputs": [
    {
     "name": "stdout",
     "output_type": "stream",
     "text": [
      "Dictionary(6846 unique tokens: ['1', '1,2', '1,5', '12', '14']...)\n"
     ]
    }
   ],
   "source": [
    "dictionary = gensim.corpora.Dictionary(texts)\n",
    "dictionary.filter_extremes(no_above=0.2, no_below=15)\n",
    "dictionary.compactify()\n",
    "print(dictionary)"
   ]
  },
  {
   "cell_type": "markdown",
   "id": "given-cancellation",
   "metadata": {},
   "source": [
    "transform to corpora"
   ]
  },
  {
   "cell_type": "code",
   "execution_count": 10,
   "id": "nominated-luxury",
   "metadata": {},
   "outputs": [],
   "source": [
    "corpus = [dictionary.doc2bow(text) for text in texts]"
   ]
  },
  {
   "cell_type": "code",
   "execution_count": 14,
   "id": "fiscal-aerospace",
   "metadata": {
    "scrolled": false
   },
   "outputs": [],
   "source": [
    "lda1 = gensim.models.LdaMulticore(corpus,\n",
    "                                 100,\n",
    "                                 id2word=dictionary,\n",
    "                                 passes=10)\n",
    "\n",
    "lda2 = gensim.models.LdaMulticore(corpus,\n",
    "                                 50,\n",
    "                                 id2word=dictionary,\n",
    "                                 passes=15)\n",
    "\n",
    "lda3 = gensim.models.LdaMulticore(corpus,\n",
    "                                 150,\n",
    "                                 id2word=dictionary,\n",
    "                                 passes=5)"
   ]
  },
  {
   "cell_type": "markdown",
   "id": "laughing-plaintiff",
   "metadata": {},
   "source": [
    "check topics"
   ]
  },
  {
   "cell_type": "code",
   "execution_count": 54,
   "id": "dental-bronze",
   "metadata": {},
   "outputs": [],
   "source": [
    "def get_topics(model):\n",
    "    topics = []\n",
    "    for id, topic in model.show_topics(num_topics=100, formatted=False):\n",
    "        topic = [word for word, _ in topic]\n",
    "        topic.insert(0, str(id))\n",
    "        topics.append(topic)\n",
    "    \n",
    "    return topics"
   ]
  },
  {
   "cell_type": "code",
   "execution_count": 55,
   "id": "worth-float",
   "metadata": {},
   "outputs": [],
   "source": [
    "topics1 = get_topics(lda1)\n",
    "topic2 = get_topics(lda2)\n",
    "topics3 = get_topics(lda3)"
   ]
  },
  {
   "cell_type": "code",
   "execution_count": 60,
   "id": "devoted-metabolism",
   "metadata": {
    "scrolled": true
   },
   "outputs": [
    {
     "name": "stdout",
     "output_type": "stream",
     "text": [
      "0 стадион соревнование являться высокий люк проводиться\n",
      "1 итальянский норвежский карл германия италия немецкий\n",
      "2 хутор ростовский памятник сельский области.############входить объект\n",
      "3 университет факультет право медицинский государственный наука\n",
      "4 катание использовать специалист навык воин игра\n",
      "5 группа альбом песня the выпустить of\n",
      "6 олимпийский игра летний участие медаль принимать\n",
      "7 израиль ван еврейский израильский сторона католический\n",
      "8 змея полевой пуля кладбище город ружьё\n",
      "9 чемпионат команда мир сезон кубок сборная\n",
      "10 турнир финал проиграть раунд чемпионат второй\n",
      "11 город население центр житель век округ\n",
      "12 игра компания мочь версия уровень 2010\n",
      "13 театр институт университет работа г русский\n",
      "14 улица дом здание название город завод\n",
      "15 список фамилия азербайджан дата азербайджанский орден\n",
      "16 храм церковь икона день праздник православный\n",
      "17 племя ирландия британский канада ирландский лорд\n",
      "18 поселение сельский воронежский образование муниципальный центр\n",
      "19 русский александр орден назначить служба получить\n",
      "20 республика правительство партия премьер-министр страна национальный\n",
      "21 коростышевский тепловоз 4130 роль баня сериал\n",
      "22 корабль флот японский крейсер морской флотилия\n",
      "23 партия политический президент правительство страна движение\n",
      "24 самолёт аэропорт авиационный воздушный граф аэродром\n",
      "25 армия войско дивизия противник бой фронт\n",
      "26 великий князь иван василий московский дмитрий\n",
      "27 тропический шторм ветер уровень центр часть\n",
      "28 язык женщина книга искусство слово перевод\n",
      "29 марка почтовый название пункт населить выпуск\n",
      "30 площадь акция минск участник белорусский март\n",
      "31 социальный г обеспечение закон весь общество\n",
      "32 система мочь компания новый работа проект\n",
      "33 граф сын i ii де дочь\n",
      "34 святой церковь собор монастырь епископ епархия\n",
      "35 игрок игра цель the однако копьё\n",
      "36 альбом песня the 2009 новый хороший\n",
      "37 житомирский украина площадь занимать код 2001\n",
      "38 её дом всё жизнь ребёнок весь\n",
      "39 олимпийский игра зимний участие принимать медаль\n",
      "40 г совет комитет член государственный председатель\n",
      "41 длина смотреть мм диаметр ширина м\n",
      "42 король пешка чёрный поле ход позиция\n",
      "43 фильм роль режиссёр главный картина герой\n",
      "44 убить лагерь тюрьма жертва арестовать взрыв\n",
      "45 военный университет должность дело война пост\n",
      "46 1-й международный ссср место участник 1976\n",
      "47 её святой имя жизнь отец весь\n",
      "48 крымский состав крым двор деревня симферопольский\n",
      "49 корабль 1 состав октябрь космический тип\n",
      "50 фильм побег роман герой румыния событие\n",
      "51 россия ссср российский 2010 москва владимир\n",
      "52 поэма билет серия печать образец сторона\n",
      "53 н э г век древний период\n",
      "54 остров относиться расположить км группа километр\n",
      "55 макс сша второй дэнни миссия квебек\n",
      "56 музыкальный музыка оркестр опера композитор фестиваль\n",
      "57 флаг красный цвет герб полотнище символ\n",
      "58 река озеро расположить часть берег территория\n",
      "59 паровоз железный надпись штат дорога g\n",
      "60 автомобиль модель двигатель новый л мощность\n",
      "61 мочь значение память число использоваться являться\n",
      "62 турнир снукер профессиональный чемпионат международный кларк\n",
      "63 вагон номер дэвис онтарио магазин грузовой\n",
      "64 завод доктор мост рубль компания производство\n",
      "65 вода являться вещество пища цвет использоваться\n",
      "66 животное ток птица мочь напряжение хозяйство\n",
      "67 организация i земля местный часть власть\n",
      "68 музей художник искусство выставка век торговля\n",
      "69 линия станция костромской босния метрополитен герцеговина\n",
      "70 казак г дом участок станица строительство\n",
      "71 бой оружие канадский часть орудие удар\n",
      "72 буква название киевский алфавит гай большевик\n",
      "73 польша польский германия немецкий университет сша\n",
      "74 роль сериал премия родиться хороший получить\n",
      "75 сын софья король ян царь польский\n",
      "76 экспедиция лёд команда весь северный день\n",
      "77 клуб матч команда сезон сборная лига\n",
      "78 состав центр посёлок волость сельский территория\n",
      "79 уезд округ городской специальный состав империя\n",
      "80 гонка мир дистанция среди метр чемпионат\n",
      "81 вид растение семейство длина смотреть мочь\n",
      "82 подсемейство вид жена листоед жуков улица\n",
      "83 км река расположить сельский расстояние дорога\n",
      "84 звезда секретарь система цк ссср свердловский\n",
      "85 франция французский разряд анна четыре право\n",
      "86 король война сын норвегия магнус сигурд\n",
      "87 строительство город здание построить вода проект\n",
      "88 wwe титул шоу против матч победа\n",
      "89 генерал военный десант отряд войско св\n",
      "90 подвеска автомобиль колесо поперечный задний ось\n",
      "91 кардинал римский монета c версия разработка\n",
      "92 малинский 4133 11600 км².############11600 житомирский 2010\n",
      "93 газета писатель книга литературный поэт журнал\n",
      "94 являться культура развитие эволюция г единица\n",
      "95 война армия командир советский 1944 дивизия\n",
      "96 развитие порода являться стратегический лёгкий российский\n",
      "97 железнодорожный вино железный поезд дорога линия\n",
      "98 медведь мультсериал серия 2019 владимир ребёнок\n",
      "99 житомирский украина 2001 перепись р-н телефонный\n"
     ]
    }
   ],
   "source": [
    "for topic in topics_sm:\n",
    "    print(\" \".join(topic[0:7]))"
   ]
  },
  {
   "cell_type": "code",
   "execution_count": null,
   "id": "normal-meaning",
   "metadata": {},
   "outputs": [],
   "source": []
  }
 ],
 "metadata": {
  "kernelspec": {
   "display_name": "Python 3",
   "language": "python",
   "name": "python3"
  },
  "language_info": {
   "codemirror_mode": {
    "name": "ipython",
    "version": 3
   },
   "file_extension": ".py",
   "mimetype": "text/x-python",
   "name": "python",
   "nbconvert_exporter": "python",
   "pygments_lexer": "ipython3",
   "version": "3.8.5"
  }
 },
 "nbformat": 4,
 "nbformat_minor": 5
}
