{
 "cells": [
  {
   "cell_type": "markdown",
   "metadata": {},
   "source": [
    "# Задание 1\n",
    "Преобразуйте таблицу с абсолютными частотностями в семинарской тетрадке в таблицу с tfidf значениями. (Таблица - https://i.ibb.co/r5Nc2HC/abs-bow.jpg) Формула tfidf есть в семинаре на картнике с пояснениями на английском. \n",
    "Можно считать в google sheets, екселе, питоне или на листочке. Сделайте скрин получившейся таблицы и загрузите картинку на гитхаб, вставьте ссылку в поле ниже."
   ]
  },
  {
   "cell_type": "markdown",
   "metadata": {},
   "source": [
    "https://github.com/deniskapel/Compling_course/blob/master/Tfidf_table.PNG"
   ]
  },
  {
   "cell_type": "code",
   "execution_count": 1,
   "metadata": {},
   "outputs": [],
   "source": [
    "import pandas as pd\n",
    "from sklearn.model_selection import train_test_split\n",
    "from sklearn.feature_extraction.text import CountVectorizer, TfidfVectorizer\n",
    "\n",
    "from sklearn.linear_model import LogisticRegression\n",
    "from sklearn.tree import DecisionTreeClassifier\n",
    "from sklearn.neighbors import KNeighborsClassifier\n",
    "from sklearn.naive_bayes import MultinomialNB\n",
    "\n",
    "from sklearn.metrics import classification_report, accuracy_score\n",
    "from sklearn.metrics.pairwise import cosine_distances, cosine_similarity\n",
    "from nltk.corpus import stopwords"
   ]
  },
  {
   "cell_type": "code",
   "execution_count": 2,
   "metadata": {},
   "outputs": [],
   "source": [
    "pd.set_option('display.max_colwidth', 500)"
   ]
  },
  {
   "cell_type": "code",
   "execution_count": 3,
   "metadata": {},
   "outputs": [],
   "source": [
    "class DatasetVectorizer():\n",
    "    \n",
    "    \"\"\" a class to vectorize a pandas dataset using one of sklearn vectorizers \"\"\"\n",
    "    def __init__(self, vec):\n",
    "        self.vectorizer = vec\n",
    "        self.data = pd.DataFrame()\n",
    "        self.train = pd.DataFrame()\n",
    "        self.test = pd.DataFrame()\n",
    "        self.X = 0\n",
    "        self.X_test = 0\n",
    "        self.y = 0\n",
    "        self.y_test = 0\n",
    "        \n",
    "    def load_data(self, path):\n",
    "        \"\"\" opens a .csv file using pandas dataframe \"\"\"\n",
    "        self.data = pd.read_csv(path)\n",
    "        \n",
    "    def train_test_split(self):\n",
    "        \"\"\" splits data using sklearn train_test_split() function \"\"\"\n",
    "        self.train, self.test = train_test_split(self.data, test_size=0.1, shuffle=True)\n",
    "        self.train.reset_index(inplace=True)\n",
    "        self.test.reset_index(inplace=True)\n",
    "        \n",
    "    def vectorizeXy(self, feature_col, value_col):\n",
    "        \"\"\" transforms a dataset into X, X_test, Y and Y_test \"\"\"\n",
    "        self.X = self.vectorizer.fit_transform(self.train[feature_col])\n",
    "        self.X_test = self.vectorizer.transform(self.test[feature_col])\n",
    "        self.y = self.train[value_col].values\n",
    "        self.y_test = self.test[value_col].values"
   ]
  },
  {
   "cell_type": "code",
   "execution_count": 4,
   "metadata": {},
   "outputs": [
    {
     "data": {
      "text/html": [
       "<div>\n",
       "<style scoped>\n",
       "    .dataframe tbody tr th:only-of-type {\n",
       "        vertical-align: middle;\n",
       "    }\n",
       "\n",
       "    .dataframe tbody tr th {\n",
       "        vertical-align: top;\n",
       "    }\n",
       "\n",
       "    .dataframe thead th {\n",
       "        text-align: right;\n",
       "    }\n",
       "</style>\n",
       "<table border=\"1\" class=\"dataframe\">\n",
       "  <thead>\n",
       "    <tr style=\"text-align: right;\">\n",
       "      <th></th>\n",
       "      <th>comment</th>\n",
       "      <th>toxic</th>\n",
       "    </tr>\n",
       "  </thead>\n",
       "  <tbody>\n",
       "    <tr>\n",
       "      <th>0</th>\n",
       "      <td>Верблюдов-то за что? Дебилы, бл...\\n</td>\n",
       "      <td>1.0</td>\n",
       "    </tr>\n",
       "    <tr>\n",
       "      <th>1</th>\n",
       "      <td>Хохлы, это отдушина затюканого россиянина, мол, вон, а у хохлов еще хуже. Если бы хохлов не было, кисель их бы придумал.\\n</td>\n",
       "      <td>1.0</td>\n",
       "    </tr>\n",
       "    <tr>\n",
       "      <th>2</th>\n",
       "      <td>Собаке - собачья смерть\\n</td>\n",
       "      <td>1.0</td>\n",
       "    </tr>\n",
       "    <tr>\n",
       "      <th>3</th>\n",
       "      <td>Страницу обнови, дебил. Это тоже не оскорбление, а доказанный факт - не-дебил про себя во множественном числе писать не будет. Или мы в тебя верим - это ты и твои воображаемые друзья?\\n</td>\n",
       "      <td>1.0</td>\n",
       "    </tr>\n",
       "    <tr>\n",
       "      <th>4</th>\n",
       "      <td>тебя не убедил 6-страничный пдф в том, что Скрипалей отравила Россия? Анализировать и думать пытаешься? Ватник что ли?)\\n</td>\n",
       "      <td>1.0</td>\n",
       "    </tr>\n",
       "  </tbody>\n",
       "</table>\n",
       "</div>"
      ],
      "text/plain": [
       "                                                                                                                                                                                     comment  \\\n",
       "0                                                                                                                                                       Верблюдов-то за что? Дебилы, бл...\\n   \n",
       "1                                                                 Хохлы, это отдушина затюканого россиянина, мол, вон, а у хохлов еще хуже. Если бы хохлов не было, кисель их бы придумал.\\n   \n",
       "2                                                                                                                                                                  Собаке - собачья смерть\\n   \n",
       "3  Страницу обнови, дебил. Это тоже не оскорбление, а доказанный факт - не-дебил про себя во множественном числе писать не будет. Или мы в тебя верим - это ты и твои воображаемые друзья?\\n   \n",
       "4                                                                  тебя не убедил 6-страничный пдф в том, что Скрипалей отравила Россия? Анализировать и думать пытаешься? Ватник что ли?)\\n   \n",
       "\n",
       "   toxic  \n",
       "0    1.0  \n",
       "1    1.0  \n",
       "2    1.0  \n",
       "3    1.0  \n",
       "4    1.0  "
      ]
     },
     "execution_count": 4,
     "metadata": {},
     "output_type": "execute_result"
    }
   ],
   "source": [
    "dv = DatasetVectorizer(TfidfVectorizer(min_df=3, max_df=0.5))\n",
    "dv.load_data('data/labeled.csv')\n",
    "dv.data.head()"
   ]
  },
  {
   "cell_type": "markdown",
   "metadata": {},
   "source": [
    "# Задание 2. \n",
    "Векторизовать можно любым способом, но постарайтесь, чтобы 1 и 0 не получались в близостях.\n",
    "Результат запишите в тетрадке.\n"
   ]
  },
  {
   "cell_type": "markdown",
   "metadata": {},
   "source": [
    "### а) Посчитайте близость между 3 и 12666 текстами в датасете (labeled.csv из семинара) "
   ]
  },
  {
   "cell_type": "code",
   "execution_count": 5,
   "metadata": {},
   "outputs": [
    {
     "data": {
      "text/html": [
       "<div>\n",
       "<style scoped>\n",
       "    .dataframe tbody tr th:only-of-type {\n",
       "        vertical-align: middle;\n",
       "    }\n",
       "\n",
       "    .dataframe tbody tr th {\n",
       "        vertical-align: top;\n",
       "    }\n",
       "\n",
       "    .dataframe thead th {\n",
       "        text-align: right;\n",
       "    }\n",
       "</style>\n",
       "<table border=\"1\" class=\"dataframe\">\n",
       "  <thead>\n",
       "    <tr style=\"text-align: right;\">\n",
       "      <th></th>\n",
       "      <th>comment</th>\n",
       "      <th>toxic</th>\n",
       "    </tr>\n",
       "  </thead>\n",
       "  <tbody>\n",
       "    <tr>\n",
       "      <th>3</th>\n",
       "      <td>Страницу обнови, дебил. Это тоже не оскорбление, а доказанный факт - не-дебил про себя во множественном числе писать не будет. Или мы в тебя верим - это ты и твои воображаемые друзья?\\n</td>\n",
       "      <td>1.0</td>\n",
       "    </tr>\n",
       "    <tr>\n",
       "      <th>12666</th>\n",
       "      <td>Это не параноик, это дебил\\n</td>\n",
       "      <td>1.0</td>\n",
       "    </tr>\n",
       "  </tbody>\n",
       "</table>\n",
       "</div>"
      ],
      "text/plain": [
       "                                                                                                                                                                                         comment  \\\n",
       "3      Страницу обнови, дебил. Это тоже не оскорбление, а доказанный факт - не-дебил про себя во множественном числе писать не будет. Или мы в тебя верим - это ты и твои воображаемые друзья?\\n   \n",
       "12666                                                                                                                                                               Это не параноик, это дебил\\n   \n",
       "\n",
       "       toxic  \n",
       "3        1.0  \n",
       "12666    1.0  "
      ]
     },
     "execution_count": 5,
     "metadata": {},
     "output_type": "execute_result"
    }
   ],
   "source": [
    "# vectorize whole dataset\n",
    "X = dv.vectorizer.fit_transform(dv.data.comment)\n",
    "dv.data.loc[[3, 12666]]"
   ]
  },
  {
   "cell_type": "code",
   "execution_count": 6,
   "metadata": {},
   "outputs": [
    {
     "name": "stdout",
     "output_type": "stream",
     "text": [
      "[[0.5290017]]\n",
      "[[0.5290017]]\n"
     ]
    }
   ],
   "source": [
    "print(1 - cosine_distances(X[3], X[12666]))\n",
    "print(cosine_similarity(X[3], X[12666]))"
   ]
  },
  {
   "cell_type": "markdown",
   "metadata": {},
   "source": [
    "### б) найдите 3 самых близких текста к тексту номер 43; выведите сами тексты и значения близостей, а не только индексы этих текстов. "
   ]
  },
  {
   "cell_type": "code",
   "execution_count": 7,
   "metadata": {},
   "outputs": [
    {
     "name": "stdout",
     "output_type": "stream",
     "text": [
      "[   43  1986 14325  5564]\n"
     ]
    }
   ],
   "source": [
    "closest = cosine_distances(X[43], X)\n",
    "print(closest.argsort()[0,:4])"
   ]
  },
  {
   "cell_type": "code",
   "execution_count": 8,
   "metadata": {},
   "outputs": [
    {
     "name": "stdout",
     "output_type": "stream",
     "text": [
      "[1.         0.20875876 0.20196174 0.1772219 ]\n"
     ]
    }
   ],
   "source": [
    "# how close\n",
    "print(1-closest[0,[43, 1986, 14325,  5564]])"
   ]
  },
  {
   "cell_type": "code",
   "execution_count": 9,
   "metadata": {
    "scrolled": true
   },
   "outputs": [
    {
     "data": {
      "text/html": [
       "<div>\n",
       "<style scoped>\n",
       "    .dataframe tbody tr th:only-of-type {\n",
       "        vertical-align: middle;\n",
       "    }\n",
       "\n",
       "    .dataframe tbody tr th {\n",
       "        vertical-align: top;\n",
       "    }\n",
       "\n",
       "    .dataframe thead th {\n",
       "        text-align: right;\n",
       "    }\n",
       "</style>\n",
       "<table border=\"1\" class=\"dataframe\">\n",
       "  <thead>\n",
       "    <tr style=\"text-align: right;\">\n",
       "      <th></th>\n",
       "      <th>comment</th>\n",
       "      <th>toxic</th>\n",
       "    </tr>\n",
       "  </thead>\n",
       "  <tbody>\n",
       "    <tr>\n",
       "      <th>43</th>\n",
       "      <td>Люди зажрались и охуели если по мнению этих игроков андромеда лучше Антема. Хотя че там с багаутом76 сравнивают вон... Вот оно че оказывается, игроки просто охуели, ну ок. Вот долбанные пидерасы, не хотят покупать такую отличную игру, а еще смеют ругать такой божественный геймплей. Баги, хуевый геймплей поправят, а контент, ну его запилят, через год другой, причем бесплатно! Ага. Стоит лишь потерпеть!\\n</td>\n",
       "      <td>1.0</td>\n",
       "    </tr>\n",
       "    <tr>\n",
       "      <th>1986</th>\n",
       "      <td>НУ И КАКАЯ МРАЗЬ КИДАЕТ ССЫЛКИ? ОХУЕЛИ ТАМ В КРАЙ УЖЕ?\\n</td>\n",
       "      <td>1.0</td>\n",
       "    </tr>\n",
       "    <tr>\n",
       "      <th>14325</th>\n",
       "      <td>Ну оль, ну вот че тебе надо? Иди в по сри, а этот достопочтенный тред оставь в покое\\n</td>\n",
       "      <td>1.0</td>\n",
       "    </tr>\n",
       "    <tr>\n",
       "      <th>5564</th>\n",
       "      <td>МАААМ, НУ ЧЕ ОНИ ЗА МНОЙ ХОДЯТ?\\n</td>\n",
       "      <td>1.0</td>\n",
       "    </tr>\n",
       "  </tbody>\n",
       "</table>\n",
       "</div>"
      ],
      "text/plain": [
       "                                                                                                                                                                                                                                                                                                                                                                                                                      comment  \\\n",
       "43     Люди зажрались и охуели если по мнению этих игроков андромеда лучше Антема. Хотя че там с багаутом76 сравнивают вон... Вот оно че оказывается, игроки просто охуели, ну ок. Вот долбанные пидерасы, не хотят покупать такую отличную игру, а еще смеют ругать такой божественный геймплей. Баги, хуевый геймплей поправят, а контент, ну его запилят, через год другой, причем бесплатно! Ага. Стоит лишь потерпеть!\\n   \n",
       "1986                                                                                                                                                                                                                                                                                                                                                                 НУ И КАКАЯ МРАЗЬ КИДАЕТ ССЫЛКИ? ОХУЕЛИ ТАМ В КРАЙ УЖЕ?\\n   \n",
       "14325                                                                                                                                                                                                                                                                                                                                  Ну оль, ну вот че тебе надо? Иди в по сри, а этот достопочтенный тред оставь в покое\\n   \n",
       "5564                                                                                                                                                                                                                                                                                                                                                                                        МАААМ, НУ ЧЕ ОНИ ЗА МНОЙ ХОДЯТ?\\n   \n",
       "\n",
       "       toxic  \n",
       "43       1.0  \n",
       "1986     1.0  \n",
       "14325    1.0  \n",
       "5564     1.0  "
      ]
     },
     "execution_count": 9,
     "metadata": {},
     "output_type": "execute_result"
    }
   ],
   "source": [
    "dv.data.loc[[43, 1986, 14325,  5564]]"
   ]
  },
  {
   "cell_type": "markdown",
   "metadata": {},
   "source": [
    "# Задание 3\n",
    "\n",
    "Обучите 2 любых разных классификатора из семинара.\n",
    "\n",
    "Предскажите токсичность для текстов из 2ch_corpus.txt (второй семинар) и найдите 10 самых токсичных для каждого из классификаторов. Сравните получаемые тексты - какие тексты совпадают, какие отличаются, правда ли тексты токсичные? *Можете предсказывать не все данные, но не менее 2500."
   ]
  },
  {
   "cell_type": "markdown",
   "metadata": {},
   "source": [
    "Требования к классификаторам:\n",
    "а) один должен использовать CountVectorizer, другой TfidfVectorizer\n",
    "б) у векторазера должны быть вручную заданы как минимум 5 параметров\n",
    "в) у классификатора должно быть задано вручную как минимум 2 параметра\n",
    "г)  f1 мера каждого из классификаторов должна быть минимум 0.75"
   ]
  },
  {
   "cell_type": "code",
   "execution_count": 10,
   "metadata": {},
   "outputs": [],
   "source": [
    "stops = stopwords.words('russian')\n",
    "dvach = open('data/2ch_corpus.txt', encoding=\"utf-8\").readlines()[0:2500]"
   ]
  },
  {
   "cell_type": "code",
   "execution_count": 11,
   "metadata": {},
   "outputs": [],
   "source": [
    "dv1 = DatasetVectorizer(TfidfVectorizer(min_df=3,\n",
    "                                        max_df=0.4,\n",
    "                                        max_features=5500,\n",
    "                                        ngram_range=(1,1),\n",
    "                                        stop_words=None\n",
    "                                       ))\n",
    "dv1.load_data('data/labeled.csv')\n",
    "dv1.train_test_split()\n",
    "dv1.vectorizeXy('comment', 'toxic')"
   ]
  },
  {
   "cell_type": "markdown",
   "metadata": {},
   "source": [
    "### LogisticRegression"
   ]
  },
  {
   "cell_type": "code",
   "execution_count": 12,
   "metadata": {},
   "outputs": [
    {
     "name": "stdout",
     "output_type": "stream",
     "text": [
      "              precision    recall  f1-score   support\n",
      "\n",
      "         0.0       0.91      0.90      0.90       976\n",
      "         1.0       0.79      0.82      0.80       466\n",
      "\n",
      "    accuracy                           0.87      1442\n",
      "   macro avg       0.85      0.86      0.85      1442\n",
      "weighted avg       0.87      0.87      0.87      1442\n",
      "\n"
     ]
    }
   ],
   "source": [
    "\n",
    "lr = LogisticRegression(C=1, class_weight='balanced')\n",
    "lr.fit(dv1.X, dv1.y) # create a model\n",
    "preds = lr.predict(dv1.X_test)\n",
    "print(classification_report(dv1.y_test, preds))"
   ]
  },
  {
   "cell_type": "code",
   "execution_count": 13,
   "metadata": {},
   "outputs": [
    {
     "data": {
      "text/plain": [
       "array([[0.54923394, 0.45076606],\n",
       "       [0.08783946, 0.91216054],\n",
       "       [0.86775878, 0.13224122],\n",
       "       ...,\n",
       "       [0.54673297, 0.45326703],\n",
       "       [0.61451653, 0.38548347],\n",
       "       [0.10297403, 0.89702597]])"
      ]
     },
     "execution_count": 13,
     "metadata": {},
     "output_type": "execute_result"
    }
   ],
   "source": [
    "probas = lr.predict_proba(dv1.X_test)\n",
    "probas"
   ]
  },
  {
   "cell_type": "code",
   "execution_count": 14,
   "metadata": {},
   "outputs": [
    {
     "name": "stdout",
     "output_type": "stream",
     "text": [
      "              precision    recall  f1-score   support\n",
      "\n",
      "         0.0       0.89      0.93      0.91       976\n",
      "         1.0       0.83      0.77      0.80       466\n",
      "\n",
      "    accuracy                           0.88      1442\n",
      "   macro avg       0.86      0.85      0.85      1442\n",
      "weighted avg       0.87      0.88      0.87      1442\n",
      "\n"
     ]
    }
   ],
   "source": [
    "# check if probability of class 2 is higher than a given threshold\n",
    "print(classification_report(dv1.y_test, (probas[:,1]>0.550).astype(int)))"
   ]
  },
  {
   "cell_type": "code",
   "execution_count": 15,
   "metadata": {},
   "outputs": [
    {
     "name": "stdout",
     "output_type": "stream",
     "text": [
      "(2500,) (2500, 2)\n"
     ]
    }
   ],
   "source": [
    "dvach_vec = dv1.vectorizer.transform(dvach)\n",
    "dvach_preds_lr = lr.predict(dvach_vec)\n",
    "dvach_probas_lr = lr.predict_proba(dvach_vec)\n",
    "print(dvach_preds_lr.shape, dvach_probas_lr.shape)"
   ]
  },
  {
   "cell_type": "code",
   "execution_count": 16,
   "metadata": {},
   "outputs": [],
   "source": [
    "dvach_lr_labeled = pd.DataFrame({\"comment\": dvach, 'toxic': dvach_preds_lr, 'prob_tox' : dvach_probas_lr[:, 1]})"
   ]
  },
  {
   "cell_type": "markdown",
   "metadata": {},
   "source": [
    "### MultinomialNB"
   ]
  },
  {
   "cell_type": "code",
   "execution_count": 17,
   "metadata": {},
   "outputs": [
    {
     "name": "stdout",
     "output_type": "stream",
     "text": [
      "              precision    recall  f1-score   support\n",
      "\n",
      "         0.0       0.90      0.90      0.90       972\n",
      "         1.0       0.79      0.80      0.79       470\n",
      "\n",
      "    accuracy                           0.86      1442\n",
      "   macro avg       0.84      0.85      0.85      1442\n",
      "weighted avg       0.86      0.86      0.86      1442\n",
      "\n"
     ]
    }
   ],
   "source": [
    "dv2 = DatasetVectorizer(CountVectorizer(min_df=3,\n",
    "                                        max_df=0.4,\n",
    "                                        max_features=5000,\n",
    "                                        ngram_range=(1,1),\n",
    "                                        stop_words=None))\n",
    "dv2.load_data('data/labeled.csv')\n",
    "dv2.train_test_split()\n",
    "dv2.vectorizeXy('comment', 'toxic')\n",
    "\n",
    "nb = MultinomialNB(alpha=2., fit_prior=False)\n",
    "nb.fit(dv2.X, dv2.y)\n",
    "preds = nb.predict(dv2.X_test)\n",
    "\n",
    "print(classification_report(dv2.y_test, preds))"
   ]
  },
  {
   "cell_type": "code",
   "execution_count": 18,
   "metadata": {},
   "outputs": [
    {
     "name": "stdout",
     "output_type": "stream",
     "text": [
      "(2500,) (2500, 2)\n"
     ]
    }
   ],
   "source": [
    "dvach_vec = dv2.vectorizer.transform(dvach)\n",
    "dvach_preds_nb = nb.predict(dvach_vec)\n",
    "dvach_probas_nb = nb.predict_proba(dvach_vec)\n",
    "print(dvach_preds_nb.shape, dvach_probas_nb.shape)"
   ]
  },
  {
   "cell_type": "code",
   "execution_count": 19,
   "metadata": {},
   "outputs": [],
   "source": [
    "dvach_nb_labeled = pd.DataFrame({\"comment\": dvach, 'toxic': dvach_preds_nb, 'prob_tox' : dvach_probas_nb[:, 1]})"
   ]
  },
  {
   "cell_type": "markdown",
   "metadata": {},
   "source": [
    "### Сравнение результатов"
   ]
  },
  {
   "cell_type": "code",
   "execution_count": 20,
   "metadata": {},
   "outputs": [
    {
     "data": {
      "text/html": [
       "<div>\n",
       "<style scoped>\n",
       "    .dataframe tbody tr th:only-of-type {\n",
       "        vertical-align: middle;\n",
       "    }\n",
       "\n",
       "    .dataframe tbody tr th {\n",
       "        vertical-align: top;\n",
       "    }\n",
       "\n",
       "    .dataframe thead th {\n",
       "        text-align: right;\n",
       "    }\n",
       "</style>\n",
       "<table border=\"1\" class=\"dataframe\">\n",
       "  <thead>\n",
       "    <tr style=\"text-align: right;\">\n",
       "      <th></th>\n",
       "      <th>comment</th>\n",
       "      <th>toxic</th>\n",
       "      <th>prob_tox</th>\n",
       "    </tr>\n",
       "  </thead>\n",
       "  <tbody>\n",
       "    <tr>\n",
       "      <th>2463</th>\n",
       "      <td>Крысу ты разделовал?\\n</td>\n",
       "      <td>1.0</td>\n",
       "      <td>0.998815</td>\n",
       "    </tr>\n",
       "    <tr>\n",
       "      <th>87</th>\n",
       "      <td>Ты превращаешься в Суисейсеки, десу.\\n</td>\n",
       "      <td>1.0</td>\n",
       "      <td>0.998815</td>\n",
       "    </tr>\n",
       "    <tr>\n",
       "      <th>271</th>\n",
       "      <td>&gt;ElixirНу ты и говноед.\\n</td>\n",
       "      <td>1.0</td>\n",
       "      <td>0.998815</td>\n",
       "    </tr>\n",
       "    <tr>\n",
       "      <th>895</th>\n",
       "      <td>Лол. Как школьник: его послали, а он: \"нет ты нахуй!\"\\n</td>\n",
       "      <td>1.0</td>\n",
       "      <td>0.997900</td>\n",
       "    </tr>\n",
       "    <tr>\n",
       "      <th>2077</th>\n",
       "      <td>&gt;на окраине поселка Ты, блять, колхозник.\\n</td>\n",
       "      <td>1.0</td>\n",
       "      <td>0.997357</td>\n",
       "    </tr>\n",
       "    <tr>\n",
       "      <th>2255</th>\n",
       "      <td>А ты и не станешь. Лол.\\n</td>\n",
       "      <td>1.0</td>\n",
       "      <td>0.996438</td>\n",
       "    </tr>\n",
       "    <tr>\n",
       "      <th>1584</th>\n",
       "      <td>Ты и собаке отсосал бы\\n</td>\n",
       "      <td>1.0</td>\n",
       "      <td>0.995976</td>\n",
       "    </tr>\n",
       "    <tr>\n",
       "      <th>118</th>\n",
       "      <td>оуоуоуо уча уча уча аиавивива ну ты ну ты ну ты ВИЧУУУУУУУУУУУУУУУУУХА\\n</td>\n",
       "      <td>1.0</td>\n",
       "      <td>0.993823</td>\n",
       "    </tr>\n",
       "    <tr>\n",
       "      <th>938</th>\n",
       "      <td>Ебать ты юморист донный.\\n</td>\n",
       "      <td>1.0</td>\n",
       "      <td>0.993739</td>\n",
       "    </tr>\n",
       "    <tr>\n",
       "      <th>1775</th>\n",
       "      <td>Кто подданный? Ты подданый, ёпт. Здравствуй.\\n</td>\n",
       "      <td>1.0</td>\n",
       "      <td>0.993461</td>\n",
       "    </tr>\n",
       "  </tbody>\n",
       "</table>\n",
       "</div>"
      ],
      "text/plain": [
       "                                                                        comment  \\\n",
       "2463                                                     Крысу ты разделовал?\\n   \n",
       "87                                       Ты превращаешься в Суисейсеки, десу.\\n   \n",
       "271                                                   >ElixirНу ты и говноед.\\n   \n",
       "895                     Лол. Как школьник: его послали, а он: \"нет ты нахуй!\"\\n   \n",
       "2077                                >на окраине поселка Ты, блять, колхозник.\\n   \n",
       "2255                                                  А ты и не станешь. Лол.\\n   \n",
       "1584                                                   Ты и собаке отсосал бы\\n   \n",
       "118    оуоуоуо уча уча уча аиавивива ну ты ну ты ну ты ВИЧУУУУУУУУУУУУУУУУУХА\\n   \n",
       "938                                                  Ебать ты юморист донный.\\n   \n",
       "1775                             Кто подданный? Ты подданый, ёпт. Здравствуй.\\n   \n",
       "\n",
       "      toxic  prob_tox  \n",
       "2463    1.0  0.998815  \n",
       "87      1.0  0.998815  \n",
       "271     1.0  0.998815  \n",
       "895     1.0  0.997900  \n",
       "2077    1.0  0.997357  \n",
       "2255    1.0  0.996438  \n",
       "1584    1.0  0.995976  \n",
       "118     1.0  0.993823  \n",
       "938     1.0  0.993739  \n",
       "1775    1.0  0.993461  "
      ]
     },
     "execution_count": 20,
     "metadata": {},
     "output_type": "execute_result"
    }
   ],
   "source": [
    "dvach_lr_labeled.sort_values('prob_tox',ascending=False).head(10)"
   ]
  },
  {
   "cell_type": "code",
   "execution_count": 21,
   "metadata": {},
   "outputs": [
    {
     "data": {
      "text/html": [
       "<div>\n",
       "<style scoped>\n",
       "    .dataframe tbody tr th:only-of-type {\n",
       "        vertical-align: middle;\n",
       "    }\n",
       "\n",
       "    .dataframe tbody tr th {\n",
       "        vertical-align: top;\n",
       "    }\n",
       "\n",
       "    .dataframe thead th {\n",
       "        text-align: right;\n",
       "    }\n",
       "</style>\n",
       "<table border=\"1\" class=\"dataframe\">\n",
       "  <thead>\n",
       "    <tr style=\"text-align: right;\">\n",
       "      <th></th>\n",
       "      <th>comment</th>\n",
       "      <th>toxic</th>\n",
       "      <th>prob_tox</th>\n",
       "    </tr>\n",
       "  </thead>\n",
       "  <tbody>\n",
       "    <tr>\n",
       "      <th>645</th>\n",
       "      <td>Ёбаные советские названия блять. КРУЖКИ блять. Всегда ненавидел. Блять. Почему бы не сказать КЛУБ ПО ИНТЕРЕСАМ, как у япошек, нет блять, будем гуманитарную хуйню, сравнения блять, типа В КРУГ СОБРАЛИСЬ, ахахахаха кружок ахахахахаха))))) пиздец блять. Может при Сталине это звучало, но уже при Горбачёве это просто бесило, а сейчас это выглядит вообще как атавизм. Или ещё ебанутое слово СЛЁТ блять. Сука, СЛЁТ, почему слёт, а не съезд? Типа съезд - это для КПСС, не доросли ещё? Или типа в Совке...</td>\n",
       "      <td>1.0</td>\n",
       "      <td>1.0</td>\n",
       "    </tr>\n",
       "    <tr>\n",
       "      <th>1674</th>\n",
       "      <td>Как олдфаг 29лвл, заставший конец двача, прошедший весь педальчан, и вкусивший сполна абучана, могу заверить: раньше аудиория была другой. Особенно круто было на дваче и раннем педальчане, ибо преобладала студентота преимущественно из технарей, гики, задроты, анимешники, поехавшие, и прочие интересные личности. Конечно, было дохера тредов про \"двач я посрал\", или тупые перефорсы с упячки, форчана, да даже с удаффа залетали и срали. Но это было иначе, чувствовалось, что говно, которое ты куш...</td>\n",
       "      <td>1.0</td>\n",
       "      <td>1.0</td>\n",
       "    </tr>\n",
       "    <tr>\n",
       "      <th>256</th>\n",
       "      <td>&gt;Scala, Clojure, Erlang, Elixir, Common Lisp, Haskell, Ocaml, F#, Elm, Swift, Go, Rust, D, Nim, Scheme, SmalltalkМолодец, перечислил сложные для старта языки + на которых вакансий хуй хуй да нихуя. Сам-то с какого языка начинал? И наверное в гарварде и mit дауны сидят и учат людей сям и питону, сука на дваче, что не доска, так куча нитаких, как все даунов на хайпе, которые толкают свое говно. Нахуй иди.\\n</td>\n",
       "      <td>1.0</td>\n",
       "      <td>1.0</td>\n",
       "    </tr>\n",
       "    <tr>\n",
       "      <th>2467</th>\n",
       "      <td>Иди нахуй дурачек ебаный пидорас ну чтоьты за скотина ебаная оп выше написал что нашел ее а теперь иди нахкй\\n</td>\n",
       "      <td>1.0</td>\n",
       "      <td>1.0</td>\n",
       "    </tr>\n",
       "    <tr>\n",
       "      <th>2260</th>\n",
       "      <td>Не ты ли в мотаче про трек-сессии рассказывал?Ну и потом, как бы то ни было, нахуй тебе всралась жена, которой на тебя похуй. Ей на тебя похуй, понимаешь?\\n</td>\n",
       "      <td>1.0</td>\n",
       "      <td>1.0</td>\n",
       "    </tr>\n",
       "    <tr>\n",
       "      <th>456</th>\n",
       "      <td>мамка твоя мне заработала своей пиздой вонючей тварь вонючая, мразь поганая, гандон, говно, пидрила, ану иди сюда\\n</td>\n",
       "      <td>1.0</td>\n",
       "      <td>1.0</td>\n",
       "    </tr>\n",
       "    <tr>\n",
       "      <th>2395</th>\n",
       "      <td>Сука, чуть не плюнул винищем в монитор. Сука, не траль, не траль, сука. Таких тупых как ты не бывает, ебучая моль.\\n</td>\n",
       "      <td>1.0</td>\n",
       "      <td>1.0</td>\n",
       "    </tr>\n",
       "    <tr>\n",
       "      <th>492</th>\n",
       "      <td>А знаете, я расскажу одну историю. У меня, пару лет назад, когда я был школьником, был сосед. Владиком звать. История типичная: омега, травля, всратый и молчаливый. Я с ним пытался сдружиться, но он был пассивен к этому. Его мать удивлялась, мол ПОЧЕМУ МОЮ КОРЗИНКУ НИКТО НЕ ЛЮБИТ, НИКТО НЕ ДРУЖИТ С НИМ. Но с ним никакого смысла дружить нет! Он не может поддержать разговор, шутит тупые шутки и страшный на вид из-за усов. Это всё я веду к тому, что тебе, ОП не стоит удивляться отсутствию круг...</td>\n",
       "      <td>1.0</td>\n",
       "      <td>1.0</td>\n",
       "    </tr>\n",
       "    <tr>\n",
       "      <th>704</th>\n",
       "      <td>Набежали хохлы дауны которы не смогли решить задачу, обиделись, и во всем виноват совок) хохлы - такие хохлы\\n</td>\n",
       "      <td>1.0</td>\n",
       "      <td>1.0</td>\n",
       "    </tr>\n",
       "    <tr>\n",
       "      <th>752</th>\n",
       "      <td>ммм, из разряда \" у тебя так бомбит потому что ты не хохол\" где связь между мясными хохлами которых пиздят и евровидением? Я эту хуйню никогда не смотрел и вообще похуй на нее\\n</td>\n",
       "      <td>1.0</td>\n",
       "      <td>1.0</td>\n",
       "    </tr>\n",
       "  </tbody>\n",
       "</table>\n",
       "</div>"
      ],
      "text/plain": [
       "                                                                                                                                                                                                                                                                                                                                                                                                                                                                                                                  comment  \\\n",
       "645    Ёбаные советские названия блять. КРУЖКИ блять. Всегда ненавидел. Блять. Почему бы не сказать КЛУБ ПО ИНТЕРЕСАМ, как у япошек, нет блять, будем гуманитарную хуйню, сравнения блять, типа В КРУГ СОБРАЛИСЬ, ахахахаха кружок ахахахахаха))))) пиздец блять. Может при Сталине это звучало, но уже при Горбачёве это просто бесило, а сейчас это выглядит вообще как атавизм. Или ещё ебанутое слово СЛЁТ блять. Сука, СЛЁТ, почему слёт, а не съезд? Типа съезд - это для КПСС, не доросли ещё? Или типа в Совке...   \n",
       "1674   Как олдфаг 29лвл, заставший конец двача, прошедший весь педальчан, и вкусивший сполна абучана, могу заверить: раньше аудиория была другой. Особенно круто было на дваче и раннем педальчане, ибо преобладала студентота преимущественно из технарей, гики, задроты, анимешники, поехавшие, и прочие интересные личности. Конечно, было дохера тредов про \"двач я посрал\", или тупые перефорсы с упячки, форчана, да даже с удаффа залетали и срали. Но это было иначе, чувствовалось, что говно, которое ты куш...   \n",
       "256                                                                                              >Scala, Clojure, Erlang, Elixir, Common Lisp, Haskell, Ocaml, F#, Elm, Swift, Go, Rust, D, Nim, Scheme, SmalltalkМолодец, перечислил сложные для старта языки + на которых вакансий хуй хуй да нихуя. Сам-то с какого языка начинал? И наверное в гарварде и mit дауны сидят и учат людей сям и питону, сука на дваче, что не доска, так куча нитаких, как все даунов на хайпе, которые толкают свое говно. Нахуй иди.\\n   \n",
       "2467                                                                                                                                                                                                                                                                                                                                                                                                       Иди нахуй дурачек ебаный пидорас ну чтоьты за скотина ебаная оп выше написал что нашел ее а теперь иди нахкй\\n   \n",
       "2260                                                                                                                                                                                                                                                                                                                                                         Не ты ли в мотаче про трек-сессии рассказывал?Ну и потом, как бы то ни было, нахуй тебе всралась жена, которой на тебя похуй. Ей на тебя похуй, понимаешь?\\n   \n",
       "456                                                                                                                                                                                                                                                                                                                                                                                                   мамка твоя мне заработала своей пиздой вонючей тварь вонючая, мразь поганая, гандон, говно, пидрила, ану иди сюда\\n   \n",
       "2395                                                                                                                                                                                                                                                                                                                                                                                                 Сука, чуть не плюнул винищем в монитор. Сука, не траль, не траль, сука. Таких тупых как ты не бывает, ебучая моль.\\n   \n",
       "492    А знаете, я расскажу одну историю. У меня, пару лет назад, когда я был школьником, был сосед. Владиком звать. История типичная: омега, травля, всратый и молчаливый. Я с ним пытался сдружиться, но он был пассивен к этому. Его мать удивлялась, мол ПОЧЕМУ МОЮ КОРЗИНКУ НИКТО НЕ ЛЮБИТ, НИКТО НЕ ДРУЖИТ С НИМ. Но с ним никакого смысла дружить нет! Он не может поддержать разговор, шутит тупые шутки и страшный на вид из-за усов. Это всё я веду к тому, что тебе, ОП не стоит удивляться отсутствию круг...   \n",
       "704                                                                                                                                                                                                                                                                                                                                                                                                        Набежали хохлы дауны которы не смогли решить задачу, обиделись, и во всем виноват совок) хохлы - такие хохлы\\n   \n",
       "752                                                                                                                                                                                                                                                                                                                                     ммм, из разряда \" у тебя так бомбит потому что ты не хохол\" где связь между мясными хохлами которых пиздят и евровидением? Я эту хуйню никогда не смотрел и вообще похуй на нее\\n   \n",
       "\n",
       "      toxic  prob_tox  \n",
       "645     1.0       1.0  \n",
       "1674    1.0       1.0  \n",
       "256     1.0       1.0  \n",
       "2467    1.0       1.0  \n",
       "2260    1.0       1.0  \n",
       "456     1.0       1.0  \n",
       "2395    1.0       1.0  \n",
       "492     1.0       1.0  \n",
       "704     1.0       1.0  \n",
       "752     1.0       1.0  "
      ]
     },
     "execution_count": 21,
     "metadata": {},
     "output_type": "execute_result"
    }
   ],
   "source": [
    "dvach_nb_labeled.sort_values('prob_tox',ascending=False).head(10)"
   ]
  },
  {
   "cell_type": "markdown",
   "metadata": {},
   "source": [
    "Пересечений в топ-10 не надблюдается. Оба классификатора выдают, за некоторым исключением, подходящие примеры."
   ]
  }
 ],
 "metadata": {
  "kernelspec": {
   "display_name": "Python 3",
   "language": "python",
   "name": "python3"
  },
  "language_info": {
   "codemirror_mode": {
    "name": "ipython",
    "version": 3
   },
   "file_extension": ".py",
   "mimetype": "text/x-python",
   "name": "python",
   "nbconvert_exporter": "python",
   "pygments_lexer": "ipython3",
   "version": "3.8.2"
  }
 },
 "nbformat": 4,
 "nbformat_minor": 4
}
